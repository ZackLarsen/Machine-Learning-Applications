{
 "cells": [
  {
   "cell_type": "code",
   "execution_count": 1,
   "metadata": {
    "collapsed": false
   },
   "outputs": [
    {
     "name": "stdout",
     "output_type": "stream",
     "text": [
      "/Users/zacklarsen/Desktop/CSC 478/HW/HW #3/communities\n"
     ]
    }
   ],
   "source": [
    "cd /Users/zacklarsen/Desktop/CSC 478/HW/HW #3/communities"
   ]
  },
  {
   "cell_type": "code",
   "execution_count": 2,
   "metadata": {
    "collapsed": true
   },
   "outputs": [],
   "source": [
    "import numpy as np\n",
    "from numpy import linalg as la\n",
    "import pandas as pd\n",
    "from sklearn import feature_selection\n",
    "from sklearn.cross_validation import KFold\n",
    "from sklearn.linear_model import LinearRegression, Lasso, Ridge, ElasticNet, SGDRegressor\n",
    "import pylab as pl"
   ]
  },
  {
   "cell_type": "markdown",
   "metadata": {},
   "source": [
    "# 1a\t\n",
    "    Load and preprocess the data using Pandas or Numpy and, if necessary, preprocessing functions from scikit-learn. The provided data is already normalized (see description), so there is no need for additional normalization. Compute and display basic statistics (mean, standard deviation, min, max, etc.) for each of the variables in the data set. Separate the target attribute for regression.\n"
   ]
  },
  {
   "cell_type": "code",
   "execution_count": 3,
   "metadata": {
    "collapsed": false
   },
   "outputs": [
    {
     "data": {
      "text/plain": [
       "(1994, 100)"
      ]
     },
     "execution_count": 3,
     "metadata": {},
     "output_type": "execute_result"
    }
   ],
   "source": [
    "crime = pd.read_csv('communities.csv',na_values=[\"?\"])\n",
    "crimeDF = pd.DataFrame(crime)\n",
    "crimeDF.shape"
   ]
  },
  {
   "cell_type": "code",
   "execution_count": 4,
   "metadata": {
    "collapsed": false
   },
   "outputs": [
    {
     "data": {
      "text/plain": [
       "(1, 100)"
      ]
     },
     "execution_count": 4,
     "metadata": {},
     "output_type": "execute_result"
    }
   ],
   "source": [
    "crimeDF[crimeDF.OtherPerCap.isnull()].shape"
   ]
  },
  {
   "cell_type": "code",
   "execution_count": 5,
   "metadata": {
    "collapsed": true
   },
   "outputs": [],
   "source": [
    "percapmean = crimeDF.OtherPerCap.mean()"
   ]
  },
  {
   "cell_type": "code",
   "execution_count": 6,
   "metadata": {
    "collapsed": false
   },
   "outputs": [],
   "source": [
    "crimeDF.OtherPerCap.fillna(percapmean,axis=0,inplace=True)"
   ]
  },
  {
   "cell_type": "code",
   "execution_count": 7,
   "metadata": {
    "collapsed": false
   },
   "outputs": [
    {
     "data": {
      "text/html": [
       "<div>\n",
       "<table border=\"1\" class=\"dataframe\">\n",
       "  <thead>\n",
       "    <tr style=\"text-align: right;\">\n",
       "      <th></th>\n",
       "      <th>count</th>\n",
       "      <th>unique</th>\n",
       "      <th>top</th>\n",
       "      <th>freq</th>\n",
       "      <th>mean</th>\n",
       "      <th>std</th>\n",
       "      <th>min</th>\n",
       "      <th>25%</th>\n",
       "      <th>50%</th>\n",
       "      <th>75%</th>\n",
       "      <th>max</th>\n",
       "    </tr>\n",
       "  </thead>\n",
       "  <tbody>\n",
       "    <tr>\n",
       "      <th>state</th>\n",
       "      <td>1994</td>\n",
       "      <td>NaN</td>\n",
       "      <td>NaN</td>\n",
       "      <td>NaN</td>\n",
       "      <td>28.6836</td>\n",
       "      <td>16.3976</td>\n",
       "      <td>1</td>\n",
       "      <td>12</td>\n",
       "      <td>34</td>\n",
       "      <td>42</td>\n",
       "      <td>56</td>\n",
       "    </tr>\n",
       "    <tr>\n",
       "      <th>communityname</th>\n",
       "      <td>1994</td>\n",
       "      <td>1828</td>\n",
       "      <td>Jacksonvillecity</td>\n",
       "      <td>5</td>\n",
       "      <td>NaN</td>\n",
       "      <td>NaN</td>\n",
       "      <td>NaN</td>\n",
       "      <td>NaN</td>\n",
       "      <td>NaN</td>\n",
       "      <td>NaN</td>\n",
       "      <td>NaN</td>\n",
       "    </tr>\n",
       "    <tr>\n",
       "      <th>population</th>\n",
       "      <td>1994</td>\n",
       "      <td>NaN</td>\n",
       "      <td>NaN</td>\n",
       "      <td>NaN</td>\n",
       "      <td>0.0575928</td>\n",
       "      <td>0.126906</td>\n",
       "      <td>0</td>\n",
       "      <td>0.01</td>\n",
       "      <td>0.02</td>\n",
       "      <td>0.05</td>\n",
       "      <td>1</td>\n",
       "    </tr>\n",
       "    <tr>\n",
       "      <th>householdsize</th>\n",
       "      <td>1994</td>\n",
       "      <td>NaN</td>\n",
       "      <td>NaN</td>\n",
       "      <td>NaN</td>\n",
       "      <td>0.463395</td>\n",
       "      <td>0.163717</td>\n",
       "      <td>0</td>\n",
       "      <td>0.35</td>\n",
       "      <td>0.44</td>\n",
       "      <td>0.54</td>\n",
       "      <td>1</td>\n",
       "    </tr>\n",
       "    <tr>\n",
       "      <th>racepctblack</th>\n",
       "      <td>1994</td>\n",
       "      <td>NaN</td>\n",
       "      <td>NaN</td>\n",
       "      <td>NaN</td>\n",
       "      <td>0.179629</td>\n",
       "      <td>0.253442</td>\n",
       "      <td>0</td>\n",
       "      <td>0.02</td>\n",
       "      <td>0.06</td>\n",
       "      <td>0.23</td>\n",
       "      <td>1</td>\n",
       "    </tr>\n",
       "    <tr>\n",
       "      <th>racePctWhite</th>\n",
       "      <td>1994</td>\n",
       "      <td>NaN</td>\n",
       "      <td>NaN</td>\n",
       "      <td>NaN</td>\n",
       "      <td>0.753716</td>\n",
       "      <td>0.244039</td>\n",
       "      <td>0</td>\n",
       "      <td>0.63</td>\n",
       "      <td>0.85</td>\n",
       "      <td>0.94</td>\n",
       "      <td>1</td>\n",
       "    </tr>\n",
       "    <tr>\n",
       "      <th>racePctAsian</th>\n",
       "      <td>1994</td>\n",
       "      <td>NaN</td>\n",
       "      <td>NaN</td>\n",
       "      <td>NaN</td>\n",
       "      <td>0.153681</td>\n",
       "      <td>0.208877</td>\n",
       "      <td>0</td>\n",
       "      <td>0.04</td>\n",
       "      <td>0.07</td>\n",
       "      <td>0.17</td>\n",
       "      <td>1</td>\n",
       "    </tr>\n",
       "    <tr>\n",
       "      <th>racePctHisp</th>\n",
       "      <td>1994</td>\n",
       "      <td>NaN</td>\n",
       "      <td>NaN</td>\n",
       "      <td>NaN</td>\n",
       "      <td>0.144022</td>\n",
       "      <td>0.232492</td>\n",
       "      <td>0</td>\n",
       "      <td>0.01</td>\n",
       "      <td>0.04</td>\n",
       "      <td>0.16</td>\n",
       "      <td>1</td>\n",
       "    </tr>\n",
       "    <tr>\n",
       "      <th>agePct12t21</th>\n",
       "      <td>1994</td>\n",
       "      <td>NaN</td>\n",
       "      <td>NaN</td>\n",
       "      <td>NaN</td>\n",
       "      <td>0.424218</td>\n",
       "      <td>0.155196</td>\n",
       "      <td>0</td>\n",
       "      <td>0.34</td>\n",
       "      <td>0.4</td>\n",
       "      <td>0.47</td>\n",
       "      <td>1</td>\n",
       "    </tr>\n",
       "    <tr>\n",
       "      <th>agePct12t29</th>\n",
       "      <td>1994</td>\n",
       "      <td>NaN</td>\n",
       "      <td>NaN</td>\n",
       "      <td>NaN</td>\n",
       "      <td>0.493867</td>\n",
       "      <td>0.143564</td>\n",
       "      <td>0</td>\n",
       "      <td>0.41</td>\n",
       "      <td>0.48</td>\n",
       "      <td>0.54</td>\n",
       "      <td>1</td>\n",
       "    </tr>\n",
       "    <tr>\n",
       "      <th>agePct16t24</th>\n",
       "      <td>1994</td>\n",
       "      <td>NaN</td>\n",
       "      <td>NaN</td>\n",
       "      <td>NaN</td>\n",
       "      <td>0.336264</td>\n",
       "      <td>0.166505</td>\n",
       "      <td>0</td>\n",
       "      <td>0.25</td>\n",
       "      <td>0.29</td>\n",
       "      <td>0.36</td>\n",
       "      <td>1</td>\n",
       "    </tr>\n",
       "    <tr>\n",
       "      <th>agePct65up</th>\n",
       "      <td>1994</td>\n",
       "      <td>NaN</td>\n",
       "      <td>NaN</td>\n",
       "      <td>NaN</td>\n",
       "      <td>0.423164</td>\n",
       "      <td>0.179185</td>\n",
       "      <td>0</td>\n",
       "      <td>0.3</td>\n",
       "      <td>0.42</td>\n",
       "      <td>0.53</td>\n",
       "      <td>1</td>\n",
       "    </tr>\n",
       "    <tr>\n",
       "      <th>numbUrban</th>\n",
       "      <td>1994</td>\n",
       "      <td>NaN</td>\n",
       "      <td>NaN</td>\n",
       "      <td>NaN</td>\n",
       "      <td>0.0640722</td>\n",
       "      <td>0.128256</td>\n",
       "      <td>0</td>\n",
       "      <td>0</td>\n",
       "      <td>0.03</td>\n",
       "      <td>0.07</td>\n",
       "      <td>1</td>\n",
       "    </tr>\n",
       "    <tr>\n",
       "      <th>pctUrban</th>\n",
       "      <td>1994</td>\n",
       "      <td>NaN</td>\n",
       "      <td>NaN</td>\n",
       "      <td>NaN</td>\n",
       "      <td>0.696269</td>\n",
       "      <td>0.444811</td>\n",
       "      <td>0</td>\n",
       "      <td>0</td>\n",
       "      <td>1</td>\n",
       "      <td>1</td>\n",
       "      <td>1</td>\n",
       "    </tr>\n",
       "    <tr>\n",
       "      <th>medIncome</th>\n",
       "      <td>1994</td>\n",
       "      <td>NaN</td>\n",
       "      <td>NaN</td>\n",
       "      <td>NaN</td>\n",
       "      <td>0.361123</td>\n",
       "      <td>0.209362</td>\n",
       "      <td>0</td>\n",
       "      <td>0.2</td>\n",
       "      <td>0.32</td>\n",
       "      <td>0.49</td>\n",
       "      <td>1</td>\n",
       "    </tr>\n",
       "    <tr>\n",
       "      <th>pctWWage</th>\n",
       "      <td>1994</td>\n",
       "      <td>NaN</td>\n",
       "      <td>NaN</td>\n",
       "      <td>NaN</td>\n",
       "      <td>0.558154</td>\n",
       "      <td>0.182913</td>\n",
       "      <td>0</td>\n",
       "      <td>0.44</td>\n",
       "      <td>0.56</td>\n",
       "      <td>0.69</td>\n",
       "      <td>1</td>\n",
       "    </tr>\n",
       "    <tr>\n",
       "      <th>pctWFarmSelf</th>\n",
       "      <td>1994</td>\n",
       "      <td>NaN</td>\n",
       "      <td>NaN</td>\n",
       "      <td>NaN</td>\n",
       "      <td>0.29157</td>\n",
       "      <td>0.204108</td>\n",
       "      <td>0</td>\n",
       "      <td>0.16</td>\n",
       "      <td>0.23</td>\n",
       "      <td>0.37</td>\n",
       "      <td>1</td>\n",
       "    </tr>\n",
       "    <tr>\n",
       "      <th>pctWInvInc</th>\n",
       "      <td>1994</td>\n",
       "      <td>NaN</td>\n",
       "      <td>NaN</td>\n",
       "      <td>NaN</td>\n",
       "      <td>0.495687</td>\n",
       "      <td>0.178071</td>\n",
       "      <td>0</td>\n",
       "      <td>0.37</td>\n",
       "      <td>0.48</td>\n",
       "      <td>0.62</td>\n",
       "      <td>1</td>\n",
       "    </tr>\n",
       "    <tr>\n",
       "      <th>pctWSocSec</th>\n",
       "      <td>1994</td>\n",
       "      <td>NaN</td>\n",
       "      <td>NaN</td>\n",
       "      <td>NaN</td>\n",
       "      <td>0.471133</td>\n",
       "      <td>0.173619</td>\n",
       "      <td>0</td>\n",
       "      <td>0.35</td>\n",
       "      <td>0.475</td>\n",
       "      <td>0.58</td>\n",
       "      <td>1</td>\n",
       "    </tr>\n",
       "    <tr>\n",
       "      <th>pctWPubAsst</th>\n",
       "      <td>1994</td>\n",
       "      <td>NaN</td>\n",
       "      <td>NaN</td>\n",
       "      <td>NaN</td>\n",
       "      <td>0.317778</td>\n",
       "      <td>0.222137</td>\n",
       "      <td>0</td>\n",
       "      <td>0.1425</td>\n",
       "      <td>0.26</td>\n",
       "      <td>0.44</td>\n",
       "      <td>1</td>\n",
       "    </tr>\n",
       "    <tr>\n",
       "      <th>pctWRetire</th>\n",
       "      <td>1994</td>\n",
       "      <td>NaN</td>\n",
       "      <td>NaN</td>\n",
       "      <td>NaN</td>\n",
       "      <td>0.479248</td>\n",
       "      <td>0.167564</td>\n",
       "      <td>0</td>\n",
       "      <td>0.36</td>\n",
       "      <td>0.47</td>\n",
       "      <td>0.58</td>\n",
       "      <td>1</td>\n",
       "    </tr>\n",
       "    <tr>\n",
       "      <th>medFamInc</th>\n",
       "      <td>1994</td>\n",
       "      <td>NaN</td>\n",
       "      <td>NaN</td>\n",
       "      <td>NaN</td>\n",
       "      <td>0.375677</td>\n",
       "      <td>0.198257</td>\n",
       "      <td>0</td>\n",
       "      <td>0.23</td>\n",
       "      <td>0.33</td>\n",
       "      <td>0.48</td>\n",
       "      <td>1</td>\n",
       "    </tr>\n",
       "    <tr>\n",
       "      <th>perCapInc</th>\n",
       "      <td>1994</td>\n",
       "      <td>NaN</td>\n",
       "      <td>NaN</td>\n",
       "      <td>NaN</td>\n",
       "      <td>0.350251</td>\n",
       "      <td>0.191109</td>\n",
       "      <td>0</td>\n",
       "      <td>0.22</td>\n",
       "      <td>0.3</td>\n",
       "      <td>0.43</td>\n",
       "      <td>1</td>\n",
       "    </tr>\n",
       "    <tr>\n",
       "      <th>whitePerCap</th>\n",
       "      <td>1994</td>\n",
       "      <td>NaN</td>\n",
       "      <td>NaN</td>\n",
       "      <td>NaN</td>\n",
       "      <td>0.368049</td>\n",
       "      <td>0.186804</td>\n",
       "      <td>0</td>\n",
       "      <td>0.24</td>\n",
       "      <td>0.32</td>\n",
       "      <td>0.44</td>\n",
       "      <td>1</td>\n",
       "    </tr>\n",
       "    <tr>\n",
       "      <th>blackPerCap</th>\n",
       "      <td>1994</td>\n",
       "      <td>NaN</td>\n",
       "      <td>NaN</td>\n",
       "      <td>NaN</td>\n",
       "      <td>0.291098</td>\n",
       "      <td>0.171593</td>\n",
       "      <td>0</td>\n",
       "      <td>0.1725</td>\n",
       "      <td>0.25</td>\n",
       "      <td>0.38</td>\n",
       "      <td>1</td>\n",
       "    </tr>\n",
       "    <tr>\n",
       "      <th>indianPerCap</th>\n",
       "      <td>1994</td>\n",
       "      <td>NaN</td>\n",
       "      <td>NaN</td>\n",
       "      <td>NaN</td>\n",
       "      <td>0.203506</td>\n",
       "      <td>0.164775</td>\n",
       "      <td>0</td>\n",
       "      <td>0.11</td>\n",
       "      <td>0.17</td>\n",
       "      <td>0.25</td>\n",
       "      <td>1</td>\n",
       "    </tr>\n",
       "    <tr>\n",
       "      <th>AsianPerCap</th>\n",
       "      <td>1994</td>\n",
       "      <td>NaN</td>\n",
       "      <td>NaN</td>\n",
       "      <td>NaN</td>\n",
       "      <td>0.322357</td>\n",
       "      <td>0.195411</td>\n",
       "      <td>0</td>\n",
       "      <td>0.19</td>\n",
       "      <td>0.28</td>\n",
       "      <td>0.4</td>\n",
       "      <td>1</td>\n",
       "    </tr>\n",
       "    <tr>\n",
       "      <th>OtherPerCap</th>\n",
       "      <td>1994</td>\n",
       "      <td>NaN</td>\n",
       "      <td>NaN</td>\n",
       "      <td>NaN</td>\n",
       "      <td>0.284742</td>\n",
       "      <td>0.19096</td>\n",
       "      <td>0</td>\n",
       "      <td>0.17</td>\n",
       "      <td>0.25</td>\n",
       "      <td>0.36</td>\n",
       "      <td>1</td>\n",
       "    </tr>\n",
       "    <tr>\n",
       "      <th>HispPerCap</th>\n",
       "      <td>1994</td>\n",
       "      <td>NaN</td>\n",
       "      <td>NaN</td>\n",
       "      <td>NaN</td>\n",
       "      <td>0.386279</td>\n",
       "      <td>0.183081</td>\n",
       "      <td>0</td>\n",
       "      <td>0.26</td>\n",
       "      <td>0.345</td>\n",
       "      <td>0.48</td>\n",
       "      <td>1</td>\n",
       "    </tr>\n",
       "    <tr>\n",
       "      <th>NumUnderPov</th>\n",
       "      <td>1994</td>\n",
       "      <td>NaN</td>\n",
       "      <td>NaN</td>\n",
       "      <td>NaN</td>\n",
       "      <td>0.0555065</td>\n",
       "      <td>0.127941</td>\n",
       "      <td>0</td>\n",
       "      <td>0.01</td>\n",
       "      <td>0.02</td>\n",
       "      <td>0.05</td>\n",
       "      <td>1</td>\n",
       "    </tr>\n",
       "    <tr>\n",
       "      <th>...</th>\n",
       "      <td>...</td>\n",
       "      <td>...</td>\n",
       "      <td>...</td>\n",
       "      <td>...</td>\n",
       "      <td>...</td>\n",
       "      <td>...</td>\n",
       "      <td>...</td>\n",
       "      <td>...</td>\n",
       "      <td>...</td>\n",
       "      <td>...</td>\n",
       "      <td>...</td>\n",
       "    </tr>\n",
       "    <tr>\n",
       "      <th>MedNumBR</th>\n",
       "      <td>1994</td>\n",
       "      <td>NaN</td>\n",
       "      <td>NaN</td>\n",
       "      <td>NaN</td>\n",
       "      <td>0.314694</td>\n",
       "      <td>0.255182</td>\n",
       "      <td>0</td>\n",
       "      <td>0</td>\n",
       "      <td>0.5</td>\n",
       "      <td>0.5</td>\n",
       "      <td>1</td>\n",
       "    </tr>\n",
       "    <tr>\n",
       "      <th>HousVacant</th>\n",
       "      <td>1994</td>\n",
       "      <td>NaN</td>\n",
       "      <td>NaN</td>\n",
       "      <td>NaN</td>\n",
       "      <td>0.0768154</td>\n",
       "      <td>0.150465</td>\n",
       "      <td>0</td>\n",
       "      <td>0.01</td>\n",
       "      <td>0.03</td>\n",
       "      <td>0.07</td>\n",
       "      <td>1</td>\n",
       "    </tr>\n",
       "    <tr>\n",
       "      <th>PctHousOccup</th>\n",
       "      <td>1994</td>\n",
       "      <td>NaN</td>\n",
       "      <td>NaN</td>\n",
       "      <td>NaN</td>\n",
       "      <td>0.719549</td>\n",
       "      <td>0.194024</td>\n",
       "      <td>0</td>\n",
       "      <td>0.63</td>\n",
       "      <td>0.77</td>\n",
       "      <td>0.86</td>\n",
       "      <td>1</td>\n",
       "    </tr>\n",
       "    <tr>\n",
       "      <th>PctHousOwnOcc</th>\n",
       "      <td>1994</td>\n",
       "      <td>NaN</td>\n",
       "      <td>NaN</td>\n",
       "      <td>NaN</td>\n",
       "      <td>0.548686</td>\n",
       "      <td>0.185204</td>\n",
       "      <td>0</td>\n",
       "      <td>0.43</td>\n",
       "      <td>0.54</td>\n",
       "      <td>0.67</td>\n",
       "      <td>1</td>\n",
       "    </tr>\n",
       "    <tr>\n",
       "      <th>PctVacantBoarded</th>\n",
       "      <td>1994</td>\n",
       "      <td>NaN</td>\n",
       "      <td>NaN</td>\n",
       "      <td>NaN</td>\n",
       "      <td>0.204529</td>\n",
       "      <td>0.21777</td>\n",
       "      <td>0</td>\n",
       "      <td>0.06</td>\n",
       "      <td>0.13</td>\n",
       "      <td>0.27</td>\n",
       "      <td>1</td>\n",
       "    </tr>\n",
       "    <tr>\n",
       "      <th>PctVacMore6Mos</th>\n",
       "      <td>1994</td>\n",
       "      <td>NaN</td>\n",
       "      <td>NaN</td>\n",
       "      <td>NaN</td>\n",
       "      <td>0.433335</td>\n",
       "      <td>0.188986</td>\n",
       "      <td>0</td>\n",
       "      <td>0.29</td>\n",
       "      <td>0.42</td>\n",
       "      <td>0.56</td>\n",
       "      <td>1</td>\n",
       "    </tr>\n",
       "    <tr>\n",
       "      <th>MedYrHousBuilt</th>\n",
       "      <td>1994</td>\n",
       "      <td>NaN</td>\n",
       "      <td>NaN</td>\n",
       "      <td>NaN</td>\n",
       "      <td>0.494178</td>\n",
       "      <td>0.232467</td>\n",
       "      <td>0</td>\n",
       "      <td>0.35</td>\n",
       "      <td>0.52</td>\n",
       "      <td>0.67</td>\n",
       "      <td>1</td>\n",
       "    </tr>\n",
       "    <tr>\n",
       "      <th>PctHousNoPhone</th>\n",
       "      <td>1994</td>\n",
       "      <td>NaN</td>\n",
       "      <td>NaN</td>\n",
       "      <td>NaN</td>\n",
       "      <td>0.264478</td>\n",
       "      <td>0.242847</td>\n",
       "      <td>0</td>\n",
       "      <td>0.06</td>\n",
       "      <td>0.185</td>\n",
       "      <td>0.42</td>\n",
       "      <td>1</td>\n",
       "    </tr>\n",
       "    <tr>\n",
       "      <th>PctWOFullPlumb</th>\n",
       "      <td>1994</td>\n",
       "      <td>NaN</td>\n",
       "      <td>NaN</td>\n",
       "      <td>NaN</td>\n",
       "      <td>0.243059</td>\n",
       "      <td>0.206295</td>\n",
       "      <td>0</td>\n",
       "      <td>0.1</td>\n",
       "      <td>0.19</td>\n",
       "      <td>0.33</td>\n",
       "      <td>1</td>\n",
       "    </tr>\n",
       "    <tr>\n",
       "      <th>OwnOccLowQuart</th>\n",
       "      <td>1994</td>\n",
       "      <td>NaN</td>\n",
       "      <td>NaN</td>\n",
       "      <td>NaN</td>\n",
       "      <td>0.264689</td>\n",
       "      <td>0.224425</td>\n",
       "      <td>0</td>\n",
       "      <td>0.09</td>\n",
       "      <td>0.18</td>\n",
       "      <td>0.4</td>\n",
       "      <td>1</td>\n",
       "    </tr>\n",
       "    <tr>\n",
       "      <th>OwnOccMedVal</th>\n",
       "      <td>1994</td>\n",
       "      <td>NaN</td>\n",
       "      <td>NaN</td>\n",
       "      <td>NaN</td>\n",
       "      <td>0.26349</td>\n",
       "      <td>0.231542</td>\n",
       "      <td>0</td>\n",
       "      <td>0.09</td>\n",
       "      <td>0.17</td>\n",
       "      <td>0.39</td>\n",
       "      <td>1</td>\n",
       "    </tr>\n",
       "    <tr>\n",
       "      <th>OwnOccHiQuart</th>\n",
       "      <td>1994</td>\n",
       "      <td>NaN</td>\n",
       "      <td>NaN</td>\n",
       "      <td>NaN</td>\n",
       "      <td>0.268942</td>\n",
       "      <td>0.235252</td>\n",
       "      <td>0</td>\n",
       "      <td>0.09</td>\n",
       "      <td>0.18</td>\n",
       "      <td>0.38</td>\n",
       "      <td>1</td>\n",
       "    </tr>\n",
       "    <tr>\n",
       "      <th>RentLowQ</th>\n",
       "      <td>1994</td>\n",
       "      <td>NaN</td>\n",
       "      <td>NaN</td>\n",
       "      <td>NaN</td>\n",
       "      <td>0.346379</td>\n",
       "      <td>0.219323</td>\n",
       "      <td>0</td>\n",
       "      <td>0.17</td>\n",
       "      <td>0.31</td>\n",
       "      <td>0.49</td>\n",
       "      <td>1</td>\n",
       "    </tr>\n",
       "    <tr>\n",
       "      <th>RentMedian</th>\n",
       "      <td>1994</td>\n",
       "      <td>NaN</td>\n",
       "      <td>NaN</td>\n",
       "      <td>NaN</td>\n",
       "      <td>0.372457</td>\n",
       "      <td>0.209278</td>\n",
       "      <td>0</td>\n",
       "      <td>0.2</td>\n",
       "      <td>0.33</td>\n",
       "      <td>0.52</td>\n",
       "      <td>1</td>\n",
       "    </tr>\n",
       "    <tr>\n",
       "      <th>RentHighQ</th>\n",
       "      <td>1994</td>\n",
       "      <td>NaN</td>\n",
       "      <td>NaN</td>\n",
       "      <td>NaN</td>\n",
       "      <td>0.422964</td>\n",
       "      <td>0.248286</td>\n",
       "      <td>0</td>\n",
       "      <td>0.22</td>\n",
       "      <td>0.37</td>\n",
       "      <td>0.59</td>\n",
       "      <td>1</td>\n",
       "    </tr>\n",
       "    <tr>\n",
       "      <th>MedRent</th>\n",
       "      <td>1994</td>\n",
       "      <td>NaN</td>\n",
       "      <td>NaN</td>\n",
       "      <td>NaN</td>\n",
       "      <td>0.384102</td>\n",
       "      <td>0.213404</td>\n",
       "      <td>0</td>\n",
       "      <td>0.21</td>\n",
       "      <td>0.34</td>\n",
       "      <td>0.53</td>\n",
       "      <td>1</td>\n",
       "    </tr>\n",
       "    <tr>\n",
       "      <th>MedRentPctHousInc</th>\n",
       "      <td>1994</td>\n",
       "      <td>NaN</td>\n",
       "      <td>NaN</td>\n",
       "      <td>NaN</td>\n",
       "      <td>0.490125</td>\n",
       "      <td>0.1695</td>\n",
       "      <td>0</td>\n",
       "      <td>0.37</td>\n",
       "      <td>0.48</td>\n",
       "      <td>0.59</td>\n",
       "      <td>1</td>\n",
       "    </tr>\n",
       "    <tr>\n",
       "      <th>MedOwnCostPctInc</th>\n",
       "      <td>1994</td>\n",
       "      <td>NaN</td>\n",
       "      <td>NaN</td>\n",
       "      <td>NaN</td>\n",
       "      <td>0.449754</td>\n",
       "      <td>0.187274</td>\n",
       "      <td>0</td>\n",
       "      <td>0.32</td>\n",
       "      <td>0.45</td>\n",
       "      <td>0.58</td>\n",
       "      <td>1</td>\n",
       "    </tr>\n",
       "    <tr>\n",
       "      <th>MedOwnCostPctIncNoMtg</th>\n",
       "      <td>1994</td>\n",
       "      <td>NaN</td>\n",
       "      <td>NaN</td>\n",
       "      <td>NaN</td>\n",
       "      <td>0.403816</td>\n",
       "      <td>0.192593</td>\n",
       "      <td>0</td>\n",
       "      <td>0.25</td>\n",
       "      <td>0.37</td>\n",
       "      <td>0.51</td>\n",
       "      <td>1</td>\n",
       "    </tr>\n",
       "    <tr>\n",
       "      <th>NumInShelters</th>\n",
       "      <td>1994</td>\n",
       "      <td>NaN</td>\n",
       "      <td>NaN</td>\n",
       "      <td>NaN</td>\n",
       "      <td>0.0294383</td>\n",
       "      <td>0.102607</td>\n",
       "      <td>0</td>\n",
       "      <td>0</td>\n",
       "      <td>0</td>\n",
       "      <td>0.01</td>\n",
       "      <td>1</td>\n",
       "    </tr>\n",
       "    <tr>\n",
       "      <th>NumStreet</th>\n",
       "      <td>1994</td>\n",
       "      <td>NaN</td>\n",
       "      <td>NaN</td>\n",
       "      <td>NaN</td>\n",
       "      <td>0.0227783</td>\n",
       "      <td>0.1004</td>\n",
       "      <td>0</td>\n",
       "      <td>0</td>\n",
       "      <td>0</td>\n",
       "      <td>0</td>\n",
       "      <td>1</td>\n",
       "    </tr>\n",
       "    <tr>\n",
       "      <th>PctForeignBorn</th>\n",
       "      <td>1994</td>\n",
       "      <td>NaN</td>\n",
       "      <td>NaN</td>\n",
       "      <td>NaN</td>\n",
       "      <td>0.215552</td>\n",
       "      <td>0.231134</td>\n",
       "      <td>0</td>\n",
       "      <td>0.06</td>\n",
       "      <td>0.13</td>\n",
       "      <td>0.28</td>\n",
       "      <td>1</td>\n",
       "    </tr>\n",
       "    <tr>\n",
       "      <th>PctBornSameState</th>\n",
       "      <td>1994</td>\n",
       "      <td>NaN</td>\n",
       "      <td>NaN</td>\n",
       "      <td>NaN</td>\n",
       "      <td>0.608892</td>\n",
       "      <td>0.204329</td>\n",
       "      <td>0</td>\n",
       "      <td>0.47</td>\n",
       "      <td>0.63</td>\n",
       "      <td>0.7775</td>\n",
       "      <td>1</td>\n",
       "    </tr>\n",
       "    <tr>\n",
       "      <th>PctSameHouse85</th>\n",
       "      <td>1994</td>\n",
       "      <td>NaN</td>\n",
       "      <td>NaN</td>\n",
       "      <td>NaN</td>\n",
       "      <td>0.53505</td>\n",
       "      <td>0.181352</td>\n",
       "      <td>0</td>\n",
       "      <td>0.42</td>\n",
       "      <td>0.54</td>\n",
       "      <td>0.66</td>\n",
       "      <td>1</td>\n",
       "    </tr>\n",
       "    <tr>\n",
       "      <th>PctSameCity85</th>\n",
       "      <td>1994</td>\n",
       "      <td>NaN</td>\n",
       "      <td>NaN</td>\n",
       "      <td>NaN</td>\n",
       "      <td>0.626424</td>\n",
       "      <td>0.200521</td>\n",
       "      <td>0</td>\n",
       "      <td>0.52</td>\n",
       "      <td>0.67</td>\n",
       "      <td>0.77</td>\n",
       "      <td>1</td>\n",
       "    </tr>\n",
       "    <tr>\n",
       "      <th>PctSameState85</th>\n",
       "      <td>1994</td>\n",
       "      <td>NaN</td>\n",
       "      <td>NaN</td>\n",
       "      <td>NaN</td>\n",
       "      <td>0.65153</td>\n",
       "      <td>0.198221</td>\n",
       "      <td>0</td>\n",
       "      <td>0.56</td>\n",
       "      <td>0.7</td>\n",
       "      <td>0.79</td>\n",
       "      <td>1</td>\n",
       "    </tr>\n",
       "    <tr>\n",
       "      <th>LandArea</th>\n",
       "      <td>1994</td>\n",
       "      <td>NaN</td>\n",
       "      <td>NaN</td>\n",
       "      <td>NaN</td>\n",
       "      <td>0.0652307</td>\n",
       "      <td>0.109459</td>\n",
       "      <td>0</td>\n",
       "      <td>0.02</td>\n",
       "      <td>0.04</td>\n",
       "      <td>0.07</td>\n",
       "      <td>1</td>\n",
       "    </tr>\n",
       "    <tr>\n",
       "      <th>PopDens</th>\n",
       "      <td>1994</td>\n",
       "      <td>NaN</td>\n",
       "      <td>NaN</td>\n",
       "      <td>NaN</td>\n",
       "      <td>0.232854</td>\n",
       "      <td>0.203092</td>\n",
       "      <td>0</td>\n",
       "      <td>0.1</td>\n",
       "      <td>0.17</td>\n",
       "      <td>0.28</td>\n",
       "      <td>1</td>\n",
       "    </tr>\n",
       "    <tr>\n",
       "      <th>PctUsePubTrans</th>\n",
       "      <td>1994</td>\n",
       "      <td>NaN</td>\n",
       "      <td>NaN</td>\n",
       "      <td>NaN</td>\n",
       "      <td>0.161685</td>\n",
       "      <td>0.229055</td>\n",
       "      <td>0</td>\n",
       "      <td>0.02</td>\n",
       "      <td>0.07</td>\n",
       "      <td>0.19</td>\n",
       "      <td>1</td>\n",
       "    </tr>\n",
       "    <tr>\n",
       "      <th>ViolentCrimesPerPop</th>\n",
       "      <td>1994</td>\n",
       "      <td>NaN</td>\n",
       "      <td>NaN</td>\n",
       "      <td>NaN</td>\n",
       "      <td>0.237979</td>\n",
       "      <td>0.232985</td>\n",
       "      <td>0</td>\n",
       "      <td>0.07</td>\n",
       "      <td>0.15</td>\n",
       "      <td>0.33</td>\n",
       "      <td>1</td>\n",
       "    </tr>\n",
       "  </tbody>\n",
       "</table>\n",
       "<p>100 rows × 11 columns</p>\n",
       "</div>"
      ],
      "text/plain": [
       "                      count unique               top freq       mean  \\\n",
       "state                  1994    NaN               NaN  NaN    28.6836   \n",
       "communityname          1994   1828  Jacksonvillecity    5        NaN   \n",
       "population             1994    NaN               NaN  NaN  0.0575928   \n",
       "householdsize          1994    NaN               NaN  NaN   0.463395   \n",
       "racepctblack           1994    NaN               NaN  NaN   0.179629   \n",
       "racePctWhite           1994    NaN               NaN  NaN   0.753716   \n",
       "racePctAsian           1994    NaN               NaN  NaN   0.153681   \n",
       "racePctHisp            1994    NaN               NaN  NaN   0.144022   \n",
       "agePct12t21            1994    NaN               NaN  NaN   0.424218   \n",
       "agePct12t29            1994    NaN               NaN  NaN   0.493867   \n",
       "agePct16t24            1994    NaN               NaN  NaN   0.336264   \n",
       "agePct65up             1994    NaN               NaN  NaN   0.423164   \n",
       "numbUrban              1994    NaN               NaN  NaN  0.0640722   \n",
       "pctUrban               1994    NaN               NaN  NaN   0.696269   \n",
       "medIncome              1994    NaN               NaN  NaN   0.361123   \n",
       "pctWWage               1994    NaN               NaN  NaN   0.558154   \n",
       "pctWFarmSelf           1994    NaN               NaN  NaN    0.29157   \n",
       "pctWInvInc             1994    NaN               NaN  NaN   0.495687   \n",
       "pctWSocSec             1994    NaN               NaN  NaN   0.471133   \n",
       "pctWPubAsst            1994    NaN               NaN  NaN   0.317778   \n",
       "pctWRetire             1994    NaN               NaN  NaN   0.479248   \n",
       "medFamInc              1994    NaN               NaN  NaN   0.375677   \n",
       "perCapInc              1994    NaN               NaN  NaN   0.350251   \n",
       "whitePerCap            1994    NaN               NaN  NaN   0.368049   \n",
       "blackPerCap            1994    NaN               NaN  NaN   0.291098   \n",
       "indianPerCap           1994    NaN               NaN  NaN   0.203506   \n",
       "AsianPerCap            1994    NaN               NaN  NaN   0.322357   \n",
       "OtherPerCap            1994    NaN               NaN  NaN   0.284742   \n",
       "HispPerCap             1994    NaN               NaN  NaN   0.386279   \n",
       "NumUnderPov            1994    NaN               NaN  NaN  0.0555065   \n",
       "...                     ...    ...               ...  ...        ...   \n",
       "MedNumBR               1994    NaN               NaN  NaN   0.314694   \n",
       "HousVacant             1994    NaN               NaN  NaN  0.0768154   \n",
       "PctHousOccup           1994    NaN               NaN  NaN   0.719549   \n",
       "PctHousOwnOcc          1994    NaN               NaN  NaN   0.548686   \n",
       "PctVacantBoarded       1994    NaN               NaN  NaN   0.204529   \n",
       "PctVacMore6Mos         1994    NaN               NaN  NaN   0.433335   \n",
       "MedYrHousBuilt         1994    NaN               NaN  NaN   0.494178   \n",
       "PctHousNoPhone         1994    NaN               NaN  NaN   0.264478   \n",
       "PctWOFullPlumb         1994    NaN               NaN  NaN   0.243059   \n",
       "OwnOccLowQuart         1994    NaN               NaN  NaN   0.264689   \n",
       "OwnOccMedVal           1994    NaN               NaN  NaN    0.26349   \n",
       "OwnOccHiQuart          1994    NaN               NaN  NaN   0.268942   \n",
       "RentLowQ               1994    NaN               NaN  NaN   0.346379   \n",
       "RentMedian             1994    NaN               NaN  NaN   0.372457   \n",
       "RentHighQ              1994    NaN               NaN  NaN   0.422964   \n",
       "MedRent                1994    NaN               NaN  NaN   0.384102   \n",
       "MedRentPctHousInc      1994    NaN               NaN  NaN   0.490125   \n",
       "MedOwnCostPctInc       1994    NaN               NaN  NaN   0.449754   \n",
       "MedOwnCostPctIncNoMtg  1994    NaN               NaN  NaN   0.403816   \n",
       "NumInShelters          1994    NaN               NaN  NaN  0.0294383   \n",
       "NumStreet              1994    NaN               NaN  NaN  0.0227783   \n",
       "PctForeignBorn         1994    NaN               NaN  NaN   0.215552   \n",
       "PctBornSameState       1994    NaN               NaN  NaN   0.608892   \n",
       "PctSameHouse85         1994    NaN               NaN  NaN    0.53505   \n",
       "PctSameCity85          1994    NaN               NaN  NaN   0.626424   \n",
       "PctSameState85         1994    NaN               NaN  NaN    0.65153   \n",
       "LandArea               1994    NaN               NaN  NaN  0.0652307   \n",
       "PopDens                1994    NaN               NaN  NaN   0.232854   \n",
       "PctUsePubTrans         1994    NaN               NaN  NaN   0.161685   \n",
       "ViolentCrimesPerPop    1994    NaN               NaN  NaN   0.237979   \n",
       "\n",
       "                            std  min     25%    50%     75%  max  \n",
       "state                   16.3976    1      12     34      42   56  \n",
       "communityname               NaN  NaN     NaN    NaN     NaN  NaN  \n",
       "population             0.126906    0    0.01   0.02    0.05    1  \n",
       "householdsize          0.163717    0    0.35   0.44    0.54    1  \n",
       "racepctblack           0.253442    0    0.02   0.06    0.23    1  \n",
       "racePctWhite           0.244039    0    0.63   0.85    0.94    1  \n",
       "racePctAsian           0.208877    0    0.04   0.07    0.17    1  \n",
       "racePctHisp            0.232492    0    0.01   0.04    0.16    1  \n",
       "agePct12t21            0.155196    0    0.34    0.4    0.47    1  \n",
       "agePct12t29            0.143564    0    0.41   0.48    0.54    1  \n",
       "agePct16t24            0.166505    0    0.25   0.29    0.36    1  \n",
       "agePct65up             0.179185    0     0.3   0.42    0.53    1  \n",
       "numbUrban              0.128256    0       0   0.03    0.07    1  \n",
       "pctUrban               0.444811    0       0      1       1    1  \n",
       "medIncome              0.209362    0     0.2   0.32    0.49    1  \n",
       "pctWWage               0.182913    0    0.44   0.56    0.69    1  \n",
       "pctWFarmSelf           0.204108    0    0.16   0.23    0.37    1  \n",
       "pctWInvInc             0.178071    0    0.37   0.48    0.62    1  \n",
       "pctWSocSec             0.173619    0    0.35  0.475    0.58    1  \n",
       "pctWPubAsst            0.222137    0  0.1425   0.26    0.44    1  \n",
       "pctWRetire             0.167564    0    0.36   0.47    0.58    1  \n",
       "medFamInc              0.198257    0    0.23   0.33    0.48    1  \n",
       "perCapInc              0.191109    0    0.22    0.3    0.43    1  \n",
       "whitePerCap            0.186804    0    0.24   0.32    0.44    1  \n",
       "blackPerCap            0.171593    0  0.1725   0.25    0.38    1  \n",
       "indianPerCap           0.164775    0    0.11   0.17    0.25    1  \n",
       "AsianPerCap            0.195411    0    0.19   0.28     0.4    1  \n",
       "OtherPerCap             0.19096    0    0.17   0.25    0.36    1  \n",
       "HispPerCap             0.183081    0    0.26  0.345    0.48    1  \n",
       "NumUnderPov            0.127941    0    0.01   0.02    0.05    1  \n",
       "...                         ...  ...     ...    ...     ...  ...  \n",
       "MedNumBR               0.255182    0       0    0.5     0.5    1  \n",
       "HousVacant             0.150465    0    0.01   0.03    0.07    1  \n",
       "PctHousOccup           0.194024    0    0.63   0.77    0.86    1  \n",
       "PctHousOwnOcc          0.185204    0    0.43   0.54    0.67    1  \n",
       "PctVacantBoarded        0.21777    0    0.06   0.13    0.27    1  \n",
       "PctVacMore6Mos         0.188986    0    0.29   0.42    0.56    1  \n",
       "MedYrHousBuilt         0.232467    0    0.35   0.52    0.67    1  \n",
       "PctHousNoPhone         0.242847    0    0.06  0.185    0.42    1  \n",
       "PctWOFullPlumb         0.206295    0     0.1   0.19    0.33    1  \n",
       "OwnOccLowQuart         0.224425    0    0.09   0.18     0.4    1  \n",
       "OwnOccMedVal           0.231542    0    0.09   0.17    0.39    1  \n",
       "OwnOccHiQuart          0.235252    0    0.09   0.18    0.38    1  \n",
       "RentLowQ               0.219323    0    0.17   0.31    0.49    1  \n",
       "RentMedian             0.209278    0     0.2   0.33    0.52    1  \n",
       "RentHighQ              0.248286    0    0.22   0.37    0.59    1  \n",
       "MedRent                0.213404    0    0.21   0.34    0.53    1  \n",
       "MedRentPctHousInc        0.1695    0    0.37   0.48    0.59    1  \n",
       "MedOwnCostPctInc       0.187274    0    0.32   0.45    0.58    1  \n",
       "MedOwnCostPctIncNoMtg  0.192593    0    0.25   0.37    0.51    1  \n",
       "NumInShelters          0.102607    0       0      0    0.01    1  \n",
       "NumStreet                0.1004    0       0      0       0    1  \n",
       "PctForeignBorn         0.231134    0    0.06   0.13    0.28    1  \n",
       "PctBornSameState       0.204329    0    0.47   0.63  0.7775    1  \n",
       "PctSameHouse85         0.181352    0    0.42   0.54    0.66    1  \n",
       "PctSameCity85          0.200521    0    0.52   0.67    0.77    1  \n",
       "PctSameState85         0.198221    0    0.56    0.7    0.79    1  \n",
       "LandArea               0.109459    0    0.02   0.04    0.07    1  \n",
       "PopDens                0.203092    0     0.1   0.17    0.28    1  \n",
       "PctUsePubTrans         0.229055    0    0.02   0.07    0.19    1  \n",
       "ViolentCrimesPerPop    0.232985    0    0.07   0.15    0.33    1  \n",
       "\n",
       "[100 rows x 11 columns]"
      ]
     },
     "execution_count": 7,
     "metadata": {},
     "output_type": "execute_result"
    }
   ],
   "source": [
    "crimeDF.describe(include=\"all\").T"
   ]
  },
  {
   "cell_type": "code",
   "execution_count": 8,
   "metadata": {
    "collapsed": false
   },
   "outputs": [
    {
     "data": {
      "text/html": [
       "<div>\n",
       "<table border=\"1\" class=\"dataframe\">\n",
       "  <thead>\n",
       "    <tr style=\"text-align: right;\">\n",
       "      <th></th>\n",
       "      <th>ViolentCrimesPerPop</th>\n",
       "    </tr>\n",
       "  </thead>\n",
       "  <tbody>\n",
       "    <tr>\n",
       "      <th>0</th>\n",
       "      <td>0.20</td>\n",
       "    </tr>\n",
       "    <tr>\n",
       "      <th>1</th>\n",
       "      <td>0.67</td>\n",
       "    </tr>\n",
       "    <tr>\n",
       "      <th>2</th>\n",
       "      <td>0.43</td>\n",
       "    </tr>\n",
       "    <tr>\n",
       "      <th>3</th>\n",
       "      <td>0.12</td>\n",
       "    </tr>\n",
       "    <tr>\n",
       "      <th>4</th>\n",
       "      <td>0.03</td>\n",
       "    </tr>\n",
       "  </tbody>\n",
       "</table>\n",
       "</div>"
      ],
      "text/plain": [
       "   ViolentCrimesPerPop\n",
       "0                 0.20\n",
       "1                 0.67\n",
       "2                 0.43\n",
       "3                 0.12\n",
       "4                 0.03"
      ]
     },
     "execution_count": 8,
     "metadata": {},
     "output_type": "execute_result"
    }
   ],
   "source": [
    "target = pd.DataFrame(crimeDF[\"ViolentCrimesPerPop\"])\n",
    "target.head(5)"
   ]
  },
  {
   "cell_type": "code",
   "execution_count": 9,
   "metadata": {
    "collapsed": false
   },
   "outputs": [
    {
     "data": {
      "text/plain": [
       "array(['state', 'communityname', 'population', 'householdsize',\n",
       "       'racepctblack', 'racePctWhite', 'racePctAsian', 'racePctHisp',\n",
       "       'agePct12t21', 'agePct12t29', 'agePct16t24', 'agePct65up',\n",
       "       'numbUrban', 'pctUrban', 'medIncome', 'pctWWage', 'pctWFarmSelf',\n",
       "       'pctWInvInc', 'pctWSocSec', 'pctWPubAsst', 'pctWRetire',\n",
       "       'medFamInc', 'perCapInc', 'whitePerCap', 'blackPerCap',\n",
       "       'indianPerCap', 'AsianPerCap', 'OtherPerCap', 'HispPerCap',\n",
       "       'NumUnderPov', 'PctPopUnderPov', 'PctLess9thGrade', 'PctNotHSGrad',\n",
       "       'PctBSorMore', 'PctUnemployed', 'PctEmploy', 'PctEmplManu',\n",
       "       'PctEmplProfServ', 'MalePctDivorce', 'MalePctNevMarr',\n",
       "       'FemalePctDiv', 'TotalPctDiv', 'PersPerFam', 'PctFam2Par',\n",
       "       'PctKids2Par', 'PctYoungKids2Par', 'PctTeen2Par',\n",
       "       'PctWorkMomYoungKids', 'PctWorkMom', 'NumIlleg', 'PctIlleg',\n",
       "       'NumImmig', 'PctImmigRecent', 'PctImmigRec5', 'PctImmigRec8',\n",
       "       'PctImmigRec10', 'PctRecentImmig', 'PctRecImmig5', 'PctRecImmig8',\n",
       "       'PctRecImmig10', 'PctSpeakEnglOnly', 'PctNotSpeakEnglWell',\n",
       "       'PctLargHouseFam', 'PctLargHouseOccup', 'PersPerOccupHous',\n",
       "       'PersPerOwnOccHous', 'PersPerRentOccHous', 'PctPersOwnOccup',\n",
       "       'PctPersDenseHous', 'PctHousLess3BR', 'MedNumBR', 'HousVacant',\n",
       "       'PctHousOccup', 'PctHousOwnOcc', 'PctVacantBoarded',\n",
       "       'PctVacMore6Mos', 'MedYrHousBuilt', 'PctHousNoPhone',\n",
       "       'PctWOFullPlumb', 'OwnOccLowQuart', 'OwnOccMedVal', 'OwnOccHiQuart',\n",
       "       'RentLowQ', 'RentMedian', 'RentHighQ', 'MedRent',\n",
       "       'MedRentPctHousInc', 'MedOwnCostPctInc', 'MedOwnCostPctIncNoMtg',\n",
       "       'NumInShelters', 'NumStreet', 'PctForeignBorn', 'PctBornSameState',\n",
       "       'PctSameHouse85', 'PctSameCity85', 'PctSameState85', 'LandArea',\n",
       "       'PopDens', 'PctUsePubTrans', 'ViolentCrimesPerPop'], dtype=object)"
      ]
     },
     "execution_count": 9,
     "metadata": {},
     "output_type": "execute_result"
    }
   ],
   "source": [
    "crimeDF.columns.values  #Find the column names"
   ]
  },
  {
   "cell_type": "code",
   "execution_count": 10,
   "metadata": {
    "collapsed": false
   },
   "outputs": [],
   "source": [
    "crimeDF.drop('ViolentCrimesPerPop', axis=1, inplace=True)   #Separating the target attribute\n",
    "crimeDF.drop('state', axis=1, inplace=True)   #Removing the state attribute\n",
    "crimeDF.drop('communityname', axis=1, inplace=True)   #Removing the community name attribute"
   ]
  },
  {
   "cell_type": "code",
   "execution_count": 11,
   "metadata": {
    "collapsed": false
   },
   "outputs": [
    {
     "data": {
      "text/html": [
       "<div>\n",
       "<table border=\"1\" class=\"dataframe\">\n",
       "  <thead>\n",
       "    <tr style=\"text-align: right;\">\n",
       "      <th></th>\n",
       "      <th>population</th>\n",
       "      <th>householdsize</th>\n",
       "      <th>racepctblack</th>\n",
       "      <th>racePctWhite</th>\n",
       "      <th>racePctAsian</th>\n",
       "      <th>racePctHisp</th>\n",
       "      <th>agePct12t21</th>\n",
       "      <th>agePct12t29</th>\n",
       "      <th>agePct16t24</th>\n",
       "      <th>agePct65up</th>\n",
       "      <th>...</th>\n",
       "      <th>NumInShelters</th>\n",
       "      <th>NumStreet</th>\n",
       "      <th>PctForeignBorn</th>\n",
       "      <th>PctBornSameState</th>\n",
       "      <th>PctSameHouse85</th>\n",
       "      <th>PctSameCity85</th>\n",
       "      <th>PctSameState85</th>\n",
       "      <th>LandArea</th>\n",
       "      <th>PopDens</th>\n",
       "      <th>PctUsePubTrans</th>\n",
       "    </tr>\n",
       "  </thead>\n",
       "  <tbody>\n",
       "  </tbody>\n",
       "</table>\n",
       "<p>0 rows × 97 columns</p>\n",
       "</div>"
      ],
      "text/plain": [
       "Empty DataFrame\n",
       "Columns: [population, householdsize, racepctblack, racePctWhite, racePctAsian, racePctHisp, agePct12t21, agePct12t29, agePct16t24, agePct65up, numbUrban, pctUrban, medIncome, pctWWage, pctWFarmSelf, pctWInvInc, pctWSocSec, pctWPubAsst, pctWRetire, medFamInc, perCapInc, whitePerCap, blackPerCap, indianPerCap, AsianPerCap, OtherPerCap, HispPerCap, NumUnderPov, PctPopUnderPov, PctLess9thGrade, PctNotHSGrad, PctBSorMore, PctUnemployed, PctEmploy, PctEmplManu, PctEmplProfServ, MalePctDivorce, MalePctNevMarr, FemalePctDiv, TotalPctDiv, PersPerFam, PctFam2Par, PctKids2Par, PctYoungKids2Par, PctTeen2Par, PctWorkMomYoungKids, PctWorkMom, NumIlleg, PctIlleg, NumImmig, PctImmigRecent, PctImmigRec5, PctImmigRec8, PctImmigRec10, PctRecentImmig, PctRecImmig5, PctRecImmig8, PctRecImmig10, PctSpeakEnglOnly, PctNotSpeakEnglWell, PctLargHouseFam, PctLargHouseOccup, PersPerOccupHous, PersPerOwnOccHous, PersPerRentOccHous, PctPersOwnOccup, PctPersDenseHous, PctHousLess3BR, MedNumBR, HousVacant, PctHousOccup, PctHousOwnOcc, PctVacantBoarded, PctVacMore6Mos, MedYrHousBuilt, PctHousNoPhone, PctWOFullPlumb, OwnOccLowQuart, OwnOccMedVal, OwnOccHiQuart, RentLowQ, RentMedian, RentHighQ, MedRent, MedRentPctHousInc, MedOwnCostPctInc, MedOwnCostPctIncNoMtg, NumInShelters, NumStreet, PctForeignBorn, PctBornSameState, PctSameHouse85, PctSameCity85, PctSameState85, LandArea, PopDens, PctUsePubTrans]\n",
       "Index: []\n",
       "\n",
       "[0 rows x 97 columns]"
      ]
     },
     "execution_count": 11,
     "metadata": {},
     "output_type": "execute_result"
    }
   ],
   "source": [
    "crimeDF[crimeDF.OtherPerCap.isnull()]"
   ]
  },
  {
   "cell_type": "markdown",
   "metadata": {},
   "source": [
    "#We can write the new crimeDF to a .csv file, import it back in as a numpy array, and continue with the matrix multiplications"
   ]
  },
  {
   "cell_type": "code",
   "execution_count": 12,
   "metadata": {
    "collapsed": false
   },
   "outputs": [],
   "source": [
    "crimeDF.to_csv('community_clean.csv',index=False)"
   ]
  },
  {
   "cell_type": "markdown",
   "metadata": {},
   "source": [
    "# 1b\n",
    "\n",
    "    Perform standard linear regression on data using the implementation for Ch. 8 of MLA. Compute the RMSE value on the full training data. In this case, the \"full training data\" means the full dataset. Also, plot the correlation between the predicted and actual values of the target attribute. Display the obtained regression coefficients (weights). Finally, perform 10-fold cross-validation and compare the cross-validation RMSE to the training RMSE (for cross validation, you may use the KFold module from sklearn.cross_validation).\n"
   ]
  },
  {
   "cell_type": "code",
   "execution_count": 13,
   "metadata": {
    "collapsed": false
   },
   "outputs": [],
   "source": [
    "#Read in the data set that we cleaned with pandas above, \n",
    "#but as a numpy array so that we can safely do matrix multiplication with it.\n",
    "from numpy import genfromtxt\n",
    "crime_clean = genfromtxt('community_clean.csv', delimiter=',',names=True)"
   ]
  },
  {
   "cell_type": "code",
   "execution_count": 14,
   "metadata": {
    "collapsed": false
   },
   "outputs": [
    {
     "data": {
      "text/plain": [
       "array([ (0.19, 0.33, 0.02, 0.9, 0.12, 0.17, 0.34, 0.47, 0.29, 0.32, 0.2, 1.0, 0.37, 0.72, 0.34, 0.6, 0.29, 0.15, 0.43, 0.39, 0.4, 0.39, 0.32, 0.27, 0.27, 0.36, 0.41, 0.08, 0.19, 0.1, 0.18, 0.48, 0.27, 0.68, 0.23, 0.41, 0.68, 0.4, 0.75, 0.75, 0.35, 0.55, 0.59, 0.61, 0.56, 0.74, 0.76, 0.04, 0.14, 0.03, 0.24, 0.27, 0.37, 0.39, 0.07, 0.07, 0.08, 0.08, 0.89, 0.06, 0.14, 0.13, 0.33, 0.39, 0.28, 0.55, 0.09, 0.51, 0.5, 0.21, 0.71, 0.52, 0.05, 0.26, 0.65, 0.14, 0.06, 0.22, 0.19, 0.18, 0.36, 0.35, 0.38, 0.34, 0.38, 0.46, 0.25, 0.04, 0.0, 0.12, 0.42, 0.5, 0.51, 0.64, 0.12, 0.26, 0.2),\n",
       "       (0.0, 0.16, 0.12, 0.74, 0.45, 0.07, 0.26, 0.59, 0.35, 0.27, 0.02, 1.0, 0.31, 0.72, 0.11, 0.45, 0.25, 0.29, 0.39, 0.29, 0.37, 0.38, 0.33, 0.16, 0.3, 0.22, 0.35, 0.01, 0.24, 0.14, 0.24, 0.3, 0.27, 0.73, 0.57, 0.15, 1.0, 0.63, 0.91, 1.0, 0.29, 0.43, 0.47, 0.6, 0.39, 0.46, 0.53, 0.0, 0.24, 0.01, 0.52, 0.62, 0.64, 0.63, 0.25, 0.27, 0.25, 0.23, 0.84, 0.1, 0.16, 0.1, 0.17, 0.29, 0.17, 0.26, 0.2, 0.82, 0.0, 0.02, 0.79, 0.24, 0.02, 0.25, 0.65, 0.16, 0.0, 0.21, 0.2, 0.21, 0.42, 0.38, 0.4, 0.37, 0.29, 0.32, 0.18, 0.0, 0.0, 0.21, 0.5, 0.34, 0.6, 0.52, 0.02, 0.12, 0.45),\n",
       "       (0.0, 0.42, 0.49, 0.56, 0.17, 0.04, 0.39, 0.47, 0.28, 0.32, 0.0, 0.0, 0.3, 0.58, 0.19, 0.39, 0.38, 0.4, 0.84, 0.28, 0.27, 0.29, 0.27, 0.07, 0.29, 0.28, 0.39, 0.01, 0.27, 0.27, 0.43, 0.19, 0.36, 0.58, 0.32, 0.29, 0.63, 0.41, 0.71, 0.7, 0.45, 0.42, 0.44, 0.43, 0.43, 0.71, 0.67, 0.01, 0.46, 0.0, 0.07, 0.06, 0.15, 0.19, 0.02, 0.02, 0.04, 0.05, 0.88, 0.04, 0.2, 0.2, 0.46, 0.52, 0.43, 0.42, 0.15, 0.51, 0.5, 0.01, 0.86, 0.41, 0.29, 0.3, 0.52, 0.47, 0.45, 0.18, 0.17, 0.16, 0.27, 0.29, 0.27, 0.31, 0.48, 0.39, 0.28, 0.0, 0.0, 0.14, 0.49, 0.54, 0.67, 0.56, 0.01, 0.21, 0.02),\n",
       "       ...,\n",
       "       (0.16, 0.37, 0.25, 0.69, 0.04, 0.25, 0.35, 0.5, 0.31, 0.54, 0.17, 1.0, 0.31, 0.47, 0.17, 0.45, 0.58, 0.48, 0.57, 0.35, 0.31, 0.34, 0.25, 0.19, 0.28, 0.22, 0.28, 0.12, 0.31, 0.52, 0.58, 0.21, 0.5, 0.46, 0.63, 0.4, 0.5, 0.53, 0.5, 0.52, 0.47, 0.42, 0.42, 0.47, 0.47, 0.38, 0.46, 0.13, 0.54, 0.06, 0.12, 0.17, 0.24, 0.26, 0.07, 0.09, 0.11, 0.12, 0.6, 0.28, 0.26, 0.22, 0.39, 0.45, 0.37, 0.38, 0.15, 0.66, 0.0, 0.21, 0.65, 0.37, 0.53, 0.45, 0.29, 0.31, 0.29, 0.33, 0.32, 0.29, 0.28, 0.34, 0.39, 0.37, 0.52, 0.58, 0.53, 0.06, 0.02, 0.25, 0.68, 0.61, 0.79, 0.76, 0.08, 0.32, 0.18),\n",
       "       (0.08, 0.51, 0.06, 0.87, 0.22, 0.1, 0.58, 0.74, 0.63, 0.41, 0.09, 1.0, 0.44, 0.64, 0.21, 0.55, 0.42, 0.24, 0.45, 0.47, 0.4, 0.4, 0.29, 0.2, 0.31, 0.27, 0.37, 0.03, 0.16, 0.3, 0.35, 0.42, 0.37, 0.57, 0.44, 0.57, 0.32, 0.87, 0.3, 0.32, 0.46, 0.64, 0.65, 0.75, 0.71, 0.57, 0.63, 0.02, 0.17, 0.06, 0.4, 0.46, 0.48, 0.49, 0.42, 0.43, 0.41, 0.38, 0.68, 0.2, 0.26, 0.21, 0.36, 0.54, 0.26, 0.39, 0.13, 0.64, 0.0, 0.05, 0.84, 0.33, 0.17, 0.34, 0.23, 0.1, 0.34, 0.54, 0.49, 0.47, 0.58, 0.62, 0.75, 0.64, 0.43, 0.44, 0.4, 0.04, 0.01, 0.45, 0.64, 0.54, 0.59, 0.52, 0.03, 0.38, 0.33),\n",
       "       (0.2, 0.78, 0.14, 0.46, 0.24, 0.77, 0.5, 0.62, 0.4, 0.17, 0.21, 1.0, 0.4, 0.73, 0.22, 0.25, 0.26, 0.47, 0.29, 0.36, 0.24, 0.28, 0.32, 0.22, 0.27, 0.25, 0.29, 0.16, 0.35, 0.5, 0.55, 0.16, 0.47, 0.58, 0.53, 0.2, 0.49, 0.5, 0.6, 0.57, 0.86, 0.61, 0.59, 0.64, 0.6, 0.35, 0.35, 0.11, 0.43, 0.2, 0.43, 0.52, 0.58, 0.65, 0.68, 0.73, 0.73, 0.75, 0.35, 0.77, 0.84, 0.83, 0.84, 0.78, 0.89, 0.46, 0.76, 0.55, 0.0, 0.12, 0.8, 0.49, 0.1, 0.16, 0.71, 0.32, 0.21, 0.35, 0.35, 0.32, 0.54, 0.53, 0.61, 0.54, 0.69, 0.73, 0.21, 0.08, 0.08, 0.68, 0.5, 0.34, 0.35, 0.68, 0.11, 0.3, 0.05)], \n",
       "      dtype=[('population', '<f8'), ('householdsize', '<f8'), ('racepctblack', '<f8'), ('racePctWhite', '<f8'), ('racePctAsian', '<f8'), ('racePctHisp', '<f8'), ('agePct12t21', '<f8'), ('agePct12t29', '<f8'), ('agePct16t24', '<f8'), ('agePct65up', '<f8'), ('numbUrban', '<f8'), ('pctUrban', '<f8'), ('medIncome', '<f8'), ('pctWWage', '<f8'), ('pctWFarmSelf', '<f8'), ('pctWInvInc', '<f8'), ('pctWSocSec', '<f8'), ('pctWPubAsst', '<f8'), ('pctWRetire', '<f8'), ('medFamInc', '<f8'), ('perCapInc', '<f8'), ('whitePerCap', '<f8'), ('blackPerCap', '<f8'), ('indianPerCap', '<f8'), ('AsianPerCap', '<f8'), ('OtherPerCap', '<f8'), ('HispPerCap', '<f8'), ('NumUnderPov', '<f8'), ('PctPopUnderPov', '<f8'), ('PctLess9thGrade', '<f8'), ('PctNotHSGrad', '<f8'), ('PctBSorMore', '<f8'), ('PctUnemployed', '<f8'), ('PctEmploy', '<f8'), ('PctEmplManu', '<f8'), ('PctEmplProfServ', '<f8'), ('MalePctDivorce', '<f8'), ('MalePctNevMarr', '<f8'), ('FemalePctDiv', '<f8'), ('TotalPctDiv', '<f8'), ('PersPerFam', '<f8'), ('PctFam2Par', '<f8'), ('PctKids2Par', '<f8'), ('PctYoungKids2Par', '<f8'), ('PctTeen2Par', '<f8'), ('PctWorkMomYoungKids', '<f8'), ('PctWorkMom', '<f8'), ('NumIlleg', '<f8'), ('PctIlleg', '<f8'), ('NumImmig', '<f8'), ('PctImmigRecent', '<f8'), ('PctImmigRec5', '<f8'), ('PctImmigRec8', '<f8'), ('PctImmigRec10', '<f8'), ('PctRecentImmig', '<f8'), ('PctRecImmig5', '<f8'), ('PctRecImmig8', '<f8'), ('PctRecImmig10', '<f8'), ('PctSpeakEnglOnly', '<f8'), ('PctNotSpeakEnglWell', '<f8'), ('PctLargHouseFam', '<f8'), ('PctLargHouseOccup', '<f8'), ('PersPerOccupHous', '<f8'), ('PersPerOwnOccHous', '<f8'), ('PersPerRentOccHous', '<f8'), ('PctPersOwnOccup', '<f8'), ('PctPersDenseHous', '<f8'), ('PctHousLess3BR', '<f8'), ('MedNumBR', '<f8'), ('HousVacant', '<f8'), ('PctHousOccup', '<f8'), ('PctHousOwnOcc', '<f8'), ('PctVacantBoarded', '<f8'), ('PctVacMore6Mos', '<f8'), ('MedYrHousBuilt', '<f8'), ('PctHousNoPhone', '<f8'), ('PctWOFullPlumb', '<f8'), ('OwnOccLowQuart', '<f8'), ('OwnOccMedVal', '<f8'), ('OwnOccHiQuart', '<f8'), ('RentLowQ', '<f8'), ('RentMedian', '<f8'), ('RentHighQ', '<f8'), ('MedRent', '<f8'), ('MedRentPctHousInc', '<f8'), ('MedOwnCostPctInc', '<f8'), ('MedOwnCostPctIncNoMtg', '<f8'), ('NumInShelters', '<f8'), ('NumStreet', '<f8'), ('PctForeignBorn', '<f8'), ('PctBornSameState', '<f8'), ('PctSameHouse85', '<f8'), ('PctSameCity85', '<f8'), ('PctSameState85', '<f8'), ('LandArea', '<f8'), ('PopDens', '<f8'), ('PctUsePubTrans', '<f8')])"
      ]
     },
     "execution_count": 14,
     "metadata": {},
     "output_type": "execute_result"
    }
   ],
   "source": [
    "crime_clean"
   ]
  },
  {
   "cell_type": "code",
   "execution_count": 15,
   "metadata": {
    "collapsed": false
   },
   "outputs": [
    {
     "data": {
      "text/plain": [
       "array([ 0.19,  0.  ,  0.  , ...,  0.16,  0.08,  0.2 ])"
      ]
     },
     "execution_count": 15,
     "metadata": {},
     "output_type": "execute_result"
    }
   ],
   "source": [
    "crime_clean['population']"
   ]
  },
  {
   "cell_type": "code",
   "execution_count": 16,
   "metadata": {
    "collapsed": false
   },
   "outputs": [
    {
     "data": {
      "text/html": [
       "<div>\n",
       "<table border=\"1\" class=\"dataframe\">\n",
       "  <thead>\n",
       "    <tr style=\"text-align: right;\">\n",
       "      <th></th>\n",
       "      <th>ViolentCrimesPerPop</th>\n",
       "    </tr>\n",
       "  </thead>\n",
       "  <tbody>\n",
       "    <tr>\n",
       "      <th>0</th>\n",
       "      <td>0.20</td>\n",
       "    </tr>\n",
       "    <tr>\n",
       "      <th>1</th>\n",
       "      <td>0.67</td>\n",
       "    </tr>\n",
       "    <tr>\n",
       "      <th>2</th>\n",
       "      <td>0.43</td>\n",
       "    </tr>\n",
       "    <tr>\n",
       "      <th>3</th>\n",
       "      <td>0.12</td>\n",
       "    </tr>\n",
       "    <tr>\n",
       "      <th>4</th>\n",
       "      <td>0.03</td>\n",
       "    </tr>\n",
       "    <tr>\n",
       "      <th>5</th>\n",
       "      <td>0.14</td>\n",
       "    </tr>\n",
       "    <tr>\n",
       "      <th>6</th>\n",
       "      <td>0.03</td>\n",
       "    </tr>\n",
       "    <tr>\n",
       "      <th>7</th>\n",
       "      <td>0.55</td>\n",
       "    </tr>\n",
       "    <tr>\n",
       "      <th>8</th>\n",
       "      <td>0.53</td>\n",
       "    </tr>\n",
       "    <tr>\n",
       "      <th>9</th>\n",
       "      <td>0.15</td>\n",
       "    </tr>\n",
       "  </tbody>\n",
       "</table>\n",
       "</div>"
      ],
      "text/plain": [
       "   ViolentCrimesPerPop\n",
       "0                 0.20\n",
       "1                 0.67\n",
       "2                 0.43\n",
       "3                 0.12\n",
       "4                 0.03\n",
       "5                 0.14\n",
       "6                 0.03\n",
       "7                 0.55\n",
       "8                 0.53\n",
       "9                 0.15"
      ]
     },
     "execution_count": 16,
     "metadata": {},
     "output_type": "execute_result"
    }
   ],
   "source": [
    "target.head(10)"
   ]
  },
  {
   "cell_type": "code",
   "execution_count": 17,
   "metadata": {
    "collapsed": false
   },
   "outputs": [
    {
     "data": {
      "text/plain": [
       "1994"
      ]
     },
     "execution_count": 17,
     "metadata": {},
     "output_type": "execute_result"
    }
   ],
   "source": [
    "len(crime_clean)"
   ]
  },
  {
   "cell_type": "code",
   "execution_count": 18,
   "metadata": {
    "collapsed": false
   },
   "outputs": [
    {
     "name": "stdout",
     "output_type": "stream",
     "text": [
      "[[ 0.19  0.33  0.02 ...,  0.26  0.2   1.  ]\n",
      " [ 0.    0.16  0.12 ...,  0.12  0.45  1.  ]\n",
      " [ 0.    0.42  0.49 ...,  0.21  0.02  1.  ]\n",
      " ..., \n",
      " [ 0.16  0.37  0.25 ...,  0.32  0.18  1.  ]\n",
      " [ 0.08  0.51  0.06 ...,  0.38  0.33  1.  ]\n",
      " [ 0.2   0.78  0.14 ...,  0.3   0.05  1.  ]]\n",
      "(1994, 98)\n"
     ]
    }
   ],
   "source": [
    "#The code below allow us to concatenate the crime_clean data with a column of ones. I was getting an error before\n",
    "#when I tried to concatenate using the example from class\n",
    "\n",
    "a = []\n",
    "for row in crime_clean:\n",
    "    b = []\n",
    "    for i in row:\n",
    "        b.append(i)\n",
    "    a.append(b)\n",
    "\n",
    "b = int(np.array(1))\n",
    "x = np.array([np.hstack((a[i],b)) for i in range(len(crime_clean))])\n",
    "x[x == -np.inf] = 0 #To get rid of any inf values\n",
    "x[x == np.inf] = 0\n",
    "print x\n",
    "print x.shape"
   ]
  },
  {
   "cell_type": "code",
   "execution_count": 19,
   "metadata": {
    "collapsed": false
   },
   "outputs": [
    {
     "name": "stdout",
     "output_type": "stream",
     "text": [
      "[[ 0.2 ]\n",
      " [ 0.67]\n",
      " [ 0.43]\n",
      " [ 0.12]\n",
      " [ 0.03]\n",
      " [ 0.14]\n",
      " [ 0.03]\n",
      " [ 0.55]\n",
      " [ 0.53]\n",
      " [ 0.15]]\n",
      "(1994, 1)\n"
     ]
    }
   ],
   "source": [
    "y = np.array(target)\n",
    "print y[:10]\n",
    "print y.shape"
   ]
  },
  {
   "cell_type": "code",
   "execution_count": 20,
   "metadata": {
    "collapsed": false
   },
   "outputs": [],
   "source": [
    "#From MLIA ch. 8        Be careful - the inputs should both be numpy arrays, not a dataframe or other object\n",
    "def standRegres(xArr,yArr):\n",
    "    xMat = np.matrix(xArr); yMat = np.matrix(yArr).T\n",
    "    xTx = xMat.T*xMat\n",
    "    xTx = np.nan_to_num(xTx)\n",
    "    if la.det(xTx) == 0.0:\n",
    "        print \"This matrix is singular, cannot do inverse\"\n",
    "        return\n",
    "    ws = xTx.I * (xMat.T*yMat.T)\n",
    "    return ws"
   ]
  },
  {
   "cell_type": "code",
   "execution_count": 21,
   "metadata": {
    "collapsed": false
   },
   "outputs": [
    {
     "name": "stdout",
     "output_type": "stream",
     "text": [
      "[[  1.31108068e-01]\n",
      " [ -3.14114977e-02]\n",
      " [  2.09909670e-01]\n",
      " [ -4.05351612e-02]\n",
      " [ -1.38892919e-02]\n",
      " [  5.89726825e-02]\n",
      " [  1.23399025e-01]\n",
      " [ -2.22621600e-01]\n",
      " [ -1.47500199e-01]\n",
      " [  5.01635477e-02]\n",
      " [ -2.42413829e-01]\n",
      " [  4.64024392e-02]\n",
      " [ -1.96945615e-01]\n",
      " [ -2.06117500e-01]\n",
      " [  4.65935490e-02]\n",
      " [ -1.77212915e-01]\n",
      " [  6.30148504e-02]\n",
      " [  1.14942190e-02]\n",
      " [ -9.08951848e-02]\n",
      " [  2.74640044e-01]\n",
      " [  1.01752476e-01]\n",
      " [ -3.31517562e-01]\n",
      " [ -2.91799268e-02]\n",
      " [ -3.54483393e-02]\n",
      " [  2.26173855e-02]\n",
      " [  4.30950137e-02]\n",
      " [  3.44408548e-02]\n",
      " [  1.28412458e-01]\n",
      " [ -1.91293360e-01]\n",
      " [ -1.00769002e-01]\n",
      " [  6.46856092e-02]\n",
      " [  1.06062117e-01]\n",
      " [  2.44126006e-06]\n",
      " [  2.34984611e-01]\n",
      " [ -3.75705330e-02]\n",
      " [ -7.74957660e-03]\n",
      " [  4.66779619e-01]\n",
      " [  2.26295907e-01]\n",
      " [  1.74621953e-01]\n",
      " [ -5.75206227e-01]\n",
      " [ -1.41954207e-01]\n",
      " [  5.68782538e-02]\n",
      " [ -3.51066745e-01]\n",
      " [ -3.49493414e-02]\n",
      " [  4.63705978e-04]\n",
      " [  5.57016681e-02]\n",
      " [ -1.82238360e-01]\n",
      " [ -1.54646442e-01]\n",
      " [  1.26172899e-01]\n",
      " [ -1.44320569e-01]\n",
      " [  2.39071713e-02]\n",
      " [  3.33390229e-02]\n",
      " [ -7.42297409e-02]\n",
      " [  3.59876412e-02]\n",
      " [ -3.31691535e-02]\n",
      " [ -2.18174916e-01]\n",
      " [  4.45777391e-01]\n",
      " [ -2.00030978e-01]\n",
      " [ -2.67307658e-02]\n",
      " [ -1.41457254e-01]\n",
      " [  6.38133109e-02]\n",
      " [ -2.10115806e-01]\n",
      " [  6.51276465e-01]\n",
      " [ -8.02774919e-02]\n",
      " [ -2.53817057e-01]\n",
      " [ -6.66334925e-01]\n",
      " [  2.01002575e-01]\n",
      " [  1.03326247e-01]\n",
      " [  2.88599766e-02]\n",
      " [  1.68314795e-01]\n",
      " [ -4.00752791e-02]\n",
      " [  5.53867355e-01]\n",
      " [  4.70396419e-02]\n",
      " [ -7.64314747e-02]\n",
      " [ -2.89277350e-02]\n",
      " [  1.40739015e-02]\n",
      " [ -1.40629951e-02]\n",
      " [ -3.46854609e-01]\n",
      " [  2.67796471e-01]\n",
      " [  1.19446906e-02]\n",
      " [ -2.36996317e-01]\n",
      " [ -2.60764386e-02]\n",
      " [ -6.84041742e-02]\n",
      " [  3.74730887e-01]\n",
      " [  4.17402525e-02]\n",
      " [ -4.45747318e-02]\n",
      " [ -8.34683479e-02]\n",
      " [  1.30736305e-01]\n",
      " [  1.83468559e-01]\n",
      " [  1.26046949e-01]\n",
      " [  4.63490658e-03]\n",
      " [ -2.24577196e-02]\n",
      " [  2.88627319e-02]\n",
      " [  1.30622513e-02]\n",
      " [  2.76170980e-02]\n",
      " [ -1.24479622e-02]\n",
      " [ -3.73099899e-02]\n",
      " [  5.88079813e-01]]\n"
     ]
    }
   ],
   "source": [
    "ws = standRegres(x,y)\n",
    "print ws"
   ]
  },
  {
   "cell_type": "code",
   "execution_count": 22,
   "metadata": {
    "collapsed": false
   },
   "outputs": [
    {
     "name": "stdout",
     "output_type": "stream",
     "text": [
      "[[ 0.16551838]\n",
      " [ 0.29062973]\n",
      " [ 0.38367799]\n",
      " ..., \n",
      " [ 0.40142767]\n",
      " [ 0.16882645]\n",
      " [ 0.37326947]]\n"
     ]
    }
   ],
   "source": [
    "#Now that we have the regression coefficients, we can compute the predicted values:\n",
    "xMat=np.mat(x)\n",
    "yHat = xMat*ws\n",
    "print yHat"
   ]
  },
  {
   "cell_type": "markdown",
   "metadata": {},
   "source": [
    "Compute the RMSE value on the full training data"
   ]
  },
  {
   "cell_type": "code",
   "execution_count": 23,
   "metadata": {
    "collapsed": false
   },
   "outputs": [
    {
     "name": "stdout",
     "output_type": "stream",
     "text": [
      "[[ 0.12888961]]\n"
     ]
    }
   ],
   "source": [
    "# Compute RMSE on training data\n",
    "p = yHat   \n",
    "#Here, ws is the result of the standRegres function we created above\n",
    "\n",
    "# Now we can constuct a vector of errors\n",
    "err = abs(p-y)\n",
    "\n",
    "# Dot product of error vector with itself gives us the sum of squared errors\n",
    "total_error = np.dot(err.T,err)\n",
    "\n",
    "# Compute RMSE\n",
    "rmse_train = np.sqrt(total_error/len(p))\n",
    "print rmse_train"
   ]
  },
  {
   "cell_type": "markdown",
   "metadata": {},
   "source": [
    "Also, plot the correlation between the predicted and actual values of the target attribute. Display the obtained regression coefficients (weights). "
   ]
  },
  {
   "cell_type": "code",
   "execution_count": 24,
   "metadata": {
    "collapsed": false
   },
   "outputs": [
    {
     "data": {
      "image/png": "[encoded data removed]",
      "text/plain": [
       "<matplotlib.figure.Figure at 0x1165f2550>"
      ]
     },
     "metadata": {},
     "output_type": "display_data"
    }
   ],
   "source": [
    "# Plot outputs\n",
    "%matplotlib inline\n",
    "pl.plot(p, y,'ro')\n",
    "pl.plot([0,1.5],[0,1], 'g-')\n",
    "pl.xlabel('predicted')\n",
    "pl.ylabel('real')\n",
    "pl.show()"
   ]
  },
  {
   "cell_type": "markdown",
   "metadata": {},
   "source": [
    "Finally, perform 10-fold cross-validation and compare the cross-validation RMSE to the training RMSE (for cross validation, you may use the KFold module from sklearn.cross_validation)."
   ]
  },
  {
   "cell_type": "code",
   "execution_count": 25,
   "metadata": {
    "collapsed": true
   },
   "outputs": [],
   "source": [
    "# Create linear regression object\n",
    "linreg = LinearRegression()"
   ]
  },
  {
   "cell_type": "code",
   "execution_count": 26,
   "metadata": {
    "collapsed": false
   },
   "outputs": [],
   "source": [
    "# Now let's compute RMSE using 10-fold x-validation\n",
    "kf = KFold(len(x), n_folds=10)\n",
    "xval_err = 0\n",
    "for train,test in kf:\n",
    "    linreg.fit(x[train],y[train])\n",
    "    # p = np.array([linreg.predict(xi) for xi in x[test]])\n",
    "    p = linreg.predict(x[test])\n",
    "    e = p-y[test]\n",
    "    xval_err += np.dot(e.T,e)\n",
    "    \n",
    "rmse_10cv = np.sqrt(xval_err/len(x))"
   ]
  },
  {
   "cell_type": "code",
   "execution_count": 27,
   "metadata": {
    "collapsed": false
   },
   "outputs": [
    {
     "data": {
      "text/plain": [
       "array([[ 0.13633308]])"
      ]
     },
     "execution_count": 27,
     "metadata": {},
     "output_type": "execute_result"
    }
   ],
   "source": [
    "rmse_10cv"
   ]
  },
  {
   "cell_type": "markdown",
   "metadata": {
    "collapsed": true
   },
   "source": [
    "# The RMSE on the full training data was 0.1288, and the RMSE using cross-validation on the test data is 0.13633."
   ]
  },
  {
   "cell_type": "markdown",
   "metadata": {},
   "source": [
    "c\tFeature Selection:  use the scikit-learn regression model from sklearn.linear_model with a subset of features to perform linear regression. For feature selection, write a script or function that takes as input the training data, target attribute; the model; and any other parameters you find necessary, and returns the optimal percentage of the most informative features to use. Your approach should use k-fold cross-validation on the training data (you can use k=5). You can use feature_selection.SelectPercentile to find the most informative variables. Show the list of most informative variables and their weights [Note: since this is regression not classification, you should use feature_selection.f_regression as scoring function rather than chi2). Next, plot the model's mean absolute error values  on cross-validation relative to the percentage of selected features (See scikit-learn's metrics.mean_absolute_error). In order to use cross_validation.cross_val_score with regression you'll need to pass to it scoring='mean_absolute_error' as a parameter. [Hint: for an example of a similar feature selection process please review the class example notebook. Also, review scikit-learn documentation for feature selection.]\n"
   ]
  },
  {
   "cell_type": "markdown",
   "metadata": {},
   "source": [
    "Note that when using mean absolute error, you need to calculate the absolute value to make sure you are not returning a negative value"
   ]
  },
  {
   "cell_type": "code",
   "execution_count": 28,
   "metadata": {
    "collapsed": true
   },
   "outputs": [],
   "source": [
    "from sklearn import feature_selection"
   ]
  },
  {
   "cell_type": "code",
   "execution_count": 29,
   "metadata": {
    "collapsed": true
   },
   "outputs": [],
   "source": [
    "from sklearn.linear_model import LinearRegression, Lasso, Ridge, ElasticNet, SGDRegressor"
   ]
  },
  {
   "cell_type": "code",
   "execution_count": 37,
   "metadata": {
    "collapsed": false
   },
   "outputs": [
    {
     "name": "stdout",
     "output_type": "stream",
     "text": [
      "[[ 0.19  0.33  0.02 ...,  0.26  0.2   1.  ]\n",
      " [ 0.    0.16  0.12 ...,  0.12  0.45  1.  ]\n",
      " [ 0.    0.42  0.49 ...,  0.21  0.02  1.  ]\n",
      " ..., \n",
      " [ 0.16  0.37  0.25 ...,  0.32  0.18  1.  ]\n",
      " [ 0.08  0.51  0.06 ...,  0.38  0.33  1.  ]\n",
      " [ 0.2   0.78  0.14 ...,  0.3   0.05  1.  ]]\n",
      "[[ 0.2 ]\n",
      " [ 0.67]\n",
      " [ 0.43]\n",
      " ..., \n",
      " [ 0.23]\n",
      " [ 0.19]\n",
      " [ 0.48]]\n"
     ]
    }
   ],
   "source": [
    "crime = pd.read_csv(\"community_clean.csv\")\n",
    "crimeDF = pd.DataFrame(crime)\n",
    "crimeDF = np.array(crimeDF)\n",
    "# define the data and target attribute\n",
    "# In order to do multiple regression we need to add a column of 1s for x0\n",
    "x = np.array([np.concatenate((v,[1])) for v in crimeDF])\n",
    "y = np.array(target)\n",
    "print x\n",
    "print y"
   ]
  },
  {
   "cell_type": "code",
   "execution_count": 38,
   "metadata": {
    "collapsed": true
   },
   "outputs": [],
   "source": [
    "#20/80 split:\n",
    "from sklearn.cross_validation import train_test_split, KFold\n",
    "from sklearn.cross_validation import KFold\n",
    "from sklearn import feature_selection, cross_validation\n",
    "X_train, X_test, y_train, y_test = train_test_split(x, y, test_size=0.2, random_state=33)"
   ]
  },
  {
   "cell_type": "code",
   "execution_count": 39,
   "metadata": {
    "collapsed": false
   },
   "outputs": [
    {
     "name": "stdout",
     "output_type": "stream",
     "text": [
      "(1595, 98)\n",
      "(1595, 1)\n",
      "(399, 98)\n",
      "(399, 1)\n"
     ]
    }
   ],
   "source": [
    "print X_train.shape\n",
    "print y_train.shape\n",
    "print X_test.shape\n",
    "print y_test.shape"
   ]
  },
  {
   "cell_type": "code",
   "execution_count": 40,
   "metadata": {
    "collapsed": true
   },
   "outputs": [],
   "source": [
    "#Create a pandas dataframe so we can access the column names later\n",
    "import pandas as pd\n",
    "PDX = pd.DataFrame(X_train)\n",
    "PDY = pd.DataFrame(y_train)"
   ]
  },
  {
   "cell_type": "code",
   "execution_count": 41,
   "metadata": {
    "collapsed": true
   },
   "outputs": [],
   "source": [
    "fs = feature_selection.SelectPercentile(feature_selection.f_regression,percentile=30)"
   ]
  },
  {
   "cell_type": "code",
   "execution_count": 42,
   "metadata": {
    "collapsed": false
   },
   "outputs": [
    {
     "name": "stderr",
     "output_type": "stream",
     "text": [
      "//anaconda/lib/python2.7/site-packages/sklearn/utils/validation.py:515: DataConversionWarning: A column-vector y was passed when a 1d array was expected. Please change the shape of y to (n_samples, ), for example using ravel().\n",
      "  y = column_or_1d(y, warn=True)\n"
     ]
    }
   ],
   "source": [
    "X_train_fs = fs.fit(X_train,y_train)"
   ]
  },
  {
   "cell_type": "code",
   "execution_count": 43,
   "metadata": {
    "collapsed": false
   },
   "outputs": [
    {
     "name": "stdout",
     "output_type": "stream",
     "text": [
      "[ True False  True  True False False False False False False  True False\n",
      "  True False False  True False  True False  True False False False False\n",
      " False False False  True  True  True  True False  True False False False\n",
      "  True False  True  True False  True  True  True  True False False  True\n",
      "  True False False False False False False False False False False False\n",
      " False False False False False  True  True  True False  True False  True\n",
      "  True False False  True False False False False False False False False\n",
      " False False False  True False False False False False False False False\n",
      " False False]\n"
     ]
    }
   ],
   "source": [
    "print fs.get_support()"
   ]
  },
  {
   "cell_type": "code",
   "execution_count": 44,
   "metadata": {
    "collapsed": false
   },
   "outputs": [
    {
     "name": "stdout",
     "output_type": "stream",
     "text": [
      "[  2.56032355e+02   3.49251942e+00   1.07488951e+03   1.41250781e+03\n",
      "   1.95959063e+00   1.37540432e+02   4.89480353e+00   3.73340150e+01\n",
      "   1.58750556e+01   8.24793841e+00   2.47776139e+02   1.10608958e+01\n",
      "   3.41632538e+02   1.61570751e+02   4.03442203e+01   7.56014972e+02\n",
      "   2.24863791e+01   7.84570641e+02   1.39756238e+01   3.66900422e+02\n",
      "   2.14993158e+02   6.54462345e+01   1.26577099e+02   1.23170954e+01\n",
      "   2.90692271e+01   3.33693026e+01   9.23657068e+01   4.00307857e+02\n",
      "   5.78817365e+02   3.19218108e+02   4.72196208e+02   1.73366843e+02\n",
      "   5.33913152e+02   1.90465262e+02   2.60580582e+00   7.39907499e+00\n",
      "   6.02774894e+02   1.61078423e+02   7.04772739e+02   6.93137830e+02\n",
      "   2.44680622e+01   1.65786502e+03   1.97280406e+03   1.34217361e+03\n",
      "   1.29953511e+03   1.31323115e+00   3.64964319e+01   4.31635560e+02\n",
      "   1.93612087e+03   1.51623323e+02   4.06514113e+01   7.02276361e+01\n",
      "   9.62774849e+01   1.34794362e+02   8.51961043e+01   1.01535682e+02\n",
      "   1.06973090e+02   1.16901815e+02   9.23833725e+01   1.44664005e+02\n",
      "   2.41233816e+02   1.29538473e+02   4.35186447e+00   2.83950950e+01\n",
      "   9.32948937e+01   6.30760339e+02   3.75645902e+02   4.87961681e+02\n",
      "   2.42066430e+02   3.39968618e+02   1.73739417e+02   4.78530430e+02\n",
      "   5.07636409e+02   2.69403210e-01   1.86402704e+01   5.05862653e+02\n",
      "   2.09114905e+02   7.13396400e+01   5.79766747e+01   4.64430052e+01\n",
      "   1.04028857e+02   9.57243789e+01   9.02543737e+01   9.59199563e+01\n",
      "   1.78684194e+02   6.72474988e+00   4.32303790e+00   2.65845942e+02\n",
      "   1.69534261e+02   6.19620081e+01   9.70709441e+00   4.09274519e+01\n",
      "   9.17263689e+00   7.99081695e-01   6.19805851e+01   1.42690158e+02\n",
      "   4.01207938e+01              nan]\n"
     ]
    }
   ],
   "source": [
    "print fs.scores_"
   ]
  },
  {
   "cell_type": "code",
   "execution_count": 45,
   "metadata": {
    "collapsed": false
   },
   "outputs": [
    {
     "data": {
      "text/plain": [
       "array([ 0,  1,  2,  3,  4,  5,  6,  7,  8,  9, 10, 11, 12, 13, 14, 15, 16,\n",
       "       17, 18, 19, 20, 21, 22, 23, 24, 25, 26, 27, 28, 29, 30, 31, 32, 33,\n",
       "       34, 35, 36, 37, 38, 39, 40, 41, 42, 43, 44, 45, 46, 47, 48, 49, 50,\n",
       "       51, 52, 53, 54, 55, 56, 57, 58, 59, 60, 61, 62, 63, 64, 65, 66, 67,\n",
       "       68, 69, 70, 71, 72, 73, 74, 75, 76, 77, 78, 79, 80, 81, 82, 83, 84,\n",
       "       85, 86, 87, 88, 89, 90, 91, 92, 93, 94, 95, 96, 97])"
      ]
     },
     "execution_count": 45,
     "metadata": {},
     "output_type": "execute_result"
    }
   ],
   "source": [
    "PDX.columns.values"
   ]
  },
  {
   "cell_type": "code",
   "execution_count": 46,
   "metadata": {
    "collapsed": false
   },
   "outputs": [
    {
     "name": "stdout",
     "output_type": "stream",
     "text": [
      "[ 0  2  3 10 12 15 17 19 27 28 29 30 32 36 38 39 41 42 43 44 47 48 65 66 67\n",
      " 69 71 72 75 87]\n"
     ]
    }
   ],
   "source": [
    "print PDX.columns[fs.get_support()].values   #This shows us the most import subset of features in PDX"
   ]
  },
  {
   "cell_type": "code",
   "execution_count": 47,
   "metadata": {
    "collapsed": false
   },
   "outputs": [
    {
     "name": "stdout",
     "output_type": "stream",
     "text": [
      "0 \t256.032354737\n",
      "2 \t1074.88950927\n",
      "3 \t1412.50781239\n",
      "10 \t247.776138548\n",
      "12 \t341.632537523\n",
      "15 \t756.014972331\n",
      "17 \t784.570640809\n",
      "19 \t366.900421844\n",
      "27 \t400.307856891\n",
      "28 \t578.817365214\n",
      "29 \t319.218108102\n",
      "30 \t472.196207869\n",
      "32 \t533.913152199\n",
      "36 \t602.774893582\n",
      "38 \t704.772739005\n",
      "39 \t693.137830382\n",
      "41 \t1657.865017\n",
      "42 \t1972.80406387\n",
      "43 \t1342.17361379\n",
      "44 \t1299.53510584\n",
      "47 \t431.635560269\n",
      "48 \t1936.12087378\n",
      "65 \t630.760339374\n",
      "66 \t375.645901876\n",
      "67 \t487.961680842\n",
      "69 \t339.968618162\n",
      "71 \t478.530429718\n",
      "72 \t507.636408542\n",
      "75 \t505.862652747\n",
      "87 \t265.845941875\n"
     ]
    }
   ],
   "source": [
    "for i in range(len(PDX.columns.values)):\n",
    "    if fs.get_support()[i]:\n",
    "        print PDX.columns.values[i],'\\t',fs.scores_[i]"
   ]
  },
  {
   "cell_type": "code",
   "execution_count": 48,
   "metadata": {
    "collapsed": true
   },
   "outputs": [],
   "source": [
    "linreg = LinearRegression()"
   ]
  },
  {
   "cell_type": "code",
   "execution_count": 49,
   "metadata": {
    "collapsed": true
   },
   "outputs": [],
   "source": [
    "\n",
    "def optimus_PCT(X_train,y_train,percentiles,k,model):\n",
    "    \n",
    "    PDX = pd.DataFrame(X_train)\n",
    "    \n",
    "    results = []\n",
    "    \n",
    "    for i in percentiles:\n",
    "        fs = feature_selection.SelectPercentile(feature_selection.f_regression,percentile=i)\n",
    "        X_train_fs = fs.fit(X_train,y_train)\n",
    "        scores = cross_validation.cross_val_score(model,X_train_fs,y_train,scoring='mean_absolute_error',cv=k)\n",
    "        print i,scores.mean()\n",
    "        results = np.append(results,scores.mean())\n",
    "    \n",
    "    optimal_percentile = np.where(results == results.max())[0]\n",
    "    print \"Optimal percentile of features:{0}\".format(percentiles[optimal_percentile]),\"\\n\"\n",
    "    optimal_number_of_features = int(floor(percentiles[optimal_percentile]*len(PDX.columns)/100))\n",
    "    print \"Optimal number of features:{0}\".format(optimal_num_features),\"\\n\"\n",
    "    \n",
    "    #Plotting the model's mean absolute error values on \n",
    "    #cross-validation relative to the percentage of selected features\n",
    "    \n",
    "    pl.figure()\n",
    "    pl.xlabel(\"Percentage of features selected\")\n",
    "    pl.ylabel(\"Cross validation accuracy\")\n",
    "    pl.plot(percentiles, results)\n",
    "    "
   ]
  },
  {
   "cell_type": "code",
   "execution_count": 53,
   "metadata": {
    "collapsed": false
   },
   "outputs": [],
   "source": [
    "new_y_train = np.ravel(y_train.T[0])\n",
    "new_y_train = new_y_train.astype(int)"
   ]
  },
  {
   "cell_type": "code",
   "execution_count": 54,
   "metadata": {
    "collapsed": false
   },
   "outputs": [
    {
     "ename": "TypeError",
     "evalue": "Singleton array array(SelectPercentile(percentile=1,\n         score_func=<function f_regression at 0x11546aed8>), dtype=object) cannot be considered a valid collection.",
     "output_type": "error",
     "traceback": [
      "\u001b[0;31m---------------------------------------------------------------------------\u001b[0m",
      "\u001b[0;31mTypeError\u001b[0m                                 Traceback (most recent call last)",
      "\u001b[0;32m<ipython-input-54-b5d5dc3d93eb>\u001b[0m in \u001b[0;36m<module>\u001b[0;34m()\u001b[0m\n\u001b[0;32m----> 1\u001b[0;31m \u001b[0moptimus_PCT\u001b[0m\u001b[0;34m(\u001b[0m\u001b[0mX_train\u001b[0m\u001b[0;34m,\u001b[0m\u001b[0mnew_y_train\u001b[0m\u001b[0;34m,\u001b[0m\u001b[0mrange\u001b[0m\u001b[0;34m(\u001b[0m\u001b[0;36m1\u001b[0m\u001b[0;34m,\u001b[0m\u001b[0;36m100\u001b[0m\u001b[0;34m,\u001b[0m\u001b[0;36m5\u001b[0m\u001b[0;34m)\u001b[0m\u001b[0;34m,\u001b[0m\u001b[0;36m5\u001b[0m\u001b[0;34m,\u001b[0m\u001b[0mlinreg\u001b[0m\u001b[0;34m)\u001b[0m\u001b[0;34m\u001b[0m\u001b[0m\n\u001b[0m",
      "\u001b[0;32m<ipython-input-49-63899598f9e0>\u001b[0m in \u001b[0;36moptimus_PCT\u001b[0;34m(X_train, y_train, percentiles, k, model)\u001b[0m\n\u001b[1;32m      9\u001b[0m         \u001b[0mfs\u001b[0m \u001b[0;34m=\u001b[0m \u001b[0mfeature_selection\u001b[0m\u001b[0;34m.\u001b[0m\u001b[0mSelectPercentile\u001b[0m\u001b[0;34m(\u001b[0m\u001b[0mfeature_selection\u001b[0m\u001b[0;34m.\u001b[0m\u001b[0mf_regression\u001b[0m\u001b[0;34m,\u001b[0m\u001b[0mpercentile\u001b[0m\u001b[0;34m=\u001b[0m\u001b[0mi\u001b[0m\u001b[0;34m)\u001b[0m\u001b[0;34m\u001b[0m\u001b[0m\n\u001b[1;32m     10\u001b[0m         \u001b[0mX_train_fs\u001b[0m \u001b[0;34m=\u001b[0m \u001b[0mfs\u001b[0m\u001b[0;34m.\u001b[0m\u001b[0mfit\u001b[0m\u001b[0;34m(\u001b[0m\u001b[0mX_train\u001b[0m\u001b[0;34m,\u001b[0m\u001b[0my_train\u001b[0m\u001b[0;34m)\u001b[0m\u001b[0;34m\u001b[0m\u001b[0m\n\u001b[0;32m---> 11\u001b[0;31m         \u001b[0mscores\u001b[0m \u001b[0;34m=\u001b[0m \u001b[0mcross_validation\u001b[0m\u001b[0;34m.\u001b[0m\u001b[0mcross_val_score\u001b[0m\u001b[0;34m(\u001b[0m\u001b[0mmodel\u001b[0m\u001b[0;34m,\u001b[0m\u001b[0mX_train_fs\u001b[0m\u001b[0;34m,\u001b[0m\u001b[0my_train\u001b[0m\u001b[0;34m,\u001b[0m\u001b[0mscoring\u001b[0m\u001b[0;34m=\u001b[0m\u001b[0;34m'mean_absolute_error'\u001b[0m\u001b[0;34m,\u001b[0m\u001b[0mcv\u001b[0m\u001b[0;34m=\u001b[0m\u001b[0mk\u001b[0m\u001b[0;34m)\u001b[0m\u001b[0;34m\u001b[0m\u001b[0m\n\u001b[0m\u001b[1;32m     12\u001b[0m         \u001b[0;32mprint\u001b[0m \u001b[0mi\u001b[0m\u001b[0;34m,\u001b[0m\u001b[0mscores\u001b[0m\u001b[0;34m.\u001b[0m\u001b[0mmean\u001b[0m\u001b[0;34m(\u001b[0m\u001b[0;34m)\u001b[0m\u001b[0;34m\u001b[0m\u001b[0m\n\u001b[1;32m     13\u001b[0m         \u001b[0mresults\u001b[0m \u001b[0;34m=\u001b[0m \u001b[0mnp\u001b[0m\u001b[0;34m.\u001b[0m\u001b[0mappend\u001b[0m\u001b[0;34m(\u001b[0m\u001b[0mresults\u001b[0m\u001b[0;34m,\u001b[0m\u001b[0mscores\u001b[0m\u001b[0;34m.\u001b[0m\u001b[0mmean\u001b[0m\u001b[0;34m(\u001b[0m\u001b[0;34m)\u001b[0m\u001b[0;34m)\u001b[0m\u001b[0;34m\u001b[0m\u001b[0m\n",
      "\u001b[0;32m//anaconda/lib/python2.7/site-packages/sklearn/cross_validation.pyc\u001b[0m in \u001b[0;36mcross_val_score\u001b[0;34m(estimator, X, y, scoring, cv, n_jobs, verbose, fit_params, pre_dispatch)\u001b[0m\n\u001b[1;32m   1420\u001b[0m         \u001b[0mArray\u001b[0m \u001b[0mof\u001b[0m \u001b[0mscores\u001b[0m \u001b[0mof\u001b[0m \u001b[0mthe\u001b[0m \u001b[0mestimator\u001b[0m \u001b[0;32mfor\u001b[0m \u001b[0meach\u001b[0m \u001b[0mrun\u001b[0m \u001b[0mof\u001b[0m \u001b[0mthe\u001b[0m \u001b[0mcross\u001b[0m \u001b[0mvalidation\u001b[0m\u001b[0;34m.\u001b[0m\u001b[0;34m\u001b[0m\u001b[0m\n\u001b[1;32m   1421\u001b[0m     \"\"\"\n\u001b[0;32m-> 1422\u001b[0;31m     \u001b[0mX\u001b[0m\u001b[0;34m,\u001b[0m \u001b[0my\u001b[0m \u001b[0;34m=\u001b[0m \u001b[0mindexable\u001b[0m\u001b[0;34m(\u001b[0m\u001b[0mX\u001b[0m\u001b[0;34m,\u001b[0m \u001b[0my\u001b[0m\u001b[0;34m)\u001b[0m\u001b[0;34m\u001b[0m\u001b[0m\n\u001b[0m\u001b[1;32m   1423\u001b[0m \u001b[0;34m\u001b[0m\u001b[0m\n\u001b[1;32m   1424\u001b[0m     \u001b[0mcv\u001b[0m \u001b[0;34m=\u001b[0m \u001b[0mcheck_cv\u001b[0m\u001b[0;34m(\u001b[0m\u001b[0mcv\u001b[0m\u001b[0;34m,\u001b[0m \u001b[0mX\u001b[0m\u001b[0;34m,\u001b[0m \u001b[0my\u001b[0m\u001b[0;34m,\u001b[0m \u001b[0mclassifier\u001b[0m\u001b[0;34m=\u001b[0m\u001b[0mis_classifier\u001b[0m\u001b[0;34m(\u001b[0m\u001b[0mestimator\u001b[0m\u001b[0;34m)\u001b[0m\u001b[0;34m)\u001b[0m\u001b[0;34m\u001b[0m\u001b[0m\n",
      "\u001b[0;32m//anaconda/lib/python2.7/site-packages/sklearn/utils/validation.pyc\u001b[0m in \u001b[0;36mindexable\u001b[0;34m(*iterables)\u001b[0m\n\u001b[1;32m    199\u001b[0m         \u001b[0;32melse\u001b[0m\u001b[0;34m:\u001b[0m\u001b[0;34m\u001b[0m\u001b[0m\n\u001b[1;32m    200\u001b[0m             \u001b[0mresult\u001b[0m\u001b[0;34m.\u001b[0m\u001b[0mappend\u001b[0m\u001b[0;34m(\u001b[0m\u001b[0mnp\u001b[0m\u001b[0;34m.\u001b[0m\u001b[0marray\u001b[0m\u001b[0;34m(\u001b[0m\u001b[0mX\u001b[0m\u001b[0;34m)\u001b[0m\u001b[0;34m)\u001b[0m\u001b[0;34m\u001b[0m\u001b[0m\n\u001b[0;32m--> 201\u001b[0;31m     \u001b[0mcheck_consistent_length\u001b[0m\u001b[0;34m(\u001b[0m\u001b[0;34m*\u001b[0m\u001b[0mresult\u001b[0m\u001b[0;34m)\u001b[0m\u001b[0;34m\u001b[0m\u001b[0m\n\u001b[0m\u001b[1;32m    202\u001b[0m     \u001b[0;32mreturn\u001b[0m \u001b[0mresult\u001b[0m\u001b[0;34m\u001b[0m\u001b[0m\n\u001b[1;32m    203\u001b[0m \u001b[0;34m\u001b[0m\u001b[0m\n",
      "\u001b[0;32m//anaconda/lib/python2.7/site-packages/sklearn/utils/validation.pyc\u001b[0m in \u001b[0;36mcheck_consistent_length\u001b[0;34m(*arrays)\u001b[0m\n\u001b[1;32m    171\u001b[0m     \"\"\"\n\u001b[1;32m    172\u001b[0m \u001b[0;34m\u001b[0m\u001b[0m\n\u001b[0;32m--> 173\u001b[0;31m     \u001b[0muniques\u001b[0m \u001b[0;34m=\u001b[0m \u001b[0mnp\u001b[0m\u001b[0;34m.\u001b[0m\u001b[0munique\u001b[0m\u001b[0;34m(\u001b[0m\u001b[0;34m[\u001b[0m\u001b[0m_num_samples\u001b[0m\u001b[0;34m(\u001b[0m\u001b[0mX\u001b[0m\u001b[0;34m)\u001b[0m \u001b[0;32mfor\u001b[0m \u001b[0mX\u001b[0m \u001b[0;32min\u001b[0m \u001b[0marrays\u001b[0m \u001b[0;32mif\u001b[0m \u001b[0mX\u001b[0m \u001b[0;32mis\u001b[0m \u001b[0;32mnot\u001b[0m \u001b[0mNone\u001b[0m\u001b[0;34m]\u001b[0m\u001b[0;34m)\u001b[0m\u001b[0;34m\u001b[0m\u001b[0m\n\u001b[0m\u001b[1;32m    174\u001b[0m     \u001b[0;32mif\u001b[0m \u001b[0mlen\u001b[0m\u001b[0;34m(\u001b[0m\u001b[0muniques\u001b[0m\u001b[0;34m)\u001b[0m \u001b[0;34m>\u001b[0m \u001b[0;36m1\u001b[0m\u001b[0;34m:\u001b[0m\u001b[0;34m\u001b[0m\u001b[0m\n\u001b[1;32m    175\u001b[0m         raise ValueError(\"Found arrays with inconsistent numbers of samples: \"\n",
      "\u001b[0;32m//anaconda/lib/python2.7/site-packages/sklearn/utils/validation.pyc\u001b[0m in \u001b[0;36m_num_samples\u001b[0;34m(x)\u001b[0m\n\u001b[1;32m    120\u001b[0m         \u001b[0;32mif\u001b[0m \u001b[0mlen\u001b[0m\u001b[0;34m(\u001b[0m\u001b[0mx\u001b[0m\u001b[0;34m.\u001b[0m\u001b[0mshape\u001b[0m\u001b[0;34m)\u001b[0m \u001b[0;34m==\u001b[0m \u001b[0;36m0\u001b[0m\u001b[0;34m:\u001b[0m\u001b[0;34m\u001b[0m\u001b[0m\n\u001b[1;32m    121\u001b[0m             raise TypeError(\"Singleton array %r cannot be considered\"\n\u001b[0;32m--> 122\u001b[0;31m                             \" a valid collection.\" % x)\n\u001b[0m\u001b[1;32m    123\u001b[0m         \u001b[0;32mreturn\u001b[0m \u001b[0mx\u001b[0m\u001b[0;34m.\u001b[0m\u001b[0mshape\u001b[0m\u001b[0;34m[\u001b[0m\u001b[0;36m0\u001b[0m\u001b[0;34m]\u001b[0m\u001b[0;34m\u001b[0m\u001b[0m\n\u001b[1;32m    124\u001b[0m     \u001b[0;32melse\u001b[0m\u001b[0;34m:\u001b[0m\u001b[0;34m\u001b[0m\u001b[0m\n",
      "\u001b[0;31mTypeError\u001b[0m: Singleton array array(SelectPercentile(percentile=1,\n         score_func=<function f_regression at 0x11546aed8>), dtype=object) cannot be considered a valid collection."
     ]
    }
   ],
   "source": [
    "optimus_PCT(X_train,new_y_train,range(1,100,5),5,linreg)"
   ]
  },
  {
   "cell_type": "code",
   "execution_count": null,
   "metadata": {
    "collapsed": true
   },
   "outputs": [],
   "source": []
  },
  {
   "cell_type": "code",
   "execution_count": null,
   "metadata": {
    "collapsed": true
   },
   "outputs": [],
   "source": []
  },
  {
   "cell_type": "code",
   "execution_count": null,
   "metadata": {
    "collapsed": true
   },
   "outputs": [],
   "source": []
  },
  {
   "cell_type": "code",
   "execution_count": null,
   "metadata": {
    "collapsed": true
   },
   "outputs": [],
   "source": []
  },
  {
   "cell_type": "code",
   "execution_count": null,
   "metadata": {
    "collapsed": true
   },
   "outputs": [],
   "source": []
  },
  {
   "cell_type": "code",
   "execution_count": null,
   "metadata": {
    "collapsed": true
   },
   "outputs": [],
   "source": []
  },
  {
   "cell_type": "code",
   "execution_count": null,
   "metadata": {
    "collapsed": true
   },
   "outputs": [],
   "source": []
  },
  {
   "cell_type": "code",
   "execution_count": null,
   "metadata": {
    "collapsed": true
   },
   "outputs": [],
   "source": []
  },
  {
   "cell_type": "code",
   "execution_count": null,
   "metadata": {
    "collapsed": true
   },
   "outputs": [],
   "source": []
  },
  {
   "cell_type": "code",
   "execution_count": null,
   "metadata": {
    "collapsed": true
   },
   "outputs": [],
   "source": []
  },
  {
   "cell_type": "code",
   "execution_count": null,
   "metadata": {
    "collapsed": true
   },
   "outputs": [],
   "source": []
  },
  {
   "cell_type": "code",
   "execution_count": null,
   "metadata": {
    "collapsed": true
   },
   "outputs": [],
   "source": []
  },
  {
   "cell_type": "code",
   "execution_count": null,
   "metadata": {
    "collapsed": true
   },
   "outputs": [],
   "source": []
  },
  {
   "cell_type": "markdown",
   "metadata": {},
   "source": [
    "# 1c feature selection, with boston data\n",
    "\n",
    "# This is using boston dataset because there was an error with the communities dataset. I have since fixed the error in communities die to the missing values but I have not had time to replace the code below.\n",
    "\n"
   ]
  },
  {
   "cell_type": "code",
   "execution_count": 55,
   "metadata": {
    "collapsed": true
   },
   "outputs": [],
   "source": [
    "from sklearn.datasets import load_boston      \n",
    "boston = load_boston()\n",
    "# In order to do multiple regression we need to add a column of 1s for x0\n",
    "x = np.array([np.concatenate((v,[1])) for v in boston.data])\n",
    "y = boston.target\n",
    "\n",
    "#Creating 80% train and 20% test splits\n",
    "#20/80 split:\n",
    "from sklearn.cross_validation import train_test_split\n",
    "X_train, X_test, y_train, y_test = train_test_split(x, y, test_size=0.2, random_state=33)"
   ]
  },
  {
   "cell_type": "code",
   "execution_count": 56,
   "metadata": {
    "collapsed": false
   },
   "outputs": [],
   "source": [
    "#Create a pandas dataframe so we can access the column names later\n",
    "import pandas as pd\n",
    "PDX = pd.DataFrame(X_train)\n",
    "PDY = pd.DataFrame(y_train)"
   ]
  },
  {
   "cell_type": "code",
   "execution_count": 57,
   "metadata": {
    "collapsed": false
   },
   "outputs": [
    {
     "data": {
      "text/html": [
       "<div>\n",
       "<table border=\"1\" class=\"dataframe\">\n",
       "  <thead>\n",
       "    <tr style=\"text-align: right;\">\n",
       "      <th></th>\n",
       "      <th>0</th>\n",
       "      <th>1</th>\n",
       "      <th>2</th>\n",
       "      <th>3</th>\n",
       "      <th>4</th>\n",
       "      <th>5</th>\n",
       "      <th>6</th>\n",
       "      <th>7</th>\n",
       "      <th>8</th>\n",
       "      <th>9</th>\n",
       "      <th>10</th>\n",
       "      <th>11</th>\n",
       "      <th>12</th>\n",
       "      <th>13</th>\n",
       "    </tr>\n",
       "  </thead>\n",
       "  <tbody>\n",
       "    <tr>\n",
       "      <th>0</th>\n",
       "      <td>0.44178</td>\n",
       "      <td>0.0</td>\n",
       "      <td>6.20</td>\n",
       "      <td>0.0</td>\n",
       "      <td>0.504</td>\n",
       "      <td>6.552</td>\n",
       "      <td>21.4</td>\n",
       "      <td>3.3751</td>\n",
       "      <td>8.0</td>\n",
       "      <td>307.0</td>\n",
       "      <td>17.4</td>\n",
       "      <td>380.34</td>\n",
       "      <td>3.76</td>\n",
       "      <td>1.0</td>\n",
       "    </tr>\n",
       "    <tr>\n",
       "      <th>1</th>\n",
       "      <td>0.05372</td>\n",
       "      <td>0.0</td>\n",
       "      <td>13.92</td>\n",
       "      <td>0.0</td>\n",
       "      <td>0.437</td>\n",
       "      <td>6.549</td>\n",
       "      <td>51.0</td>\n",
       "      <td>5.9604</td>\n",
       "      <td>4.0</td>\n",
       "      <td>289.0</td>\n",
       "      <td>16.0</td>\n",
       "      <td>392.85</td>\n",
       "      <td>7.39</td>\n",
       "      <td>1.0</td>\n",
       "    </tr>\n",
       "  </tbody>\n",
       "</table>\n",
       "</div>"
      ],
      "text/plain": [
       "        0    1      2    3      4      5     6       7    8      9     10  \\\n",
       "0  0.44178  0.0   6.20  0.0  0.504  6.552  21.4  3.3751  8.0  307.0  17.4   \n",
       "1  0.05372  0.0  13.92  0.0  0.437  6.549  51.0  5.9604  4.0  289.0  16.0   \n",
       "\n",
       "       11    12   13  \n",
       "0  380.34  3.76  1.0  \n",
       "1  392.85  7.39  1.0  "
      ]
     },
     "execution_count": 57,
     "metadata": {},
     "output_type": "execute_result"
    }
   ],
   "source": [
    "PDX.head(2)"
   ]
  },
  {
   "cell_type": "code",
   "execution_count": 58,
   "metadata": {
    "collapsed": false
   },
   "outputs": [
    {
     "data": {
      "text/html": [
       "<div>\n",
       "<table border=\"1\" class=\"dataframe\">\n",
       "  <thead>\n",
       "    <tr style=\"text-align: right;\">\n",
       "      <th></th>\n",
       "      <th>0</th>\n",
       "    </tr>\n",
       "  </thead>\n",
       "  <tbody>\n",
       "    <tr>\n",
       "      <th>0</th>\n",
       "      <td>31.5</td>\n",
       "    </tr>\n",
       "    <tr>\n",
       "      <th>1</th>\n",
       "      <td>27.1</td>\n",
       "    </tr>\n",
       "    <tr>\n",
       "      <th>2</th>\n",
       "      <td>8.3</td>\n",
       "    </tr>\n",
       "    <tr>\n",
       "      <th>3</th>\n",
       "      <td>13.6</td>\n",
       "    </tr>\n",
       "  </tbody>\n",
       "</table>\n",
       "</div>"
      ],
      "text/plain": [
       "      0\n",
       "0  31.5\n",
       "1  27.1\n",
       "2   8.3\n",
       "3  13.6"
      ]
     },
     "execution_count": 58,
     "metadata": {},
     "output_type": "execute_result"
    }
   ],
   "source": [
    "PDY.head(4)"
   ]
  },
  {
   "cell_type": "markdown",
   "metadata": {
    "collapsed": true
   },
   "source": [
    "# 1c\n",
    "For feature selection, write a script or function that takes as input the training data, target attribute,the model,and any other parameters you find necessary, and returns the optimal percentage of the most informative features to use. Your approach should use k-fold cross validation (you can use k=5). You can use feature_selection.SelectPercentile to find the most informative variables and their weights.\n",
    "\n",
    "Note: since this is regression, not classification, you should use feature_selection.f_regression as the scoring function rather than chi2"
   ]
  },
  {
   "cell_type": "code",
   "execution_count": 59,
   "metadata": {
    "collapsed": true
   },
   "outputs": [],
   "source": [
    "from sklearn import feature_selection, cross_validation"
   ]
  },
  {
   "cell_type": "code",
   "execution_count": 60,
   "metadata": {
    "collapsed": true
   },
   "outputs": [],
   "source": [
    "fs = feature_selection.SelectPercentile(feature_selection.f_regression,percentile=30)"
   ]
  },
  {
   "cell_type": "code",
   "execution_count": 61,
   "metadata": {
    "collapsed": true
   },
   "outputs": [],
   "source": [
    "X_train_fs = fs.fit(X_train,y_train)"
   ]
  },
  {
   "cell_type": "code",
   "execution_count": 62,
   "metadata": {
    "collapsed": false
   },
   "outputs": [
    {
     "name": "stdout",
     "output_type": "stream",
     "text": [
      "[False False  True False False  True False False False False  True False\n",
      "  True False]\n"
     ]
    }
   ],
   "source": [
    "print fs.get_support()"
   ]
  },
  {
   "cell_type": "code",
   "execution_count": 63,
   "metadata": {
    "collapsed": false
   },
   "outputs": [
    {
     "name": "stdout",
     "output_type": "stream",
     "text": [
      "[  59.78190161   48.78169908  111.89434054    8.26785431   72.96366952\n",
      "  385.40551953   53.4814097    18.63075226   49.4664602    97.01135422\n",
      "  131.04178447   46.10694297  478.72258955           nan]\n"
     ]
    }
   ],
   "source": [
    "print fs.scores_"
   ]
  },
  {
   "cell_type": "code",
   "execution_count": 64,
   "metadata": {
    "collapsed": false
   },
   "outputs": [
    {
     "data": {
      "text/plain": [
       "array([ 0,  1,  2,  3,  4,  5,  6,  7,  8,  9, 10, 11, 12, 13])"
      ]
     },
     "execution_count": 64,
     "metadata": {},
     "output_type": "execute_result"
    }
   ],
   "source": [
    "PDX.columns.values"
   ]
  },
  {
   "cell_type": "code",
   "execution_count": 65,
   "metadata": {
    "collapsed": false
   },
   "outputs": [
    {
     "name": "stdout",
     "output_type": "stream",
     "text": [
      "[ 2  5 10 12]\n"
     ]
    }
   ],
   "source": [
    "print PDX.columns[fs.get_support()].values   #This shows us the most import subset of features in PDX"
   ]
  },
  {
   "cell_type": "code",
   "execution_count": 67,
   "metadata": {
    "collapsed": false
   },
   "outputs": [
    {
     "name": "stdout",
     "output_type": "stream",
     "text": [
      "2 \t111.894340538\n",
      "5 \t385.405519526\n",
      "10 \t131.041784473\n",
      "12 \t478.722589553\n"
     ]
    }
   ],
   "source": [
    "for i in range(len(PDX.columns.values)):\n",
    "    if fs.get_support()[i]:\n",
    "        print PDX.columns.values[i],'\\t',fs.scores_[i]"
   ]
  },
  {
   "cell_type": "code",
   "execution_count": 68,
   "metadata": {
    "collapsed": true
   },
   "outputs": [],
   "source": [
    "import pandas as pd\n",
    "import pylab as pl\n",
    "from sklearn.linear_model import LinearRegression\n",
    "linreg = LinearRegression()"
   ]
  },
  {
   "cell_type": "code",
   "execution_count": 69,
   "metadata": {
    "collapsed": true
   },
   "outputs": [],
   "source": [
    "\n",
    "def optimus_PCT(X_train,y_train,percentiles,k,model):\n",
    "    \n",
    "    PDX = pd.DataFrame(X_train)\n",
    "    \n",
    "    results = []\n",
    "    \n",
    "    for i in percentiles:\n",
    "        fs = feature_selection.SelectPercentile(feature_selection.f_regression,percentile=i)\n",
    "        X_train_fs = fs.fit(X_train,y_train)\n",
    "        scores = cross_validation.cross_val_score(model,X_train_fs,y_train,scoring='mean_absolute_error',cv=k)\n",
    "        print i,scores.mean()\n",
    "        results = np.append(results,scores.mean())\n",
    "    \n",
    "    optimal_percentile = np.where(results == results.max())[0]\n",
    "    print \"Optimal percentile of features:{0}\".format(percentiles[optimal_percentile]),\"\\n\"\n",
    "    optimal_number_of_features = int(floor(percentiles[optimal_percentile]*len(PDX.columns)/100))\n",
    "    print \"Optimal number of features:{0}\".format(optimal_num_features),\"\\n\"\n",
    "    \n",
    "    #Plotting the model's mean absolute error values on \n",
    "    #cross-validation relative to the percentage of selected features\n",
    "    \n",
    "    pl.figure()\n",
    "    pl.xlabel(\"Percentage of features selected\")\n",
    "    pl.ylabel(\"Cross validation accuracy\")\n",
    "    pl.plot(percentiles, results)\n",
    "    \n",
    "     "
   ]
  },
  {
   "cell_type": "code",
   "execution_count": 72,
   "metadata": {
    "collapsed": false
   },
   "outputs": [
    {
     "ename": "TypeError",
     "evalue": "Singleton array array(SelectPercentile(percentile=1,\n         score_func=<function f_regression at 0x11546aed8>), dtype=object) cannot be considered a valid collection.",
     "output_type": "error",
     "traceback": [
      "\u001b[0;31m---------------------------------------------------------------------------\u001b[0m",
      "\u001b[0;31mTypeError\u001b[0m                                 Traceback (most recent call last)",
      "\u001b[0;32m<ipython-input-72-d16c0bdf06d8>\u001b[0m in \u001b[0;36m<module>\u001b[0;34m()\u001b[0m\n\u001b[0;32m----> 1\u001b[0;31m \u001b[0moptimus_PCT\u001b[0m\u001b[0;34m(\u001b[0m\u001b[0mX_train\u001b[0m\u001b[0;34m,\u001b[0m\u001b[0my_train\u001b[0m\u001b[0;34m,\u001b[0m\u001b[0mrange\u001b[0m\u001b[0;34m(\u001b[0m\u001b[0;36m1\u001b[0m\u001b[0;34m,\u001b[0m\u001b[0;36m100\u001b[0m\u001b[0;34m,\u001b[0m\u001b[0;36m5\u001b[0m\u001b[0;34m)\u001b[0m\u001b[0;34m,\u001b[0m\u001b[0;36m5\u001b[0m\u001b[0;34m,\u001b[0m\u001b[0mlinreg\u001b[0m\u001b[0;34m)\u001b[0m\u001b[0;34m\u001b[0m\u001b[0m\n\u001b[0m",
      "\u001b[0;32m<ipython-input-69-e2f6aea6d12e>\u001b[0m in \u001b[0;36moptimus_PCT\u001b[0;34m(X_train, y_train, percentiles, k, model)\u001b[0m\n\u001b[1;32m      9\u001b[0m         \u001b[0mfs\u001b[0m \u001b[0;34m=\u001b[0m \u001b[0mfeature_selection\u001b[0m\u001b[0;34m.\u001b[0m\u001b[0mSelectPercentile\u001b[0m\u001b[0;34m(\u001b[0m\u001b[0mfeature_selection\u001b[0m\u001b[0;34m.\u001b[0m\u001b[0mf_regression\u001b[0m\u001b[0;34m,\u001b[0m\u001b[0mpercentile\u001b[0m\u001b[0;34m=\u001b[0m\u001b[0mi\u001b[0m\u001b[0;34m)\u001b[0m\u001b[0;34m\u001b[0m\u001b[0m\n\u001b[1;32m     10\u001b[0m         \u001b[0mX_train_fs\u001b[0m \u001b[0;34m=\u001b[0m \u001b[0mfs\u001b[0m\u001b[0;34m.\u001b[0m\u001b[0mfit\u001b[0m\u001b[0;34m(\u001b[0m\u001b[0mX_train\u001b[0m\u001b[0;34m,\u001b[0m\u001b[0my_train\u001b[0m\u001b[0;34m)\u001b[0m\u001b[0;34m\u001b[0m\u001b[0m\n\u001b[0;32m---> 11\u001b[0;31m         \u001b[0mscores\u001b[0m \u001b[0;34m=\u001b[0m \u001b[0mcross_validation\u001b[0m\u001b[0;34m.\u001b[0m\u001b[0mcross_val_score\u001b[0m\u001b[0;34m(\u001b[0m\u001b[0mmodel\u001b[0m\u001b[0;34m,\u001b[0m\u001b[0mX_train_fs\u001b[0m\u001b[0;34m,\u001b[0m\u001b[0my_train\u001b[0m\u001b[0;34m,\u001b[0m\u001b[0mscoring\u001b[0m\u001b[0;34m=\u001b[0m\u001b[0;34m'mean_absolute_error'\u001b[0m\u001b[0;34m,\u001b[0m\u001b[0mcv\u001b[0m\u001b[0;34m=\u001b[0m\u001b[0mk\u001b[0m\u001b[0;34m)\u001b[0m\u001b[0;34m\u001b[0m\u001b[0m\n\u001b[0m\u001b[1;32m     12\u001b[0m         \u001b[0;32mprint\u001b[0m \u001b[0mi\u001b[0m\u001b[0;34m,\u001b[0m\u001b[0mscores\u001b[0m\u001b[0;34m.\u001b[0m\u001b[0mmean\u001b[0m\u001b[0;34m(\u001b[0m\u001b[0;34m)\u001b[0m\u001b[0;34m\u001b[0m\u001b[0m\n\u001b[1;32m     13\u001b[0m         \u001b[0mresults\u001b[0m \u001b[0;34m=\u001b[0m \u001b[0mnp\u001b[0m\u001b[0;34m.\u001b[0m\u001b[0mappend\u001b[0m\u001b[0;34m(\u001b[0m\u001b[0mresults\u001b[0m\u001b[0;34m,\u001b[0m\u001b[0mscores\u001b[0m\u001b[0;34m.\u001b[0m\u001b[0mmean\u001b[0m\u001b[0;34m(\u001b[0m\u001b[0;34m)\u001b[0m\u001b[0;34m)\u001b[0m\u001b[0;34m\u001b[0m\u001b[0m\n",
      "\u001b[0;32m//anaconda/lib/python2.7/site-packages/sklearn/cross_validation.pyc\u001b[0m in \u001b[0;36mcross_val_score\u001b[0;34m(estimator, X, y, scoring, cv, n_jobs, verbose, fit_params, pre_dispatch)\u001b[0m\n\u001b[1;32m   1420\u001b[0m         \u001b[0mArray\u001b[0m \u001b[0mof\u001b[0m \u001b[0mscores\u001b[0m \u001b[0mof\u001b[0m \u001b[0mthe\u001b[0m \u001b[0mestimator\u001b[0m \u001b[0;32mfor\u001b[0m \u001b[0meach\u001b[0m \u001b[0mrun\u001b[0m \u001b[0mof\u001b[0m \u001b[0mthe\u001b[0m \u001b[0mcross\u001b[0m \u001b[0mvalidation\u001b[0m\u001b[0;34m.\u001b[0m\u001b[0;34m\u001b[0m\u001b[0m\n\u001b[1;32m   1421\u001b[0m     \"\"\"\n\u001b[0;32m-> 1422\u001b[0;31m     \u001b[0mX\u001b[0m\u001b[0;34m,\u001b[0m \u001b[0my\u001b[0m \u001b[0;34m=\u001b[0m \u001b[0mindexable\u001b[0m\u001b[0;34m(\u001b[0m\u001b[0mX\u001b[0m\u001b[0;34m,\u001b[0m \u001b[0my\u001b[0m\u001b[0;34m)\u001b[0m\u001b[0;34m\u001b[0m\u001b[0m\n\u001b[0m\u001b[1;32m   1423\u001b[0m \u001b[0;34m\u001b[0m\u001b[0m\n\u001b[1;32m   1424\u001b[0m     \u001b[0mcv\u001b[0m \u001b[0;34m=\u001b[0m \u001b[0mcheck_cv\u001b[0m\u001b[0;34m(\u001b[0m\u001b[0mcv\u001b[0m\u001b[0;34m,\u001b[0m \u001b[0mX\u001b[0m\u001b[0;34m,\u001b[0m \u001b[0my\u001b[0m\u001b[0;34m,\u001b[0m \u001b[0mclassifier\u001b[0m\u001b[0;34m=\u001b[0m\u001b[0mis_classifier\u001b[0m\u001b[0;34m(\u001b[0m\u001b[0mestimator\u001b[0m\u001b[0;34m)\u001b[0m\u001b[0;34m)\u001b[0m\u001b[0;34m\u001b[0m\u001b[0m\n",
      "\u001b[0;32m//anaconda/lib/python2.7/site-packages/sklearn/utils/validation.pyc\u001b[0m in \u001b[0;36mindexable\u001b[0;34m(*iterables)\u001b[0m\n\u001b[1;32m    199\u001b[0m         \u001b[0;32melse\u001b[0m\u001b[0;34m:\u001b[0m\u001b[0;34m\u001b[0m\u001b[0m\n\u001b[1;32m    200\u001b[0m             \u001b[0mresult\u001b[0m\u001b[0;34m.\u001b[0m\u001b[0mappend\u001b[0m\u001b[0;34m(\u001b[0m\u001b[0mnp\u001b[0m\u001b[0;34m.\u001b[0m\u001b[0marray\u001b[0m\u001b[0;34m(\u001b[0m\u001b[0mX\u001b[0m\u001b[0;34m)\u001b[0m\u001b[0;34m)\u001b[0m\u001b[0;34m\u001b[0m\u001b[0m\n\u001b[0;32m--> 201\u001b[0;31m     \u001b[0mcheck_consistent_length\u001b[0m\u001b[0;34m(\u001b[0m\u001b[0;34m*\u001b[0m\u001b[0mresult\u001b[0m\u001b[0;34m)\u001b[0m\u001b[0;34m\u001b[0m\u001b[0m\n\u001b[0m\u001b[1;32m    202\u001b[0m     \u001b[0;32mreturn\u001b[0m \u001b[0mresult\u001b[0m\u001b[0;34m\u001b[0m\u001b[0m\n\u001b[1;32m    203\u001b[0m \u001b[0;34m\u001b[0m\u001b[0m\n",
      "\u001b[0;32m//anaconda/lib/python2.7/site-packages/sklearn/utils/validation.pyc\u001b[0m in \u001b[0;36mcheck_consistent_length\u001b[0;34m(*arrays)\u001b[0m\n\u001b[1;32m    171\u001b[0m     \"\"\"\n\u001b[1;32m    172\u001b[0m \u001b[0;34m\u001b[0m\u001b[0m\n\u001b[0;32m--> 173\u001b[0;31m     \u001b[0muniques\u001b[0m \u001b[0;34m=\u001b[0m \u001b[0mnp\u001b[0m\u001b[0;34m.\u001b[0m\u001b[0munique\u001b[0m\u001b[0;34m(\u001b[0m\u001b[0;34m[\u001b[0m\u001b[0m_num_samples\u001b[0m\u001b[0;34m(\u001b[0m\u001b[0mX\u001b[0m\u001b[0;34m)\u001b[0m \u001b[0;32mfor\u001b[0m \u001b[0mX\u001b[0m \u001b[0;32min\u001b[0m \u001b[0marrays\u001b[0m \u001b[0;32mif\u001b[0m \u001b[0mX\u001b[0m \u001b[0;32mis\u001b[0m \u001b[0;32mnot\u001b[0m \u001b[0mNone\u001b[0m\u001b[0;34m]\u001b[0m\u001b[0;34m)\u001b[0m\u001b[0;34m\u001b[0m\u001b[0m\n\u001b[0m\u001b[1;32m    174\u001b[0m     \u001b[0;32mif\u001b[0m \u001b[0mlen\u001b[0m\u001b[0;34m(\u001b[0m\u001b[0muniques\u001b[0m\u001b[0;34m)\u001b[0m \u001b[0;34m>\u001b[0m \u001b[0;36m1\u001b[0m\u001b[0;34m:\u001b[0m\u001b[0;34m\u001b[0m\u001b[0m\n\u001b[1;32m    175\u001b[0m         raise ValueError(\"Found arrays with inconsistent numbers of samples: \"\n",
      "\u001b[0;32m//anaconda/lib/python2.7/site-packages/sklearn/utils/validation.pyc\u001b[0m in \u001b[0;36m_num_samples\u001b[0;34m(x)\u001b[0m\n\u001b[1;32m    120\u001b[0m         \u001b[0;32mif\u001b[0m \u001b[0mlen\u001b[0m\u001b[0;34m(\u001b[0m\u001b[0mx\u001b[0m\u001b[0;34m.\u001b[0m\u001b[0mshape\u001b[0m\u001b[0;34m)\u001b[0m \u001b[0;34m==\u001b[0m \u001b[0;36m0\u001b[0m\u001b[0;34m:\u001b[0m\u001b[0;34m\u001b[0m\u001b[0m\n\u001b[1;32m    121\u001b[0m             raise TypeError(\"Singleton array %r cannot be considered\"\n\u001b[0;32m--> 122\u001b[0;31m                             \" a valid collection.\" % x)\n\u001b[0m\u001b[1;32m    123\u001b[0m         \u001b[0;32mreturn\u001b[0m \u001b[0mx\u001b[0m\u001b[0;34m.\u001b[0m\u001b[0mshape\u001b[0m\u001b[0;34m[\u001b[0m\u001b[0;36m0\u001b[0m\u001b[0;34m]\u001b[0m\u001b[0;34m\u001b[0m\u001b[0m\n\u001b[1;32m    124\u001b[0m     \u001b[0;32melse\u001b[0m\u001b[0;34m:\u001b[0m\u001b[0;34m\u001b[0m\u001b[0m\n",
      "\u001b[0;31mTypeError\u001b[0m: Singleton array array(SelectPercentile(percentile=1,\n         score_func=<function f_regression at 0x11546aed8>), dtype=object) cannot be considered a valid collection."
     ]
    }
   ],
   "source": [
    "optimus_PCT(X_train,y_train,range(1,100,5),5,linreg)"
   ]
  },
  {
   "cell_type": "code",
   "execution_count": null,
   "metadata": {
    "collapsed": true
   },
   "outputs": [],
   "source": []
  },
  {
   "cell_type": "code",
   "execution_count": null,
   "metadata": {
    "collapsed": true
   },
   "outputs": [],
   "source": []
  },
  {
   "cell_type": "code",
   "execution_count": null,
   "metadata": {
    "collapsed": true
   },
   "outputs": [],
   "source": []
  },
  {
   "cell_type": "code",
   "execution_count": null,
   "metadata": {
    "collapsed": true
   },
   "outputs": [],
   "source": []
  },
  {
   "cell_type": "code",
   "execution_count": null,
   "metadata": {
    "collapsed": true
   },
   "outputs": [],
   "source": []
  },
  {
   "cell_type": "code",
   "execution_count": null,
   "metadata": {
    "collapsed": true
   },
   "outputs": [],
   "source": []
  },
  {
   "cell_type": "markdown",
   "metadata": {},
   "source": [
    "# 1d\n",
    "\n",
    "    Next, perform Ridge Regression and Lasso Regression, however this time use the modules from sklearn.linear_model. In each case, perform systematic model selection to identify the optimal alpha parameter. First, create a 20%-80% randomized split of the data. Set aside the test portion; the model selection process should be performed using the 80% training data partition. "
   ]
  },
  {
   "cell_type": "code",
   "execution_count": 73,
   "metadata": {
    "collapsed": false
   },
   "outputs": [],
   "source": [
    "from sklearn.linear_model import LinearRegression, Lasso, Ridge, ElasticNet, SGDRegressor"
   ]
  },
  {
   "cell_type": "code",
   "execution_count": 74,
   "metadata": {
    "collapsed": false
   },
   "outputs": [],
   "source": [
    "from sklearn.datasets import load_boston      \n",
    "#This is play data to build the function. We will replace with the data from above later.\n",
    "boston = load_boston()\n",
    "# In order to do multiple regression we need to add a column of 1s for x0\n",
    "x = np.array([np.concatenate((v,[1])) for v in boston.data])\n",
    "y = boston.target"
   ]
  },
  {
   "cell_type": "code",
   "execution_count": 75,
   "metadata": {
    "collapsed": true
   },
   "outputs": [],
   "source": [
    "#Creating 80% train and 20% test splits\n",
    "#20/80 split:\n",
    "from sklearn.cross_validation import train_test_split\n",
    "X_train, X_test, y_train, y_test = train_test_split(x, y, test_size=0.2, random_state=33)"
   ]
  },
  {
   "cell_type": "code",
   "execution_count": 76,
   "metadata": {
    "collapsed": false
   },
   "outputs": [
    {
     "name": "stdout",
     "output_type": "stream",
     "text": [
      "[[  4.41780000e-01   0.00000000e+00   6.20000000e+00 ...,   3.80340000e+02\n",
      "    3.76000000e+00   1.00000000e+00]\n",
      " [  5.37200000e-02   0.00000000e+00   1.39200000e+01 ...,   3.92850000e+02\n",
      "    7.39000000e+00   1.00000000e+00]\n",
      " [  1.58603000e+01   0.00000000e+00   1.81000000e+01 ...,   7.68000000e+00\n",
      "    2.43900000e+01   1.00000000e+00]\n",
      " ..., \n",
      " [  4.56000000e-02   0.00000000e+00   1.38900000e+01 ...,   3.92800000e+02\n",
      "    1.35100000e+01   1.00000000e+00]\n",
      " [  5.29305000e+00   0.00000000e+00   1.81000000e+01 ...,   3.78380000e+02\n",
      "    1.87600000e+01   1.00000000e+00]\n",
      " [  1.25179000e+00   0.00000000e+00   8.14000000e+00 ...,   3.76570000e+02\n",
      "    2.10200000e+01   1.00000000e+00]] [ 31.5  27.1   8.3  13.6   8.8  22.5   7.5  28.6  50.   11.5  13.5  24.4\n",
      "  36.2  21.4  18.5  22.6  24.8  19.3  29.8  16.4   8.4  24.7  20.1  13.1\n",
      "  35.2  33.8  20.3  10.2  22.   21.2  24.2  29.   22.7  21.8  34.9  25.2\n",
      "  20.9  19.4  20.   14.   30.1  33.1  20.6  22.6  33.4  20.1  10.5  15.6\n",
      "  16.8  22.6  34.6  19.8  17.8  22.   17.4  15.4  16.7  22.6  15.1  21.4\n",
      "  15.3   7.4  13.9  17.6  25.   46.7  17.1  23.1  18.7  21.9  18.9  26.7\n",
      "  22.3  25.   14.6  42.8  17.3  22.2  36.5  22.8  19.9  36.2  50.   25.\n",
      "  22.2  17.5  23.9  19.6  24.7  28.4   8.7  21.7  20.   19.9  24.5  15.\n",
      "   7.   15.2  20.4   8.5  17.1  30.1  15.   19.4  23.2  17.   18.9  50.\n",
      "  25.   46.    7.2  17.8  35.1  24.3   5.   16.6  21.8  28.5  22.   20.3\n",
      "  21.7  26.4  30.7  50.   17.2  26.6  21.   23.4  19.5  20.7  23.3  48.8\n",
      "  15.6  19.6  17.4  21.7  14.6  37.9   9.7  17.8  12.1  20.1  29.9  26.4\n",
      "  18.8  32.5  15.7  13.4  21.7  23.6  11.9  13.8  22.2  13.   33.2  50.\n",
      "  22.3  22.4  23.8  29.1  20.8  23.7  19.8  13.9  28.4  45.4  23.7  50.\n",
      "  18.   17.1  18.9  10.4  24.7  23.9  23.   20.2   8.5  14.2  20.3  18.5\n",
      "  12.   19.3  20.6  16.1  12.3  23.1  22.7  20.3  16.7  27.9  21.4   8.1\n",
      "  37.6  15.6  29.6  22.9  24.8  24.4  50.   28.7  50.   16.5  18.2  50.\n",
      "  16.2  14.1  21.2  18.4  25.   50.   21.2  20.4  15.2  22.   19.8  22.1\n",
      "  23.9  24.6  23.9  21.7  44.8   7.2  18.5  20.1  23.3  19.2  29.1  31.\n",
      "  22.9  27.5  39.8  22.   22.8  22.9  14.3  14.5  22.4  19.3  32.   20.1\n",
      "  18.3  24.5  18.4  23.1  22.6  20.2  17.8  31.6  43.5  36.4  11.3  20.5\n",
      "  23.2  29.8  20.6  24.3  18.1  19.1  21.4  31.5  19.2  14.3  24.8  21.1\n",
      "  18.2  48.3  19.4  21.2  10.9  27.5  34.7  14.4  22.8  17.8  50.   24.4\n",
      "  12.8  30.8  28.2  25.   33.1  27.5  12.7  43.1  13.4  21.5  33.4  23.8\n",
      "  21.   26.6  18.5  23.   24.1  20.5  32.2  14.4  11.8  19.5  23.7  13.2\n",
      "  29.   18.2  18.6  23.   42.3  17.2  16.2  20.   30.3  20.9  20.4  24.8\n",
      "  18.7  16.8  22.5  18.8  23.7  23.8  19.6  20.4  16.1  44.   19.3  17.4\n",
      "  10.2  11.7  37.2  11.   23.6  22.8  15.   34.9  17.9  24.4  24.5   6.3\n",
      "  29.4  10.4  38.7  20.   19.4  37.   50.   18.7  48.5  35.4  23.4   7.\n",
      "  50.   20.7  35.4   9.6  25.1  16.1  27.   16.6  13.3  25.   24.   19.6\n",
      "  29.6  21.7  19.1  22.   13.3  27.1  22.9  33.2  13.5  14.5   8.3  41.7\n",
      "  31.2  23.9  23.1  24.3  18.3  20.8  28.   19.5  21.5  13.1  12.5  31.7\n",
      "  13.1  23.1  14.5  22.2  13.1  37.3  22.   10.2   5.   19.3  16.   18.6\n",
      "  50.   31.6  24.1  15.6  19.4  23.3  23.2  13.6]\n"
     ]
    }
   ],
   "source": [
    "print X_train,y_train"
   ]
  },
  {
   "cell_type": "markdown",
   "metadata": {},
   "source": [
    "# 1d \n",
    "\n",
    "    You should create a function that takes as input the data and target attribute; the parameter to vary and a list of its values; the model to be trained; and any other relevant input needed to determine the optimal value for the specified parameter. The model selection process should perform k-fold cross validation (k should be a parameter, but you can select k=5 for this problem). \n",
    "\n",
    "\n",
    "You should also plot the error values on the training and cross-validation splits across the specified values of the alpha parameter.\n",
    "\n"
   ]
  },
  {
   "cell_type": "code",
   "execution_count": 77,
   "metadata": {
    "collapsed": false
   },
   "outputs": [],
   "source": [
    "# Plot outputs\n",
    "%matplotlib inline\n",
    "\n",
    "def alpha_hunter(X_train,y_train,alpha,model,k): \n",
    "\n",
    "    t_rmse = np.array([])\n",
    "    cv_rmse = np.array([])\n",
    "    print('{}\\t {}\\t {}'.format(\"alpha\",\"rmse_train\",\"rmse_kcv\"))\n",
    "\n",
    "\n",
    "    for a in alpha:\n",
    "        ridge = model(fit_intercept=True,alpha=a)\n",
    "        ridge.fit(X_train,y_train)\n",
    "        p = ridge.predict(X_train)\n",
    "        err = p-y_train\n",
    "        total_error = np.dot(err,err)\n",
    "        rmse_train = np.sqrt(total_error/len(p))\n",
    "        \n",
    "        \n",
    "        #k-fold cross-validation\n",
    "        kf = KFold(len(X_train),n_folds=k)\n",
    "        xval_err = 0\n",
    "        for train,test in kf:\n",
    "            ridge.fit(X_train[train],y_train[train])\n",
    "            p = ridge.predict(X_train[test])\n",
    "            e = p-y_train[test]\n",
    "            xval_err += np.dot(e,e)\n",
    "            \n",
    "        rmse_kcv = np.sqrt(xval_err/len(X_train))\n",
    "        t_rmse = np.append(t_rmse, [rmse_train])\n",
    "        cv_rmse = np.append(cv_rmse, [rmse_kcv])\n",
    "        print('{:.3f}\\t {:.4f}\\t \\t  {:.4f}'.format(a,rmse_train,rmse_kcv))\n",
    "    print \"The best rmse achieved was:\" ,min(cv_rmse)\n",
    "    \n",
    "    pl.plot(alpha, t_rmse, label='RMSE-Train')\n",
    "    pl.plot(alpha, cv_rmse, label='RMSE_XVal')\n",
    "    pl.legend( ('RMSE-Train', 'RMSE_XVal') )\n",
    "    pl.ylabel('RMSE')\n",
    "    pl.xlabel('Alpha')\n",
    "    pl.show()"
   ]
  },
  {
   "cell_type": "code",
   "execution_count": 78,
   "metadata": {
    "collapsed": false
   },
   "outputs": [
    {
     "name": "stdout",
     "output_type": "stream",
     "text": [
      "alpha\t rmse_train\t rmse_kcv\n",
      "0.010\t 4.7051\t \t  5.0381\n",
      "0.418\t 4.7102\t \t  5.0333\n",
      "0.826\t 4.7177\t \t  5.0366\n",
      "1.234\t 4.7245\t \t  5.0403\n",
      "1.642\t 4.7302\t \t  5.0434\n",
      "2.050\t 4.7349\t \t  5.0459\n",
      "2.458\t 4.7390\t \t  5.0477\n",
      "2.866\t 4.7424\t \t  5.0492\n",
      "3.274\t 4.7454\t \t  5.0503\n",
      "3.682\t 4.7481\t \t  5.0513\n",
      "4.090\t 4.7504\t \t  5.0520\n",
      "4.498\t 4.7525\t \t  5.0526\n",
      "4.906\t 4.7544\t \t  5.0531\n",
      "5.313\t 4.7562\t \t  5.0535\n",
      "5.721\t 4.7578\t \t  5.0538\n",
      "6.129\t 4.7593\t \t  5.0541\n",
      "6.537\t 4.7608\t \t  5.0544\n",
      "6.945\t 4.7621\t \t  5.0547\n",
      "7.353\t 4.7634\t \t  5.0549\n",
      "7.761\t 4.7646\t \t  5.0551\n",
      "8.169\t 4.7658\t \t  5.0554\n",
      "8.577\t 4.7669\t \t  5.0556\n",
      "8.985\t 4.7680\t \t  5.0558\n",
      "9.393\t 4.7691\t \t  5.0561\n",
      "9.801\t 4.7701\t \t  5.0563\n",
      "10.209\t 4.7711\t \t  5.0565\n",
      "10.617\t 4.7721\t \t  5.0568\n",
      "11.025\t 4.7731\t \t  5.0570\n",
      "11.433\t 4.7740\t \t  5.0573\n",
      "11.841\t 4.7749\t \t  5.0576\n",
      "12.249\t 4.7759\t \t  5.0579\n",
      "12.657\t 4.7768\t \t  5.0581\n",
      "13.065\t 4.7776\t \t  5.0585\n",
      "13.473\t 4.7785\t \t  5.0588\n",
      "13.881\t 4.7794\t \t  5.0591\n",
      "14.289\t 4.7803\t \t  5.0594\n",
      "14.697\t 4.7811\t \t  5.0598\n",
      "15.104\t 4.7820\t \t  5.0601\n",
      "15.512\t 4.7828\t \t  5.0605\n",
      "15.920\t 4.7836\t \t  5.0608\n",
      "16.328\t 4.7845\t \t  5.0612\n",
      "16.736\t 4.7853\t \t  5.0616\n",
      "17.144\t 4.7861\t \t  5.0620\n",
      "17.552\t 4.7869\t \t  5.0624\n",
      "17.960\t 4.7877\t \t  5.0628\n",
      "18.368\t 4.7885\t \t  5.0632\n",
      "18.776\t 4.7893\t \t  5.0637\n",
      "19.184\t 4.7901\t \t  5.0641\n",
      "19.592\t 4.7909\t \t  5.0646\n",
      "20.000\t 4.7917\t \t  5.0650\n",
      "The best rmse achieved was: 5.03331974756\n"
     ]
    },
    {
     "data": {
      "image/png": "[encoded data removed]",
      "text/plain": [
       "<matplotlib.figure.Figure at 0x12458ddd0>"
      ]
     },
     "metadata": {},
     "output_type": "display_data"
    }
   ],
   "source": [
    "alpha_hunter(X_train,y_train,np.linspace(0.01,20,50),Ridge,5)"
   ]
  },
  {
   "cell_type": "markdown",
   "metadata": {
    "collapsed": true
   },
   "source": [
    "# 1d\n",
    "Finally, using the best alpha value, run the model on the set-aside data. Discuss your observation and conculsions"
   ]
  },
  {
   "cell_type": "code",
   "execution_count": 79,
   "metadata": {
    "collapsed": false
   },
   "outputs": [
    {
     "name": "stdout",
     "output_type": "stream",
     "text": [
      "    Train \t\t      CV\n",
      "4.22018226875 \t\t5.03331993315\n"
     ]
    }
   ],
   "source": [
    "ridge = Ridge(fit_intercept=True,alpha=0.418)\n",
    "ridge.fit(X_test,y_test)\n",
    "p = ridge.predict(X_test)\n",
    "err = p-y_test\n",
    "total_error = np.dot(err,err)\n",
    "rmse_train = np.sqrt(total_error/len(p))\n",
    "        \n",
    "      \n",
    "#5-fold cross-validation\n",
    "kf = KFold(len(X_train),n_folds=5)\n",
    "xval_err = 0\n",
    "for train,test in kf:\n",
    "    ridge.fit(X_train[train],y_train[train])\n",
    "    p = ridge.predict(X_train[test])\n",
    "    e = p-y_train[test]\n",
    "    xval_err += np.dot(e,e)\n",
    "    rmse_5cv = np.sqrt(xval_err/len(X_train))\n",
    "    \n",
    "print \"    Train\",'\\t\\t' \"      CV\"\n",
    "print rmse_train, '\\t\\t', rmse_5cv"
   ]
  },
  {
   "cell_type": "markdown",
   "metadata": {
    "collapsed": true
   },
   "source": [
    "From the above results, we can see that the rmse on the training data was less than the rmse on the testing using cross-validation by about 0.9 The lowest rmse that we obtained was using an alpha of 0.418."
   ]
  },
  {
   "cell_type": "code",
   "execution_count": 80,
   "metadata": {
    "collapsed": true
   },
   "outputs": [],
   "source": [
    "#Lasso Regression"
   ]
  },
  {
   "cell_type": "code",
   "execution_count": 81,
   "metadata": {
    "collapsed": true
   },
   "outputs": [],
   "source": [
    "from sklearn.linear_model import Lasso"
   ]
  },
  {
   "cell_type": "code",
   "execution_count": 82,
   "metadata": {
    "collapsed": false
   },
   "outputs": [
    {
     "name": "stdout",
     "output_type": "stream",
     "text": [
      "alpha\t rmse_train\t rmse_kcv\n",
      "0.010\t 4.7092\t \t  5.0376\n",
      "0.418\t 4.8956\t \t  5.1429\n",
      "0.826\t 5.0696\t \t  5.3081\n",
      "1.234\t 5.3453\t \t  5.5886\n",
      "1.642\t 5.5352\t \t  5.7633\n",
      "2.050\t 5.6723\t \t  5.8956\n",
      "2.458\t 5.7703\t \t  5.9838\n",
      "2.866\t 5.8519\t \t  6.0608\n",
      "3.274\t 5.9384\t \t  6.1455\n",
      "3.682\t 6.0320\t \t  6.2120\n",
      "4.090\t 6.1302\t \t  6.2827\n",
      "4.498\t 6.1544\t \t  6.3136\n",
      "4.906\t 6.1693\t \t  6.3302\n",
      "5.313\t 6.1855\t \t  6.3462\n",
      "5.721\t 6.2029\t \t  6.3635\n",
      "6.129\t 6.2216\t \t  6.3820\n",
      "6.537\t 6.2414\t \t  6.4018\n",
      "6.945\t 6.2626\t \t  6.4228\n",
      "7.353\t 6.2849\t \t  6.4451\n",
      "7.761\t 6.3083\t \t  6.4686\n",
      "8.169\t 6.3330\t \t  6.4918\n",
      "8.577\t 6.3588\t \t  6.5119\n",
      "8.985\t 6.3858\t \t  6.5331\n",
      "9.393\t 6.4139\t \t  6.5553\n",
      "9.801\t 6.4431\t \t  6.5785\n",
      "10.209\t 6.4734\t \t  6.6028\n",
      "10.617\t 6.4996\t \t  6.6226\n",
      "11.025\t 6.5182\t \t  6.6415\n",
      "11.433\t 6.5376\t \t  6.6611\n",
      "11.841\t 6.5576\t \t  6.6813\n",
      "12.249\t 6.5782\t \t  6.7022\n",
      "12.657\t 6.5995\t \t  6.7237\n",
      "13.065\t 6.6214\t \t  6.7457\n",
      "13.473\t 6.6439\t \t  6.7683\n",
      "13.881\t 6.6670\t \t  6.7915\n",
      "14.289\t 6.6908\t \t  6.8154\n",
      "14.697\t 6.7151\t \t  6.8398\n",
      "15.104\t 6.7400\t \t  6.8649\n",
      "15.512\t 6.7655\t \t  6.8906\n",
      "15.920\t 6.7916\t \t  6.9168\n",
      "16.328\t 6.8183\t \t  6.9437\n",
      "16.736\t 6.8455\t \t  6.9711\n",
      "17.144\t 6.8733\t \t  6.9992\n",
      "17.552\t 6.9017\t \t  7.0277\n",
      "17.960\t 6.9306\t \t  7.0569\n",
      "18.368\t 6.9600\t \t  7.0866\n",
      "18.776\t 6.9900\t \t  7.1168\n",
      "19.184\t 7.0205\t \t  7.1476\n",
      "19.592\t 7.0515\t \t  7.1789\n",
      "20.000\t 7.0830\t \t  7.2107\n",
      "The best rmse achieved was: 5.03757062182\n"
     ]
    },
    {
     "data": {
      "image/png": "[encoded data removed]",
      "text/plain": [
       "<matplotlib.figure.Figure at 0x121cee710>"
      ]
     },
     "metadata": {},
     "output_type": "display_data"
    }
   ],
   "source": [
    "alpha_hunter(X_train,y_train,np.linspace(0.01,20,50),Lasso,5)"
   ]
  },
  {
   "cell_type": "code",
   "execution_count": 83,
   "metadata": {
    "collapsed": false
   },
   "outputs": [
    {
     "name": "stdout",
     "output_type": "stream",
     "text": [
      "    Train \t\t      CV\n",
      "4.13259439363 \t\t5.03757062182\n"
     ]
    }
   ],
   "source": [
    "lasso = Lasso(fit_intercept=True,alpha=0.010)\n",
    "lasso.fit(X_test,y_test)\n",
    "p = lasso.predict(X_test)\n",
    "err = p-y_test\n",
    "total_error = np.dot(err,err)\n",
    "rmse_train = np.sqrt(total_error/len(p))\n",
    "        \n",
    "      \n",
    "#5-fold cross-validation\n",
    "kf = KFold(len(X_train),n_folds=5)\n",
    "xval_err = 0\n",
    "for train,test in kf:\n",
    "    lasso.fit(X_train[train],y_train[train])\n",
    "    p = lasso.predict(X_train[test])\n",
    "    e = p-y_train[test]\n",
    "    xval_err += np.dot(e,e)\n",
    "    rmse_5cv = np.sqrt(xval_err/len(X_train))\n",
    "    \n",
    "print \"    Train\",'\\t\\t' \"      CV\"\n",
    "print rmse_train, '\\t\\t', rmse_5cv"
   ]
  },
  {
   "cell_type": "markdown",
   "metadata": {
    "collapsed": true
   },
   "source": [
    "From the above results, we can see that we obtained an rmse on the cross-validation lasso model of 5.0376, which is higher than the rmse on cross-validation that we obtained with the ridge model. The optimal level of alpha for lasso was 0.010, which was lower than the optimal alpha for ridge."
   ]
  },
  {
   "cell_type": "markdown",
   "metadata": {},
   "source": [
    "# 1e\n",
    "\n",
    "    Next, perform regression using Stochastic Gradient Descent for regression. For this part, you should use the SGDRegessor module from sklearn.linear_model. Again, start with creating randomized 80%-20% train-test split. SGDRegessor requires that features be standardized (with 0 mean and scaled by standard deviation). Prior to fiting the model, perform the scaling using StandardScaler from sklearn.preprocessing. For this problem, perform a grid search (using GridSearchCV from sklearn.grid_search) Your grid search should compare combinations of two penalty parameters ('l2', 'l1') and different values of alpha (alpha could vary from 0.0001 which is the default to relatively large values). Using the best parameters, apply the model to the set-aside test data. Finally, perform model selection (similar to part d, above) to find the best \"l1_ratio\" parameter using SGDRegressor with  the \"elasticnet\" penalty parameter. [Note: \"l1_ratio\" is The Elastic Net mixing parameter, with 0 <= l1_ratio <= 1;  l1_ratio=0 corresponds to L2 penalty, l1_ratio=1 to L1 penalty; defaults to 0.15.] Using the best mixing ratio, apply the Elastic Net model to the set-aside test data. Provide a summary of your findings from the above experiments.\n"
   ]
  },
  {
   "cell_type": "code",
   "execution_count": 84,
   "metadata": {
    "collapsed": true
   },
   "outputs": [],
   "source": [
    "from sklearn.preprocessing import StandardScaler"
   ]
  },
  {
   "cell_type": "code",
   "execution_count": 85,
   "metadata": {
    "collapsed": true
   },
   "outputs": [],
   "source": [
    "scaler = StandardScaler()"
   ]
  },
  {
   "cell_type": "code",
   "execution_count": 86,
   "metadata": {
    "collapsed": true
   },
   "outputs": [],
   "source": [
    "from sklearn.datasets import load_boston      \n",
    "#This is play data to build the function. We will replace with the data from above later.\n",
    "boston = load_boston()\n",
    "# In order to do multiple regression we need to add a column of 1s for x0\n",
    "x = np.array([np.concatenate((v,[1])) for v in boston.data])\n",
    "y = boston.target"
   ]
  },
  {
   "cell_type": "code",
   "execution_count": 87,
   "metadata": {
    "collapsed": true
   },
   "outputs": [],
   "source": [
    "#Creating 80% train and 20% test splits\n",
    "#20/80 split:\n",
    "from sklearn.cross_validation import train_test_split\n",
    "X_train, X_test, y_train, y_test = train_test_split(x, y, test_size=0.2, random_state=33)"
   ]
  },
  {
   "cell_type": "code",
   "execution_count": 88,
   "metadata": {
    "collapsed": false
   },
   "outputs": [
    {
     "data": {
      "text/plain": [
       "array([[  4.41780000e-01,   0.00000000e+00,   6.20000000e+00, ...,\n",
       "          3.80340000e+02,   3.76000000e+00,   1.00000000e+00],\n",
       "       [  5.37200000e-02,   0.00000000e+00,   1.39200000e+01, ...,\n",
       "          3.92850000e+02,   7.39000000e+00,   1.00000000e+00],\n",
       "       [  1.58603000e+01,   0.00000000e+00,   1.81000000e+01, ...,\n",
       "          7.68000000e+00,   2.43900000e+01,   1.00000000e+00],\n",
       "       ..., \n",
       "       [  4.56000000e-02,   0.00000000e+00,   1.38900000e+01, ...,\n",
       "          3.92800000e+02,   1.35100000e+01,   1.00000000e+00],\n",
       "       [  5.29305000e+00,   0.00000000e+00,   1.81000000e+01, ...,\n",
       "          3.78380000e+02,   1.87600000e+01,   1.00000000e+00],\n",
       "       [  1.25179000e+00,   0.00000000e+00,   8.14000000e+00, ...,\n",
       "          3.76570000e+02,   2.10200000e+01,   1.00000000e+00]])"
      ]
     },
     "execution_count": 88,
     "metadata": {},
     "output_type": "execute_result"
    }
   ],
   "source": [
    "X_train"
   ]
  },
  {
   "cell_type": "code",
   "execution_count": 89,
   "metadata": {
    "collapsed": false
   },
   "outputs": [
    {
     "data": {
      "text/plain": [
       "array([ 31.5,  27.1,   8.3,  13.6,   8.8,  22.5,   7.5,  28.6,  50. ,\n",
       "        11.5,  13.5,  24.4,  36.2,  21.4,  18.5,  22.6,  24.8,  19.3,\n",
       "        29.8,  16.4,   8.4,  24.7,  20.1,  13.1,  35.2,  33.8,  20.3,\n",
       "        10.2,  22. ,  21.2,  24.2,  29. ,  22.7,  21.8,  34.9,  25.2,\n",
       "        20.9,  19.4,  20. ,  14. ,  30.1,  33.1,  20.6,  22.6,  33.4,\n",
       "        20.1,  10.5,  15.6,  16.8,  22.6,  34.6,  19.8,  17.8,  22. ,\n",
       "        17.4,  15.4,  16.7,  22.6,  15.1,  21.4,  15.3,   7.4,  13.9,\n",
       "        17.6,  25. ,  46.7,  17.1,  23.1,  18.7,  21.9,  18.9,  26.7,\n",
       "        22.3,  25. ,  14.6,  42.8,  17.3,  22.2,  36.5,  22.8,  19.9,\n",
       "        36.2,  50. ,  25. ,  22.2,  17.5,  23.9,  19.6,  24.7,  28.4,\n",
       "         8.7,  21.7,  20. ,  19.9,  24.5,  15. ,   7. ,  15.2,  20.4,\n",
       "         8.5,  17.1,  30.1,  15. ,  19.4,  23.2,  17. ,  18.9,  50. ,\n",
       "        25. ,  46. ,   7.2,  17.8,  35.1,  24.3,   5. ,  16.6,  21.8,\n",
       "        28.5,  22. ,  20.3,  21.7,  26.4,  30.7,  50. ,  17.2,  26.6,\n",
       "        21. ,  23.4,  19.5,  20.7,  23.3,  48.8,  15.6,  19.6,  17.4,\n",
       "        21.7,  14.6,  37.9,   9.7,  17.8,  12.1,  20.1,  29.9,  26.4,\n",
       "        18.8,  32.5,  15.7,  13.4,  21.7,  23.6,  11.9,  13.8,  22.2,\n",
       "        13. ,  33.2,  50. ,  22.3,  22.4,  23.8,  29.1,  20.8,  23.7,\n",
       "        19.8,  13.9,  28.4,  45.4,  23.7,  50. ,  18. ,  17.1,  18.9,\n",
       "        10.4,  24.7,  23.9,  23. ,  20.2,   8.5,  14.2,  20.3,  18.5,\n",
       "        12. ,  19.3,  20.6,  16.1,  12.3,  23.1,  22.7,  20.3,  16.7,\n",
       "        27.9,  21.4,   8.1,  37.6,  15.6,  29.6,  22.9,  24.8,  24.4,\n",
       "        50. ,  28.7,  50. ,  16.5,  18.2,  50. ,  16.2,  14.1,  21.2,\n",
       "        18.4,  25. ,  50. ,  21.2,  20.4,  15.2,  22. ,  19.8,  22.1,\n",
       "        23.9,  24.6,  23.9,  21.7,  44.8,   7.2,  18.5,  20.1,  23.3,\n",
       "        19.2,  29.1,  31. ,  22.9,  27.5,  39.8,  22. ,  22.8,  22.9,\n",
       "        14.3,  14.5,  22.4,  19.3,  32. ,  20.1,  18.3,  24.5,  18.4,\n",
       "        23.1,  22.6,  20.2,  17.8,  31.6,  43.5,  36.4,  11.3,  20.5,\n",
       "        23.2,  29.8,  20.6,  24.3,  18.1,  19.1,  21.4,  31.5,  19.2,\n",
       "        14.3,  24.8,  21.1,  18.2,  48.3,  19.4,  21.2,  10.9,  27.5,\n",
       "        34.7,  14.4,  22.8,  17.8,  50. ,  24.4,  12.8,  30.8,  28.2,\n",
       "        25. ,  33.1,  27.5,  12.7,  43.1,  13.4,  21.5,  33.4,  23.8,\n",
       "        21. ,  26.6,  18.5,  23. ,  24.1,  20.5,  32.2,  14.4,  11.8,\n",
       "        19.5,  23.7,  13.2,  29. ,  18.2,  18.6,  23. ,  42.3,  17.2,\n",
       "        16.2,  20. ,  30.3,  20.9,  20.4,  24.8,  18.7,  16.8,  22.5,\n",
       "        18.8,  23.7,  23.8,  19.6,  20.4,  16.1,  44. ,  19.3,  17.4,\n",
       "        10.2,  11.7,  37.2,  11. ,  23.6,  22.8,  15. ,  34.9,  17.9,\n",
       "        24.4,  24.5,   6.3,  29.4,  10.4,  38.7,  20. ,  19.4,  37. ,\n",
       "        50. ,  18.7,  48.5,  35.4,  23.4,   7. ,  50. ,  20.7,  35.4,\n",
       "         9.6,  25.1,  16.1,  27. ,  16.6,  13.3,  25. ,  24. ,  19.6,\n",
       "        29.6,  21.7,  19.1,  22. ,  13.3,  27.1,  22.9,  33.2,  13.5,\n",
       "        14.5,   8.3,  41.7,  31.2,  23.9,  23.1,  24.3,  18.3,  20.8,\n",
       "        28. ,  19.5,  21.5,  13.1,  12.5,  31.7,  13.1,  23.1,  14.5,\n",
       "        22.2,  13.1,  37.3,  22. ,  10.2,   5. ,  19.3,  16. ,  18.6,\n",
       "        50. ,  31.6,  24.1,  15.6,  19.4,  23.3,  23.2,  13.6])"
      ]
     },
     "execution_count": 89,
     "metadata": {},
     "output_type": "execute_result"
    }
   ],
   "source": [
    "y_train"
   ]
  },
  {
   "cell_type": "code",
   "execution_count": 90,
   "metadata": {
    "collapsed": false
   },
   "outputs": [
    {
     "data": {
      "text/plain": [
       "StandardScaler(copy=True, with_mean=True, with_std=True)"
      ]
     },
     "execution_count": 90,
     "metadata": {},
     "output_type": "execute_result"
    }
   ],
   "source": [
    "scaler.fit(X_train)\n",
    "scaler.fit(X_test)"
   ]
  },
  {
   "cell_type": "code",
   "execution_count": 91,
   "metadata": {
    "collapsed": false
   },
   "outputs": [],
   "source": [
    "x_s = scaler.transform(X_train)\n",
    "xt_s = scaler.transform(X_test)"
   ]
  },
  {
   "cell_type": "markdown",
   "metadata": {},
   "source": [
    "# 1e\n",
    "    First, do grid search, comparing combinations of two penalty parameters ('l2','l1'), and different values of alpha. Then, using the best parameters, apply the model to the set-aside test data"
   ]
  },
  {
   "cell_type": "code",
   "execution_count": 92,
   "metadata": {
    "collapsed": true
   },
   "outputs": [],
   "source": [
    "from sklearn.grid_search import GridSearchCV"
   ]
  },
  {
   "cell_type": "code",
   "execution_count": 93,
   "metadata": {
    "collapsed": true
   },
   "outputs": [],
   "source": [
    "SGD = SGDRegressor()"
   ]
  },
  {
   "cell_type": "code",
   "execution_count": 94,
   "metadata": {
    "collapsed": false
   },
   "outputs": [],
   "source": [
    "parameters = {\n",
    "    'alpha': np.linspace(0.0001,0.01,100),\n",
    "    'penalty': ['l2','l1'],\n",
    "    'n_iter' : [1,10,15,20]\n",
    "}"
   ]
  },
  {
   "cell_type": "code",
   "execution_count": 95,
   "metadata": {
    "collapsed": false
   },
   "outputs": [],
   "source": [
    "gs = GridSearchCV(SGD,parameters,verbose=1,cv=5)"
   ]
  },
  {
   "cell_type": "code",
   "execution_count": 96,
   "metadata": {
    "collapsed": false
   },
   "outputs": [
    {
     "ename": "AttributeError",
     "evalue": "'GridSearchCV' object has no attribute 'best_params_'",
     "output_type": "error",
     "traceback": [
      "\u001b[0;31m---------------------------------------------------------------------------\u001b[0m",
      "\u001b[0;31mAttributeError\u001b[0m                            Traceback (most recent call last)",
      "\u001b[0;32m<ipython-input-96-57a57a9080d8>\u001b[0m in \u001b[0;36m<module>\u001b[0;34m()\u001b[0m\n\u001b[0;32m----> 1\u001b[0;31m \u001b[0mgs\u001b[0m\u001b[0;34m.\u001b[0m\u001b[0mbest_params_\u001b[0m\u001b[0;34m,\u001b[0m\u001b[0mgs\u001b[0m\u001b[0;34m.\u001b[0m\u001b[0mbest_score_\u001b[0m\u001b[0;34m\u001b[0m\u001b[0m\n\u001b[0m",
      "\u001b[0;31mAttributeError\u001b[0m: 'GridSearchCV' object has no attribute 'best_params_'"
     ]
    }
   ],
   "source": [
    "gs.best_params_,gs.best_score_"
   ]
  },
  {
   "cell_type": "markdown",
   "metadata": {},
   "source": [
    "#Then, using the best parameters, apply the model to the set-aside test data"
   ]
  },
  {
   "cell_type": "code",
   "execution_count": 97,
   "metadata": {
    "collapsed": true
   },
   "outputs": [],
   "source": [
    "SGD2 = SGDRegressor(alpha=0.0069000000000000008,penalty='l2',n_iter=10)"
   ]
  },
  {
   "cell_type": "code",
   "execution_count": 98,
   "metadata": {
    "collapsed": false
   },
   "outputs": [
    {
     "data": {
      "text/plain": [
       "SGDRegressor(alpha=0.0069, average=False, epsilon=0.1, eta0=0.01,\n",
       "       fit_intercept=True, l1_ratio=0.15, learning_rate='invscaling',\n",
       "       loss='squared_loss', n_iter=10, penalty='l2', power_t=0.25,\n",
       "       random_state=None, shuffle=True, verbose=0, warm_start=False)"
      ]
     },
     "execution_count": 98,
     "metadata": {},
     "output_type": "execute_result"
    }
   ],
   "source": [
    "SGD2.fit(xt_s,y_test)   #here, xt_s is the standardized test data"
   ]
  },
  {
   "cell_type": "markdown",
   "metadata": {},
   "source": [
    "# 1e\n",
    "Finally, perform model selection to find the best 'l1 ratio' parameter using SGDRegressor with the 'elasticnet' penalty parameter."
   ]
  },
  {
   "cell_type": "code",
   "execution_count": 99,
   "metadata": {
    "collapsed": true
   },
   "outputs": [],
   "source": [
    "sgdreg = SGDRegressor()"
   ]
  },
  {
   "cell_type": "code",
   "execution_count": 100,
   "metadata": {
    "collapsed": false
   },
   "outputs": [
    {
     "data": {
      "text/plain": [
       "{'alpha': 0.0001,\n",
       " 'average': False,\n",
       " 'epsilon': 0.1,\n",
       " 'eta0': 0.01,\n",
       " 'fit_intercept': True,\n",
       " 'l1_ratio': 0.15,\n",
       " 'learning_rate': 'invscaling',\n",
       " 'loss': 'squared_loss',\n",
       " 'n_iter': 5,\n",
       " 'penalty': 'l2',\n",
       " 'power_t': 0.25,\n",
       " 'random_state': None,\n",
       " 'shuffle': True,\n",
       " 'verbose': 0,\n",
       " 'warm_start': False}"
      ]
     },
     "execution_count": 100,
     "metadata": {},
     "output_type": "execute_result"
    }
   ],
   "source": [
    "sgdreg.get_params()"
   ]
  },
  {
   "cell_type": "code",
   "execution_count": 101,
   "metadata": {
    "collapsed": true
   },
   "outputs": [],
   "source": [
    "parameters = {\n",
    "    'l1_ratio':np.linspace(0,1,100)\n",
    "}"
   ]
  },
  {
   "cell_type": "code",
   "execution_count": 102,
   "metadata": {
    "collapsed": false
   },
   "outputs": [],
   "source": [
    "gs = GridSearchCV(SGD,parameters,verbose=1,cv=5)"
   ]
  },
  {
   "cell_type": "code",
   "execution_count": 103,
   "metadata": {
    "collapsed": false
   },
   "outputs": [
    {
     "ename": "AttributeError",
     "evalue": "'GridSearchCV' object has no attribute 'best_params_'",
     "output_type": "error",
     "traceback": [
      "\u001b[0;31m---------------------------------------------------------------------------\u001b[0m",
      "\u001b[0;31mAttributeError\u001b[0m                            Traceback (most recent call last)",
      "\u001b[0;32m<ipython-input-103-57a57a9080d8>\u001b[0m in \u001b[0;36m<module>\u001b[0;34m()\u001b[0m\n\u001b[0;32m----> 1\u001b[0;31m \u001b[0mgs\u001b[0m\u001b[0;34m.\u001b[0m\u001b[0mbest_params_\u001b[0m\u001b[0;34m,\u001b[0m\u001b[0mgs\u001b[0m\u001b[0;34m.\u001b[0m\u001b[0mbest_score_\u001b[0m\u001b[0;34m\u001b[0m\u001b[0m\n\u001b[0m",
      "\u001b[0;31mAttributeError\u001b[0m: 'GridSearchCV' object has no attribute 'best_params_'"
     ]
    }
   ],
   "source": [
    "gs.best_params_,gs.best_score_"
   ]
  },
  {
   "cell_type": "markdown",
   "metadata": {},
   "source": [
    "Using the best mixing l1_ratio, apply the Elastic Net model to the set-aside test data"
   ]
  },
  {
   "cell_type": "code",
   "execution_count": 104,
   "metadata": {
    "collapsed": false
   },
   "outputs": [
    {
     "ename": "SyntaxError",
     "evalue": "invalid syntax (<ipython-input-104-4cc094f9b63a>, line 1)",
     "output_type": "error",
     "traceback": [
      "\u001b[0;36m  File \u001b[0;32m\"<ipython-input-104-4cc094f9b63a>\"\u001b[0;36m, line \u001b[0;32m1\u001b[0m\n\u001b[0;31m    SGD3 = SGDRegressor(l1_ratio=)   #Get the l1_ratio from the step above\u001b[0m\n\u001b[0m                                 ^\u001b[0m\n\u001b[0;31mSyntaxError\u001b[0m\u001b[0;31m:\u001b[0m invalid syntax\n"
     ]
    }
   ],
   "source": [
    "SGD3 = SGDRegressor(l1_ratio=)   #Get the l1_ratio from the step above"
   ]
  },
  {
   "cell_type": "code",
   "execution_count": 105,
   "metadata": {
    "collapsed": false
   },
   "outputs": [
    {
     "ename": "NameError",
     "evalue": "name 'SGD3' is not defined",
     "output_type": "error",
     "traceback": [
      "\u001b[0;31m---------------------------------------------------------------------------\u001b[0m",
      "\u001b[0;31mNameError\u001b[0m                                 Traceback (most recent call last)",
      "\u001b[0;32m<ipython-input-105-8ddf2a93833f>\u001b[0m in \u001b[0;36m<module>\u001b[0;34m()\u001b[0m\n\u001b[0;32m----> 1\u001b[0;31m \u001b[0mSGD3\u001b[0m\u001b[0;34m.\u001b[0m\u001b[0mfit\u001b[0m\u001b[0;34m(\u001b[0m\u001b[0mxt_s\u001b[0m\u001b[0;34m,\u001b[0m\u001b[0my_test\u001b[0m\u001b[0;34m)\u001b[0m\u001b[0;34m\u001b[0m\u001b[0m\n\u001b[0m",
      "\u001b[0;31mNameError\u001b[0m: name 'SGD3' is not defined"
     ]
    }
   ],
   "source": [
    "SGD3.fit(xt_s,y_test) "
   ]
  },
  {
   "cell_type": "markdown",
   "metadata": {},
   "source": [
    "#Provide a summary of your findings from the above experiments"
   ]
  },
  {
   "cell_type": "code",
   "execution_count": null,
   "metadata": {
    "collapsed": true
   },
   "outputs": [],
   "source": []
  },
  {
   "cell_type": "code",
   "execution_count": null,
   "metadata": {
    "collapsed": true
   },
   "outputs": [],
   "source": []
  },
  {
   "cell_type": "code",
   "execution_count": null,
   "metadata": {
    "collapsed": true
   },
   "outputs": [],
   "source": []
  },
  {
   "cell_type": "code",
   "execution_count": null,
   "metadata": {
    "collapsed": true
   },
   "outputs": [],
   "source": []
  },
  {
   "cell_type": "code",
   "execution_count": null,
   "metadata": {
    "collapsed": true
   },
   "outputs": [],
   "source": []
  },
  {
   "cell_type": "code",
   "execution_count": null,
   "metadata": {
    "collapsed": true
   },
   "outputs": [],
   "source": []
  },
  {
   "cell_type": "code",
   "execution_count": null,
   "metadata": {
    "collapsed": true
   },
   "outputs": [],
   "source": []
  },
  {
   "cell_type": "code",
   "execution_count": null,
   "metadata": {
    "collapsed": true
   },
   "outputs": [],
   "source": []
  },
  {
   "cell_type": "code",
   "execution_count": null,
   "metadata": {
    "collapsed": true
   },
   "outputs": [],
   "source": []
  },
  {
   "cell_type": "code",
   "execution_count": 171,
   "metadata": {
    "collapsed": true
   },
   "outputs": [],
   "source": []
  },
  {
   "cell_type": "code",
   "execution_count": null,
   "metadata": {
    "collapsed": true
   },
   "outputs": [],
   "source": []
  },
  {
   "cell_type": "code",
   "execution_count": null,
   "metadata": {
    "collapsed": true
   },
   "outputs": [],
   "source": []
  },
  {
   "cell_type": "markdown",
   "metadata": {},
   "source": [
    "# Problem #2\n",
    "Automatic Document Clustering [Dataset: newsgroups5.zip]\n",
    "For this problem you will use a different subset of the 20 Newsgroup data set that you used in Assignment 2  (see the description of the full dataset). The subset for this assignment includes 2,500 documents (newsgroup posts), each belonging to one of 5 categories windows (0), crypt (1), christian (2), hockey (3), forsale (4). The documents are represented by 9328 terms (stems). The dictionary (vocabulary) for the data set is given in the file \"terms.txt\" and the full term-by-document matrix is given in \"matrix.txt\" (comma separated values). The actual category labels for the documents are provided in the file \"classes.txt\". Your goal in this assignment is to perform clustering on the documents and compare the clusters to the actual categories.\n",
    "Your tasks in this problem are the following [Note: for the clustering part of this assignment you should use the kMeans module from Ch. 10 of MLA (use the version provided here as it includes some corrections to the book version). You may also use Pandas and other modules from scikit-learn that you may need for preprocessing or evaluation.]\n"
   ]
  },
  {
   "cell_type": "code",
   "execution_count": 1,
   "metadata": {
    "collapsed": true
   },
   "outputs": [],
   "source": [
    "import numpy as np\n",
    "from numpy import linalg as la\n",
    "import pandas as pd\n",
    "from sklearn.cross_validation import KFold "
   ]
  },
  {
   "cell_type": "code",
   "execution_count": 2,
   "metadata": {
    "collapsed": false
   },
   "outputs": [
    {
     "name": "stdout",
     "output_type": "stream",
     "text": [
      "/Users/zacklarsen/Desktop/CSC 478/HW/HW #3/newsgroups5\n"
     ]
    }
   ],
   "source": [
    "cd /Users/zacklarsen/Desktop/CSC 478/HW/HW #3/newsgroups5"
   ]
  },
  {
   "cell_type": "markdown",
   "metadata": {},
   "source": [
    "# 2a\n",
    "Create your own distance function that, instead of using Euclidean distance, uses Cosine similarity. This is the distance function you will use to pass to the kMeans function."
   ]
  },
  {
   "cell_type": "code",
   "execution_count": null,
   "metadata": {
    "collapsed": true
   },
   "outputs": [],
   "source": []
  },
  {
   "cell_type": "code",
   "execution_count": null,
   "metadata": {
    "collapsed": true
   },
   "outputs": [],
   "source": []
  },
  {
   "cell_type": "code",
   "execution_count": null,
   "metadata": {
    "collapsed": true
   },
   "outputs": [],
   "source": [
    "These are similarity functions, but we need to take one minus the similarity for the distance"
   ]
  },
  {
   "cell_type": "code",
   "execution_count": 3,
   "metadata": {
    "collapsed": true
   },
   "outputs": [],
   "source": [
    "def cosSim(x,y):\n",
    "    xT = x.T\n",
    "    num = xT.dot(y)     \n",
    "    denom = la.norm(x)*la.norm(y)\n",
    "    return 0.5+0.5*(num/denom)"
   ]
  },
  {
   "cell_type": "code",
   "execution_count": 4,
   "metadata": {
    "collapsed": false
   },
   "outputs": [],
   "source": [
    "from math import*\n",
    "\n",
    "def square_rooted(x):\n",
    "    return round(sqrt(sum([a*a for a in x])),3)\n",
    "\n",
    "def cosine_similarity(x,y):\n",
    "    numerator = sum(a*b for a,b in zip(x,y))\n",
    "    denominator = square_rooted(x)*square_rooted(y)\n",
    "    return round(numerator/float(denominator),3)\n",
    "\n"
   ]
  },
  {
   "cell_type": "code",
   "execution_count": 5,
   "metadata": {
    "collapsed": false
   },
   "outputs": [
    {
     "name": "stdout",
     "output_type": "stream",
     "text": [
      "0.972\n"
     ]
    }
   ],
   "source": [
    "print cosine_similarity([3, 45, 7, 2], [2, 54, 13, 15]) "
   ]
  },
  {
   "cell_type": "code",
   "execution_count": 6,
   "metadata": {
    "collapsed": true
   },
   "outputs": [],
   "source": [
    "def cosSim2(x,y):\n",
    "    x_norm = np.array([np.linalg.norm(x[i]) for i in range(len(x))])\n",
    "    y_norm = np.linalg.norm(y)\n",
    "    sims = np.dot(x,y)/(x_norm * x_norm)\n",
    "    dists = 1 - sims\n",
    "    return dists"
   ]
  },
  {
   "cell_type": "markdown",
   "metadata": {},
   "source": [
    "# 2b\n",
    "Load the data set [Note: the data matrix provided has terms as rows and documents as columns. Since you will be clustering documents, you'll need to take the transpose of this matrix so that your main data matrix is a document x term matrix. In Numpy, you may use the \".T\" operation to obtain the transpose.] Then, split the data set (the document x term matrix) and set aside 20% for later use (see below). Use the 80% segment for clustering in the next part. The 20% portion must be a random subset."
   ]
  },
  {
   "cell_type": "code",
   "execution_count": 7,
   "metadata": {
    "collapsed": true
   },
   "outputs": [],
   "source": [
    "vocab = np.genfromtxt(\"terms.txt\",delimiter=\"\\t\",dtype=str)"
   ]
  },
  {
   "cell_type": "code",
   "execution_count": 8,
   "metadata": {
    "collapsed": true
   },
   "outputs": [],
   "source": [
    "labels = np.genfromtxt(\"classes.txt\",delimiter=\" \",dtype=int,skip_header=1)"
   ]
  },
  {
   "cell_type": "code",
   "execution_count": 9,
   "metadata": {
    "collapsed": false
   },
   "outputs": [
    {
     "name": "stdout",
     "output_type": "stream",
     "text": [
      "['aa' 'aargh' 'aaron' ..., 'zw' 'zx' 'zz']\n"
     ]
    },
    {
     "data": {
      "text/plain": [
       "(9328,)"
      ]
     },
     "execution_count": 9,
     "metadata": {},
     "output_type": "execute_result"
    }
   ],
   "source": [
    "print vocab\n",
    "vocab.shape"
   ]
  },
  {
   "cell_type": "code",
   "execution_count": 10,
   "metadata": {
    "collapsed": false
   },
   "outputs": [
    {
     "name": "stdout",
     "output_type": "stream",
     "text": [
      "[[   0    0]\n",
      " [   1    1]\n",
      " [   2    1]\n",
      " ..., \n",
      " [2497    3]\n",
      " [2498    4]\n",
      " [2499    2]]\n"
     ]
    },
    {
     "data": {
      "text/plain": [
       "(2500, 2)"
      ]
     },
     "execution_count": 10,
     "metadata": {},
     "output_type": "execute_result"
    }
   ],
   "source": [
    "print labels\n",
    "labels.shape"
   ]
  },
  {
   "cell_type": "code",
   "execution_count": 11,
   "metadata": {
    "collapsed": true
   },
   "outputs": [],
   "source": [
    "TD = np.genfromtxt(\"matrix.txt\",delimiter=\",\",dtype=float)\n",
    "DT = TD.T"
   ]
  },
  {
   "cell_type": "code",
   "execution_count": 12,
   "metadata": {
    "collapsed": false
   },
   "outputs": [
    {
     "data": {
      "text/plain": [
       "array([[ 0.,  0.,  0., ...,  0.,  0.,  0.],\n",
       "       [ 0.,  0.,  0., ...,  0.,  0.,  0.],\n",
       "       [ 0.,  0.,  0., ...,  0.,  0.,  0.],\n",
       "       ..., \n",
       "       [ 0.,  0.,  0., ...,  0.,  0.,  0.],\n",
       "       [ 0.,  0.,  0., ...,  0.,  0.,  0.],\n",
       "       [ 0.,  0.,  0., ...,  0.,  0.,  0.]])"
      ]
     },
     "execution_count": 12,
     "metadata": {},
     "output_type": "execute_result"
    }
   ],
   "source": [
    "DT"
   ]
  },
  {
   "cell_type": "code",
   "execution_count": 13,
   "metadata": {
    "collapsed": false
   },
   "outputs": [
    {
     "name": "stdout",
     "output_type": "stream",
     "text": [
      "(9328, 2500)\n",
      "(2500, 9328)\n"
     ]
    }
   ],
   "source": [
    "print TD.shape\n",
    "print DT.shape"
   ]
  },
  {
   "cell_type": "markdown",
   "metadata": {},
   "source": [
    "# Note:\n",
    "We can add in the categorical labels for each document in the DT matrix because this is unsupervised learning"
   ]
  },
  {
   "cell_type": "code",
   "execution_count": 14,
   "metadata": {
    "collapsed": false
   },
   "outputs": [
    {
     "name": "stdout",
     "output_type": "stream",
     "text": [
      "(2500, 9328) (2500, 2)\n"
     ]
    }
   ],
   "source": [
    "print DT.shape, labels.shape"
   ]
  },
  {
   "cell_type": "markdown",
   "metadata": {},
   "source": [
    "# Note:\n",
    "We need to split the data into train, test with 80% train, 20% test"
   ]
  },
  {
   "cell_type": "code",
   "execution_count": 15,
   "metadata": {
    "collapsed": false
   },
   "outputs": [],
   "source": [
    "from sklearn.cross_validation import train_test_split\n",
    "X_train, X_test, y_train, y_test = train_test_split(DT, labels, test_size=0.2, random_state=33)"
   ]
  },
  {
   "cell_type": "code",
   "execution_count": 16,
   "metadata": {
    "collapsed": false
   },
   "outputs": [
    {
     "name": "stdout",
     "output_type": "stream",
     "text": [
      "[[ 0.  0.  0. ...,  0.  0.  0.]\n",
      " [ 0.  0.  0. ...,  0.  0.  0.]\n",
      " [ 0.  0.  0. ...,  0.  0.  0.]\n",
      " ..., \n",
      " [ 0.  0.  0. ...,  0.  0.  0.]\n",
      " [ 0.  0.  0. ...,  0.  0.  0.]\n",
      " [ 0.  0.  0. ...,  0.  0.  0.]] (2000, 9328) (500, 9328)\n"
     ]
    }
   ],
   "source": [
    "print X_train,X_train.shape,X_test.shape"
   ]
  },
  {
   "cell_type": "code",
   "execution_count": 17,
   "metadata": {
    "collapsed": false
   },
   "outputs": [
    {
     "name": "stdout",
     "output_type": "stream",
     "text": [
      "[[1289    4]\n",
      " [ 596    0]\n",
      " [1935    4]\n",
      " ..., \n",
      " [ 578    2]\n",
      " [1752    0]\n",
      " [2439    1]] (2000, 2) (500, 2)\n"
     ]
    }
   ],
   "source": [
    "print y_train, y_train.shape,y_test.shape"
   ]
  },
  {
   "cell_type": "code",
   "execution_count": 18,
   "metadata": {
    "collapsed": false
   },
   "outputs": [
    {
     "name": "stdout",
     "output_type": "stream",
     "text": [
      "[ 0.  0.  0. ...,  0.  0.  0.]\n"
     ]
    }
   ],
   "source": [
    "print X_train[1]"
   ]
  },
  {
   "cell_type": "code",
   "execution_count": 19,
   "metadata": {
    "collapsed": false
   },
   "outputs": [
    {
     "name": "stdout",
     "output_type": "stream",
     "text": [
      "[596   0]\n"
     ]
    }
   ],
   "source": [
    "print y_train[1]"
   ]
  },
  {
   "cell_type": "code",
   "execution_count": 20,
   "metadata": {
    "collapsed": true
   },
   "outputs": [],
   "source": [
    "DLT_train = np.array([np.concatenate((X_train[i],[y_train[i][1]])) for i in range(len(X_train))])"
   ]
  },
  {
   "cell_type": "code",
   "execution_count": 21,
   "metadata": {
    "collapsed": false
   },
   "outputs": [
    {
     "name": "stdout",
     "output_type": "stream",
     "text": [
      "[[ 0.  0.  0. ...,  0.  0.  4.]\n",
      " [ 0.  0.  0. ...,  0.  0.  0.]\n",
      " [ 0.  0.  0. ...,  0.  0.  4.]\n",
      " ..., \n",
      " [ 0.  0.  0. ...,  0.  0.  2.]\n",
      " [ 0.  0.  0. ...,  0.  0.  0.]\n",
      " [ 0.  0.  0. ...,  0.  0.  1.]] (2000, 9329)\n"
     ]
    }
   ],
   "source": [
    "print DLT_train, DLT_train.shape"
   ]
  },
  {
   "cell_type": "code",
   "execution_count": 22,
   "metadata": {
    "collapsed": false
   },
   "outputs": [],
   "source": [
    "DLT_test = np.array([np.concatenate((X_test[i],[y_test[i][1]])) for i in range(len(X_test))])"
   ]
  },
  {
   "cell_type": "code",
   "execution_count": 23,
   "metadata": {
    "collapsed": false
   },
   "outputs": [
    {
     "name": "stdout",
     "output_type": "stream",
     "text": [
      "[[ 0.  0.  0. ...,  0.  0.  2.]\n",
      " [ 0.  0.  0. ...,  0.  0.  2.]\n",
      " [ 0.  0.  0. ...,  0.  0.  4.]\n",
      " ..., \n",
      " [ 0.  0.  0. ...,  0.  0.  2.]\n",
      " [ 0.  0.  0. ...,  0.  0.  1.]\n",
      " [ 0.  0.  0. ...,  0.  0.  3.]] (500, 9329)\n"
     ]
    }
   ],
   "source": [
    "print DLT_test,DLT_test.shape"
   ]
  },
  {
   "cell_type": "markdown",
   "metadata": {},
   "source": [
    "# 2c\n",
    "As in the case of Assignment 2, transform the term-frequencies (which is the document-term matrix, or DT) to tfxidf values. Be sure to maintain DF values for each of the terms in the dictionary."
   ]
  },
  {
   "cell_type": "code",
   "execution_count": 24,
   "metadata": {
    "collapsed": false
   },
   "outputs": [
    {
     "data": {
      "text/plain": [
       "(1, 9328)"
      ]
     },
     "execution_count": 24,
     "metadata": {},
     "output_type": "execute_result"
    }
   ],
   "source": [
    "DF = np.array([(X_train!=0).sum(0)])\n",
    "DF.shape"
   ]
  },
  {
   "cell_type": "code",
   "execution_count": 25,
   "metadata": {
    "collapsed": false
   },
   "outputs": [
    {
     "data": {
      "text/plain": [
       "array([[ 7,  4, 17, ...,  2,  1,  2]])"
      ]
     },
     "execution_count": 25,
     "metadata": {},
     "output_type": "execute_result"
    }
   ],
   "source": [
    "DF"
   ]
  },
  {
   "cell_type": "code",
   "execution_count": 26,
   "metadata": {
    "collapsed": true
   },
   "outputs": [],
   "source": [
    "numTerms=X_train.shape[1]\n",
    "NDocs = len(X_train[:,0])"
   ]
  },
  {
   "cell_type": "code",
   "execution_count": 27,
   "metadata": {
    "collapsed": false
   },
   "outputs": [
    {
     "name": "stdout",
     "output_type": "stream",
     "text": [
      "9328 2000\n"
     ]
    }
   ],
   "source": [
    "print numTerms, NDocs"
   ]
  },
  {
   "cell_type": "code",
   "execution_count": 28,
   "metadata": {
    "collapsed": false
   },
   "outputs": [
    {
     "name": "stdout",
     "output_type": "stream",
     "text": [
      "[[ 2000.  2000.  2000. ...,  2000.  2000.  2000.]\n",
      " [ 2000.  2000.  2000. ...,  2000.  2000.  2000.]\n",
      " [ 2000.  2000.  2000. ...,  2000.  2000.  2000.]\n",
      " ..., \n",
      " [ 2000.  2000.  2000. ...,  2000.  2000.  2000.]\n",
      " [ 2000.  2000.  2000. ...,  2000.  2000.  2000.]\n",
      " [ 2000.  2000.  2000. ...,  2000.  2000.  2000.]]\n"
     ]
    }
   ],
   "source": [
    "# Create a matrix with all entries = NDocs\n",
    "NMatrix=np.ones(np.shape(X_train), dtype=float)*NDocs\n",
    "np.set_printoptions(precision=2,suppress=True,linewidth=120)\n",
    "print NMatrix"
   ]
  },
  {
   "cell_type": "code",
   "execution_count": 29,
   "metadata": {
    "collapsed": false
   },
   "outputs": [
    {
     "data": {
      "text/plain": [
       "(2000, 9328)"
      ]
     },
     "execution_count": 29,
     "metadata": {},
     "output_type": "execute_result"
    }
   ],
   "source": [
    "NMatrix.shape"
   ]
  },
  {
   "cell_type": "code",
   "execution_count": 30,
   "metadata": {
    "collapsed": false
   },
   "outputs": [],
   "source": [
    "IDF = np.log2(np.divide(NMatrix, DF))"
   ]
  },
  {
   "cell_type": "code",
   "execution_count": 31,
   "metadata": {
    "collapsed": false
   },
   "outputs": [
    {
     "data": {
      "text/plain": [
       "array([[  8.16,   8.97,   6.88, ...,   9.97,  10.97,   9.97],\n",
       "       [  8.16,   8.97,   6.88, ...,   9.97,  10.97,   9.97],\n",
       "       [  8.16,   8.97,   6.88, ...,   9.97,  10.97,   9.97],\n",
       "       ..., \n",
       "       [  8.16,   8.97,   6.88, ...,   9.97,  10.97,   9.97],\n",
       "       [  8.16,   8.97,   6.88, ...,   9.97,  10.97,   9.97],\n",
       "       [  8.16,   8.97,   6.88, ...,   9.97,  10.97,   9.97]])"
      ]
     },
     "execution_count": 31,
     "metadata": {},
     "output_type": "execute_result"
    }
   ],
   "source": [
    "IDF"
   ]
  },
  {
   "cell_type": "code",
   "execution_count": 32,
   "metadata": {
    "collapsed": false
   },
   "outputs": [
    {
     "name": "stdout",
     "output_type": "stream",
     "text": [
      "(2000, 9328)\n",
      "(2000, 9328)\n"
     ]
    }
   ],
   "source": [
    "print X_train.shape\n",
    "print IDF.shape"
   ]
  },
  {
   "cell_type": "code",
   "execution_count": 33,
   "metadata": {
    "collapsed": false
   },
   "outputs": [],
   "source": [
    "#Compute the TF * IDF values\n",
    "X_train_tfidf = X_train * IDF"
   ]
  },
  {
   "cell_type": "code",
   "execution_count": 34,
   "metadata": {
    "collapsed": false
   },
   "outputs": [
    {
     "data": {
      "text/plain": [
       "(2000, 9328)"
      ]
     },
     "execution_count": 34,
     "metadata": {},
     "output_type": "execute_result"
    }
   ],
   "source": [
    "X_train_tfidf.shape"
   ]
  },
  {
   "cell_type": "code",
   "execution_count": 35,
   "metadata": {
    "collapsed": false
   },
   "outputs": [
    {
     "data": {
      "text/plain": [
       "array([[ 0.,  0.,  0., ...,  0.,  0.,  0.],\n",
       "       [ 0.,  0.,  0., ...,  0.,  0.,  0.],\n",
       "       [ 0.,  0.,  0., ...,  0.,  0.,  0.],\n",
       "       ..., \n",
       "       [ 0.,  0.,  0., ...,  0.,  0.,  0.],\n",
       "       [ 0.,  0.,  0., ...,  0.,  0.,  0.],\n",
       "       [ 0.,  0.,  0., ...,  0.,  0.,  0.]])"
      ]
     },
     "execution_count": 35,
     "metadata": {},
     "output_type": "execute_result"
    }
   ],
   "source": [
    "pd.set_option(\"display.precision\", 2)\n",
    "X_train_tfidf"
   ]
  },
  {
   "cell_type": "code",
   "execution_count": 36,
   "metadata": {
    "collapsed": false
   },
   "outputs": [
    {
     "name": "stdout",
     "output_type": "stream",
     "text": [
      "(2000, 9328)\n"
     ]
    }
   ],
   "source": [
    "print X_train_tfidf.shape"
   ]
  },
  {
   "cell_type": "markdown",
   "metadata": {},
   "source": [
    "# 2d\n",
    "Perform Kmeans clustering on the training data. Write a function to display the top N terms in each cluster along with the cluster DF values for each term, percentage of docs in the cluster in which the terms appear, and the size of the cluster. Sort the terms in decreasing order of the DF percentage. [Extra Credit: use your favorite third party tool, ideally with a Python based API, to create a word cloud for each cluster based on the in-cluster DF values.]"
   ]
  },
  {
   "cell_type": "code",
   "execution_count": 37,
   "metadata": {
    "collapsed": true
   },
   "outputs": [],
   "source": [
    "from numpy import *\n",
    "def distEclud(vecA, vecB):\n",
    "    return sqrt(sum(power(vecA - vecB, 2))) #la.norm(vecA-vecB)"
   ]
  },
  {
   "cell_type": "code",
   "execution_count": 38,
   "metadata": {
    "collapsed": true
   },
   "outputs": [],
   "source": [
    "def randCent(dataSet, k):\n",
    "    n = shape(dataSet)[1]\n",
    "    centroids = zeros((k,n), dtype=float)\n",
    "    for j in range(n): #create random cluster centers\n",
    "        minJ = min(dataSet[:,j])\n",
    "        rangeJ = float(max(dataSet[:,j]) - minJ)\n",
    "        centroids[:,j] = minJ + rangeJ * random.rand(k)\n",
    "    return centroids "
   ]
  },
  {
   "cell_type": "code",
   "execution_count": 39,
   "metadata": {
    "collapsed": false
   },
   "outputs": [
    {
     "data": {
      "text/plain": [
       "array([[  0.95,   0.91,  34.65, ...,   1.89,   0.58,   2.67],\n",
       "       [  0.49,   0.3 ,  26.44, ...,   0.59,   0.4 ,   3.09],\n",
       "       [  0.5 ,   0.28,  12.33, ...,   1.42,   0.51,   1.18],\n",
       "       [  0.73,   0.72,  32.87, ...,   0.22,   0.66,   3.99],\n",
       "       [  0.81,   0.16,  10.33, ...,   1.28,   0.07,   2.8 ]])"
      ]
     },
     "execution_count": 39,
     "metadata": {},
     "output_type": "execute_result"
    }
   ],
   "source": [
    "randCent(X_train,5)"
   ]
  },
  {
   "cell_type": "markdown",
   "metadata": {},
   "source": [
    "# Using CH 10 MLIA Kmeans"
   ]
  },
  {
   "cell_type": "code",
   "execution_count": 40,
   "metadata": {
    "collapsed": true
   },
   "outputs": [],
   "source": [
    "def kMeans(dataSet, k, distMeas, createCent):\n",
    "    m = shape(dataSet)[0]\n",
    "    clusterAssment = zeros((m,2))#create mat to assign data points \n",
    "                                      #to a centroid, also holds SE of each point\n",
    "    centroids = createCent(dataSet, k)\n",
    "    clusterChanged = True\n",
    "    while clusterChanged:\n",
    "        clusterChanged = False\n",
    "        for i in range(m):#for each data point assign it to the closest centroid\n",
    "            minDist = inf; minIndex = -1\n",
    "            for j in range(k):\n",
    "                distJI = distMeas(centroids[j,:],dataSet[i,:]) #Distance between centroid and each data point\n",
    "                if distJI < minDist:\n",
    "                    minDist = distJI; minIndex = j\n",
    "            if clusterAssment[i,0] != minIndex: clusterChanged = True\n",
    "            clusterAssment[i,:] = minIndex,minDist**2\n",
    "        # print centroids\n",
    "        for cent in range(k):#recalculate centroids\n",
    "            ptsInClust = dataSet[nonzero(clusterAssment[:,0]==cent)[0]] #get all the point in this cluster - Note: this was incorrect in the original distribution.\n",
    "            if(len(ptsInClust)!=0):\n",
    "                centroids[cent,:] = mean(ptsInClust, axis=0) #assign centroid to mean - Note condition was added 10/28/2013\n",
    "    return centroids, clusterAssment"
   ]
  },
  {
   "cell_type": "markdown",
   "metadata": {},
   "source": [
    "# 2d\n",
    "Perform kmeans clustering on the training data"
   ]
  },
  {
   "cell_type": "code",
   "execution_count": 41,
   "metadata": {
    "collapsed": false
   },
   "outputs": [],
   "source": [
    "euclid_centroids, euclid_clusters = kMeans(X_train,5, distMeas=distEclud, createCent=randCent)    "
   ]
  },
  {
   "cell_type": "code",
   "execution_count": 42,
   "metadata": {
    "collapsed": false
   },
   "outputs": [
    {
     "name": "stdout",
     "output_type": "stream",
     "text": [
      "[[ 0.    0.    0.04 ...,  0.    0.    0.  ]\n",
      " [ 0.    0.    0.   ...,  0.    0.    0.  ]\n",
      " [ 0.    0.    0.   ...,  0.    0.    0.  ]\n",
      " [ 0.    0.    0.   ...,  0.5   0.    0.  ]\n",
      " [ 0.    0.    0.   ...,  0.    0.    0.  ]] (5, 9328)\n"
     ]
    }
   ],
   "source": [
    "print euclid_centroids, euclid_centroids.shape"
   ]
  },
  {
   "cell_type": "code",
   "execution_count": 43,
   "metadata": {
    "collapsed": false
   },
   "outputs": [
    {
     "name": "stdout",
     "output_type": "stream",
     "text": [
      "[[    0.      52.74]\n",
      " [    0.      49.3 ]\n",
      " [    0.      94.89]\n",
      " ..., \n",
      " [    0.    2109.56]\n",
      " [    0.      77.52]\n",
      " [    0.      59.79]] (2000, 2)\n"
     ]
    }
   ],
   "source": [
    "print euclid_clusters, euclid_clusters.shape"
   ]
  },
  {
   "cell_type": "code",
   "execution_count": 44,
   "metadata": {
    "collapsed": false
   },
   "outputs": [
    {
     "name": "stdout",
     "output_type": "stream",
     "text": [
      "cluster assignment: 0.0    error, or distance from cluster centroid to current point: 52.7356849888\n",
      "cluster assignment: 0.0    error, or distance from cluster centroid to current point: 49.3033880981\n",
      "cluster assignment: 0.0    error, or distance from cluster centroid to current point: 94.892154397\n",
      "cluster assignment: 0.0    error, or distance from cluster centroid to current point: 48.7246518895\n",
      "cluster assignment: 0.0    error, or distance from cluster centroid to current point: 92.1388946177\n",
      "cluster assignment: 0.0    error, or distance from cluster centroid to current point: 860.216126313\n",
      "cluster assignment: 0.0    error, or distance from cluster centroid to current point: 193.193057105\n",
      "cluster assignment: 0.0    error, or distance from cluster centroid to current point: 580.343508459\n",
      "cluster assignment: 0.0    error, or distance from cluster centroid to current point: 36.3114121703\n",
      "cluster assignment: 0.0    error, or distance from cluster centroid to current point: 43.6434081583\n",
      "cluster assignment: 0.0    error, or distance from cluster centroid to current point: 92.9744011372\n",
      "cluster assignment: 0.0    error, or distance from cluster centroid to current point: 407.556146373\n",
      "cluster assignment: 0.0    error, or distance from cluster centroid to current point: 313.305394116\n",
      "cluster assignment: 0.0    error, or distance from cluster centroid to current point: 323.130870545\n",
      "cluster assignment: 0.0    error, or distance from cluster centroid to current point: 84.9984733539\n",
      "cluster assignment: 0.0    error, or distance from cluster centroid to current point: 24.1308705454\n",
      "cluster assignment: 0.0    error, or distance from cluster centroid to current point: 269.43578529\n",
      "cluster assignment: 0.0    error, or distance from cluster centroid to current point: 24.0075004351\n",
      "cluster assignment: 0.0    error, or distance from cluster centroid to current point: 42.9854342365\n",
      "cluster assignment: 0.0    error, or distance from cluster centroid to current point: 105.190048078\n",
      "cluster assignment: 0.0    error, or distance from cluster centroid to current point: 92.3876408564\n",
      "cluster assignment: 0.0    error, or distance from cluster centroid to current point: 374.015524507\n",
      "cluster assignment: 0.0    error, or distance from cluster centroid to current point: 151.616326915\n",
      "cluster assignment: 0.0    error, or distance from cluster centroid to current point: 42.4347822806\n",
      "cluster assignment: 0.0    error, or distance from cluster centroid to current point: 102.422746172\n",
      "cluster assignment: 0.0    error, or distance from cluster centroid to current point: 81.263267737\n",
      "cluster assignment: 0.0    error, or distance from cluster centroid to current point: 25.8089046477\n",
      "cluster assignment: 0.0    error, or distance from cluster centroid to current point: 159.574200535\n",
      "cluster assignment: 0.0    error, or distance from cluster centroid to current point: 69.2953640259\n",
      "cluster assignment: 0.0    error, or distance from cluster centroid to current point: 69.0967682385\n",
      "cluster assignment: 0.0    error, or distance from cluster centroid to current point: 74.8831273157\n",
      "cluster assignment: 0.0    error, or distance from cluster centroid to current point: 237.905193514\n",
      "cluster assignment: 0.0    error, or distance from cluster centroid to current point: 169.339496423\n",
      "cluster assignment: 0.0    error, or distance from cluster centroid to current point: 186.543107256\n",
      "cluster assignment: 0.0    error, or distance from cluster centroid to current point: 53.0967682385\n",
      "cluster assignment: 0.0    error, or distance from cluster centroid to current point: 139.182024006\n",
      "cluster assignment: 0.0    error, or distance from cluster centroid to current point: 173.864070144\n",
      "cluster assignment: 0.0    error, or distance from cluster centroid to current point: 224.468884588\n",
      "cluster assignment: 0.0    error, or distance from cluster centroid to current point: 29.856046072\n",
      "cluster assignment: 0.0    error, or distance from cluster centroid to current point: 119.295364026\n",
      "cluster assignment: 0.0    error, or distance from cluster centroid to current point: 19.8129166839\n",
      "cluster assignment: 0.0    error, or distance from cluster centroid to current point: 98.5621644271\n",
      "cluster assignment: 0.0    error, or distance from cluster centroid to current point: 229.684531528\n",
      "cluster assignment: 0.0    error, or distance from cluster centroid to current point: 285.546116283\n",
      "cluster assignment: 0.0    error, or distance from cluster centroid to current point: 532.605293815\n",
      "cluster assignment: 0.0    error, or distance from cluster centroid to current point: 111.655444267\n",
      "cluster assignment: 0.0    error, or distance from cluster centroid to current point: 42.8680821803\n",
      "cluster assignment: 0.0    error, or distance from cluster centroid to current point: 94.7517331332\n",
      "cluster assignment: 0.0    error, or distance from cluster centroid to current point: 139.798874557\n",
      "cluster assignment: 0.0    error, or distance from cluster centroid to current point: 96.150930726\n",
      "cluster assignment: 0.0    error, or distance from cluster centroid to current point: 139.692555601\n",
      "cluster assignment: 0.0    error, or distance from cluster centroid to current point: 53.5691854903\n",
      "cluster assignment: 0.0    error, or distance from cluster centroid to current point: 205.751733133\n",
      "cluster assignment: 0.0    error, or distance from cluster centroid to current point: 166.312415179\n",
      "cluster assignment: 0.0    error, or distance from cluster centroid to current point: 43.9643710469\n",
      "cluster assignment: 0.0    error, or distance from cluster centroid to current point: 321.457851488\n",
      "cluster assignment: 0.0    error, or distance from cluster centroid to current point: 2246.38964687\n",
      "cluster assignment: 0.0    error, or distance from cluster centroid to current point: 99.4036890008\n",
      "cluster assignment: 0.0    error, or distance from cluster centroid to current point: 55.8831273157\n",
      "cluster assignment: 0.0    error, or distance from cluster centroid to current point: 111.97139211\n",
      "cluster assignment: 0.0    error, or distance from cluster centroid to current point: 1137.959356\n",
      "cluster assignment: 0.0    error, or distance from cluster centroid to current point: 276.898172451\n",
      "cluster assignment: 0.0    error, or distance from cluster centroid to current point: 23.4688845876\n",
      "cluster assignment: 0.0    error, or distance from cluster centroid to current point: 82.0085034441\n",
      "cluster assignment: 0.0    error, or distance from cluster centroid to current point: 54.2973700439\n",
      "cluster assignment: 0.0    error, or distance from cluster centroid to current point: 49.4889447681\n",
      "cluster assignment: 0.0    error, or distance from cluster centroid to current point: 115.707600736\n",
      "cluster assignment: 0.0    error, or distance from cluster centroid to current point: 141.984431227\n",
      "cluster assignment: 0.0    error, or distance from cluster centroid to current point: 186.011512471\n",
      "cluster assignment: 0.0    error, or distance from cluster centroid to current point: 117.891151388\n",
      "cluster assignment: 0.0    error, or distance from cluster centroid to current point: 131.566176463\n",
      "cluster assignment: 0.0    error, or distance from cluster centroid to current point: 42.4187341362\n",
      "cluster assignment: 0.0    error, or distance from cluster centroid to current point: 96.1599578072\n",
      "cluster assignment: 0.0    error, or distance from cluster centroid to current point: 22.8610611172\n",
      "cluster assignment: 0.0    error, or distance from cluster centroid to current point: 310.43578529\n",
      "cluster assignment: 0.0    error, or distance from cluster centroid to current point: 298.917229623\n",
      "cluster assignment: 0.0    error, or distance from cluster centroid to current point: 40.3776107661\n",
      "cluster assignment: 0.0    error, or distance from cluster centroid to current point: 182.854040054\n",
      "cluster assignment: 0.0    error, or distance from cluster centroid to current point: 272.244210565\n",
      "cluster assignment: 0.0    error, or distance from cluster centroid to current point: 559.704591709\n",
      "cluster assignment: 0.0    error, or distance from cluster centroid to current point: 166.358553595\n",
      "cluster assignment: 0.0    error, or distance from cluster centroid to current point: 26.5561463729\n",
      "cluster assignment: 0.0    error, or distance from cluster centroid to current point: 131.875103244\n",
      "cluster assignment: 0.0    error, or distance from cluster centroid to current point: 61.7778113679\n",
      "cluster assignment: 0.0    error, or distance from cluster centroid to current point: 90.0947622205\n",
      "cluster assignment: 0.0    error, or distance from cluster centroid to current point: 43.5100079577\n",
      "cluster assignment: 0.0    error, or distance from cluster centroid to current point: 163.098774257\n",
      "cluster assignment: 0.0    error, or distance from cluster centroid to current point: 137.789847476\n",
      "cluster assignment: 0.0    error, or distance from cluster centroid to current point: 4879.56517345\n",
      "cluster assignment: 0.0    error, or distance from cluster centroid to current point: 86.7467180881\n",
      "cluster assignment: 0.0    error, or distance from cluster centroid to current point: 2950.21612631\n",
      "cluster assignment: 0.0    error, or distance from cluster centroid to current point: 151.315424206\n",
      "cluster assignment: 0.0    error, or distance from cluster centroid to current point: 73.1348825815\n",
      "cluster assignment: 0.0    error, or distance from cluster centroid to current point: 89.9533379476\n",
      "cluster assignment: 0.0    error, or distance from cluster centroid to current point: 197.65243524\n",
      "cluster assignment: 0.0    error, or distance from cluster centroid to current point: 43.2672797731\n",
      "cluster assignment: 0.0    error, or distance from cluster centroid to current point: 56.2482226016\n",
      "cluster assignment: 0.0    error, or distance from cluster centroid to current point: 31.1278615184\n",
      "cluster assignment: 0.0    error, or distance from cluster centroid to current point: 1447.78583544\n",
      "cluster assignment: 0.0    error, or distance from cluster centroid to current point: 94.8881423609\n",
      "cluster assignment: 0.0    error, or distance from cluster centroid to current point: 165.230168439\n",
      "cluster assignment: 0.0    error, or distance from cluster centroid to current point: 77.4799176869\n",
      "cluster assignment: 0.0    error, or distance from cluster centroid to current point: 93.5250530931\n",
      "cluster assignment: 0.0    error, or distance from cluster centroid to current point: 204.181020997\n",
      "cluster assignment: 0.0    error, or distance from cluster centroid to current point: 108.034581679\n",
      "cluster assignment: 0.0    error, or distance from cluster centroid to current point: 87.8289648283\n",
      "cluster assignment: 0.0    error, or distance from cluster centroid to current point: 63.040599733\n",
      "cluster assignment: 0.0    error, or distance from cluster centroid to current point: 102.32244527\n",
      "cluster assignment: 0.0    error, or distance from cluster centroid to current point: 81.2050932134\n",
      "cluster assignment: 0.0    error, or distance from cluster centroid to current point: 455.258252692\n",
      "cluster assignment: 0.0    error, or distance from cluster centroid to current point: 226.45584547\n",
      "cluster assignment: 0.0    error, or distance from cluster centroid to current point: 1466.02254557\n",
      "cluster assignment: 0.0    error, or distance from cluster centroid to current point: 374.905193514\n",
      "cluster assignment: 0.0    error, or distance from cluster centroid to current point: 183.677510465\n",
      "cluster assignment: 0.0    error, or distance from cluster centroid to current point: 408.73468198\n",
      "cluster assignment: 0.0    error, or distance from cluster centroid to current point: 598.618332933\n",
      "cluster assignment: 0.0    error, or distance from cluster centroid to current point: 30.7286639256\n",
      "cluster assignment: 0.0    error, or distance from cluster centroid to current point: 25.1398976267\n",
      "cluster assignment: 0.0    error, or distance from cluster centroid to current point: 31.5651734542\n",
      "cluster assignment: 0.0    error, or distance from cluster centroid to current point: 61.8610611172\n",
      "cluster assignment: 0.0    error, or distance from cluster centroid to current point: 137.757751187\n",
      "cluster assignment: 0.0    error, or distance from cluster centroid to current point: 66.8771092616\n",
      "cluster assignment: 0.0    error, or distance from cluster centroid to current point: 39.7246518895\n",
      "cluster assignment: 0.0    error, or distance from cluster centroid to current point: 284.987440255\n",
      "cluster assignment: 0.0    error, or distance from cluster centroid to current point: 44.6574502847\n",
      "cluster assignment: 0.0    error, or distance from cluster centroid to current point: 282.974401137\n",
      "cluster assignment: 0.0    error, or distance from cluster centroid to current point: 96.6734984291\n",
      "cluster assignment: 0.0    error, or distance from cluster centroid to current point: 82.0135184893\n",
      "cluster assignment: 0.0    error, or distance from cluster centroid to current point: 196.279315881\n",
      "cluster assignment: 0.0    error, or distance from cluster centroid to current point: 46.2823249085\n",
      "cluster assignment: 0.0    error, or distance from cluster centroid to current point: 172.968383083\n",
      "cluster assignment: 0.0    error, or distance from cluster centroid to current point: 393.892154397\n",
      "cluster assignment: 0.0    error, or distance from cluster centroid to current point: 220.860058108\n",
      "cluster assignment: 0.0    error, or distance from cluster centroid to current point: 62.8761062526\n",
      "cluster assignment: 0.0    error, or distance from cluster centroid to current point: 100.839997928\n",
      "cluster assignment: 0.0    error, or distance from cluster centroid to current point: 144.943307857\n",
      "cluster assignment: 0.0    error, or distance from cluster centroid to current point: 89.7838294221\n",
      "cluster assignment: 0.0    error, or distance from cluster centroid to current point: 94.1719939155\n",
      "cluster assignment: 0.0    error, or distance from cluster centroid to current point: 139.689546574\n",
      "cluster assignment: 0.0    error, or distance from cluster centroid to current point: 52.4077010369\n",
      "cluster assignment: 0.0    error, or distance from cluster centroid to current point: 337.104792311\n",
      "cluster assignment: 0.0    error, or distance from cluster centroid to current point: 126.49696884\n",
      "cluster assignment: 0.0    error, or distance from cluster centroid to current point: 137.35253554\n",
      "cluster assignment: 0.0    error, or distance from cluster centroid to current point: 84.5651734542\n",
      "cluster assignment: 0.0    error, or distance from cluster centroid to current point: 209.353538549\n",
      "cluster assignment: 0.0    error, or distance from cluster centroid to current point: 70.1810209968\n",
      "cluster assignment: 0.0    error, or distance from cluster centroid to current point: 259.501983885\n",
      "cluster assignment: 0.0    error, or distance from cluster centroid to current point: 795.090750184\n",
      "cluster assignment: 0.0    error, or distance from cluster centroid to current point: 398.640399131\n",
      "cluster assignment: 0.0    error, or distance from cluster centroid to current point: 351.564170445\n",
      "cluster assignment: 0.0    error, or distance from cluster centroid to current point: 106.127861518\n",
      "cluster assignment: 0.0    error, or distance from cluster centroid to current point: 192.520038048\n",
      "cluster assignment: 0.0    error, or distance from cluster centroid to current point: 50.0085034441\n",
      "cluster assignment: 0.0    error, or distance from cluster centroid to current point: 24.6283630229\n",
      "cluster assignment: 0.0    error, or distance from cluster centroid to current point: 155.565173454\n",
      "cluster assignment: 0.0    error, or distance from cluster centroid to current point: 4469.81893474\n",
      "cluster assignment: 0.0    error, or distance from cluster centroid to current point: 84.3685836849\n",
      "cluster assignment: 0.0    error, or distance from cluster centroid to current point: 59.1398976267\n",
      "cluster assignment: 0.0    error, or distance from cluster centroid to current point: 132.995464327\n",
      "cluster assignment: 0.0    error, or distance from cluster centroid to current point: 34.9834282185\n",
      "cluster assignment: 0.0    error, or distance from cluster centroid to current point: 594.709606754\n",
      "cluster assignment: 0.0    error, or distance from cluster centroid to current point: 40.8841303248\n",
      "cluster assignment: 0.0    error, or distance from cluster centroid to current point: 32.2422045474\n",
      "cluster assignment: 0.0    error, or distance from cluster centroid to current point: 73.2331774662\n",
      "cluster assignment: 0.0    error, or distance from cluster centroid to current point: 150.960359011\n",
      "cluster assignment: 0.0    error, or distance from cluster centroid to current point: 147.440800335\n",
      "cluster assignment: 0.0    error, or distance from cluster centroid to current point: 41.4708906056\n",
      "cluster assignment: 0.0    error, or distance from cluster centroid to current point: 111.485935741\n",
      "cluster assignment: 0.0    error, or distance from cluster centroid to current point: 129.287339954\n",
      "cluster assignment: 0.0    error, or distance from cluster centroid to current point: 72.5411012375\n",
      "cluster assignment: 0.0    error, or distance from cluster centroid to current point: 364.051632832\n",
      "cluster assignment: 0.0    error, or distance from cluster centroid to current point: 57.1489247079\n",
      "cluster assignment: 0.0    error, or distance from cluster centroid to current point: 220.099777266\n",
      "cluster assignment: 0.0    error, or distance from cluster centroid to current point: 188.784832431\n",
      "cluster assignment: 0.0    error, or distance from cluster centroid to current point: 48.6654743569\n",
      "cluster assignment: 0.0    error, or distance from cluster centroid to current point: 158.923247677\n",
      "cluster assignment: 0.0    error, or distance from cluster centroid to current point: 108.355544568\n",
      "cluster assignment: 0.0    error, or distance from cluster centroid to current point: 226.037590706\n",
      "cluster assignment: 0.0    error, or distance from cluster centroid to current point: 385.689546574\n",
      "cluster assignment: 0.0    error, or distance from cluster centroid to current point: 356.401682983\n",
      "cluster assignment: 0.0    error, or distance from cluster centroid to current point: 241.488944768\n",
      "cluster assignment: 0.0    error, or distance from cluster centroid to current point: 110.170990907\n",
      "cluster assignment: 0.0    error, or distance from cluster centroid to current point: 96.7366879978\n",
      "cluster assignment: 0.0    error, or distance from cluster centroid to current point: 168.907199532\n",
      "cluster assignment: 0.0    error, or distance from cluster centroid to current point: 49.4157251091\n",
      "cluster assignment: 0.0    error, or distance from cluster centroid to current point: 54.4939598132\n",
      "cluster assignment: 0.0    error, or distance from cluster centroid to current point: 29.818934738\n",
      "cluster assignment: 0.0    error, or distance from cluster centroid to current point: 50.8720942165\n",
      "cluster assignment: 0.0    error, or distance from cluster centroid to current point: 97.5160260118\n",
      "cluster assignment: 0.0    error, or distance from cluster centroid to current point: 569.56918549\n",
      "cluster assignment: 0.0    error, or distance from cluster centroid to current point: 210.944310866\n",
      "cluster assignment: 0.0    error, or distance from cluster centroid to current point: 123.767781278\n",
      "cluster assignment: 0.0    error, or distance from cluster centroid to current point: 165.943307857\n",
      "cluster assignment: 0.0    error, or distance from cluster centroid to current point: 340.100780275\n",
      "cluster assignment: 0.0    error, or distance from cluster centroid to current point: 150.769787296\n",
      "cluster assignment: 0.0    error, or distance from cluster centroid to current point: 316.224150385\n",
      "cluster assignment: 0.0    error, or distance from cluster centroid to current point: 92.2582526919\n",
      "cluster assignment: 0.0    error, or distance from cluster centroid to current point: 442.485935741\n",
      "cluster assignment: 0.0    error, or distance from cluster centroid to current point: 59.8410009366\n",
      "cluster assignment: 0.0    error, or distance from cluster centroid to current point: 20.8008805755\n",
      "cluster assignment: 0.0    error, or distance from cluster centroid to current point: 1460.21813233\n",
      "cluster assignment: 0.0    error, or distance from cluster centroid to current point: 72.1489247079\n",
      "cluster assignment: 0.0    error, or distance from cluster centroid to current point: 379.408704046\n",
      "cluster assignment: 0.0    error, or distance from cluster centroid to current point: 495.906196523\n",
      "cluster assignment: 0.0    error, or distance from cluster centroid to current point: 272.698573655\n",
      "cluster assignment: 0.0    error, or distance from cluster centroid to current point: 65.7276609166\n",
      "cluster assignment: 0.0    error, or distance from cluster centroid to current point: 239.429767236\n",
      "cluster assignment: 0.0    error, or distance from cluster centroid to current point: 114.832976864\n",
      "cluster assignment: 0.0    error, or distance from cluster centroid to current point: 58.0817231031\n",
      "cluster assignment: 0.0    error, or distance from cluster centroid to current point: 103.812916684\n",
      "cluster assignment: 0.0    error, or distance from cluster centroid to current point: 134.251231629\n",
      "cluster assignment: 0.0    error, or distance from cluster centroid to current point: 71.5802185896\n",
      "cluster assignment: 0.0    error, or distance from cluster centroid to current point: 43.7778113679\n",
      "cluster assignment: 0.0    error, or distance from cluster centroid to current point: 277.921241659\n",
      "cluster assignment: 0.0    error, or distance from cluster centroid to current point: 22.9623650289\n",
      "cluster assignment: 0.0    error, or distance from cluster centroid to current point: 163.207099231\n",
      "cluster assignment: 0.0    error, or distance from cluster centroid to current point: 213.130870545\n",
      "cluster assignment: 0.0    error, or distance from cluster centroid to current point: 76.1920540961\n",
      "cluster assignment: 0.0    error, or distance from cluster centroid to current point: 42.0355846879\n",
      "cluster assignment: 0.0    error, or distance from cluster centroid to current point: 45.2953640259\n",
      "cluster assignment: 0.0    error, or distance from cluster centroid to current point: 50.1770089607\n",
      "cluster assignment: 0.0    error, or distance from cluster centroid to current point: 460.926256704\n",
      "cluster assignment: 0.0    error, or distance from cluster centroid to current point: 81.6895465735\n",
      "cluster assignment: 0.0    error, or distance from cluster centroid to current point: 46.818934738\n",
      "cluster assignment: 0.0    error, or distance from cluster centroid to current point: 70.0335786698\n",
      "cluster assignment: 0.0    error, or distance from cluster centroid to current point: 272.4147221\n",
      "cluster assignment: 0.0    error, or distance from cluster centroid to current point: 126.881121298\n",
      "cluster assignment: 0.0    error, or distance from cluster centroid to current point: 62.18804206\n",
      "cluster assignment: 0.0    error, or distance from cluster centroid to current point: 369.792856503\n",
      "cluster assignment: 0.0    error, or distance from cluster centroid to current point: 65629.4367883\n",
      "cluster assignment: 0.0    error, or distance from cluster centroid to current point: 206.527059111\n",
      "cluster assignment: 0.0    error, or distance from cluster centroid to current point: 88.2893459717\n",
      "cluster assignment: 0.0    error, or distance from cluster centroid to current point: 341.062665932\n",
      "cluster assignment: 0.0    error, or distance from cluster centroid to current point: 125.388643865\n",
      "cluster assignment: 0.0    error, or distance from cluster centroid to current point: 789.208102241\n",
      "cluster assignment: 0.0    error, or distance from cluster centroid to current point: 66.1910510871\n",
      "cluster assignment: 0.0    error, or distance from cluster centroid to current point: 147.668483384\n",
      "cluster assignment: 0.0    error, or distance from cluster centroid to current point: 26.4939598132\n",
      "cluster assignment: 0.0    error, or distance from cluster centroid to current point: 32.9402988303\n",
      "cluster assignment: 0.0    error, or distance from cluster centroid to current point: 66.0997772656\n",
      "cluster assignment: 0.0    error, or distance from cluster centroid to current point: 25.4969688403\n",
      "cluster assignment: 0.0    error, or distance from cluster centroid to current point: 44.7386940158\n",
      "cluster assignment: 0.0    error, or distance from cluster centroid to current point: 68.9874402546\n",
      "cluster assignment: 0.0    error, or distance from cluster centroid to current point: 58.8399979276\n",
      "cluster assignment: 0.0    error, or distance from cluster centroid to current point: 23.8751032435\n",
      "cluster assignment: 0.0    error, or distance from cluster centroid to current point: 14.5501283188\n",
      "cluster assignment: 0.0    error, or distance from cluster centroid to current point: 357.228162421\n",
      "cluster assignment: 0.0    error, or distance from cluster centroid to current point: 145.062665932\n",
      "cluster assignment: 0.0    error, or distance from cluster centroid to current point: 464.965374056\n",
      "cluster assignment: 0.0    error, or distance from cluster centroid to current point: 4015.42374918\n",
      "cluster assignment: 0.0    error, or distance from cluster centroid to current point: 101.687540555\n",
      "cluster assignment: 0.0    error, or distance from cluster centroid to current point: 213.809907657\n",
      "cluster assignment: 0.0    error, or distance from cluster centroid to current point: 95.2793158814\n",
      "cluster assignment: 0.0    error, or distance from cluster centroid to current point: 82.0355846879\n",
      "cluster assignment: 0.0    error, or distance from cluster centroid to current point: 1154.50298689\n",
      "cluster assignment: 0.0    error, or distance from cluster centroid to current point: 124.777811368\n",
      "cluster assignment: 0.0    error, or distance from cluster centroid to current point: 105.787841458\n",
      "cluster assignment: 0.0    error, or distance from cluster centroid to current point: 82.5431072556\n",
      "cluster assignment: 0.0    error, or distance from cluster centroid to current point: 243.47690866\n",
      "cluster assignment: 0.0    error, or distance from cluster centroid to current point: 28.5491253097\n",
      "cluster assignment: 0.0    error, or distance from cluster centroid to current point: 2552.35454156\n",
      "cluster assignment: 0.0    error, or distance from cluster centroid to current point: 14.5451132736\n",
      "cluster assignment: 0.0    error, or distance from cluster centroid to current point: 41.4077010369\n",
      "cluster assignment: 0.0    error, or distance from cluster centroid to current point: 111.766778269\n",
      "cluster assignment: 0.0    error, or distance from cluster centroid to current point: 33.6002787701\n",
      "cluster assignment: 0.0    error, or distance from cluster centroid to current point: 256.86808218\n",
      "cluster assignment: 0.0    error, or distance from cluster centroid to current point: 122.48693875\n",
      "cluster assignment: 0.0    error, or distance from cluster centroid to current point: 272.013518489\n",
      "cluster assignment: 0.0    error, or distance from cluster centroid to current point: 62.6544412576\n",
      "cluster assignment: 0.0    error, or distance from cluster centroid to current point: 97.6985736548\n",
      "cluster assignment: 0.0    error, or distance from cluster centroid to current point: 63.9372898032\n",
      "cluster assignment: 0.0    error, or distance from cluster centroid to current point: 61.8981724512\n",
      "cluster assignment: 0.0    error, or distance from cluster centroid to current point: 91.2502286197\n",
      "cluster assignment: 0.0    error, or distance from cluster centroid to current point: 157.923247677\n",
      "cluster assignment: 0.0    error, or distance from cluster centroid to current point: 91.5049929125\n",
      "cluster assignment: 0.0    error, or distance from cluster centroid to current point: 155.980419191\n",
      "cluster assignment: 0.0    error, or distance from cluster centroid to current point: 238.03357867\n",
      "cluster assignment: 0.0    error, or distance from cluster centroid to current point: 97.1760059517\n",
      "cluster assignment: 0.0    error, or distance from cluster centroid to current point: 101.252234638\n",
      "cluster assignment: 0.0    error, or distance from cluster centroid to current point: 73.5782125715\n",
      "cluster assignment: 0.0    error, or distance from cluster centroid to current point: 73.5009808764\n",
      "cluster assignment: 0.0    error, or distance from cluster centroid to current point: 37.1910510871\n",
      "cluster assignment: 0.0    error, or distance from cluster centroid to current point: 95.8951634241\n",
      "cluster assignment: 0.0    error, or distance from cluster centroid to current point: 141.97139211\n",
      "cluster assignment: 0.0    error, or distance from cluster centroid to current point: 249.982425209\n",
      "cluster assignment: 0.0    error, or distance from cluster centroid to current point: 151.701582682\n",
      "cluster assignment: 0.0    error, or distance from cluster centroid to current point: 178.162966834\n",
      "cluster assignment: 0.0    error, or distance from cluster centroid to current point: 291.832976864\n",
      "cluster assignment: 0.0    error, or distance from cluster centroid to current point: 2667.48593574\n",
      "cluster assignment: 0.0    error, or distance from cluster centroid to current point: 57.5752035444\n",
      "cluster assignment: 0.0    error, or distance from cluster centroid to current point: 148.685534537\n",
      "cluster assignment: 0.0    error, or distance from cluster centroid to current point: 170.988443264\n",
      "cluster assignment: 0.0    error, or distance from cluster centroid to current point: 93.560158409\n",
      "cluster assignment: 0.0    error, or distance from cluster centroid to current point: 356.722645871\n",
      "cluster assignment: 0.0    error, or distance from cluster centroid to current point: 300.151933735\n",
      "cluster assignment: 0.0    error, or distance from cluster centroid to current point: 163.176005952\n",
      "cluster assignment: 0.0    error, or distance from cluster centroid to current point: 95.0917531934\n",
      "cluster assignment: 0.0    error, or distance from cluster centroid to current point: 146.430770245\n",
      "cluster assignment: 0.0    error, or distance from cluster centroid to current point: 63.6985736548\n",
      "cluster assignment: 0.0    error, or distance from cluster centroid to current point: 743.995464327\n",
      "cluster assignment: 0.0    error, or distance from cluster centroid to current point: 92.8420039456\n",
      "cluster assignment: 0.0    error, or distance from cluster centroid to current point: 75.1910510871\n",
      "cluster assignment: 0.0    error, or distance from cluster centroid to current point: 92.6373901041\n",
      "cluster assignment: 0.0    error, or distance from cluster centroid to current point: 64.3314723509\n",
      "cluster assignment: 0.0    error, or distance from cluster centroid to current point: 51.5661764632\n",
      "cluster assignment: 0.0    error, or distance from cluster centroid to current point: 106.517029021\n",
      "cluster assignment: 0.0    error, or distance from cluster centroid to current point: 28.669486393\n",
      "cluster assignment: 0.0    error, or distance from cluster centroid to current point: 56.8490250088\n",
      "cluster assignment: 0.0    error, or distance from cluster centroid to current point: 50.9874402546\n",
      "cluster assignment: 0.0    error, or distance from cluster centroid to current point: 301.312415179\n",
      "cluster assignment: 0.0    error, or distance from cluster centroid to current point: 24.8670791713\n",
      "cluster assignment: 0.0    error, or distance from cluster centroid to current point: 66.1539397531\n",
      "cluster assignment: 0.0    error, or distance from cluster centroid to current point: 1185.27329783\n",
      "cluster assignment: 0.0    error, or distance from cluster centroid to current point: 146.245213575\n",
      "cluster assignment: 0.0    error, or distance from cluster centroid to current point: 811.724651889\n",
      "cluster assignment: 0.0    error, or distance from cluster centroid to current point: 65.0426057511\n",
      "cluster assignment: 0.0    error, or distance from cluster centroid to current point: 255.323448279\n",
      "cluster assignment: 0.0    error, or distance from cluster centroid to current point: 314.740700034\n",
      "cluster assignment: 0.0    error, or distance from cluster centroid to current point: 156.787841458\n",
      "cluster assignment: 0.0    error, or distance from cluster centroid to current point: 363.04360876\n",
      "cluster assignment: 0.0    error, or distance from cluster centroid to current point: 149.958352993\n",
      "cluster assignment: 0.0    error, or distance from cluster centroid to current point: 537.308403143\n",
      "cluster assignment: 0.0    error, or distance from cluster centroid to current point: 119.658453294\n",
      "cluster assignment: 0.0    error, or distance from cluster centroid to current point: 71.0857351392\n",
      "cluster assignment: 0.0    error, or distance from cluster centroid to current point: 21.521041057\n",
      "cluster assignment: 0.0    error, or distance from cluster centroid to current point: 116.377610766\n",
      "cluster assignment: 0.0    error, or distance from cluster centroid to current point: 107.571191508\n",
      "cluster assignment: 0.0    error, or distance from cluster centroid to current point: 51.8018835846\n",
      "cluster assignment: 0.0    error, or distance from cluster centroid to current point: 93.2743008363\n",
      "cluster assignment: 0.0    error, or distance from cluster centroid to current point: 85.4578514883\n",
      "cluster assignment: 0.0    error, or distance from cluster centroid to current point: 110.008503444\n",
      "cluster assignment: 0.0    error, or distance from cluster centroid to current point: 2020.04360876\n",
      "cluster assignment: 0.0    error, or distance from cluster centroid to current point: 38.6203389507\n",
      "cluster assignment: 0.0    error, or distance from cluster centroid to current point: 543.120840455\n",
      "cluster assignment: 0.0    error, or distance from cluster centroid to current point: 629.762766232\n",
      "cluster assignment: 0.0    error, or distance from cluster centroid to current point: 402.619335942\n",
      "cluster assignment: 0.0    error, or distance from cluster centroid to current point: 73.8068986297\n",
      "cluster assignment: 0.0    error, or distance from cluster centroid to current point: 40.1840300239\n",
      "cluster assignment: 0.0    error, or distance from cluster centroid to current point: 481.359556604\n",
      "cluster assignment: 0.0    error, or distance from cluster centroid to current point: 56.2853339356\n",
      "cluster assignment: 0.0    error, or distance from cluster centroid to current point: 88.1027862927\n",
      "cluster assignment: 0.0    error, or distance from cluster centroid to current point: 852.287339954\n",
      "cluster assignment: 0.0    error, or distance from cluster centroid to current point: 107.211111268\n",
      "cluster assignment: 0.0    error, or distance from cluster centroid to current point: 73.3124151793\n",
      "cluster assignment: 0.0    error, or distance from cluster centroid to current point: 55.7236488804\n",
      "cluster assignment: 0.0    error, or distance from cluster centroid to current point: 58.742706052\n",
      "cluster assignment: 0.0    error, or distance from cluster centroid to current point: 133.31141217\n",
      "cluster assignment: 0.0    error, or distance from cluster centroid to current point: 108.128864527\n",
      "cluster assignment: 0.0    error, or distance from cluster centroid to current point: 50.894160415\n",
      "cluster assignment: 0.0    error, or distance from cluster centroid to current point: 90.1007802746\n",
      "cluster assignment: 0.0    error, or distance from cluster centroid to current point: 19.2040902044\n",
      "cluster assignment: 0.0    error, or distance from cluster centroid to current point: 635.593257707\n",
      "cluster assignment: 0.0    error, or distance from cluster centroid to current point: 91.189045069\n",
      "cluster assignment: 0.0    error, or distance from cluster centroid to current point: 87.7166278173\n",
      "cluster assignment: 0.0    error, or distance from cluster centroid to current point: 215.458854497\n",
      "cluster assignment: 0.0    error, or distance from cluster centroid to current point: 271.896166433\n",
      "cluster assignment: 0.0    error, or distance from cluster centroid to current point: 726.133879573\n",
      "cluster assignment: 0.0    error, or distance from cluster centroid to current point: 211.306397125\n",
      "cluster assignment: 0.0    error, or distance from cluster centroid to current point: 48.0476207962\n",
      "cluster assignment: 0.0    error, or distance from cluster centroid to current point: 300.688543564\n",
      "cluster assignment: 0.0    error, or distance from cluster centroid to current point: 26.0476207962\n",
      "cluster assignment: 0.0    error, or distance from cluster centroid to current point: 59.4217431633\n",
      "cluster assignment: 0.0    error, or distance from cluster centroid to current point: 220.755745169\n",
      "cluster assignment: 0.0    error, or distance from cluster centroid to current point: 175.592254698\n",
      "cluster assignment: 0.0    error, or distance from cluster centroid to current point: 94.5360861924\n",
      "cluster assignment: 0.0    error, or distance from cluster centroid to current point: 136.006497426\n",
      "cluster assignment: 0.0    error, or distance from cluster centroid to current point: 120.976407155\n",
      "cluster assignment: 0.0    error, or distance from cluster centroid to current point: 61.1750029426\n",
      "cluster assignment: 0.0    error, or distance from cluster centroid to current point: 150.912214578\n",
      "cluster assignment: 0.0    error, or distance from cluster centroid to current point: 812.618332933\n",
      "cluster assignment: 0.0    error, or distance from cluster centroid to current point: 95.8058956207\n",
      "cluster assignment: 0.0    error, or distance from cluster centroid to current point: 854.168984888\n",
      "cluster assignment: 0.0    error, or distance from cluster centroid to current point: 347.196066132\n",
      "cluster assignment: 0.0    error, or distance from cluster centroid to current point: 68.3966679376\n",
      "cluster assignment: 0.0    error, or distance from cluster centroid to current point: 272.068683986\n",
      "cluster assignment: 0.0    error, or distance from cluster centroid to current point: 93.5782125715\n",
      "cluster assignment: 0.0    error, or distance from cluster centroid to current point: 75.5942607159\n",
      "cluster assignment: 0.0    error, or distance from cluster centroid to current point: 52.3284633238\n",
      "cluster assignment: 0.0    error, or distance from cluster centroid to current point: 241.292354999\n",
      "cluster assignment: 0.0    error, or distance from cluster centroid to current point: 140.7035887\n",
      "cluster assignment: 0.0    error, or distance from cluster centroid to current point: 627.196066132\n",
      "cluster assignment: 0.0    error, or distance from cluster centroid to current point: 57.2522346377\n",
      "cluster assignment: 0.0    error, or distance from cluster centroid to current point: 36.9382928122\n",
      "cluster assignment: 0.0    error, or distance from cluster centroid to current point: 35.1088043468\n",
      "cluster assignment: 0.0    error, or distance from cluster centroid to current point: 292.81692872\n",
      "cluster assignment: 0.0    error, or distance from cluster centroid to current point: 26.2231473759\n",
      "cluster assignment: 0.0    error, or distance from cluster centroid to current point: 68.5541403549\n",
      "cluster assignment: 0.0    error, or distance from cluster centroid to current point: 46.114822401\n",
      "cluster assignment: 0.0    error, or distance from cluster centroid to current point: 33.1419036447\n",
      "cluster assignment: 0.0    error, or distance from cluster centroid to current point: 46.0596569045\n",
      "cluster assignment: 0.0    error, or distance from cluster centroid to current point: 247.592254698\n",
      "cluster assignment: 0.0    error, or distance from cluster centroid to current point: 143.46587556\n",
      "cluster assignment: 0.0    error, or distance from cluster centroid to current point: 179.343508459\n",
      "cluster assignment: 0.0    error, or distance from cluster centroid to current point: 195.585233635\n",
      "cluster assignment: 0.0    error, or distance from cluster centroid to current point: 47.9463168845\n",
      "cluster assignment: 0.0    error, or distance from cluster centroid to current point: 144.74471207\n",
      "cluster assignment: 0.0    error, or distance from cluster centroid to current point: 183.088744166\n",
      "cluster assignment: 0.0    error, or distance from cluster centroid to current point: 58.9382928122\n",
      "cluster assignment: 0.0    error, or distance from cluster centroid to current point: 160.717630826\n",
      "cluster assignment: 0.0    error, or distance from cluster centroid to current point: 58.4438093619\n",
      "cluster assignment: 0.0    error, or distance from cluster centroid to current point: 92.3515325314\n",
      "cluster assignment: 0.0    error, or distance from cluster centroid to current point: 128.096768239\n",
      "cluster assignment: 0.0    error, or distance from cluster centroid to current point: 57.337490405\n",
      "cluster assignment: 0.0    error, or distance from cluster centroid to current point: 85.3394964231\n",
      "cluster assignment: 0.0    error, or distance from cluster centroid to current point: 95.9623650289\n",
      "cluster assignment: 0.0    error, or distance from cluster centroid to current point: 191.805895621\n",
      "cluster assignment: 0.0    error, or distance from cluster centroid to current point: 130.692555601\n",
      "cluster assignment: 0.0    error, or distance from cluster centroid to current point: 72.6042908062\n",
      "cluster assignment: 0.0    error, or distance from cluster centroid to current point: 54.9413018393\n",
      "cluster assignment: 0.0    error, or distance from cluster centroid to current point: 16.670489402\n",
      "cluster assignment: 0.0    error, or distance from cluster centroid to current point: 28.8279618193\n",
      "cluster assignment: 0.0    error, or distance from cluster centroid to current point: 34.8801182887\n",
      "cluster assignment: 0.0    error, or distance from cluster centroid to current point: 206.72364888\n",
      "cluster assignment: 0.0    error, or distance from cluster centroid to current point: 268.142906654\n",
      "cluster assignment: 0.0    error, or distance from cluster centroid to current point: 194.740700034\n",
      "cluster assignment: 0.0    error, or distance from cluster centroid to current point: 108.31141217\n",
      "cluster assignment: 0.0    error, or distance from cluster centroid to current point: 78.9102085595\n",
      "cluster assignment: 0.0    error, or distance from cluster centroid to current point: 32.8650731533\n",
      "cluster assignment: 0.0    error, or distance from cluster centroid to current point: 109.244210565\n",
      "cluster assignment: 0.0    error, or distance from cluster centroid to current point: 92.2351834843\n",
      "cluster assignment: 0.0    error, or distance from cluster centroid to current point: 36.3886438654\n",
      "cluster assignment: 0.0    error, or distance from cluster centroid to current point: 683.786838449\n",
      "cluster assignment: 0.0    error, or distance from cluster centroid to current point: 46.558152391\n",
      "cluster assignment: 0.0    error, or distance from cluster centroid to current point: 45.0285636247\n",
      "cluster assignment: 0.0    error, or distance from cluster centroid to current point: 227.642405149\n",
      "cluster assignment: 0.0    error, or distance from cluster centroid to current point: 232.063668941\n",
      "cluster assignment: 0.0    error, or distance from cluster centroid to current point: 84.4428063529\n",
      "cluster assignment: 0.0    error, or distance from cluster centroid to current point: 129.657450285\n",
      "cluster assignment: 0.0    error, or distance from cluster centroid to current point: 523.042605751\n",
      "cluster assignment: 0.0    error, or distance from cluster centroid to current point: 51.2111112676\n",
      "cluster assignment: 0.0    error, or distance from cluster centroid to current point: 106.479917687\n",
      "cluster assignment: 0.0    error, or distance from cluster centroid to current point: 36.9162266136\n",
      "cluster assignment: 0.0    error, or distance from cluster centroid to current point: 79.8831273157\n",
      "cluster assignment: 0.0    error, or distance from cluster centroid to current point: 58.1278615184\n",
      "cluster assignment: 1.0    error, or distance from cluster centroid to current point: 211141.5\n",
      "cluster assignment: 0.0    error, or distance from cluster centroid to current point: 48.1940601141\n",
      "cluster assignment: 0.0    error, or distance from cluster centroid to current point: 131.605293815\n",
      "cluster assignment: 0.0    error, or distance from cluster centroid to current point: 73.5982727521\n",
      "cluster assignment: 0.0    error, or distance from cluster centroid to current point: 117.793859512\n",
      "cluster assignment: 0.0    error, or distance from cluster centroid to current point: 373.140900636\n",
      "cluster assignment: 0.0    error, or distance from cluster centroid to current point: 83.6424051492\n",
      "cluster assignment: 0.0    error, or distance from cluster centroid to current point: 192.313418188\n",
      "cluster assignment: 0.0    error, or distance from cluster centroid to current point: 16470.4157251\n",
      "cluster assignment: 0.0    error, or distance from cluster centroid to current point: 449.974401137\n",
      "cluster assignment: 0.0    error, or distance from cluster centroid to current point: 130.475905651\n",
      "cluster assignment: 0.0    error, or distance from cluster centroid to current point: 152.670489402\n",
      "cluster assignment: 0.0    error, or distance from cluster centroid to current point: 143.753739151\n",
      "cluster assignment: 0.0    error, or distance from cluster centroid to current point: 37.1288645274\n",
      "cluster assignment: 0.0    error, or distance from cluster centroid to current point: 121.317430224\n",
      "cluster assignment: 0.0    error, or distance from cluster centroid to current point: 161.990449282\n",
      "cluster assignment: 0.0    error, or distance from cluster centroid to current point: 18.7748023408\n",
      "cluster assignment: 0.0    error, or distance from cluster centroid to current point: 563.915223605\n",
      "cluster assignment: 0.0    error, or distance from cluster centroid to current point: 72.5812215986\n",
      "cluster assignment: 0.0    error, or distance from cluster centroid to current point: 597.762766232\n",
      "cluster assignment: 0.0    error, or distance from cluster centroid to current point: 2738.8590551\n",
      "cluster assignment: 0.0    error, or distance from cluster centroid to current point: 140.636387095\n",
      "cluster assignment: 0.0    error, or distance from cluster centroid to current point: 480.655444267\n",
      "cluster assignment: 0.0    error, or distance from cluster centroid to current point: 111.036587697\n",
      "cluster assignment: 0.0    error, or distance from cluster centroid to current point: 378.454842461\n",
      "cluster assignment: 0.0    error, or distance from cluster centroid to current point: 38.0486238052\n",
      "cluster assignment: 0.0    error, or distance from cluster centroid to current point: 41.0757050489\n",
      "cluster assignment: 0.0    error, or distance from cluster centroid to current point: 52.8359858915\n",
      "cluster assignment: 0.0    error, or distance from cluster centroid to current point: 16.669486393\n",
      "cluster assignment: 0.0    error, or distance from cluster centroid to current point: 222.14691869\n",
      "cluster assignment: 0.0    error, or distance from cluster centroid to current point: 84.8861363428\n",
      "cluster assignment: 0.0    error, or distance from cluster centroid to current point: 1055.67249542\n",
      "cluster assignment: 0.0    error, or distance from cluster centroid to current point: 43.0466177872\n",
      "cluster assignment: 0.0    error, or distance from cluster centroid to current point: 231.032575661\n",
      "cluster assignment: 0.0    error, or distance from cluster centroid to current point: 101.30138208\n",
      "cluster assignment: 0.0    error, or distance from cluster centroid to current point: 125.095765229\n",
      "cluster assignment: 0.0    error, or distance from cluster centroid to current point: 220.255243665\n",
      "cluster assignment: 0.0    error, or distance from cluster centroid to current point: 25.2462165836\n",
      "cluster assignment: 0.0    error, or distance from cluster centroid to current point: 112.663468339\n",
      "cluster assignment: 0.0    error, or distance from cluster centroid to current point: 117.26025871\n",
      "cluster assignment: 0.0    error, or distance from cluster centroid to current point: 155.738694016\n",
      "cluster assignment: 0.0    error, or distance from cluster centroid to current point: 108.351532531\n",
      "cluster assignment: 0.0    error, or distance from cluster centroid to current point: 158.108804347\n",
      "cluster assignment: 0.0    error, or distance from cluster centroid to current point: 369.385634838\n",
      "cluster assignment: 0.0    error, or distance from cluster centroid to current point: 141.375604748\n",
      "cluster assignment: 0.0    error, or distance from cluster centroid to current point: 28.3043911071\n",
      "cluster assignment: 0.0    error, or distance from cluster centroid to current point: 321.901181478\n",
      "cluster assignment: 0.0    error, or distance from cluster centroid to current point: 20.3665776668\n",
      "cluster assignment: 2.0    error, or distance from cluster centroid to current point: 0.0\n",
      "cluster assignment: 0.0    error, or distance from cluster centroid to current point: 102.452836443\n",
      "cluster assignment: 0.0    error, or distance from cluster centroid to current point: 98.0446117691\n",
      "cluster assignment: 0.0    error, or distance from cluster centroid to current point: 128.128864527\n",
      "cluster assignment: 0.0    error, or distance from cluster centroid to current point: 58.6945616187\n",
      "cluster assignment: 0.0    error, or distance from cluster centroid to current point: 142.700579673\n",
      "cluster assignment: 0.0    error, or distance from cluster centroid to current point: 265.67249542\n",
      "cluster assignment: 0.0    error, or distance from cluster centroid to current point: 183.829967837\n",
      "cluster assignment: 0.0    error, or distance from cluster centroid to current point: 90.375604748\n",
      "cluster assignment: 0.0    error, or distance from cluster centroid to current point: 163.441803344\n",
      "cluster assignment: 0.0    error, or distance from cluster centroid to current point: 313.303388098\n",
      "cluster assignment: 0.0    error, or distance from cluster centroid to current point: 72.0054944171\n",
      "cluster assignment: 0.0    error, or distance from cluster centroid to current point: 281.080720094\n",
      "cluster assignment: 0.0    error, or distance from cluster centroid to current point: 208.049626814\n",
      "cluster assignment: 0.0    error, or distance from cluster centroid to current point: 148.318433234\n",
      "cluster assignment: 0.0    error, or distance from cluster centroid to current point: 65.2712918092\n",
      "cluster assignment: 0.0    error, or distance from cluster centroid to current point: 400.110810365\n",
      "cluster assignment: 0.0    error, or distance from cluster centroid to current point: 122.536086192\n",
      "cluster assignment: 0.0    error, or distance from cluster centroid to current point: 76.4949628223\n",
      "cluster assignment: 0.0    error, or distance from cluster centroid to current point: 191.674501438\n",
      "cluster assignment: 0.0    error, or distance from cluster centroid to current point: 38.6193359416\n",
      "cluster assignment: 0.0    error, or distance from cluster centroid to current point: 239.480920696\n",
      "cluster assignment: 0.0    error, or distance from cluster centroid to current point: 126.477911669\n",
      "cluster assignment: 0.0    error, or distance from cluster centroid to current point: 188.233177466\n",
      "cluster assignment: 0.0    error, or distance from cluster centroid to current point: 309.947319893\n",
      "cluster assignment: 0.0    error, or distance from cluster centroid to current point: 52.078714076\n",
      "cluster assignment: 0.0    error, or distance from cluster centroid to current point: 54.6143208965\n",
      "cluster assignment: 0.0    error, or distance from cluster centroid to current point: 132.313418188\n",
      "cluster assignment: 0.0    error, or distance from cluster centroid to current point: 56.0245515886\n",
      "cluster assignment: 0.0    error, or distance from cluster centroid to current point: 58.6614623208\n",
      "cluster assignment: 0.0    error, or distance from cluster centroid to current point: 130.843006955\n",
      "cluster assignment: 0.0    error, or distance from cluster centroid to current point: 87.3144211974\n",
      "cluster assignment: 0.0    error, or distance from cluster centroid to current point: 97.5982727521\n",
      "cluster assignment: 0.0    error, or distance from cluster centroid to current point: 22.8851333338\n",
      "cluster assignment: 0.0    error, or distance from cluster centroid to current point: 44.8309708463\n",
      "cluster assignment: 0.0    error, or distance from cluster centroid to current point: 809.267279773\n",
      "cluster assignment: 0.0    error, or distance from cluster centroid to current point: 38.7677812776\n",
      "cluster assignment: 0.0    error, or distance from cluster centroid to current point: 110.364571649\n",
      "cluster assignment: 0.0    error, or distance from cluster centroid to current point: 172.344511468\n",
      "cluster assignment: 0.0    error, or distance from cluster centroid to current point: 166.987440255\n",
      "cluster assignment: 0.0    error, or distance from cluster centroid to current point: 523.21913534\n",
      "cluster assignment: 0.0    error, or distance from cluster centroid to current point: 154.68252551\n",
      "cluster assignment: 0.0    error, or distance from cluster centroid to current point: 289.624350987\n",
      "cluster assignment: 0.0    error, or distance from cluster centroid to current point: 155.275303845\n",
      "cluster assignment: 0.0    error, or distance from cluster centroid to current point: 123.967380074\n",
      "cluster assignment: 0.0    error, or distance from cluster centroid to current point: 92.5090049486\n",
      "cluster assignment: 0.0    error, or distance from cluster centroid to current point: 103.428764226\n",
      "cluster assignment: 0.0    error, or distance from cluster centroid to current point: 76.8981724512\n",
      "cluster assignment: 0.0    error, or distance from cluster centroid to current point: 241.908202541\n",
      "cluster assignment: 0.0    error, or distance from cluster centroid to current point: 42.1539397531\n",
      "cluster assignment: 0.0    error, or distance from cluster centroid to current point: 12419.5952637\n",
      "cluster assignment: 0.0    error, or distance from cluster centroid to current point: 164.798874557\n",
      "cluster assignment: 0.0    error, or distance from cluster centroid to current point: 40.225153394\n",
      "cluster assignment: 0.0    error, or distance from cluster centroid to current point: 22.4147221001\n",
      "cluster assignment: 0.0    error, or distance from cluster centroid to current point: 113.677510465\n",
      "cluster assignment: 0.0    error, or distance from cluster centroid to current point: 327.451833434\n",
      "cluster assignment: 0.0    error, or distance from cluster centroid to current point: 126.081723103\n",
      "cluster assignment: 0.0    error, or distance from cluster centroid to current point: 45.338493414\n",
      "cluster assignment: 0.0    error, or distance from cluster centroid to current point: 203.502986894\n",
      "cluster assignment: 0.0    error, or distance from cluster centroid to current point: 477.116828419\n",
      "cluster assignment: 0.0    error, or distance from cluster centroid to current point: 95.7707903047\n",
      "cluster assignment: 0.0    error, or distance from cluster centroid to current point: 67.4137190911\n",
      "cluster assignment: 0.0    error, or distance from cluster centroid to current point: 126.959356002\n",
      "cluster assignment: 0.0    error, or distance from cluster centroid to current point: 70.1639698433\n",
      "cluster assignment: 0.0    error, or distance from cluster centroid to current point: 264.118834437\n",
      "cluster assignment: 0.0    error, or distance from cluster centroid to current point: 170.735684989\n",
      "cluster assignment: 0.0    error, or distance from cluster centroid to current point: 455.275303845\n",
      "cluster assignment: 0.0    error, or distance from cluster centroid to current point: 43.5009808764\n",
      "cluster assignment: 0.0    error, or distance from cluster centroid to current point: 727.985434237\n",
      "cluster assignment: 0.0    error, or distance from cluster centroid to current point: 113.510007958\n",
      "cluster assignment: 0.0    error, or distance from cluster centroid to current point: 229.864070144\n",
      "cluster assignment: 0.0    error, or distance from cluster centroid to current point: 21.3394964231\n",
      "cluster assignment: 0.0    error, or distance from cluster centroid to current point: 52.2482226016\n",
      "cluster assignment: 0.0    error, or distance from cluster centroid to current point: 126.096768239\n",
      "cluster assignment: 0.0    error, or distance from cluster centroid to current point: 156.23919552\n",
      "cluster assignment: 0.0    error, or distance from cluster centroid to current point: 247.401682983\n",
      "cluster assignment: 0.0    error, or distance from cluster centroid to current point: 61.4016829827\n",
      "cluster assignment: 0.0    error, or distance from cluster centroid to current point: 42.6193359416\n",
      "cluster assignment: 0.0    error, or distance from cluster centroid to current point: 66.6765074562\n",
      "cluster assignment: 0.0    error, or distance from cluster centroid to current point: 214.231171448\n",
      "cluster assignment: 0.0    error, or distance from cluster centroid to current point: 552.659456303\n",
      "cluster assignment: 0.0    error, or distance from cluster centroid to current point: 60.3685836849\n",
      "cluster assignment: 0.0    error, or distance from cluster centroid to current point: 534.784832431\n",
      "cluster assignment: 0.0    error, or distance from cluster centroid to current point: 81.5832276167\n",
      "cluster assignment: 0.0    error, or distance from cluster centroid to current point: 152.197069141\n",
      "cluster assignment: 0.0    error, or distance from cluster centroid to current point: 196.152936744\n",
      "cluster assignment: 0.0    error, or distance from cluster centroid to current point: 44.5330771653\n",
      "cluster assignment: 0.0    error, or distance from cluster centroid to current point: 612.243207556\n",
      "cluster assignment: 0.0    error, or distance from cluster centroid to current point: 98.6293660319\n",
      "cluster assignment: 0.0    error, or distance from cluster centroid to current point: 571.087741157\n",
      "cluster assignment: 0.0    error, or distance from cluster centroid to current point: 456.184030024\n",
      "cluster assignment: 0.0    error, or distance from cluster centroid to current point: 365.593257707\n",
      "cluster assignment: 0.0    error, or distance from cluster centroid to current point: 163.674501438\n",
      "cluster assignment: 0.0    error, or distance from cluster centroid to current point: 102.396667938\n",
      "cluster assignment: 0.0    error, or distance from cluster centroid to current point: 284.949325912\n",
      "cluster assignment: 0.0    error, or distance from cluster centroid to current point: 527.391652892\n",
      "cluster assignment: 0.0    error, or distance from cluster centroid to current point: 130.014521498\n",
      "cluster assignment: 0.0    error, or distance from cluster centroid to current point: 148.694561619\n",
      "cluster assignment: 0.0    error, or distance from cluster centroid to current point: 258.92023865\n",
      "cluster assignment: 0.0    error, or distance from cluster centroid to current point: 97.3906498835\n",
      "cluster assignment: 0.0    error, or distance from cluster centroid to current point: 72.3936589105\n",
      "cluster assignment: 0.0    error, or distance from cluster centroid to current point: 89.5752035444\n",
      "cluster assignment: 0.0    error, or distance from cluster centroid to current point: 42.9984733539\n",
      "cluster assignment: 0.0    error, or distance from cluster centroid to current point: 353.779817386\n",
      "cluster assignment: 0.0    error, or distance from cluster centroid to current point: 57.3254542967\n",
      "cluster assignment: 0.0    error, or distance from cluster centroid to current point: 102.022545571\n",
      "cluster assignment: 0.0    error, or distance from cluster centroid to current point: 101.287339954\n",
      "cluster assignment: 0.0    error, or distance from cluster centroid to current point: 42.1780119697\n",
      "cluster assignment: 0.0    error, or distance from cluster centroid to current point: 80.8139196929\n",
      "cluster assignment: 0.0    error, or distance from cluster centroid to current point: 189.966377065\n",
      "cluster assignment: 0.0    error, or distance from cluster centroid to current point: 54.1198374461\n",
      "cluster assignment: 0.0    error, or distance from cluster centroid to current point: 47.9603590108\n",
      "cluster assignment: 0.0    error, or distance from cluster centroid to current point: 128.295364026\n",
      "cluster assignment: 0.0    error, or distance from cluster centroid to current point: 311.330469342\n",
      "cluster assignment: 0.0    error, or distance from cluster centroid to current point: 34.8209407561\n",
      "cluster assignment: 0.0    error, or distance from cluster centroid to current point: 37.1729969246\n",
      "cluster assignment: 0.0    error, or distance from cluster centroid to current point: 230.80689863\n",
      "cluster assignment: 0.0    error, or distance from cluster centroid to current point: 117.46587556\n",
      "cluster assignment: 0.0    error, or distance from cluster centroid to current point: 128.656447276\n",
      "cluster assignment: 0.0    error, or distance from cluster centroid to current point: 293.527059111\n",
      "cluster assignment: 0.0    error, or distance from cluster centroid to current point: 98.9934583087\n",
      "cluster assignment: 0.0    error, or distance from cluster centroid to current point: 19.3023850891\n",
      "cluster assignment: 0.0    error, or distance from cluster centroid to current point: 149.055644868\n",
      "cluster assignment: 0.0    error, or distance from cluster centroid to current point: 82.3284633238\n",
      "cluster assignment: 0.0    error, or distance from cluster centroid to current point: 240.915223605\n",
      "cluster assignment: 0.0    error, or distance from cluster centroid to current point: 28.3565475765\n",
      "cluster assignment: 0.0    error, or distance from cluster centroid to current point: 70.3555445675\n",
      "cluster assignment: 0.0    error, or distance from cluster centroid to current point: 367.972395119\n",
      "cluster assignment: 0.0    error, or distance from cluster centroid to current point: 163.955343966\n",
      "cluster assignment: 0.0    error, or distance from cluster centroid to current point: 71.3595566036\n",
      "cluster assignment: 0.0    error, or distance from cluster centroid to current point: 507.656447276\n",
      "cluster assignment: 0.0    error, or distance from cluster centroid to current point: 275.256246674\n",
      "cluster assignment: 0.0    error, or distance from cluster centroid to current point: 59.8891453699\n",
      "cluster assignment: 0.0    error, or distance from cluster centroid to current point: 192.364571649\n",
      "cluster assignment: 0.0    error, or distance from cluster centroid to current point: 105.748724106\n",
      "cluster assignment: 0.0    error, or distance from cluster centroid to current point: 117.275303845\n",
      "cluster assignment: 0.0    error, or distance from cluster centroid to current point: 125.086738148\n",
      "cluster assignment: 0.0    error, or distance from cluster centroid to current point: 335.022545571\n",
      "cluster assignment: 0.0    error, or distance from cluster centroid to current point: 9705.9152236\n",
      "cluster assignment: 0.0    error, or distance from cluster centroid to current point: 133.691552592\n",
      "cluster assignment: 0.0    error, or distance from cluster centroid to current point: 96.3786137751\n",
      "cluster assignment: 0.0    error, or distance from cluster centroid to current point: 46.928262722\n",
      "cluster assignment: 0.0    error, or distance from cluster centroid to current point: 235.886136343\n",
      "cluster assignment: 0.0    error, or distance from cluster centroid to current point: 89.2422045474\n",
      "cluster assignment: 0.0    error, or distance from cluster centroid to current point: 1747.50699893\n",
      "cluster assignment: 0.0    error, or distance from cluster centroid to current point: 112.817931729\n",
      "cluster assignment: 0.0    error, or distance from cluster centroid to current point: 38.4458153799\n",
      "cluster assignment: 0.0    error, or distance from cluster centroid to current point: 1139.95333795\n",
      "cluster assignment: 0.0    error, or distance from cluster centroid to current point: 34.0165275164\n",
      "cluster assignment: 0.0    error, or distance from cluster centroid to current point: 64832.9854342\n",
      "cluster assignment: 0.0    error, or distance from cluster centroid to current point: 84.8048926116\n",
      "cluster assignment: 0.0    error, or distance from cluster centroid to current point: 100.52806212\n",
      "cluster assignment: 0.0    error, or distance from cluster centroid to current point: 106.566176463\n",
      "cluster assignment: 0.0    error, or distance from cluster centroid to current point: 59.9212416588\n",
      "cluster assignment: 0.0    error, or distance from cluster centroid to current point: 97.9262567039\n",
      "cluster assignment: 0.0    error, or distance from cluster centroid to current point: 29.3826258112\n",
      "cluster assignment: 0.0    error, or distance from cluster centroid to current point: 214.810910666\n",
      "cluster assignment: 0.0    error, or distance from cluster centroid to current point: 54.0064974261\n",
      "cluster assignment: 0.0    error, or distance from cluster centroid to current point: 527.001482381\n",
      "cluster assignment: 0.0    error, or distance from cluster centroid to current point: 114.926256704\n",
      "cluster assignment: 0.0    error, or distance from cluster centroid to current point: 50.6514322305\n",
      "cluster assignment: 0.0    error, or distance from cluster centroid to current point: 422.163969843\n",
      "cluster assignment: 0.0    error, or distance from cluster centroid to current point: 523.258252692\n",
      "cluster assignment: 0.0    error, or distance from cluster centroid to current point: 120.573197526\n",
      "cluster assignment: 0.0    error, or distance from cluster centroid to current point: 29.9132175866\n",
      "cluster assignment: 0.0    error, or distance from cluster centroid to current point: 82.5411012375\n",
      "cluster assignment: 0.0    error, or distance from cluster centroid to current point: 65.7346819797\n",
      "cluster assignment: 0.0    error, or distance from cluster centroid to current point: 281.926256704\n",
      "cluster assignment: 0.0    error, or distance from cluster centroid to current point: 74.2321744572\n",
      "cluster assignment: 0.0    error, or distance from cluster centroid to current point: 130.230168439\n",
      "cluster assignment: 0.0    error, or distance from cluster centroid to current point: 129.206096222\n",
      "cluster assignment: 0.0    error, or distance from cluster centroid to current point: 68.3174302245\n",
      "cluster assignment: 0.0    error, or distance from cluster centroid to current point: 42.7788143769\n",
      "cluster assignment: 0.0    error, or distance from cluster centroid to current point: 51.6153239055\n",
      "cluster assignment: 0.0    error, or distance from cluster centroid to current point: 75.3986739557\n",
      "cluster assignment: 0.0    error, or distance from cluster centroid to current point: 69.6504292215\n",
      "cluster assignment: 0.0    error, or distance from cluster centroid to current point: 272.619335942\n",
      "cluster assignment: 0.0    error, or distance from cluster centroid to current point: 55.0897471753\n",
      "cluster assignment: 0.0    error, or distance from cluster centroid to current point: 114.020539552\n",
      "cluster assignment: 0.0    error, or distance from cluster centroid to current point: 45.6644713478\n",
      "cluster assignment: 0.0    error, or distance from cluster centroid to current point: 844.907199532\n",
      "cluster assignment: 0.0    error, or distance from cluster centroid to current point: 131.524050084\n",
      "cluster assignment: 0.0    error, or distance from cluster centroid to current point: 143.638393113\n",
      "cluster assignment: 0.0    error, or distance from cluster centroid to current point: 27.1599578072\n",
      "cluster assignment: 0.0    error, or distance from cluster centroid to current point: 77.5009808764\n",
      "cluster assignment: 0.0    error, or distance from cluster centroid to current point: 75.1338795725\n",
      "cluster assignment: 0.0    error, or distance from cluster centroid to current point: 306.14691869\n",
      "cluster assignment: 0.0    error, or distance from cluster centroid to current point: 96.705594718\n",
      "cluster assignment: 0.0    error, or distance from cluster centroid to current point: 106.566176463\n",
      "cluster assignment: 0.0    error, or distance from cluster centroid to current point: 17.9382928122\n",
      "cluster assignment: 0.0    error, or distance from cluster centroid to current point: 1094.00649743\n",
      "cluster assignment: 0.0    error, or distance from cluster centroid to current point: 21.6554442666\n",
      "cluster assignment: 0.0    error, or distance from cluster centroid to current point: 37.0937592114\n",
      "cluster assignment: 0.0    error, or distance from cluster centroid to current point: 24.2743008363\n",
      "cluster assignment: 0.0    error, or distance from cluster centroid to current point: 58.6012817791\n",
      "cluster assignment: 0.0    error, or distance from cluster centroid to current point: 78.0115124712\n",
      "cluster assignment: 0.0    error, or distance from cluster centroid to current point: 874.020539552\n",
      "cluster assignment: 0.0    error, or distance from cluster centroid to current point: 65.0115124712\n",
      "cluster assignment: 0.0    error, or distance from cluster centroid to current point: 46.9723951192\n",
      "cluster assignment: 0.0    error, or distance from cluster centroid to current point: 110.194060114\n",
      "cluster assignment: 0.0    error, or distance from cluster centroid to current point: 195.575203544\n",
      "cluster assignment: 0.0    error, or distance from cluster centroid to current point: 93.5400982285\n",
      "cluster assignment: 0.0    error, or distance from cluster centroid to current point: 213.013518489\n",
      "cluster assignment: 0.0    error, or distance from cluster centroid to current point: 319.113819392\n",
      "cluster assignment: 0.0    error, or distance from cluster centroid to current point: 75.2171293218\n",
      "cluster assignment: 0.0    error, or distance from cluster centroid to current point: 2134.68854356\n",
      "cluster assignment: 0.0    error, or distance from cluster centroid to current point: 109.717630826\n",
      "cluster assignment: 0.0    error, or distance from cluster centroid to current point: 555.218132331\n",
      "cluster assignment: 0.0    error, or distance from cluster centroid to current point: 98.6093058514\n",
      "cluster assignment: 0.0    error, or distance from cluster centroid to current point: 84.4327762626\n",
      "cluster assignment: 0.0    error, or distance from cluster centroid to current point: 539.921241659\n",
      "cluster assignment: 0.0    error, or distance from cluster centroid to current point: 21.078714076\n",
      "cluster assignment: 0.0    error, or distance from cluster centroid to current point: 113.248222602\n",
      "cluster assignment: 0.0    error, or distance from cluster centroid to current point: 106.501983885\n",
      "cluster assignment: 0.0    error, or distance from cluster centroid to current point: 205.742706052\n",
      "cluster assignment: 0.0    error, or distance from cluster centroid to current point: 53.7948625214\n",
      "cluster assignment: 0.0    error, or distance from cluster centroid to current point: 153.546116283\n",
      "cluster assignment: 0.0    error, or distance from cluster centroid to current point: 590.914220596\n",
      "cluster assignment: 0.0    error, or distance from cluster centroid to current point: 291.080720094\n",
      "cluster assignment: 0.0    error, or distance from cluster centroid to current point: 6336.0817231\n",
      "cluster assignment: 0.0    error, or distance from cluster centroid to current point: 65.7396970249\n",
      "cluster assignment: 0.0    error, or distance from cluster centroid to current point: 73.039596724\n",
      "cluster assignment: 0.0    error, or distance from cluster centroid to current point: 98.3063971252\n",
      "cluster assignment: 0.0    error, or distance from cluster centroid to current point: 419.281321899\n",
      "cluster assignment: 0.0    error, or distance from cluster centroid to current point: 91.5441102646\n",
      "cluster assignment: 0.0    error, or distance from cluster centroid to current point: 103.474902642\n",
      "cluster assignment: 0.0    error, or distance from cluster centroid to current point: 48.7246518895\n",
      "cluster assignment: 0.0    error, or distance from cluster centroid to current point: 57.9633680379\n",
      "cluster assignment: 0.0    error, or distance from cluster centroid to current point: 170.088744166\n",
      "cluster assignment: 0.0    error, or distance from cluster centroid to current point: 35.2813218995\n",
      "cluster assignment: 0.0    error, or distance from cluster centroid to current point: 99.9382928122\n",
      "cluster assignment: 0.0    error, or distance from cluster centroid to current point: 37.2873399537\n",
      "cluster assignment: 0.0    error, or distance from cluster centroid to current point: 34.7838294221\n",
      "cluster assignment: 0.0    error, or distance from cluster centroid to current point: 164.526056102\n",
      "cluster assignment: 0.0    error, or distance from cluster centroid to current point: 123.83799191\n",
      "cluster assignment: 0.0    error, or distance from cluster centroid to current point: 213.061662923\n",
      "cluster assignment: 0.0    error, or distance from cluster centroid to current point: 107.739697025\n",
      "cluster assignment: 0.0    error, or distance from cluster centroid to current point: 65.3846318293\n",
      "cluster assignment: 0.0    error, or distance from cluster centroid to current point: 88.0797170851\n",
      "cluster assignment: 0.0    error, or distance from cluster centroid to current point: 212.492956804\n",
      "cluster assignment: 0.0    error, or distance from cluster centroid to current point: 69.3294663328\n",
      "cluster assignment: 0.0    error, or distance from cluster centroid to current point: 388.804892612\n",
      "cluster assignment: 0.0    error, or distance from cluster centroid to current point: 653.437791308\n",
      "cluster assignment: 0.0    error, or distance from cluster centroid to current point: 76.6805194923\n",
      "cluster assignment: 0.0    error, or distance from cluster centroid to current point: 172.494962822\n",
      "cluster assignment: 0.0    error, or distance from cluster centroid to current point: 23.3635686397\n",
      "cluster assignment: 0.0    error, or distance from cluster centroid to current point: 83.4698875966\n",
      "cluster assignment: 0.0    error, or distance from cluster centroid to current point: 48.967380074\n",
      "cluster assignment: 0.0    error, or distance from cluster centroid to current point: 182.092756202\n",
      "cluster assignment: 0.0    error, or distance from cluster centroid to current point: 237.958352993\n",
      "cluster assignment: 0.0    error, or distance from cluster centroid to current point: 116.22916543\n",
      "cluster assignment: 0.0    error, or distance from cluster centroid to current point: 168.937289803\n",
      "cluster assignment: 0.0    error, or distance from cluster centroid to current point: 353.297370044\n",
      "cluster assignment: 0.0    error, or distance from cluster centroid to current point: 125.689546574\n",
      "cluster assignment: 0.0    error, or distance from cluster centroid to current point: 187.423749181\n",
      "cluster assignment: 0.0    error, or distance from cluster centroid to current point: 454.047620796\n",
      "cluster assignment: 0.0    error, or distance from cluster centroid to current point: 418.303388098\n",
      "cluster assignment: 0.0    error, or distance from cluster centroid to current point: 251.994461318\n",
      "cluster assignment: 0.0    error, or distance from cluster centroid to current point: 105.648423203\n",
      "cluster assignment: 0.0    error, or distance from cluster centroid to current point: 620.847018991\n",
      "cluster assignment: 0.0    error, or distance from cluster centroid to current point: 36.2843309266\n",
      "cluster assignment: 0.0    error, or distance from cluster centroid to current point: 149.781823404\n",
      "cluster assignment: 0.0    error, or distance from cluster centroid to current point: 197.669486393\n",
      "cluster assignment: 0.0    error, or distance from cluster centroid to current point: 71.484932732\n",
      "cluster assignment: 0.0    error, or distance from cluster centroid to current point: 54.5591554\n",
      "cluster assignment: 0.0    error, or distance from cluster centroid to current point: 1333.72164286\n",
      "cluster assignment: 0.0    error, or distance from cluster centroid to current point: 204.515023003\n",
      "cluster assignment: 0.0    error, or distance from cluster centroid to current point: 406.976407155\n",
      "cluster assignment: 0.0    error, or distance from cluster centroid to current point: 140.515023003\n",
      "cluster assignment: 0.0    error, or distance from cluster centroid to current point: 831.915223605\n",
      "cluster assignment: 0.0    error, or distance from cluster centroid to current point: 150.25022862\n",
      "cluster assignment: 0.0    error, or distance from cluster centroid to current point: 291.360559613\n",
      "cluster assignment: 0.0    error, or distance from cluster centroid to current point: 138.557149382\n",
      "cluster assignment: 0.0    error, or distance from cluster centroid to current point: 51.705594718\n",
      "cluster assignment: 0.0    error, or distance from cluster centroid to current point: 47.894160415\n",
      "cluster assignment: 0.0    error, or distance from cluster centroid to current point: 2880.08573514\n",
      "cluster assignment: 0.0    error, or distance from cluster centroid to current point: 55.4969688403\n",
      "cluster assignment: 0.0    error, or distance from cluster centroid to current point: 129.952334939\n",
      "cluster assignment: 0.0    error, or distance from cluster centroid to current point: 1261.46186352\n",
      "cluster assignment: 0.0    error, or distance from cluster centroid to current point: 199.380619793\n",
      "cluster assignment: 0.0    error, or distance from cluster centroid to current point: 727.745715079\n",
      "cluster assignment: 0.0    error, or distance from cluster centroid to current point: 71.8028865936\n",
      "cluster assignment: 0.0    error, or distance from cluster centroid to current point: 39.560158409\n",
      "cluster assignment: 0.0    error, or distance from cluster centroid to current point: 32.3896468744\n",
      "cluster assignment: 0.0    error, or distance from cluster centroid to current point: 556.384631829\n",
      "cluster assignment: 0.0    error, or distance from cluster centroid to current point: 229.68252551\n",
      "cluster assignment: 0.0    error, or distance from cluster centroid to current point: 81.0265576066\n",
      "cluster assignment: 0.0    error, or distance from cluster centroid to current point: 512.745715079\n",
      "cluster assignment: 0.0    error, or distance from cluster centroid to current point: 78.8720942165\n",
      "cluster assignment: 0.0    error, or distance from cluster centroid to current point: 571.062665932\n",
      "cluster assignment: 0.0    error, or distance from cluster centroid to current point: 3400.63538409\n",
      "cluster assignment: 0.0    error, or distance from cluster centroid to current point: 844.934280776\n",
      "cluster assignment: 0.0    error, or distance from cluster centroid to current point: 53.9844312275\n",
      "cluster assignment: 0.0    error, or distance from cluster centroid to current point: 159.575203544\n",
      "cluster assignment: 0.0    error, or distance from cluster centroid to current point: 123.659456303\n",
      "cluster assignment: 0.0    error, or distance from cluster centroid to current point: 282.265273755\n",
      "cluster assignment: 0.0    error, or distance from cluster centroid to current point: 178.278312872\n",
      "cluster assignment: 0.0    error, or distance from cluster centroid to current point: 751.85805209\n",
      "cluster assignment: 0.0    error, or distance from cluster centroid to current point: 938.06467195\n",
      "cluster assignment: 0.0    error, or distance from cluster centroid to current point: 19.8369889005\n",
      "cluster assignment: 0.0    error, or distance from cluster centroid to current point: 15.2602587099\n",
      "cluster assignment: 0.0    error, or distance from cluster centroid to current point: 40.3515325314\n",
      "cluster assignment: 0.0    error, or distance from cluster centroid to current point: 5564.38362882\n",
      "cluster assignment: 0.0    error, or distance from cluster centroid to current point: 94.2913519898\n",
      "cluster assignment: 0.0    error, or distance from cluster centroid to current point: 216.46587556\n",
      "cluster assignment: 0.0    error, or distance from cluster centroid to current point: 2255.11783143\n",
      "cluster assignment: 0.0    error, or distance from cluster centroid to current point: 233.565173454\n",
      "cluster assignment: 0.0    error, or distance from cluster centroid to current point: 59.5641704451\n",
      "cluster assignment: 0.0    error, or distance from cluster centroid to current point: 169.999476363\n",
      "cluster assignment: 0.0    error, or distance from cluster centroid to current point: 49.37359873\n",
      "cluster assignment: 0.0    error, or distance from cluster centroid to current point: 66.6825255103\n",
      "cluster assignment: 0.0    error, or distance from cluster centroid to current point: 320.175002943\n",
      "cluster assignment: 0.0    error, or distance from cluster centroid to current point: 68.8690851894\n",
      "cluster assignment: 0.0    error, or distance from cluster centroid to current point: 272.309406152\n",
      "cluster assignment: 0.0    error, or distance from cluster centroid to current point: 54.0315726518\n",
      "cluster assignment: 0.0    error, or distance from cluster centroid to current point: 148.594260716\n",
      "cluster assignment: 0.0    error, or distance from cluster centroid to current point: 73.5631674361\n",
      "cluster assignment: 0.0    error, or distance from cluster centroid to current point: 740.647420194\n",
      "cluster assignment: 0.0    error, or distance from cluster centroid to current point: 32.2903489807\n",
      "cluster assignment: 0.0    error, or distance from cluster centroid to current point: 113.977410164\n",
      "cluster assignment: 0.0    error, or distance from cluster centroid to current point: 52.0977712475\n",
      "cluster assignment: 0.0    error, or distance from cluster centroid to current point: 360.832976864\n",
      "cluster assignment: 0.0    error, or distance from cluster centroid to current point: 105.472896624\n",
      "cluster assignment: 0.0    error, or distance from cluster centroid to current point: 111.585233635\n",
      "cluster assignment: 0.0    error, or distance from cluster centroid to current point: 136.923247677\n",
      "cluster assignment: 0.0    error, or distance from cluster centroid to current point: 237.821943765\n",
      "cluster assignment: 0.0    error, or distance from cluster centroid to current point: 216.071693013\n",
      "cluster assignment: 0.0    error, or distance from cluster centroid to current point: 34.8751032435\n",
      "cluster assignment: 0.0    error, or distance from cluster centroid to current point: 613.400679974\n",
      "cluster assignment: 0.0    error, or distance from cluster centroid to current point: 97.6985736548\n",
      "cluster assignment: 0.0    error, or distance from cluster centroid to current point: 141.847018991\n",
      "cluster assignment: 0.0    error, or distance from cluster centroid to current point: 86.261261719\n",
      "cluster assignment: 0.0    error, or distance from cluster centroid to current point: 80.9533379476\n",
      "cluster assignment: 0.0    error, or distance from cluster centroid to current point: 262.256246674\n",
      "cluster assignment: 0.0    error, or distance from cluster centroid to current point: 35.9252536949\n",
      "cluster assignment: 0.0    error, or distance from cluster centroid to current point: 128.728663926\n",
      "cluster assignment: 0.0    error, or distance from cluster centroid to current point: 121.998473354\n",
      "cluster assignment: 0.0    error, or distance from cluster centroid to current point: 51.6584532937\n",
      "cluster assignment: 0.0    error, or distance from cluster centroid to current point: 78.8389949186\n",
      "cluster assignment: 0.0    error, or distance from cluster centroid to current point: 46.2652737551\n",
      "cluster assignment: 0.0    error, or distance from cluster centroid to current point: 34.6072998333\n",
      "cluster assignment: 0.0    error, or distance from cluster centroid to current point: 34.7386940158\n",
      "cluster assignment: 0.0    error, or distance from cluster centroid to current point: 67.6424051492\n",
      "cluster assignment: 0.0    error, or distance from cluster centroid to current point: 101.112816383\n",
      "cluster assignment: 0.0    error, or distance from cluster centroid to current point: 236.144912672\n",
      "cluster assignment: 0.0    error, or distance from cluster centroid to current point: 62.5701884993\n",
      "cluster assignment: 0.0    error, or distance from cluster centroid to current point: 115.478914678\n",
      "cluster assignment: 0.0    error, or distance from cluster centroid to current point: 68.6153239055\n",
      "cluster assignment: 0.0    error, or distance from cluster centroid to current point: 17.7477210971\n",
      "cluster assignment: 0.0    error, or distance from cluster centroid to current point: 102.264270746\n",
      "cluster assignment: 0.0    error, or distance from cluster centroid to current point: 328.665474357\n",
      "cluster assignment: 0.0    error, or distance from cluster centroid to current point: 97.7687842867\n",
      "cluster assignment: 0.0    error, or distance from cluster centroid to current point: 127.990449282\n",
      "cluster assignment: 0.0    error, or distance from cluster centroid to current point: 184.304391107\n",
      "cluster assignment: 0.0    error, or distance from cluster centroid to current point: 188.815925711\n",
      "cluster assignment: 0.0    error, or distance from cluster centroid to current point: 89.3786137751\n",
      "cluster assignment: 0.0    error, or distance from cluster centroid to current point: 50.4979718493\n",
      "cluster assignment: 0.0    error, or distance from cluster centroid to current point: 36.6865375464\n",
      "cluster assignment: 0.0    error, or distance from cluster centroid to current point: 658.598272752\n",
      "cluster assignment: 0.0    error, or distance from cluster centroid to current point: 128.005494417\n",
      "cluster assignment: 0.0    error, or distance from cluster centroid to current point: 99.2452135745\n",
      "cluster assignment: 4.0    error, or distance from cluster centroid to current point: 0.0\n",
      "cluster assignment: 0.0    error, or distance from cluster centroid to current point: 81.0165275164\n",
      "cluster assignment: 0.0    error, or distance from cluster centroid to current point: 60.4347822806\n",
      "cluster assignment: 0.0    error, or distance from cluster centroid to current point: 149.421743163\n",
      "cluster assignment: 0.0    error, or distance from cluster centroid to current point: 162.605293815\n",
      "cluster assignment: 0.0    error, or distance from cluster centroid to current point: 582.998473354\n",
      "cluster assignment: 0.0    error, or distance from cluster centroid to current point: 43.3074001342\n",
      "cluster assignment: 0.0    error, or distance from cluster centroid to current point: 215.802886594\n",
      "cluster assignment: 0.0    error, or distance from cluster centroid to current point: 50.8109106658\n",
      "cluster assignment: 0.0    error, or distance from cluster centroid to current point: 59.5621644271\n",
      "cluster assignment: 0.0    error, or distance from cluster centroid to current point: 161.763769242\n",
      "cluster assignment: 0.0    error, or distance from cluster centroid to current point: 25719.3314724\n",
      "cluster assignment: 0.0    error, or distance from cluster centroid to current point: 855.509004949\n",
      "cluster assignment: 0.0    error, or distance from cluster centroid to current point: 109.49696884\n",
      "cluster assignment: 0.0    error, or distance from cluster centroid to current point: 69.9242506859\n",
      "cluster assignment: 0.0    error, or distance from cluster centroid to current point: 36.1268585093\n",
      "cluster assignment: 0.0    error, or distance from cluster centroid to current point: 60.3394964231\n",
      "cluster assignment: 0.0    error, or distance from cluster centroid to current point: 227.532074156\n",
      "cluster assignment: 0.0    error, or distance from cluster centroid to current point: 165.85805209\n",
      "cluster assignment: 0.0    error, or distance from cluster centroid to current point: 1989.89115139\n",
      "cluster assignment: 0.0    error, or distance from cluster centroid to current point: 198.241201538\n",
      "cluster assignment: 0.0    error, or distance from cluster centroid to current point: 104.581221599\n",
      "cluster assignment: 0.0    error, or distance from cluster centroid to current point: 162.654441258\n",
      "cluster assignment: 0.0    error, or distance from cluster centroid to current point: 173.268282782\n",
      "cluster assignment: 0.0    error, or distance from cluster centroid to current point: 33.4418033438\n",
      "cluster assignment: 0.0    error, or distance from cluster centroid to current point: 32.3906498835\n",
      "cluster assignment: 0.0    error, or distance from cluster centroid to current point: 19.6614623208\n",
      "cluster assignment: 0.0    error, or distance from cluster centroid to current point: 48.076708058\n",
      "cluster assignment: 0.0    error, or distance from cluster centroid to current point: 116.026557607\n",
      "cluster assignment: 0.0    error, or distance from cluster centroid to current point: 304.58021859\n",
      "cluster assignment: 0.0    error, or distance from cluster centroid to current point: 75.8349828824\n",
      "cluster assignment: 0.0    error, or distance from cluster centroid to current point: 334.611311869\n",
      "cluster assignment: 0.0    error, or distance from cluster centroid to current point: 822.685534537\n",
      "cluster assignment: 0.0    error, or distance from cluster centroid to current point: 56.5571493819\n",
      "cluster assignment: 0.0    error, or distance from cluster centroid to current point: 70.3224452696\n",
      "cluster assignment: 0.0    error, or distance from cluster centroid to current point: 40.225153394\n",
      "cluster assignment: 0.0    error, or distance from cluster centroid to current point: 70.6955646277\n",
      "cluster assignment: 0.0    error, or distance from cluster centroid to current point: 69.2091052496\n",
      "cluster assignment: 0.0    error, or distance from cluster centroid to current point: 1142.63237506\n",
      "cluster assignment: 0.0    error, or distance from cluster centroid to current point: 70.9423048483\n",
      "cluster assignment: 0.0    error, or distance from cluster centroid to current point: 56.3174302245\n",
      "cluster assignment: 0.0    error, or distance from cluster centroid to current point: 167.38362882\n",
      "cluster assignment: 0.0    error, or distance from cluster centroid to current point: 64.3535385494\n",
      "cluster assignment: 0.0    error, or distance from cluster centroid to current point: 599.524050084\n",
      "cluster assignment: 0.0    error, or distance from cluster centroid to current point: 317.586236644\n",
      "cluster assignment: 0.0    error, or distance from cluster centroid to current point: 96.9011814782\n",
      "cluster assignment: 0.0    error, or distance from cluster centroid to current point: 35.1378916086\n",
      "cluster assignment: 0.0    error, or distance from cluster centroid to current point: 294.427761217\n",
      "cluster assignment: 0.0    error, or distance from cluster centroid to current point: 47.2131172857\n",
      "cluster assignment: 0.0    error, or distance from cluster centroid to current point: 133.802886594\n",
      "cluster assignment: 0.0    error, or distance from cluster centroid to current point: 199.735684989\n",
      "cluster assignment: 0.0    error, or distance from cluster centroid to current point: 422.96136202\n",
      "cluster assignment: 0.0    error, or distance from cluster centroid to current point: 136.758754196\n",
      "cluster assignment: 0.0    error, or distance from cluster centroid to current point: 93.8038896026\n",
      "cluster assignment: 0.0    error, or distance from cluster centroid to current point: 115.148924708\n",
      "cluster assignment: 0.0    error, or distance from cluster centroid to current point: 31.6805194923\n",
      "cluster assignment: 0.0    error, or distance from cluster centroid to current point: 110.369586694\n",
      "cluster assignment: 0.0    error, or distance from cluster centroid to current point: 21.8650731533\n",
      "cluster assignment: 0.0    error, or distance from cluster centroid to current point: 163.977410164\n",
      "cluster assignment: 0.0    error, or distance from cluster centroid to current point: 103.653438249\n",
      "cluster assignment: 0.0    error, or distance from cluster centroid to current point: 33.6815225013\n",
      "cluster assignment: 0.0    error, or distance from cluster centroid to current point: 846.382625811\n",
      "cluster assignment: 0.0    error, or distance from cluster centroid to current point: 35.632375059\n",
      "cluster assignment: 0.0    error, or distance from cluster centroid to current point: 193.33247536\n",
      "cluster assignment: 0.0    error, or distance from cluster centroid to current point: 75.8109106658\n",
      "cluster assignment: 0.0    error, or distance from cluster centroid to current point: 320.517029021\n",
      "cluster assignment: 0.0    error, or distance from cluster centroid to current point: 184.777811368\n",
      "cluster assignment: 0.0    error, or distance from cluster centroid to current point: 119.170990907\n",
      "cluster assignment: 0.0    error, or distance from cluster centroid to current point: 263.81692872\n",
      "cluster assignment: 0.0    error, or distance from cluster centroid to current point: 102.138894618\n",
      "cluster assignment: 0.0    error, or distance from cluster centroid to current point: 377.335484387\n",
      "cluster assignment: 0.0    error, or distance from cluster centroid to current point: 84.597269743\n",
      "cluster assignment: 0.0    error, or distance from cluster centroid to current point: 165.653438249\n",
      "cluster assignment: 0.0    error, or distance from cluster centroid to current point: 62.0075004351\n",
      "cluster assignment: 0.0    error, or distance from cluster centroid to current point: 316.165975861\n",
      "cluster assignment: 0.0    error, or distance from cluster centroid to current point: 58.2201383488\n",
      "cluster assignment: 0.0    error, or distance from cluster centroid to current point: 216.510007958\n",
      "cluster assignment: 0.0    error, or distance from cluster centroid to current point: 178.462866533\n",
      "cluster assignment: 0.0    error, or distance from cluster centroid to current point: 850.802886594\n",
      "cluster assignment: 0.0    error, or distance from cluster centroid to current point: 50.1780119697\n",
      "cluster assignment: 0.0    error, or distance from cluster centroid to current point: 556.988443264\n",
      "cluster assignment: 0.0    error, or distance from cluster centroid to current point: 78.707600736\n",
      "cluster assignment: 0.0    error, or distance from cluster centroid to current point: 161.787841458\n",
      "cluster assignment: 0.0    error, or distance from cluster centroid to current point: 590.730669944\n",
      "cluster assignment: 0.0    error, or distance from cluster centroid to current point: 46.1679818794\n",
      "cluster assignment: 0.0    error, or distance from cluster centroid to current point: 80.9974703448\n",
      "cluster assignment: 0.0    error, or distance from cluster centroid to current point: 50.2953640259\n",
      "cluster assignment: 0.0    error, or distance from cluster centroid to current point: 107.654441258\n",
      "cluster assignment: 0.0    error, or distance from cluster centroid to current point: 394.083729121\n",
      "cluster assignment: 0.0    error, or distance from cluster centroid to current point: 270.251231629\n",
      "cluster assignment: 0.0    error, or distance from cluster centroid to current point: 61.8600581081\n",
      "cluster assignment: 0.0    error, or distance from cluster centroid to current point: 46.6534382485\n",
      "cluster assignment: 0.0    error, or distance from cluster centroid to current point: 53.0486238052\n",
      "cluster assignment: 0.0    error, or distance from cluster centroid to current point: 424.763769242\n",
      "cluster assignment: 0.0    error, or distance from cluster centroid to current point: 41.2010811773\n",
      "cluster assignment: 0.0    error, or distance from cluster centroid to current point: 336.609305851\n",
      "cluster assignment: 0.0    error, or distance from cluster centroid to current point: 128.613317887\n",
      "cluster assignment: 0.0    error, or distance from cluster centroid to current point: 702.779817386\n",
      "cluster assignment: 0.0    error, or distance from cluster centroid to current point: 77.3154242064\n",
      "cluster assignment: 0.0    error, or distance from cluster centroid to current point: 341.898172451\n",
      "cluster assignment: 0.0    error, or distance from cluster centroid to current point: 559.175002943\n",
      "cluster assignment: 0.0    error, or distance from cluster centroid to current point: 135.628363023\n",
      "cluster assignment: 0.0    error, or distance from cluster centroid to current point: 87.4508304251\n",
      "cluster assignment: 0.0    error, or distance from cluster centroid to current point: 151.177008961\n",
      "cluster assignment: 0.0    error, or distance from cluster centroid to current point: 1042.81291668\n",
      "cluster assignment: 0.0    error, or distance from cluster centroid to current point: 149.513016985\n",
      "cluster assignment: 0.0    error, or distance from cluster centroid to current point: 5279.15193374\n",
      "cluster assignment: 0.0    error, or distance from cluster centroid to current point: 151.29135199\n",
      "cluster assignment: 0.0    error, or distance from cluster centroid to current point: 227.251231629\n",
      "cluster assignment: 0.0    error, or distance from cluster centroid to current point: 98.8399979276\n",
      "cluster assignment: 0.0    error, or distance from cluster centroid to current point: 68.7025856909\n",
      "cluster assignment: 0.0    error, or distance from cluster centroid to current point: 38.668483384\n",
      "cluster assignment: 0.0    error, or distance from cluster centroid to current point: 54.9332777671\n",
      "cluster assignment: 0.0    error, or distance from cluster centroid to current point: 126.825955801\n",
      "cluster assignment: 0.0    error, or distance from cluster centroid to current point: 157.893157406\n",
      "cluster assignment: 0.0    error, or distance from cluster centroid to current point: 73.1950631232\n",
      "cluster assignment: 0.0    error, or distance from cluster centroid to current point: 92.1729969246\n",
      "cluster assignment: 0.0    error, or distance from cluster centroid to current point: 320.656447276\n",
      "cluster assignment: 0.0    error, or distance from cluster centroid to current point: 152.77580535\n",
      "cluster assignment: 0.0    error, or distance from cluster centroid to current point: 116.333478369\n",
      "cluster assignment: 0.0    error, or distance from cluster centroid to current point: 124.140900636\n",
      "cluster assignment: 0.0    error, or distance from cluster centroid to current point: 111.052635841\n",
      "cluster assignment: 0.0    error, or distance from cluster centroid to current point: 103.658453294\n",
      "cluster assignment: 0.0    error, or distance from cluster centroid to current point: 114.252234638\n",
      "cluster assignment: 0.0    error, or distance from cluster centroid to current point: 5663.79085049\n",
      "cluster assignment: 3.0    error, or distance from cluster centroid to current point: 58949.25\n",
      "cluster assignment: 0.0    error, or distance from cluster centroid to current point: 154.827961819\n",
      "cluster assignment: 0.0    error, or distance from cluster centroid to current point: 292.533077165\n",
      "cluster assignment: 0.0    error, or distance from cluster centroid to current point: 990.732675962\n",
      "cluster assignment: 0.0    error, or distance from cluster centroid to current point: 345.613317887\n",
      "cluster assignment: 0.0    error, or distance from cluster centroid to current point: 32.3455144772\n",
      "cluster assignment: 0.0    error, or distance from cluster centroid to current point: 87.0135184893\n",
      "cluster assignment: 0.0    error, or distance from cluster centroid to current point: 105.258252692\n",
      "cluster assignment: 0.0    error, or distance from cluster centroid to current point: 101.632375059\n",
      "cluster assignment: 0.0    error, or distance from cluster centroid to current point: 136.300379071\n",
      "cluster assignment: 0.0    error, or distance from cluster centroid to current point: 142.11582541\n",
      "cluster assignment: 0.0    error, or distance from cluster centroid to current point: 230.421743163\n",
      "cluster assignment: 0.0    error, or distance from cluster centroid to current point: 116.94029883\n",
      "cluster assignment: 0.0    error, or distance from cluster centroid to current point: 276.28031889\n",
      "cluster assignment: 0.0    error, or distance from cluster centroid to current point: 142.679516483\n",
      "cluster assignment: 0.0    error, or distance from cluster centroid to current point: 325.767781278\n",
      "cluster assignment: 0.0    error, or distance from cluster centroid to current point: 47.2672797731\n",
      "cluster assignment: 0.0    error, or distance from cluster centroid to current point: 157.699576664\n",
      "cluster assignment: 0.0    error, or distance from cluster centroid to current point: 66.6524352395\n",
      "cluster assignment: 0.0    error, or distance from cluster centroid to current point: 393.700579673\n",
      "cluster assignment: 0.0    error, or distance from cluster centroid to current point: 127.996467336\n",
      "cluster assignment: 0.0    error, or distance from cluster centroid to current point: 133.003488399\n",
      "cluster assignment: 0.0    error, or distance from cluster centroid to current point: 64.9443108664\n",
      "cluster assignment: 0.0    error, or distance from cluster centroid to current point: 89.410710064\n",
      "cluster assignment: 0.0    error, or distance from cluster centroid to current point: 107.541101238\n",
      "cluster assignment: 0.0    error, or distance from cluster centroid to current point: 263.609305851\n",
      "cluster assignment: 0.0    error, or distance from cluster centroid to current point: 46.7226458714\n",
      "cluster assignment: 0.0    error, or distance from cluster centroid to current point: 30.0295666337\n",
      "cluster assignment: 0.0    error, or distance from cluster centroid to current point: 118.042605751\n",
      "cluster assignment: 0.0    error, or distance from cluster centroid to current point: 240.894160415\n",
      "cluster assignment: 0.0    error, or distance from cluster centroid to current point: 693.360559613\n",
      "cluster assignment: 0.0    error, or distance from cluster centroid to current point: 178.46687857\n",
      "cluster assignment: 0.0    error, or distance from cluster centroid to current point: 252.068683986\n",
      "cluster assignment: 0.0    error, or distance from cluster centroid to current point: 1605.80790164\n",
      "cluster assignment: 0.0    error, or distance from cluster centroid to current point: 191.204090204\n",
      "cluster assignment: 0.0    error, or distance from cluster centroid to current point: 227.057650886\n",
      "cluster assignment: 0.0    error, or distance from cluster centroid to current point: 89.5822246076\n",
      "cluster assignment: 0.0    error, or distance from cluster centroid to current point: 72.8961664331\n",
      "cluster assignment: 0.0    error, or distance from cluster centroid to current point: 27.8690851894\n",
      "cluster assignment: 0.0    error, or distance from cluster centroid to current point: 86.7396970249\n",
      "cluster assignment: 0.0    error, or distance from cluster centroid to current point: 19.781823404\n",
      "cluster assignment: 0.0    error, or distance from cluster centroid to current point: 39.9071995324\n",
      "cluster assignment: 0.0    error, or distance from cluster centroid to current point: 79.1328765635\n",
      "cluster assignment: 0.0    error, or distance from cluster centroid to current point: 161.393658911\n",
      "cluster assignment: 0.0    error, or distance from cluster centroid to current point: 144.059656905\n",
      "cluster assignment: 0.0    error, or distance from cluster centroid to current point: 24.2873399537\n",
      "cluster assignment: 0.0    error, or distance from cluster centroid to current point: 161.491953795\n",
      "cluster assignment: 0.0    error, or distance from cluster centroid to current point: 174.800880576\n",
      "cluster assignment: 0.0    error, or distance from cluster centroid to current point: 30.9092055505\n",
      "cluster assignment: 0.0    error, or distance from cluster centroid to current point: 70.0446117691\n",
      "cluster assignment: 0.0    error, or distance from cluster centroid to current point: 47.4939598132\n",
      "cluster assignment: 0.0    error, or distance from cluster centroid to current point: 256.292354999\n",
      "cluster assignment: 0.0    error, or distance from cluster centroid to current point: 17.7477210971\n",
      "cluster assignment: 0.0    error, or distance from cluster centroid to current point: 788.016527516\n",
      "cluster assignment: 0.0    error, or distance from cluster centroid to current point: 124.733678971\n",
      "cluster assignment: 0.0    error, or distance from cluster centroid to current point: 22.1780119697\n",
      "cluster assignment: 0.0    error, or distance from cluster centroid to current point: 198.671492411\n",
      "cluster assignment: 0.0    error, or distance from cluster centroid to current point: 575.189045069\n",
      "cluster assignment: 0.0    error, or distance from cluster centroid to current point: 22.6494262124\n",
      "cluster assignment: 0.0    error, or distance from cluster centroid to current point: 1167.52104106\n",
      "cluster assignment: 0.0    error, or distance from cluster centroid to current point: 321.001482381\n",
      "cluster assignment: 0.0    error, or distance from cluster centroid to current point: 335.820940756\n",
      "cluster assignment: 0.0    error, or distance from cluster centroid to current point: 30.5852336347\n",
      "cluster assignment: 0.0    error, or distance from cluster centroid to current point: 184.102786293\n",
      "cluster assignment: 0.0    error, or distance from cluster centroid to current point: 709.05363885\n",
      "cluster assignment: 0.0    error, or distance from cluster centroid to current point: 46.4267582084\n",
      "cluster assignment: 0.0    error, or distance from cluster centroid to current point: 164.330469342\n",
      "cluster assignment: 0.0    error, or distance from cluster centroid to current point: 504.158954798\n",
      "cluster assignment: 0.0    error, or distance from cluster centroid to current point: 205.606296824\n",
      "cluster assignment: 0.0    error, or distance from cluster centroid to current point: 437.173999934\n",
      "cluster assignment: 0.0    error, or distance from cluster centroid to current point: 344.401682983\n",
      "cluster assignment: 0.0    error, or distance from cluster centroid to current point: 281.20910525\n",
      "cluster assignment: 0.0    error, or distance from cluster centroid to current point: 70.0054944171\n",
      "cluster assignment: 0.0    error, or distance from cluster centroid to current point: 54.372595721\n",
      "cluster assignment: 0.0    error, or distance from cluster centroid to current point: 335.97139211\n",
      "cluster assignment: 0.0    error, or distance from cluster centroid to current point: 64616.0797171\n",
      "cluster assignment: 0.0    error, or distance from cluster centroid to current point: 84.5571493819\n",
      "cluster assignment: 0.0    error, or distance from cluster centroid to current point: 39.8500280179\n",
      "cluster assignment: 0.0    error, or distance from cluster centroid to current point: 2089.74972712\n",
      "cluster assignment: 0.0    error, or distance from cluster centroid to current point: 617.967380074\n",
      "cluster assignment: 0.0    error, or distance from cluster centroid to current point: 73.5872396528\n",
      "cluster assignment: 0.0    error, or distance from cluster centroid to current point: 64.2532376467\n",
      "cluster assignment: 0.0    error, or distance from cluster centroid to current point: 681.761763223\n",
      "cluster assignment: 0.0    error, or distance from cluster centroid to current point: 57.6383931131\n",
      "cluster assignment: 0.0    error, or distance from cluster centroid to current point: 29.0757050489\n",
      "cluster assignment: 0.0    error, or distance from cluster centroid to current point: 251.356547577\n",
      "cluster assignment: 0.0    error, or distance from cluster centroid to current point: 49.2462165836\n",
      "cluster assignment: 0.0    error, or distance from cluster centroid to current point: 57.1208404552\n",
      "cluster assignment: 0.0    error, or distance from cluster centroid to current point: 227.18804206\n",
      "cluster assignment: 0.0    error, or distance from cluster centroid to current point: 220.737691007\n",
      "cluster assignment: 0.0    error, or distance from cluster centroid to current point: 44.1920540961\n",
      "cluster assignment: 0.0    error, or distance from cluster centroid to current point: 71.0536388504\n",
      "cluster assignment: 0.0    error, or distance from cluster centroid to current point: 40.597269743\n",
      "cluster assignment: 0.0    error, or distance from cluster centroid to current point: 191.025554598\n",
      "cluster assignment: 0.0    error, or distance from cluster centroid to current point: 1181.99345831\n",
      "cluster assignment: 0.0    error, or distance from cluster centroid to current point: 173.356547577\n",
      "cluster assignment: 0.0    error, or distance from cluster centroid to current point: 52.8440099637\n",
      "cluster assignment: 0.0    error, or distance from cluster centroid to current point: 292.996467336\n",
      "cluster assignment: 0.0    error, or distance from cluster centroid to current point: 42.0847321302\n",
      "cluster assignment: 0.0    error, or distance from cluster centroid to current point: 179.196066132\n",
      "cluster assignment: 0.0    error, or distance from cluster centroid to current point: 56.6173299236\n",
      "cluster assignment: 0.0    error, or distance from cluster centroid to current point: 59.9633680379\n",
      "cluster assignment: 0.0    error, or distance from cluster centroid to current point: 16.5360861924\n",
      "cluster assignment: 0.0    error, or distance from cluster centroid to current point: 58.9342807761\n",
      "cluster assignment: 0.0    error, or distance from cluster centroid to current point: 82.5160260118\n",
      "cluster assignment: 0.0    error, or distance from cluster centroid to current point: 113.131873554\n",
      "cluster assignment: 0.0    error, or distance from cluster centroid to current point: 96.2963670349\n",
      "cluster assignment: 0.0    error, or distance from cluster centroid to current point: 149.552134337\n",
      "cluster assignment: 0.0    error, or distance from cluster centroid to current point: 168.304391107\n",
      "cluster assignment: 0.0    error, or distance from cluster centroid to current point: 60.1248524913\n",
      "cluster assignment: 0.0    error, or distance from cluster centroid to current point: 455.364571649\n",
      "cluster assignment: 0.0    error, or distance from cluster centroid to current point: 69.6022847882\n",
      "cluster assignment: 0.0    error, or distance from cluster centroid to current point: 2493.44681839\n",
      "cluster assignment: 0.0    error, or distance from cluster centroid to current point: 79.5431072556\n",
      "cluster assignment: 0.0    error, or distance from cluster centroid to current point: 143.783829422\n",
      "cluster assignment: 0.0    error, or distance from cluster centroid to current point: 172.228162421\n",
      "cluster assignment: 0.0    error, or distance from cluster centroid to current point: 56.2111112676\n",
      "cluster assignment: 0.0    error, or distance from cluster centroid to current point: 415.999476363\n",
      "cluster assignment: 0.0    error, or distance from cluster centroid to current point: 170.499977867\n",
      "cluster assignment: 0.0    error, or distance from cluster centroid to current point: 146.726657908\n",
      "cluster assignment: 0.0    error, or distance from cluster centroid to current point: 67.30138208\n",
      "cluster assignment: 0.0    error, or distance from cluster centroid to current point: 287.870088198\n",
      "cluster assignment: 0.0    error, or distance from cluster centroid to current point: 409.802886594\n",
      "cluster assignment: 0.0    error, or distance from cluster centroid to current point: 66.1258555003\n",
      "cluster assignment: 0.0    error, or distance from cluster centroid to current point: 29.0185335344\n",
      "cluster assignment: 0.0    error, or distance from cluster centroid to current point: 213.25022862\n",
      "cluster assignment: 0.0    error, or distance from cluster centroid to current point: 406.601281779\n",
      "cluster assignment: 0.0    error, or distance from cluster centroid to current point: 258.819937747\n",
      "cluster assignment: 0.0    error, or distance from cluster centroid to current point: 323.240198529\n",
      "cluster assignment: 0.0    error, or distance from cluster centroid to current point: 139.168984888\n",
      "cluster assignment: 0.0    error, or distance from cluster centroid to current point: 162.014521498\n",
      "cluster assignment: 0.0    error, or distance from cluster centroid to current point: 56.5190350389\n",
      "cluster assignment: 0.0    error, or distance from cluster centroid to current point: 60.4588544973\n",
      "cluster assignment: 0.0    error, or distance from cluster centroid to current point: 52.7898474762\n",
      "cluster assignment: 0.0    error, or distance from cluster centroid to current point: 87.0245515886\n",
      "cluster assignment: 0.0    error, or distance from cluster centroid to current point: 2629.38563484\n",
      "cluster assignment: 0.0    error, or distance from cluster centroid to current point: 30.2582526919\n",
      "cluster assignment: 0.0    error, or distance from cluster centroid to current point: 276.769787296\n",
      "cluster assignment: 0.0    error, or distance from cluster centroid to current point: 46.6393961222\n",
      "cluster assignment: 0.0    error, or distance from cluster centroid to current point: 39.0135184893\n",
      "cluster assignment: 0.0    error, or distance from cluster centroid to current point: 62.5049929125\n",
      "cluster assignment: 0.0    error, or distance from cluster centroid to current point: 258.102786293\n",
      "cluster assignment: 0.0    error, or distance from cluster centroid to current point: 65.9563469747\n",
      "cluster assignment: 0.0    error, or distance from cluster centroid to current point: 244.751733133\n",
      "cluster assignment: 0.0    error, or distance from cluster centroid to current point: 110.251231629\n",
      "cluster assignment: 0.0    error, or distance from cluster centroid to current point: 171.216126313\n",
      "cluster assignment: 0.0    error, or distance from cluster centroid to current point: 681.045614778\n",
      "cluster assignment: 0.0    error, or distance from cluster centroid to current point: 81.6193359416\n",
      "cluster assignment: 0.0    error, or distance from cluster centroid to current point: 55.6855345374\n",
      "cluster assignment: 0.0    error, or distance from cluster centroid to current point: 113.609305851\n",
      "cluster assignment: 0.0    error, or distance from cluster centroid to current point: 41.2462165836\n",
      "cluster assignment: 0.0    error, or distance from cluster centroid to current point: 39.8801182887\n",
      "cluster assignment: 0.0    error, or distance from cluster centroid to current point: 8606.7477211\n",
      "cluster assignment: 0.0    error, or distance from cluster centroid to current point: 63.6624653298\n",
      "cluster assignment: 0.0    error, or distance from cluster centroid to current point: 246.408704046\n",
      "cluster assignment: 0.0    error, or distance from cluster centroid to current point: 403.201081177\n",
      "cluster assignment: 0.0    error, or distance from cluster centroid to current point: 2196.42074015\n",
      "cluster assignment: 0.0    error, or distance from cluster centroid to current point: 57.8470189908\n",
      "cluster assignment: 0.0    error, or distance from cluster centroid to current point: 249.764772251\n",
      "cluster assignment: 0.0    error, or distance from cluster centroid to current point: 316.768784287\n",
      "cluster assignment: 0.0    error, or distance from cluster centroid to current point: 304.104792311\n",
      "cluster assignment: 0.0    error, or distance from cluster centroid to current point: 69.6173299236\n",
      "cluster assignment: 0.0    error, or distance from cluster centroid to current point: 69.7878414582\n",
      "cluster assignment: 0.0    error, or distance from cluster centroid to current point: 84.5039899035\n",
      "cluster assignment: 0.0    error, or distance from cluster centroid to current point: 1697.94130184\n",
      "cluster assignment: 0.0    error, or distance from cluster centroid to current point: 77.7577511874\n",
      "cluster assignment: 0.0    error, or distance from cluster centroid to current point: 94.0446117691\n",
      "cluster assignment: 0.0    error, or distance from cluster centroid to current point: 172.292354999\n",
      "cluster assignment: 0.0    error, or distance from cluster centroid to current point: 274.793859512\n",
      "cluster assignment: 0.0    error, or distance from cluster centroid to current point: 427.63137205\n",
      "cluster assignment: 0.0    error, or distance from cluster centroid to current point: 300.100780275\n",
      "cluster assignment: 0.0    error, or distance from cluster centroid to current point: 3014.95634697\n",
      "cluster assignment: 0.0    error, or distance from cluster centroid to current point: 168.861061117\n",
      "cluster assignment: 0.0    error, or distance from cluster centroid to current point: 22.6935586096\n",
      "cluster assignment: 0.0    error, or distance from cluster centroid to current point: 122.543107256\n",
      "cluster assignment: 0.0    error, or distance from cluster centroid to current point: 155.46587556\n",
      "cluster assignment: 0.0    error, or distance from cluster centroid to current point: 114.810910666\n",
      "cluster assignment: 0.0    error, or distance from cluster centroid to current point: 38.4578514883\n",
      "cluster assignment: 0.0    error, or distance from cluster centroid to current point: 11.3866378473\n",
      "cluster assignment: 0.0    error, or distance from cluster centroid to current point: 214.433779272\n",
      "cluster assignment: 0.0    error, or distance from cluster centroid to current point: 168.45584547\n",
      "cluster assignment: 0.0    error, or distance from cluster centroid to current point: 29.8068986297\n",
      "cluster assignment: 0.0    error, or distance from cluster centroid to current point: 1564.29636703\n",
      "cluster assignment: 0.0    error, or distance from cluster centroid to current point: 1605.2371895\n",
      "cluster assignment: 0.0    error, or distance from cluster centroid to current point: 133.873097225\n",
      "cluster assignment: 0.0    error, or distance from cluster centroid to current point: 17.4167281182\n",
      "cluster assignment: 0.0    error, or distance from cluster centroid to current point: 82.2081022405\n",
      "cluster assignment: 0.0    error, or distance from cluster centroid to current point: 901.845012973\n",
      "cluster assignment: 0.0    error, or distance from cluster centroid to current point: 257.449827416\n",
      "cluster assignment: 0.0    error, or distance from cluster centroid to current point: 54.150930726\n",
      "cluster assignment: 0.0    error, or distance from cluster centroid to current point: 210.248222602\n",
      "cluster assignment: 0.0    error, or distance from cluster centroid to current point: 129.532074156\n",
      "cluster assignment: 0.0    error, or distance from cluster centroid to current point: 142.93026874\n",
      "cluster assignment: 0.0    error, or distance from cluster centroid to current point: 181.194060114\n",
      "cluster assignment: 0.0    error, or distance from cluster centroid to current point: 265.976407155\n",
      "cluster assignment: 0.0    error, or distance from cluster centroid to current point: 91.2903489807\n",
      "cluster assignment: 0.0    error, or distance from cluster centroid to current point: 45.37359873\n",
      "cluster assignment: 0.0    error, or distance from cluster centroid to current point: 28.4408003348\n",
      "cluster assignment: 0.0    error, or distance from cluster centroid to current point: 25.8600581081\n",
      "cluster assignment: 0.0    error, or distance from cluster centroid to current point: 991.502986894\n",
      "cluster assignment: 0.0    error, or distance from cluster centroid to current point: 55.2301684391\n",
      "cluster assignment: 0.0    error, or distance from cluster centroid to current point: 61.2773098634\n",
      "cluster assignment: 0.0    error, or distance from cluster centroid to current point: 99.9613620199\n",
      "cluster assignment: 0.0    error, or distance from cluster centroid to current point: 208.255243665\n",
      "cluster assignment: 0.0    error, or distance from cluster centroid to current point: 64.0205395525\n",
      "cluster assignment: 0.0    error, or distance from cluster centroid to current point: 29.3314723509\n",
      "cluster assignment: 0.0    error, or distance from cluster centroid to current point: 483.35253554\n",
      "cluster assignment: 0.0    error, or distance from cluster centroid to current point: 23.1830270148\n",
      "cluster assignment: 0.0    error, or distance from cluster centroid to current point: 248.944310866\n",
      "cluster assignment: 0.0    error, or distance from cluster centroid to current point: 124.450830425\n",
      "cluster assignment: 0.0    error, or distance from cluster centroid to current point: 415.749727115\n",
      "cluster assignment: 0.0    error, or distance from cluster centroid to current point: 185.317430224\n",
      "cluster assignment: 0.0    error, or distance from cluster centroid to current point: 54.4929568042\n",
      "cluster assignment: 0.0    error, or distance from cluster centroid to current point: 41.2331774662\n",
      "cluster assignment: 0.0    error, or distance from cluster centroid to current point: 1613.39466192\n",
      "cluster assignment: 0.0    error, or distance from cluster centroid to current point: 136.474902642\n",
      "cluster assignment: 0.0    error, or distance from cluster centroid to current point: 97.7617632235\n",
      "cluster assignment: 0.0    error, or distance from cluster centroid to current point: 133.382625811\n",
      "cluster assignment: 0.0    error, or distance from cluster centroid to current point: 371.480920696\n",
      "cluster assignment: 0.0    error, or distance from cluster centroid to current point: 91.6825255103\n",
      "cluster assignment: 0.0    error, or distance from cluster centroid to current point: 124.065674959\n",
      "cluster assignment: 0.0    error, or distance from cluster centroid to current point: 23.9703891011\n",
      "cluster assignment: 0.0    error, or distance from cluster centroid to current point: 20.3886438654\n",
      "cluster assignment: 0.0    error, or distance from cluster centroid to current point: 167.331472351\n",
      "cluster assignment: 0.0    error, or distance from cluster centroid to current point: 4572.24421057\n",
      "cluster assignment: 0.0    error, or distance from cluster centroid to current point: 194.73468198\n",
      "cluster assignment: 0.0    error, or distance from cluster centroid to current point: 38.93026874\n",
      "cluster assignment: 0.0    error, or distance from cluster centroid to current point: 135.013518489\n",
      "cluster assignment: 0.0    error, or distance from cluster centroid to current point: 83.040599733\n",
      "cluster assignment: 0.0    error, or distance from cluster centroid to current point: 136.737691007\n",
      "cluster assignment: 0.0    error, or distance from cluster centroid to current point: 7867.51000796\n",
      "cluster assignment: 0.0    error, or distance from cluster centroid to current point: 68.9713921101\n",
      "cluster assignment: 0.0    error, or distance from cluster centroid to current point: 44.0807200941\n",
      "cluster assignment: 0.0    error, or distance from cluster centroid to current point: 210.171993916\n",
      "cluster assignment: 0.0    error, or distance from cluster centroid to current point: 47.3956649286\n",
      "cluster assignment: 0.0    error, or distance from cluster centroid to current point: 81.5651734542\n",
      "cluster assignment: 0.0    error, or distance from cluster centroid to current point: 54.0797170851\n",
      "cluster assignment: 0.0    error, or distance from cluster centroid to current point: 74.7206398534\n",
      "cluster assignment: 0.0    error, or distance from cluster centroid to current point: 431.265273755\n",
      "cluster assignment: 0.0    error, or distance from cluster centroid to current point: 42.190048078\n",
      "cluster assignment: 0.0    error, or distance from cluster centroid to current point: 52.6644713478\n",
      "cluster assignment: 0.0    error, or distance from cluster centroid to current point: 142.900178469\n",
      "cluster assignment: 0.0    error, or distance from cluster centroid to current point: 218.546116283\n",
      "cluster assignment: 0.0    error, or distance from cluster centroid to current point: 63.4568484792\n",
      "cluster assignment: 0.0    error, or distance from cluster centroid to current point: 30.9322747581\n",
      "cluster assignment: 0.0    error, or distance from cluster centroid to current point: 44.4006799737\n",
      "cluster assignment: 0.0    error, or distance from cluster centroid to current point: 110.157951789\n",
      "cluster assignment: 0.0    error, or distance from cluster centroid to current point: 19530.8058956\n",
      "cluster assignment: 0.0    error, or distance from cluster centroid to current point: 675.287339954\n",
      "cluster assignment: 0.0    error, or distance from cluster centroid to current point: 1620.78282641\n",
      "cluster assignment: 0.0    error, or distance from cluster centroid to current point: 186.128864527\n",
      "cluster assignment: 0.0    error, or distance from cluster centroid to current point: 47.4618635244\n",
      "cluster assignment: 0.0    error, or distance from cluster centroid to current point: 83.1278615184\n",
      "cluster assignment: 0.0    error, or distance from cluster centroid to current point: 123.2702888\n",
      "cluster assignment: 0.0    error, or distance from cluster centroid to current point: 61.2793158814\n",
      "cluster assignment: 0.0    error, or distance from cluster centroid to current point: 86.1017832837\n",
      "cluster assignment: 0.0    error, or distance from cluster centroid to current point: 115.58021859\n",
      "cluster assignment: 0.0    error, or distance from cluster centroid to current point: 58.9834282185\n",
      "cluster assignment: 0.0    error, or distance from cluster centroid to current point: 3500.07369903\n",
      "cluster assignment: 0.0    error, or distance from cluster centroid to current point: 398.334481378\n",
      "cluster assignment: 0.0    error, or distance from cluster centroid to current point: 226.007500435\n",
      "cluster assignment: 0.0    error, or distance from cluster centroid to current point: 614.584230626\n",
      "cluster assignment: 0.0    error, or distance from cluster centroid to current point: 135.727660917\n",
      "cluster assignment: 0.0    error, or distance from cluster centroid to current point: 95.4789146778\n",
      "cluster assignment: 0.0    error, or distance from cluster centroid to current point: 55.1649728524\n",
      "cluster assignment: 0.0    error, or distance from cluster centroid to current point: 170.89917546\n",
      "cluster assignment: 0.0    error, or distance from cluster centroid to current point: 392.075705049\n",
      "cluster assignment: 0.0    error, or distance from cluster centroid to current point: 110.898172451\n",
      "cluster assignment: 0.0    error, or distance from cluster centroid to current point: 125.786838449\n",
      "cluster assignment: 0.0    error, or distance from cluster centroid to current point: 115.597269743\n",
      "cluster assignment: 0.0    error, or distance from cluster centroid to current point: 191.932274758\n",
      "cluster assignment: 0.0    error, or distance from cluster centroid to current point: 166.520038048\n",
      "cluster assignment: 0.0    error, or distance from cluster centroid to current point: 83.7888444672\n",
      "cluster assignment: 0.0    error, or distance from cluster centroid to current point: 62.8309708463\n",
      "cluster assignment: 0.0    error, or distance from cluster centroid to current point: 111.902184487\n",
      "cluster assignment: 0.0    error, or distance from cluster centroid to current point: 208.718633835\n",
      "cluster assignment: 0.0    error, or distance from cluster centroid to current point: 40.0295666337\n",
      "cluster assignment: 0.0    error, or distance from cluster centroid to current point: 1859.9031875\n",
      "cluster assignment: 0.0    error, or distance from cluster centroid to current point: 108.817931729\n",
      "cluster assignment: 0.0    error, or distance from cluster centroid to current point: 217.64140214\n",
      "cluster assignment: 0.0    error, or distance from cluster centroid to current point: 129.051632832\n",
      "cluster assignment: 0.0    error, or distance from cluster centroid to current point: 107.654441258\n",
      "cluster assignment: 0.0    error, or distance from cluster centroid to current point: 58.4979718493\n",
      "cluster assignment: 0.0    error, or distance from cluster centroid to current point: 347.129867536\n",
      "cluster assignment: 0.0    error, or distance from cluster centroid to current point: 228.577209562\n",
      "cluster assignment: 0.0    error, or distance from cluster centroid to current point: 33.8159257109\n",
      "cluster assignment: 0.0    error, or distance from cluster centroid to current point: 255.095765229\n",
      "cluster assignment: 0.0    error, or distance from cluster centroid to current point: 448.288342963\n",
      "cluster assignment: 0.0    error, or distance from cluster centroid to current point: 176.893157406\n",
      "cluster assignment: 0.0    error, or distance from cluster centroid to current point: 86.409707055\n",
      "cluster assignment: 0.0    error, or distance from cluster centroid to current point: 57.7758053499\n",
      "cluster assignment: 0.0    error, or distance from cluster centroid to current point: 150.945313875\n",
      "cluster assignment: 0.0    error, or distance from cluster centroid to current point: 84.6624653298\n",
      "cluster assignment: 0.0    error, or distance from cluster centroid to current point: 1789.32344828\n",
      "cluster assignment: 0.0    error, or distance from cluster centroid to current point: 974.360559613\n",
      "cluster assignment: 0.0    error, or distance from cluster centroid to current point: 187.186036042\n",
      "cluster assignment: 0.0    error, or distance from cluster centroid to current point: 267.439797326\n",
      "cluster assignment: 0.0    error, or distance from cluster centroid to current point: 93.9834282185\n",
      "cluster assignment: 0.0    error, or distance from cluster centroid to current point: 139.385634838\n",
      "cluster assignment: 0.0    error, or distance from cluster centroid to current point: 235.553137346\n",
      "cluster assignment: 0.0    error, or distance from cluster centroid to current point: 34.8430069547\n",
      "cluster assignment: 0.0    error, or distance from cluster centroid to current point: 65.9152236046\n",
      "cluster assignment: 0.0    error, or distance from cluster centroid to current point: 133.339496423\n",
      "cluster assignment: 0.0    error, or distance from cluster centroid to current point: 104.784832431\n",
      "cluster assignment: 0.0    error, or distance from cluster centroid to current point: 9682.05062982\n",
      "cluster assignment: 0.0    error, or distance from cluster centroid to current point: 245.409707055\n",
      "cluster assignment: 0.0    error, or distance from cluster centroid to current point: 40.7306699436\n",
      "cluster assignment: 0.0    error, or distance from cluster centroid to current point: 110.96136202\n",
      "cluster assignment: 0.0    error, or distance from cluster centroid to current point: 126.696567637\n",
      "cluster assignment: 0.0    error, or distance from cluster centroid to current point: 199.831973855\n",
      "cluster assignment: 0.0    error, or distance from cluster centroid to current point: 247.456848479\n",
      "cluster assignment: 0.0    error, or distance from cluster centroid to current point: 1055.3033881\n",
      "cluster assignment: 0.0    error, or distance from cluster centroid to current point: 44.4397973258\n",
      "cluster assignment: 0.0    error, or distance from cluster centroid to current point: 54.5631674361\n",
      "cluster assignment: 0.0    error, or distance from cluster centroid to current point: 46.0747020399\n",
      "cluster assignment: 0.0    error, or distance from cluster centroid to current point: 64.5752035444\n",
      "cluster assignment: 0.0    error, or distance from cluster centroid to current point: 38.1750029426\n",
      "cluster assignment: 0.0    error, or distance from cluster centroid to current point: 230.307400134\n",
      "cluster assignment: 0.0    error, or distance from cluster centroid to current point: 115.706597727\n",
      "cluster assignment: 0.0    error, or distance from cluster centroid to current point: 144.991452291\n",
      "cluster assignment: 0.0    error, or distance from cluster centroid to current point: 933.5591554\n",
      "cluster assignment: 0.0    error, or distance from cluster centroid to current point: 152.90920555\n",
      "cluster assignment: 0.0    error, or distance from cluster centroid to current point: 149.522044066\n",
      "cluster assignment: 0.0    error, or distance from cluster centroid to current point: 203.483929723\n",
      "cluster assignment: 0.0    error, or distance from cluster centroid to current point: 221.614320896\n",
      "cluster assignment: 0.0    error, or distance from cluster centroid to current point: 130.191051087\n",
      "cluster assignment: 0.0    error, or distance from cluster centroid to current point: 88.226156403\n",
      "cluster assignment: 0.0    error, or distance from cluster centroid to current point: 476.691552592\n",
      "cluster assignment: 0.0    error, or distance from cluster centroid to current point: 147.224150385\n",
      "cluster assignment: 0.0    error, or distance from cluster centroid to current point: 5199.72866393\n",
      "cluster assignment: 0.0    error, or distance from cluster centroid to current point: 89.1729969246\n",
      "cluster assignment: 0.0    error, or distance from cluster centroid to current point: 225.539095219\n",
      "cluster assignment: 0.0    error, or distance from cluster centroid to current point: 33.7326759617\n",
      "cluster assignment: 0.0    error, or distance from cluster centroid to current point: 95.9503289206\n",
      "cluster assignment: 0.0    error, or distance from cluster centroid to current point: 65.4989748584\n",
      "cluster assignment: 0.0    error, or distance from cluster centroid to current point: 297.253237647\n",
      "cluster assignment: 0.0    error, or distance from cluster centroid to current point: 112.068683986\n",
      "cluster assignment: 0.0    error, or distance from cluster centroid to current point: 61.3445114682\n",
      "cluster assignment: 0.0    error, or distance from cluster centroid to current point: 118.923247677\n",
      "cluster assignment: 0.0    error, or distance from cluster centroid to current point: 358.515023003\n",
      "cluster assignment: 0.0    error, or distance from cluster centroid to current point: 55.5411012375\n",
      "cluster assignment: 0.0    error, or distance from cluster centroid to current point: 117.071693013\n",
      "cluster assignment: 0.0    error, or distance from cluster centroid to current point: 112.475905651\n",
      "cluster assignment: 0.0    error, or distance from cluster centroid to current point: 47.7005796728\n",
      "cluster assignment: 0.0    error, or distance from cluster centroid to current point: 42.4749026417\n",
      "cluster assignment: 0.0    error, or distance from cluster centroid to current point: 1151.93428078\n",
      "cluster assignment: 0.0    error, or distance from cluster centroid to current point: 319.418734136\n",
      "cluster assignment: 0.0    error, or distance from cluster centroid to current point: 142.584230626\n",
      "cluster assignment: 0.0    error, or distance from cluster centroid to current point: 223.658453294\n",
      "cluster assignment: 0.0    error, or distance from cluster centroid to current point: 41.4789146778\n",
      "cluster assignment: 0.0    error, or distance from cluster centroid to current point: 221.475905651\n",
      "cluster assignment: 0.0    error, or distance from cluster centroid to current point: 272.133879573\n",
      "cluster assignment: 0.0    error, or distance from cluster centroid to current point: 77.3575505856\n",
      "cluster assignment: 0.0    error, or distance from cluster centroid to current point: 123.124852491\n",
      "cluster assignment: 0.0    error, or distance from cluster centroid to current point: 696.326457306\n",
      "cluster assignment: 0.0    error, or distance from cluster centroid to current point: 144.551131328\n",
      "cluster assignment: 0.0    error, or distance from cluster centroid to current point: 61.9382928122\n",
      "cluster assignment: 0.0    error, or distance from cluster centroid to current point: 149.011512471\n",
      "cluster assignment: 0.0    error, or distance from cluster centroid to current point: 69.300379071\n",
      "cluster assignment: 0.0    error, or distance from cluster centroid to current point: 294.08473213\n",
      "cluster assignment: 0.0    error, or distance from cluster centroid to current point: 95.0636689406\n",
      "cluster assignment: 0.0    error, or distance from cluster centroid to current point: 210.232174457\n",
      "cluster assignment: 0.0    error, or distance from cluster centroid to current point: 45.0225455705\n",
      "cluster assignment: 0.0    error, or distance from cluster centroid to current point: 282.679516483\n",
      "cluster assignment: 0.0    error, or distance from cluster centroid to current point: 298.493959813\n",
      "cluster assignment: 0.0    error, or distance from cluster centroid to current point: 509.633378068\n",
      "cluster assignment: 0.0    error, or distance from cluster centroid to current point: 249.469887597\n",
      "cluster assignment: 0.0    error, or distance from cluster centroid to current point: 122.257249683\n",
      "cluster assignment: 0.0    error, or distance from cluster centroid to current point: 63.634381077\n",
      "cluster assignment: 0.0    error, or distance from cluster centroid to current point: 439.853037045\n",
      "cluster assignment: 0.0    error, or distance from cluster centroid to current point: 370.883127316\n",
      "cluster assignment: 0.0    error, or distance from cluster centroid to current point: 34.5310711472\n",
      "cluster assignment: 0.0    error, or distance from cluster centroid to current point: 22.855043063\n",
      "cluster assignment: 0.0    error, or distance from cluster centroid to current point: 500.608302842\n",
      "cluster assignment: 0.0    error, or distance from cluster centroid to current point: 472.511010967\n",
      "cluster assignment: 0.0    error, or distance from cluster centroid to current point: 20.7326759617\n",
      "cluster assignment: 0.0    error, or distance from cluster centroid to current point: 71.9011814782\n",
      "cluster assignment: 0.0    error, or distance from cluster centroid to current point: 111.65143223\n",
      "cluster assignment: 0.0    error, or distance from cluster centroid to current point: 223.38362882\n",
      "cluster assignment: 0.0    error, or distance from cluster centroid to current point: 282.572194517\n",
      "cluster assignment: 0.0    error, or distance from cluster centroid to current point: 41.891151388\n",
      "cluster assignment: 0.0    error, or distance from cluster centroid to current point: 63.4257551994\n",
      "cluster assignment: 0.0    error, or distance from cluster centroid to current point: 167.131873554\n",
      "cluster assignment: 0.0    error, or distance from cluster centroid to current point: 27.9894462726\n",
      "cluster assignment: 0.0    error, or distance from cluster centroid to current point: 50.039596724\n",
      "cluster assignment: 0.0    error, or distance from cluster centroid to current point: 91.1459156808\n",
      "cluster assignment: 0.0    error, or distance from cluster centroid to current point: 24.0606599135\n",
      "cluster assignment: 0.0    error, or distance from cluster centroid to current point: 71.3535385494\n",
      "cluster assignment: 0.0    error, or distance from cluster centroid to current point: 291.208102241\n",
      "cluster assignment: 0.0    error, or distance from cluster centroid to current point: 688.609305851\n",
      "cluster assignment: 0.0    error, or distance from cluster centroid to current point: 591.444812371\n",
      "cluster assignment: 0.0    error, or distance from cluster centroid to current point: 312.947319893\n",
      "cluster assignment: 0.0    error, or distance from cluster centroid to current point: 139.895163424\n",
      "cluster assignment: 0.0    error, or distance from cluster centroid to current point: 271.738694016\n",
      "cluster assignment: 0.0    error, or distance from cluster centroid to current point: 119.876106253\n",
      "cluster assignment: 0.0    error, or distance from cluster centroid to current point: 92.0135184893\n",
      "cluster assignment: 0.0    error, or distance from cluster centroid to current point: 346.289345972\n",
      "cluster assignment: 0.0    error, or distance from cluster centroid to current point: 190.436788299\n",
      "cluster assignment: 0.0    error, or distance from cluster centroid to current point: 37.298373053\n",
      "cluster assignment: 0.0    error, or distance from cluster centroid to current point: 266.459857506\n",
      "cluster assignment: 0.0    error, or distance from cluster centroid to current point: 46.5721945174\n",
      "cluster assignment: 0.0    error, or distance from cluster centroid to current point: 148.469887597\n",
      "cluster assignment: 0.0    error, or distance from cluster centroid to current point: 633.457851488\n",
      "cluster assignment: 0.0    error, or distance from cluster centroid to current point: 180.319436243\n",
      "cluster assignment: 0.0    error, or distance from cluster centroid to current point: 4015.24521357\n",
      "cluster assignment: 0.0    error, or distance from cluster centroid to current point: 399.637390104\n",
      "cluster assignment: 0.0    error, or distance from cluster centroid to current point: 202.556146373\n",
      "cluster assignment: 0.0    error, or distance from cluster centroid to current point: 120.618332933\n",
      "cluster assignment: 0.0    error, or distance from cluster centroid to current point: 458.45584547\n",
      "cluster assignment: 0.0    error, or distance from cluster centroid to current point: 125.381622802\n",
      "cluster assignment: 0.0    error, or distance from cluster centroid to current point: 71.6253539958\n",
      "cluster assignment: 0.0    error, or distance from cluster centroid to current point: 125.584230626\n",
      "cluster assignment: 0.0    error, or distance from cluster centroid to current point: 46.2020841864\n",
      "cluster assignment: 0.0    error, or distance from cluster centroid to current point: 23.3104091613\n",
      "cluster assignment: 0.0    error, or distance from cluster centroid to current point: 143.572194517\n",
      "cluster assignment: 0.0    error, or distance from cluster centroid to current point: 26853.9723951\n",
      "cluster assignment: 0.0    error, or distance from cluster centroid to current point: 54.4428063529\n",
      "cluster assignment: 0.0    error, or distance from cluster centroid to current point: 88.9182326317\n",
      "cluster assignment: 0.0    error, or distance from cluster centroid to current point: 232.318433234\n",
      "cluster assignment: 0.0    error, or distance from cluster centroid to current point: 541.602284788\n",
      "cluster assignment: 0.0    error, or distance from cluster centroid to current point: 198.883127316\n",
      "cluster assignment: 0.0    error, or distance from cluster centroid to current point: 98.6634683388\n",
      "cluster assignment: 0.0    error, or distance from cluster centroid to current point: 47.1088043468\n",
      "cluster assignment: 0.0    error, or distance from cluster centroid to current point: 34.4197371452\n",
      "cluster assignment: 0.0    error, or distance from cluster centroid to current point: 249.747721097\n",
      "cluster assignment: 0.0    error, or distance from cluster centroid to current point: 45.5621644271\n",
      "cluster assignment: 0.0    error, or distance from cluster centroid to current point: 52.5631674361\n",
      "cluster assignment: 0.0    error, or distance from cluster centroid to current point: 82.8299678373\n",
      "cluster assignment: 0.0    error, or distance from cluster centroid to current point: 2749.03056964\n",
      "cluster assignment: 0.0    error, or distance from cluster centroid to current point: 174.919235641\n",
      "cluster assignment: 0.0    error, or distance from cluster centroid to current point: 86.1589547982\n",
      "cluster assignment: 0.0    error, or distance from cluster centroid to current point: 87.4448123709\n",
      "cluster assignment: 0.0    error, or distance from cluster centroid to current point: 17.5832276167\n",
      "cluster assignment: 0.0    error, or distance from cluster centroid to current point: 1423.3033881\n",
      "cluster assignment: 0.0    error, or distance from cluster centroid to current point: 112.247219593\n",
      "cluster assignment: 0.0    error, or distance from cluster centroid to current point: 79.8028865936\n",
      "cluster assignment: 0.0    error, or distance from cluster centroid to current point: 346.255243665\n",
      "cluster assignment: 0.0    error, or distance from cluster centroid to current point: 307.970389101\n",
      "cluster assignment: 0.0    error, or distance from cluster centroid to current point: 64.1940601141\n",
      "cluster assignment: 0.0    error, or distance from cluster centroid to current point: 35.3254542967\n",
      "cluster assignment: 0.0    error, or distance from cluster centroid to current point: 58.9573499838\n",
      "cluster assignment: 0.0    error, or distance from cluster centroid to current point: 57.5892456708\n",
      "cluster assignment: 0.0    error, or distance from cluster centroid to current point: 73.2662767641\n",
      "cluster assignment: 0.0    error, or distance from cluster centroid to current point: 114.225153394\n",
      "cluster assignment: 0.0    error, or distance from cluster centroid to current point: 64.892154397\n",
      "cluster assignment: 0.0    error, or distance from cluster centroid to current point: 43.0977712475\n",
      "cluster assignment: 0.0    error, or distance from cluster centroid to current point: 61.0085034441\n",
      "cluster assignment: 0.0    error, or distance from cluster centroid to current point: 109.054641859\n",
      "cluster assignment: 0.0    error, or distance from cluster centroid to current point: 36.9372898032\n",
      "cluster assignment: 0.0    error, or distance from cluster centroid to current point: 95.8440099637\n",
      "cluster assignment: 0.0    error, or distance from cluster centroid to current point: 567.888142361\n",
      "cluster assignment: 0.0    error, or distance from cluster centroid to current point: 182.979416182\n",
      "cluster assignment: 0.0    error, or distance from cluster centroid to current point: 76.2472195926\n",
      "cluster assignment: 0.0    error, or distance from cluster centroid to current point: 277.427761217\n",
      "cluster assignment: 0.0    error, or distance from cluster centroid to current point: 592.854040054\n",
      "cluster assignment: 0.0    error, or distance from cluster centroid to current point: 56.6564472756\n",
      "cluster assignment: 0.0    error, or distance from cluster centroid to current point: 63.9593560018\n",
      "cluster assignment: 0.0    error, or distance from cluster centroid to current point: 233.082726112\n",
      "cluster assignment: 0.0    error, or distance from cluster centroid to current point: 132.714621799\n",
      "cluster assignment: 0.0    error, or distance from cluster centroid to current point: 73.1559457711\n",
      "cluster assignment: 0.0    error, or distance from cluster centroid to current point: 45.2301684391\n",
      "cluster assignment: 0.0    error, or distance from cluster centroid to current point: 106.375604748\n",
      "cluster assignment: 0.0    error, or distance from cluster centroid to current point: 71.8801182887\n",
      "cluster assignment: 0.0    error, or distance from cluster centroid to current point: 77.8450129727\n",
      "cluster assignment: 0.0    error, or distance from cluster centroid to current point: 71.9332777671\n",
      "cluster assignment: 0.0    error, or distance from cluster centroid to current point: 106.887139352\n",
      "cluster assignment: 0.0    error, or distance from cluster centroid to current point: 110.633378068\n",
      "cluster assignment: 0.0    error, or distance from cluster centroid to current point: 80.891151388\n",
      "cluster assignment: 0.0    error, or distance from cluster centroid to current point: 403.052635841\n",
      "cluster assignment: 0.0    error, or distance from cluster centroid to current point: 182.014521498\n",
      "cluster assignment: 0.0    error, or distance from cluster centroid to current point: 71.1168284191\n",
      "cluster assignment: 0.0    error, or distance from cluster centroid to current point: 17.6133178875\n",
      "cluster assignment: 0.0    error, or distance from cluster centroid to current point: 540.436788299\n",
      "cluster assignment: 0.0    error, or distance from cluster centroid to current point: 223.384631829\n",
      "cluster assignment: 0.0    error, or distance from cluster centroid to current point: 122.991452291\n",
      "cluster assignment: 0.0    error, or distance from cluster centroid to current point: 98.7637692415\n",
      "cluster assignment: 0.0    error, or distance from cluster centroid to current point: 131.25022862\n",
      "cluster assignment: 0.0    error, or distance from cluster centroid to current point: 42.818934738\n",
      "cluster assignment: 0.0    error, or distance from cluster centroid to current point: 59.7186338353\n",
      "cluster assignment: 0.0    error, or distance from cluster centroid to current point: 118.058653895\n",
      "cluster assignment: 0.0    error, or distance from cluster centroid to current point: 47.7196368443\n",
      "cluster assignment: 0.0    error, or distance from cluster centroid to current point: 85.0927562024\n",
      "cluster assignment: 0.0    error, or distance from cluster centroid to current point: 20.3425054502\n",
      "cluster assignment: 0.0    error, or distance from cluster centroid to current point: 227.010509462\n",
      "cluster assignment: 0.0    error, or distance from cluster centroid to current point: 75.2712918092\n",
      "cluster assignment: 0.0    error, or distance from cluster centroid to current point: 258.81692872\n",
      "cluster assignment: 0.0    error, or distance from cluster centroid to current point: 76.4648725515\n",
      "cluster assignment: 0.0    error, or distance from cluster centroid to current point: 40.1047923107\n",
      "cluster assignment: 0.0    error, or distance from cluster centroid to current point: 65.6724954201\n",
      "cluster assignment: 0.0    error, or distance from cluster centroid to current point: 58.4799176869\n",
      "cluster assignment: 0.0    error, or distance from cluster centroid to current point: 253.927259713\n",
      "cluster assignment: 0.0    error, or distance from cluster centroid to current point: 613.936286794\n",
      "cluster assignment: 0.0    error, or distance from cluster centroid to current point: 58.2020841864\n",
      "cluster assignment: 0.0    error, or distance from cluster centroid to current point: 148.541101238\n",
      "cluster assignment: 0.0    error, or distance from cluster centroid to current point: 228.846015982\n",
      "cluster assignment: 0.0    error, or distance from cluster centroid to current point: 1246.4367883\n",
      "cluster assignment: 0.0    error, or distance from cluster centroid to current point: 54.1689848885\n",
      "cluster assignment: 0.0    error, or distance from cluster centroid to current point: 57.4197371452\n",
      "cluster assignment: 0.0    error, or distance from cluster centroid to current point: 65.3084031432\n",
      "cluster assignment: 0.0    error, or distance from cluster centroid to current point: 818.546116283\n",
      "cluster assignment: 0.0    error, or distance from cluster centroid to current point: 42.7025856909\n",
      "cluster assignment: 0.0    error, or distance from cluster centroid to current point: 1542.93528379\n",
      "cluster assignment: 0.0    error, or distance from cluster centroid to current point: 86.632375059\n",
      "cluster assignment: 0.0    error, or distance from cluster centroid to current point: 64.8620641262\n",
      "cluster assignment: 0.0    error, or distance from cluster centroid to current point: 61.6474201944\n",
      "cluster assignment: 0.0    error, or distance from cluster centroid to current point: 63.8741002345\n",
      "cluster assignment: 0.0    error, or distance from cluster centroid to current point: 18.7346819797\n",
      "cluster assignment: 0.0    error, or distance from cluster centroid to current point: 88.5942607159\n",
      "cluster assignment: 0.0    error, or distance from cluster centroid to current point: 34.708603745\n",
      "cluster assignment: 0.0    error, or distance from cluster centroid to current point: 50.0837291212\n",
      "cluster assignment: 0.0    error, or distance from cluster centroid to current point: 582.516026012\n",
      "cluster assignment: 0.0    error, or distance from cluster centroid to current point: 49.076708058\n",
      "cluster assignment: 0.0    error, or distance from cluster centroid to current point: 864.40469201\n",
      "cluster assignment: 0.0    error, or distance from cluster centroid to current point: 184.325454297\n",
      "cluster assignment: 0.0    error, or distance from cluster centroid to current point: 317.063668941\n",
      "cluster assignment: 0.0    error, or distance from cluster centroid to current point: 4922.02956663\n",
      "cluster assignment: 0.0    error, or distance from cluster centroid to current point: 16.6454141763\n",
      "cluster assignment: 0.0    error, or distance from cluster centroid to current point: 596.302385089\n",
      "cluster assignment: 0.0    error, or distance from cluster centroid to current point: 81.3314723509\n",
      "cluster assignment: 0.0    error, or distance from cluster centroid to current point: 60.9071995324\n",
      "cluster assignment: 0.0    error, or distance from cluster centroid to current point: 639.604290806\n",
      "cluster assignment: 0.0    error, or distance from cluster centroid to current point: 122.297370044\n",
      "cluster assignment: 0.0    error, or distance from cluster centroid to current point: 24.2672797731\n",
      "cluster assignment: 0.0    error, or distance from cluster centroid to current point: 727.241201538\n",
      "cluster assignment: 0.0    error, or distance from cluster centroid to current point: 84.9232476768\n",
      "cluster assignment: 0.0    error, or distance from cluster centroid to current point: 41.857049081\n",
      "cluster assignment: 0.0    error, or distance from cluster centroid to current point: 90.3545415585\n",
      "cluster assignment: 0.0    error, or distance from cluster centroid to current point: 92.2111112676\n",
      "cluster assignment: 0.0    error, or distance from cluster centroid to current point: 37411.7657753\n",
      "cluster assignment: 0.0    error, or distance from cluster centroid to current point: 122.396667938\n",
      "cluster assignment: 0.0    error, or distance from cluster centroid to current point: 30.9222446678\n",
      "cluster assignment: 0.0    error, or distance from cluster centroid to current point: 60.2783128724\n",
      "cluster assignment: 0.0    error, or distance from cluster centroid to current point: 321.428764226\n",
      "cluster assignment: 0.0    error, or distance from cluster centroid to current point: 322.743709061\n",
      "cluster assignment: 0.0    error, or distance from cluster centroid to current point: 30.8801182887\n",
      "cluster assignment: 0.0    error, or distance from cluster centroid to current point: 122.30138208\n",
      "cluster assignment: 0.0    error, or distance from cluster centroid to current point: 71.0546418594\n",
      "cluster assignment: 0.0    error, or distance from cluster centroid to current point: 29.8831273157\n",
      "cluster assignment: 0.0    error, or distance from cluster centroid to current point: 108.975404146\n",
      "cluster assignment: 0.0    error, or distance from cluster centroid to current point: 44.8119136748\n",
      "cluster assignment: 0.0    error, or distance from cluster centroid to current point: 74.2070992315\n",
      "cluster assignment: 0.0    error, or distance from cluster centroid to current point: 57.8219437651\n",
      "cluster assignment: 0.0    error, or distance from cluster centroid to current point: 65.0365876969\n",
      "cluster assignment: 0.0    error, or distance from cluster centroid to current point: 75.9563469747\n",
      "cluster assignment: 0.0    error, or distance from cluster centroid to current point: 70.5059959216\n",
      "cluster assignment: 0.0    error, or distance from cluster centroid to current point: 41.5611614181\n",
      "cluster assignment: 0.0    error, or distance from cluster centroid to current point: 473.687540555\n",
      "cluster assignment: 0.0    error, or distance from cluster centroid to current point: 348527.219135\n",
      "cluster assignment: 0.0    error, or distance from cluster centroid to current point: 140.701582682\n",
      "cluster assignment: 0.0    error, or distance from cluster centroid to current point: 201.577209562\n",
      "cluster assignment: 0.0    error, or distance from cluster centroid to current point: 89.7206398534\n",
      "cluster assignment: 0.0    error, or distance from cluster centroid to current point: 94.5892456708\n",
      "cluster assignment: 0.0    error, or distance from cluster centroid to current point: 195.606296824\n",
      "cluster assignment: 0.0    error, or distance from cluster centroid to current point: 868.060659914\n",
      "cluster assignment: 0.0    error, or distance from cluster centroid to current point: 37.5782125715\n",
      "cluster assignment: 0.0    error, or distance from cluster centroid to current point: 5726.21913534\n",
      "cluster assignment: 0.0    error, or distance from cluster centroid to current point: 296.717630826\n",
      "cluster assignment: 0.0    error, or distance from cluster centroid to current point: 314.386637847\n",
      "cluster assignment: 0.0    error, or distance from cluster centroid to current point: 145.786838449\n",
      "cluster assignment: 0.0    error, or distance from cluster centroid to current point: 105.083729121\n",
      "cluster assignment: 0.0    error, or distance from cluster centroid to current point: 401.016527516\n",
      "cluster assignment: 0.0    error, or distance from cluster centroid to current point: 88.1218434642\n",
      "cluster assignment: 0.0    error, or distance from cluster centroid to current point: 323.263267737\n",
      "cluster assignment: 0.0    error, or distance from cluster centroid to current point: 25.892154397\n",
      "cluster assignment: 0.0    error, or distance from cluster centroid to current point: 69.9071995324\n",
      "cluster assignment: 0.0    error, or distance from cluster centroid to current point: 202.088744166\n",
      "cluster assignment: 0.0    error, or distance from cluster centroid to current point: 148.29135199\n",
      "cluster assignment: 0.0    error, or distance from cluster centroid to current point: 175.256246674\n",
      "cluster assignment: 0.0    error, or distance from cluster centroid to current point: 32.0736990309\n",
      "cluster assignment: 0.0    error, or distance from cluster centroid to current point: 109.223147376\n",
      "cluster assignment: 0.0    error, or distance from cluster centroid to current point: 102.442806353\n",
      "cluster assignment: 0.0    error, or distance from cluster centroid to current point: 72.9683830831\n",
      "cluster assignment: 0.0    error, or distance from cluster centroid to current point: 50.3786137751\n",
      "cluster assignment: 0.0    error, or distance from cluster centroid to current point: 61.2883429627\n",
      "cluster assignment: 0.0    error, or distance from cluster centroid to current point: 49.5280621202\n",
      "cluster assignment: 0.0    error, or distance from cluster centroid to current point: 129.35253554\n",
      "cluster assignment: 0.0    error, or distance from cluster centroid to current point: 84.2371895023\n",
      "cluster assignment: 0.0    error, or distance from cluster centroid to current point: 41.931271749\n",
      "cluster assignment: 0.0    error, or distance from cluster centroid to current point: 212.848022\n",
      "cluster assignment: 0.0    error, or distance from cluster centroid to current point: 74.5531373458\n",
      "cluster assignment: 0.0    error, or distance from cluster centroid to current point: 459.482926714\n",
      "cluster assignment: 0.0    error, or distance from cluster centroid to current point: 60.9804191914\n",
      "cluster assignment: 0.0    error, or distance from cluster centroid to current point: 280.126858509\n",
      "cluster assignment: 0.0    error, or distance from cluster centroid to current point: 123.33247536\n",
      "cluster assignment: 0.0    error, or distance from cluster centroid to current point: 836.797871548\n",
      "cluster assignment: 0.0    error, or distance from cluster centroid to current point: 83.189045069\n",
      "cluster assignment: 0.0    error, or distance from cluster centroid to current point: 66.6865375464\n",
      "cluster assignment: 0.0    error, or distance from cluster centroid to current point: 55.6062968243\n",
      "cluster assignment: 0.0    error, or distance from cluster centroid to current point: 32.4167281182\n",
      "cluster assignment: 0.0    error, or distance from cluster centroid to current point: 93.7096067541\n",
      "cluster assignment: 0.0    error, or distance from cluster centroid to current point: 159.277309863\n",
      "cluster assignment: 0.0    error, or distance from cluster centroid to current point: 187.253237647\n",
      "cluster assignment: 0.0    error, or distance from cluster centroid to current point: 175.162966834\n",
      "cluster assignment: 0.0    error, or distance from cluster centroid to current point: 164.299376062\n",
      "cluster assignment: 0.0    error, or distance from cluster centroid to current point: 337.005494417\n",
      "cluster assignment: 0.0    error, or distance from cluster centroid to current point: 96.8058956207\n",
      "cluster assignment: 0.0    error, or distance from cluster centroid to current point: 122.616326915\n",
      "cluster assignment: 0.0    error, or distance from cluster centroid to current point: 112.540098228\n",
      "cluster assignment: 0.0    error, or distance from cluster centroid to current point: 473.081723103\n",
      "cluster assignment: 0.0    error, or distance from cluster centroid to current point: 66.9543409567\n",
      "cluster assignment: 0.0    error, or distance from cluster centroid to current point: 47.0506298233\n",
      "cluster assignment: 0.0    error, or distance from cluster centroid to current point: 68.4327762626\n",
      "cluster assignment: 0.0    error, or distance from cluster centroid to current point: 99.2121142766\n",
      "cluster assignment: 0.0    error, or distance from cluster centroid to current point: 44.4307702445\n",
      "cluster assignment: 0.0    error, or distance from cluster centroid to current point: 111.928262722\n",
      "cluster assignment: 0.0    error, or distance from cluster centroid to current point: 334.948322903\n",
      "cluster assignment: 0.0    error, or distance from cluster centroid to current point: 71.1429066538\n",
      "cluster assignment: 0.0    error, or distance from cluster centroid to current point: 357.728663926\n",
      "cluster assignment: 0.0    error, or distance from cluster centroid to current point: 53.263267737\n",
      "cluster assignment: 0.0    error, or distance from cluster centroid to current point: 37.6815225013\n",
      "cluster assignment: 0.0    error, or distance from cluster centroid to current point: 182.151933735\n",
      "cluster assignment: 0.0    error, or distance from cluster centroid to current point: 95.0225455705\n",
      "cluster assignment: 0.0    error, or distance from cluster centroid to current point: 53.4337792716\n",
      "cluster assignment: 0.0    error, or distance from cluster centroid to current point: 69.6062968243\n",
      "cluster assignment: 0.0    error, or distance from cluster centroid to current point: 79.9392958213\n",
      "cluster assignment: 0.0    error, or distance from cluster centroid to current point: 65.560158409\n",
      "cluster assignment: 0.0    error, or distance from cluster centroid to current point: 117.395664929\n",
      "cluster assignment: 0.0    error, or distance from cluster centroid to current point: 225.948322903\n",
      "cluster assignment: 0.0    error, or distance from cluster centroid to current point: 233.338493414\n",
      "cluster assignment: 0.0    error, or distance from cluster centroid to current point: 347.374601739\n",
      "cluster assignment: 0.0    error, or distance from cluster centroid to current point: 490.204090204\n",
      "cluster assignment: 0.0    error, or distance from cluster centroid to current point: 55.7657752596\n",
      "cluster assignment: 0.0    error, or distance from cluster centroid to current point: 115.65243524\n",
      "cluster assignment: 0.0    error, or distance from cluster centroid to current point: 178.718633835\n",
      "cluster assignment: 0.0    error, or distance from cluster centroid to current point: 138.63137205\n",
      "cluster assignment: 0.0    error, or distance from cluster centroid to current point: 23.8730972255\n",
      "cluster assignment: 0.0    error, or distance from cluster centroid to current point: 57.1208404552\n",
      "cluster assignment: 0.0    error, or distance from cluster centroid to current point: 1009.3595566\n",
      "cluster assignment: 0.0    error, or distance from cluster centroid to current point: 217.079717085\n",
      "cluster assignment: 0.0    error, or distance from cluster centroid to current point: 83.0947622205\n",
      "cluster assignment: 0.0    error, or distance from cluster centroid to current point: 52.4969688403\n",
      "cluster assignment: 0.0    error, or distance from cluster centroid to current point: 34.6283630229\n",
      "cluster assignment: 0.0    error, or distance from cluster centroid to current point: 451.279315881\n",
      "cluster assignment: 0.0    error, or distance from cluster centroid to current point: 56.076708058\n",
      "cluster assignment: 0.0    error, or distance from cluster centroid to current point: 162.87911528\n",
      "cluster assignment: 0.0    error, or distance from cluster centroid to current point: 57.928262722\n",
      "cluster assignment: 0.0    error, or distance from cluster centroid to current point: 60.4267582084\n",
      "cluster assignment: 0.0    error, or distance from cluster centroid to current point: 62.9874402546\n",
      "cluster assignment: 0.0    error, or distance from cluster centroid to current point: 117.446818389\n",
      "cluster assignment: 0.0    error, or distance from cluster centroid to current point: 13359.4167281\n",
      "cluster assignment: 0.0    error, or distance from cluster centroid to current point: 45.3104091613\n",
      "cluster assignment: 0.0    error, or distance from cluster centroid to current point: 125.187039051\n",
      "cluster assignment: 0.0    error, or distance from cluster centroid to current point: 250.000479372\n",
      "cluster assignment: 0.0    error, or distance from cluster centroid to current point: 288.573197526\n",
      "cluster assignment: 0.0    error, or distance from cluster centroid to current point: 3872.93628679\n",
      "cluster assignment: 0.0    error, or distance from cluster centroid to current point: 147.307400134\n",
      "cluster assignment: 0.0    error, or distance from cluster centroid to current point: 97.4939598132\n",
      "cluster assignment: 0.0    error, or distance from cluster centroid to current point: 1389.50499291\n",
      "cluster assignment: 0.0    error, or distance from cluster centroid to current point: 118.230168439\n",
      "cluster assignment: 0.0    error, or distance from cluster centroid to current point: 243.165975861\n",
      "cluster assignment: 0.0    error, or distance from cluster centroid to current point: 608.015524507\n",
      "cluster assignment: 0.0    error, or distance from cluster centroid to current point: 69.0736990309\n",
      "cluster assignment: 0.0    error, or distance from cluster centroid to current point: 55.5802185896\n",
      "cluster assignment: 0.0    error, or distance from cluster centroid to current point: 268.185033033\n",
      "cluster assignment: 0.0    error, or distance from cluster centroid to current point: 1026.35454156\n",
      "cluster assignment: 0.0    error, or distance from cluster centroid to current point: 67.6805194923\n",
      "cluster assignment: 0.0    error, or distance from cluster centroid to current point: 119.705594718\n",
      "cluster assignment: 0.0    error, or distance from cluster centroid to current point: 51.3715927119\n",
      "cluster assignment: 0.0    error, or distance from cluster centroid to current point: 84.1930571051\n",
      "cluster assignment: 0.0    error, or distance from cluster centroid to current point: 544.851031027\n",
      "cluster assignment: 0.0    error, or distance from cluster centroid to current point: 299.728663926\n",
      "cluster assignment: 0.0    error, or distance from cluster centroid to current point: 91.9332777671\n",
      "cluster assignment: 0.0    error, or distance from cluster centroid to current point: 129.547119292\n",
      "cluster assignment: 0.0    error, or distance from cluster centroid to current point: 114.860058108\n",
      "cluster assignment: 0.0    error, or distance from cluster centroid to current point: 129.715624808\n",
      "cluster assignment: 0.0    error, or distance from cluster centroid to current point: 92.9082025414\n",
      "cluster assignment: 0.0    error, or distance from cluster centroid to current point: 102.223147376\n",
      "cluster assignment: 0.0    error, or distance from cluster centroid to current point: 47.6243509868\n",
      "cluster assignment: 0.0    error, or distance from cluster centroid to current point: 2427.54511327\n",
      "cluster assignment: 0.0    error, or distance from cluster centroid to current point: 43.8670791713\n",
      "cluster assignment: 0.0    error, or distance from cluster centroid to current point: 43.8079016387\n",
      "cluster assignment: 0.0    error, or distance from cluster centroid to current point: 87.8159257109\n",
      "cluster assignment: 0.0    error, or distance from cluster centroid to current point: 402.586236644\n",
      "cluster assignment: 0.0    error, or distance from cluster centroid to current point: 172.114822401\n",
      "cluster assignment: 0.0    error, or distance from cluster centroid to current point: 43.2281624211\n",
      "cluster assignment: 0.0    error, or distance from cluster centroid to current point: 423.732675962\n",
      "cluster assignment: 0.0    error, or distance from cluster centroid to current point: 69.9132175866\n",
      "cluster assignment: 0.0    error, or distance from cluster centroid to current point: 68.3324753599\n",
      "cluster assignment: 0.0    error, or distance from cluster centroid to current point: 287.611311869\n",
      "cluster assignment: 0.0    error, or distance from cluster centroid to current point: 43.596266734\n",
      "cluster assignment: 0.0    error, or distance from cluster centroid to current point: 347.776808359\n",
      "cluster assignment: 0.0    error, or distance from cluster centroid to current point: 84.9764071553\n",
      "cluster assignment: 0.0    error, or distance from cluster centroid to current point: 271.822946774\n",
      "cluster assignment: 0.0    error, or distance from cluster centroid to current point: 238.88914537\n",
      "cluster assignment: 0.0    error, or distance from cluster centroid to current point: 58.9142205956\n",
      "cluster assignment: 0.0    error, or distance from cluster centroid to current point: 117.82695881\n",
      "cluster assignment: 0.0    error, or distance from cluster centroid to current point: 1057.29034898\n",
      "cluster assignment: 0.0    error, or distance from cluster centroid to current point: 34.3194362425\n",
      "cluster assignment: 0.0    error, or distance from cluster centroid to current point: 79.0757050489\n",
      "cluster assignment: 0.0    error, or distance from cluster centroid to current point: 407.283327918\n",
      "cluster assignment: 0.0    error, or distance from cluster centroid to current point: 18653.9733981\n",
      "cluster assignment: 0.0    error, or distance from cluster centroid to current point: 82.0275606156\n",
      "cluster assignment: 0.0    error, or distance from cluster centroid to current point: 50.9372898032\n",
      "cluster assignment: 0.0    error, or distance from cluster centroid to current point: 84.6022847882\n",
      "cluster assignment: 0.0    error, or distance from cluster centroid to current point: 26.3625656307\n",
      "cluster assignment: 0.0    error, or distance from cluster centroid to current point: 36.2131172857\n",
      "cluster assignment: 0.0    error, or distance from cluster centroid to current point: 117.167981879\n",
      "cluster assignment: 0.0    error, or distance from cluster centroid to current point: 363.340499432\n",
      "cluster assignment: 0.0    error, or distance from cluster centroid to current point: 472.736687998\n",
      "cluster assignment: 0.0    error, or distance from cluster centroid to current point: 118.88914537\n",
      "cluster assignment: 0.0    error, or distance from cluster centroid to current point: 196.870088198\n",
      "cluster assignment: 0.0    error, or distance from cluster centroid to current point: 199.267279773\n",
      "cluster assignment: 0.0    error, or distance from cluster centroid to current point: 37.2883429627\n",
      "cluster assignment: 0.0    error, or distance from cluster centroid to current point: 76.671492411\n",
      "cluster assignment: 0.0    error, or distance from cluster centroid to current point: 269.278312872\n",
      "cluster assignment: 0.0    error, or distance from cluster centroid to current point: 162.133879573\n",
      "cluster assignment: 0.0    error, or distance from cluster centroid to current point: 130.922244668\n",
      "cluster assignment: 0.0    error, or distance from cluster centroid to current point: 127.490950786\n",
      "cluster assignment: 0.0    error, or distance from cluster centroid to current point: 755.88914537\n",
      "cluster assignment: 0.0    error, or distance from cluster centroid to current point: 616.982425209\n",
      "cluster assignment: 0.0    error, or distance from cluster centroid to current point: 188.242204547\n",
      "cluster assignment: 0.0    error, or distance from cluster centroid to current point: 65.0827261121\n",
      "cluster assignment: 0.0    error, or distance from cluster centroid to current point: 34.262264728\n",
      "cluster assignment: 0.0    error, or distance from cluster centroid to current point: 1027.95434096\n",
      "cluster assignment: 0.0    error, or distance from cluster centroid to current point: 57.6223449687\n",
      "cluster assignment: 0.0    error, or distance from cluster centroid to current point: 101.112816383\n",
      "cluster assignment: 0.0    error, or distance from cluster centroid to current point: 152.589245671\n",
      "cluster assignment: 0.0    error, or distance from cluster centroid to current point: 66.6163269145\n",
      "cluster assignment: 0.0    error, or distance from cluster centroid to current point: 318.526056102\n",
      "cluster assignment: 0.0    error, or distance from cluster centroid to current point: 519.821943765\n",
      "cluster assignment: 0.0    error, or distance from cluster centroid to current point: 99.7858354401\n",
      "cluster assignment: 0.0    error, or distance from cluster centroid to current point: 34.3916528925\n",
      "cluster assignment: 0.0    error, or distance from cluster centroid to current point: 83.4688845876\n",
      "cluster assignment: 0.0    error, or distance from cluster centroid to current point: 189.493959813\n",
      "cluster assignment: 0.0    error, or distance from cluster centroid to current point: 81.8500280179\n",
      "cluster assignment: 0.0    error, or distance from cluster centroid to current point: 367.253237647\n",
      "cluster assignment: 0.0    error, or distance from cluster centroid to current point: 79.817931729\n",
      "cluster assignment: 0.0    error, or distance from cluster centroid to current point: 31.8349828824\n",
      "cluster assignment: 0.0    error, or distance from cluster centroid to current point: 2540.77480234\n",
      "cluster assignment: 0.0    error, or distance from cluster centroid to current point: 44.4658755605\n",
      "cluster assignment: 0.0    error, or distance from cluster centroid to current point: 308.987440255\n",
      "cluster assignment: 0.0    error, or distance from cluster centroid to current point: 182.614320896\n",
      "cluster assignment: 0.0    error, or distance from cluster centroid to current point: 173.550128319\n",
      "cluster assignment: 0.0    error, or distance from cluster centroid to current point: 60.8329768644\n",
      "cluster assignment: 0.0    error, or distance from cluster centroid to current point: 569.091753193\n",
      "cluster assignment: 0.0    error, or distance from cluster centroid to current point: 154.494962822\n",
      "cluster assignment: 0.0    error, or distance from cluster centroid to current point: 143.792856503\n",
      "cluster assignment: 0.0    error, or distance from cluster centroid to current point: 60.6815225013\n",
      "cluster assignment: 0.0    error, or distance from cluster centroid to current point: 32.6885435645\n",
      "cluster assignment: 0.0    error, or distance from cluster centroid to current point: 101.973398128\n",
      "cluster assignment: 0.0    error, or distance from cluster centroid to current point: 45.8981724512\n",
      "cluster assignment: 0.0    error, or distance from cluster centroid to current point: 499.571191508\n",
      "cluster assignment: 0.0    error, or distance from cluster centroid to current point: 464.887139352\n",
      "cluster assignment: 0.0    error, or distance from cluster centroid to current point: 72.8139196929\n",
      "cluster assignment: 0.0    error, or distance from cluster centroid to current point: 42.8791152796\n",
      "cluster assignment: 0.0    error, or distance from cluster centroid to current point: 65.5822246076\n",
      "cluster assignment: 0.0    error, or distance from cluster centroid to current point: 83.3344813779\n",
      "cluster assignment: 0.0    error, or distance from cluster centroid to current point: 781.596266734\n",
      "cluster assignment: 0.0    error, or distance from cluster centroid to current point: 34.5902486798\n",
      "cluster assignment: 0.0    error, or distance from cluster centroid to current point: 330.360559613\n",
      "cluster assignment: 0.0    error, or distance from cluster centroid to current point: 167.593257707\n",
      "cluster assignment: 0.0    error, or distance from cluster centroid to current point: 121.008503444\n",
      "cluster assignment: 0.0    error, or distance from cluster centroid to current point: 41.0486238052\n",
      "cluster assignment: 0.0    error, or distance from cluster centroid to current point: 149.848022\n",
      "cluster assignment: 0.0    error, or distance from cluster centroid to current point: 657.108804347\n",
      "cluster assignment: 0.0    error, or distance from cluster centroid to current point: 122.986437246\n",
      "cluster assignment: 0.0    error, or distance from cluster centroid to current point: 60.9824252094\n",
      "cluster assignment: 0.0    error, or distance from cluster centroid to current point: 510.425755199\n",
      "cluster assignment: 0.0    error, or distance from cluster centroid to current point: 100.437791308\n",
      "cluster assignment: 0.0    error, or distance from cluster centroid to current point: 82.9382928122\n",
      "cluster assignment: 0.0    error, or distance from cluster centroid to current point: 164.925253695\n",
      "cluster assignment: 0.0    error, or distance from cluster centroid to current point: 344.380619793\n",
      "cluster assignment: 0.0    error, or distance from cluster centroid to current point: 52.7166278173\n",
      "cluster assignment: 0.0    error, or distance from cluster centroid to current point: 128.797871548\n",
      "cluster assignment: 0.0    error, or distance from cluster centroid to current point: 172.340499432\n",
      "cluster assignment: 0.0    error, or distance from cluster centroid to current point: 257.741703043\n",
      "cluster assignment: 0.0    error, or distance from cluster centroid to current point: 95.3515325314\n",
      "cluster assignment: 0.0    error, or distance from cluster centroid to current point: 131.427761217\n",
      "cluster assignment: 0.0    error, or distance from cluster centroid to current point: 67.7677812776\n",
      "cluster assignment: 0.0    error, or distance from cluster centroid to current point: 57.6664773659\n",
      "cluster assignment: 0.0    error, or distance from cluster centroid to current point: 216.548122301\n",
      "cluster assignment: 0.0    error, or distance from cluster centroid to current point: 91.9262567039\n",
      "cluster assignment: 0.0    error, or distance from cluster centroid to current point: 211.705594718\n",
      "cluster assignment: 0.0    error, or distance from cluster centroid to current point: 42.9964673358\n",
      "cluster assignment: 0.0    error, or distance from cluster centroid to current point: 204.197069141\n",
      "cluster assignment: 0.0    error, or distance from cluster centroid to current point: 83.4247521904\n",
      "cluster assignment: 0.0    error, or distance from cluster centroid to current point: 56.6795164833\n",
      "cluster assignment: 0.0    error, or distance from cluster centroid to current point: 71.3535385494\n",
      "cluster assignment: 0.0    error, or distance from cluster centroid to current point: 140.06467195\n",
      "cluster assignment: 0.0    error, or distance from cluster centroid to current point: 26.9252536949\n",
      "cluster assignment: 0.0    error, or distance from cluster centroid to current point: 318.637390104\n",
      "cluster assignment: 0.0    error, or distance from cluster centroid to current point: 86.1609608163\n",
      "cluster assignment: 0.0    error, or distance from cluster centroid to current point: 57.3114121703\n",
      "cluster assignment: 0.0    error, or distance from cluster centroid to current point: 828.59024868\n",
      "cluster assignment: 0.0    error, or distance from cluster centroid to current point: 36.7336789707\n",
      "cluster assignment: 0.0    error, or distance from cluster centroid to current point: 1394.22515339\n",
      "cluster assignment: 0.0    error, or distance from cluster centroid to current point: 26.2893459717\n",
      "cluster assignment: 0.0    error, or distance from cluster centroid to current point: 472.957349984\n",
      "cluster assignment: 0.0    error, or distance from cluster centroid to current point: 24.3545415585\n",
      "cluster assignment: 0.0    error, or distance from cluster centroid to current point: 57.076708058\n",
      "cluster assignment: 0.0    error, or distance from cluster centroid to current point: 105.035584688\n",
      "cluster assignment: 0.0    error, or distance from cluster centroid to current point: 52.0486238052\n",
      "cluster assignment: 0.0    error, or distance from cluster centroid to current point: 36.6243509868\n",
      "cluster assignment: 0.0    error, or distance from cluster centroid to current point: 89.81692872\n",
      "cluster assignment: 0.0    error, or distance from cluster centroid to current point: 264.096768239\n",
      "cluster assignment: 0.0    error, or distance from cluster centroid to current point: 80.3816228022\n",
      "cluster assignment: 0.0    error, or distance from cluster centroid to current point: 217.177008961\n",
      "cluster assignment: 0.0    error, or distance from cluster centroid to current point: 315.103789302\n",
      "cluster assignment: 0.0    error, or distance from cluster centroid to current point: 50.93026874\n",
      "cluster assignment: 0.0    error, or distance from cluster centroid to current point: 64.189045069\n",
      "cluster assignment: 0.0    error, or distance from cluster centroid to current point: 149.098774257\n",
      "cluster assignment: 0.0    error, or distance from cluster centroid to current point: 68.6554442666\n",
      "cluster assignment: 0.0    error, or distance from cluster centroid to current point: 18.7557451693\n",
      "cluster assignment: 0.0    error, or distance from cluster centroid to current point: 177.760760214\n",
      "cluster assignment: 0.0    error, or distance from cluster centroid to current point: 297.731672953\n",
      "cluster assignment: 0.0    error, or distance from cluster centroid to current point: 463.248222602\n",
      "cluster assignment: 0.0    error, or distance from cluster centroid to current point: 43.0857351392\n",
      "cluster assignment: 0.0    error, or distance from cluster centroid to current point: 173.691552592\n",
      "cluster assignment: 0.0    error, or distance from cluster centroid to current point: 25.0566478774\n",
      "cluster assignment: 0.0    error, or distance from cluster centroid to current point: 106.524050084\n",
      "cluster assignment: 0.0    error, or distance from cluster centroid to current point: 34.448824407\n",
      "cluster assignment: 0.0    error, or distance from cluster centroid to current point: 45.5742005354\n",
      "cluster assignment: 0.0    error, or distance from cluster centroid to current point: 130.364571649\n",
      "cluster assignment: 0.0    error, or distance from cluster centroid to current point: 668.425755199\n",
      "cluster assignment: 0.0    error, or distance from cluster centroid to current point: 736.913217587\n",
      "cluster assignment: 0.0    error, or distance from cluster centroid to current point: 3461.37660776\n",
      "cluster assignment: 0.0    error, or distance from cluster centroid to current point: 1203.08372912\n",
      "cluster assignment: 0.0    error, or distance from cluster centroid to current point: 3402.91020856\n",
      "cluster assignment: 0.0    error, or distance from cluster centroid to current point: 85.9162266136\n",
      "cluster assignment: 0.0    error, or distance from cluster centroid to current point: 90.0546418594\n",
      "cluster assignment: 0.0    error, or distance from cluster centroid to current point: 148.49696884\n",
      "cluster assignment: 0.0    error, or distance from cluster centroid to current point: 61.4518334341\n",
      "cluster assignment: 0.0    error, or distance from cluster centroid to current point: 50.3053941161\n",
      "cluster assignment: 0.0    error, or distance from cluster centroid to current point: 164.969386092\n",
      "cluster assignment: 0.0    error, or distance from cluster centroid to current point: 393.348523504\n",
      "cluster assignment: 0.0    error, or distance from cluster centroid to current point: 441.7035887\n",
      "cluster assignment: 0.0    error, or distance from cluster centroid to current point: 41.8289648283\n",
      "cluster assignment: 0.0    error, or distance from cluster centroid to current point: 350.141903645\n",
      "cluster assignment: 0.0    error, or distance from cluster centroid to current point: 63.0335786698\n",
      "cluster assignment: 0.0    error, or distance from cluster centroid to current point: 31.6745014381\n",
      "cluster assignment: 0.0    error, or distance from cluster centroid to current point: 96.3154242064\n",
      "cluster assignment: 0.0    error, or distance from cluster centroid to current point: 66.6093058514\n",
      "cluster assignment: 0.0    error, or distance from cluster centroid to current point: 70.8139196929\n",
      "cluster assignment: 0.0    error, or distance from cluster centroid to current point: 646.834982882\n",
      "cluster assignment: 0.0    error, or distance from cluster centroid to current point: 45.9473198935\n",
      "cluster assignment: 0.0    error, or distance from cluster centroid to current point: 129.203087195\n",
      "cluster assignment: 0.0    error, or distance from cluster centroid to current point: 1085.95032892\n",
      "cluster assignment: 0.0    error, or distance from cluster centroid to current point: 81.9392958213\n",
      "cluster assignment: 0.0    error, or distance from cluster centroid to current point: 190.711612772\n",
      "cluster assignment: 0.0    error, or distance from cluster centroid to current point: 112.182024006\n",
      "cluster assignment: 0.0    error, or distance from cluster centroid to current point: 73.1479216989\n",
      "cluster assignment: 0.0    error, or distance from cluster centroid to current point: 64.4999778674\n",
      "cluster assignment: 0.0    error, or distance from cluster centroid to current point: 279.595263725\n",
      "cluster assignment: 0.0    error, or distance from cluster centroid to current point: 73.1609608163\n",
      "cluster assignment: 0.0    error, or distance from cluster centroid to current point: 68.3284633238\n",
      "cluster assignment: 0.0    error, or distance from cluster centroid to current point: 65.0526358413\n",
      "cluster assignment: 0.0    error, or distance from cluster centroid to current point: 180.512013976\n",
      "cluster assignment: 0.0    error, or distance from cluster centroid to current point: 94.854040054\n",
      "cluster assignment: 0.0    error, or distance from cluster centroid to current point: 74.7015826818\n",
      "cluster assignment: 0.0    error, or distance from cluster centroid to current point: 472.849025009\n",
      "cluster assignment: 0.0    error, or distance from cluster centroid to current point: 70.9322747581\n",
      "cluster assignment: 0.0    error, or distance from cluster centroid to current point: 39.0064974261\n",
      "cluster assignment: 0.0    error, or distance from cluster centroid to current point: 124.915223605\n",
      "cluster assignment: 0.0    error, or distance from cluster centroid to current point: 241.895163424\n",
      "cluster assignment: 0.0    error, or distance from cluster centroid to current point: 149.351532531\n",
      "cluster assignment: 0.0    error, or distance from cluster centroid to current point: 109.685534537\n",
      "cluster assignment: 0.0    error, or distance from cluster centroid to current point: 111.331472351\n",
      "cluster assignment: 0.0    error, or distance from cluster centroid to current point: 140.555143364\n",
      "cluster assignment: 0.0    error, or distance from cluster centroid to current point: 254.572194517\n",
      "cluster assignment: 0.0    error, or distance from cluster centroid to current point: 64.8309708463\n",
      "cluster assignment: 0.0    error, or distance from cluster centroid to current point: 60.8279618193\n",
      "cluster assignment: 0.0    error, or distance from cluster centroid to current point: 240.839997928\n",
      "cluster assignment: 0.0    error, or distance from cluster centroid to current point: 97.4347822806\n",
      "cluster assignment: 0.0    error, or distance from cluster centroid to current point: 571.499977867\n",
      "cluster assignment: 0.0    error, or distance from cluster centroid to current point: 345.726657908\n",
      "cluster assignment: 0.0    error, or distance from cluster centroid to current point: 248.163969843\n",
      "cluster assignment: 0.0    error, or distance from cluster centroid to current point: 142.058653895\n",
      "cluster assignment: 0.0    error, or distance from cluster centroid to current point: 30.4728966237\n",
      "cluster assignment: 0.0    error, or distance from cluster centroid to current point: 57.7276609166\n",
      "cluster assignment: 0.0    error, or distance from cluster centroid to current point: 550.377610766\n",
      "cluster assignment: 0.0    error, or distance from cluster centroid to current point: 15.261261719\n",
      "cluster assignment: 0.0    error, or distance from cluster centroid to current point: 100.530068138\n",
      "cluster assignment: 0.0    error, or distance from cluster centroid to current point: 77.8500280179\n",
      "cluster assignment: 0.0    error, or distance from cluster centroid to current point: 125.539095219\n",
      "cluster assignment: 0.0    error, or distance from cluster centroid to current point: 332.804892612\n",
      "cluster assignment: 0.0    error, or distance from cluster centroid to current point: 27.8720942165\n",
      "cluster assignment: 0.0    error, or distance from cluster centroid to current point: 114.574200535\n",
      "cluster assignment: 0.0    error, or distance from cluster centroid to current point: 1181.9262567\n",
      "cluster assignment: 0.0    error, or distance from cluster centroid to current point: 51.4929568042\n",
      "cluster assignment: 0.0    error, or distance from cluster centroid to current point: 59.3344813779\n",
      "cluster assignment: 0.0    error, or distance from cluster centroid to current point: 90.7607602144\n",
      "cluster assignment: 0.0    error, or distance from cluster centroid to current point: 537.382625811\n",
      "cluster assignment: 0.0    error, or distance from cluster centroid to current point: 90.3515325314\n",
      "cluster assignment: 0.0    error, or distance from cluster centroid to current point: 76.8008805755\n",
      "cluster assignment: 0.0    error, or distance from cluster centroid to current point: 30.3806197932\n",
      "cluster assignment: 0.0    error, or distance from cluster centroid to current point: 134.82695881\n",
      "cluster assignment: 0.0    error, or distance from cluster centroid to current point: 54.2301684391\n",
      "cluster assignment: 0.0    error, or distance from cluster centroid to current point: 132.793859512\n",
      "cluster assignment: 0.0    error, or distance from cluster centroid to current point: 79.7657752596\n",
      "cluster assignment: 0.0    error, or distance from cluster centroid to current point: 44.447821398\n",
      "cluster assignment: 0.0    error, or distance from cluster centroid to current point: 91.6093058514\n",
      "cluster assignment: 0.0    error, or distance from cluster centroid to current point: 240.923247677\n",
      "cluster assignment: 0.0    error, or distance from cluster centroid to current point: 26.6524352395\n",
      "cluster assignment: 0.0    error, or distance from cluster centroid to current point: 101.64140214\n",
      "cluster assignment: 0.0    error, or distance from cluster centroid to current point: 131.376607757\n",
      "cluster assignment: 0.0    error, or distance from cluster centroid to current point: 75.2492256106\n",
      "cluster assignment: 0.0    error, or distance from cluster centroid to current point: 55.8319738554\n",
      "cluster assignment: 0.0    error, or distance from cluster centroid to current point: 40.114822401\n",
      "cluster assignment: 0.0    error, or distance from cluster centroid to current point: 514.757751187\n",
      "cluster assignment: 0.0    error, or distance from cluster centroid to current point: 121.516026012\n",
      "cluster assignment: 0.0    error, or distance from cluster centroid to current point: 52.4157251091\n",
      "cluster assignment: 0.0    error, or distance from cluster centroid to current point: 97.4307702445\n",
      "cluster assignment: 0.0    error, or distance from cluster centroid to current point: 103.323448279\n",
      "cluster assignment: 0.0    error, or distance from cluster centroid to current point: 150.245213575\n",
      "cluster assignment: 0.0    error, or distance from cluster centroid to current point: 34.9934583087\n",
      "cluster assignment: 0.0    error, or distance from cluster centroid to current point: 42.2552436648\n",
      "cluster assignment: 0.0    error, or distance from cluster centroid to current point: 49.1338795725\n",
      "cluster assignment: 0.0    error, or distance from cluster centroid to current point: 36.4618635244\n",
      "cluster assignment: 0.0    error, or distance from cluster centroid to current point: 85.5090049486\n",
      "cluster assignment: 0.0    error, or distance from cluster centroid to current point: 135.829967837\n",
      "cluster assignment: 0.0    error, or distance from cluster centroid to current point: 144.134882582\n",
      "cluster assignment: 0.0    error, or distance from cluster centroid to current point: 39.1258555003\n",
      "cluster assignment: 0.0    error, or distance from cluster centroid to current point: 31.1729969246\n",
      "cluster assignment: 0.0    error, or distance from cluster centroid to current point: 53.2482226016\n",
      "cluster assignment: 0.0    error, or distance from cluster centroid to current point: 298.347520495\n",
      "cluster assignment: 0.0    error, or distance from cluster centroid to current point: 43.8811212977\n",
      "cluster assignment: 0.0    error, or distance from cluster centroid to current point: 47.2502286197\n",
      "cluster assignment: 0.0    error, or distance from cluster centroid to current point: 97.0436087601\n",
      "cluster assignment: 0.0    error, or distance from cluster centroid to current point: 72.1820240058\n",
      "cluster assignment: 0.0    error, or distance from cluster centroid to current point: 120.216126313\n",
      "cluster assignment: 0.0    error, or distance from cluster centroid to current point: 78.7266579075\n",
      "cluster assignment: 0.0    error, or distance from cluster centroid to current point: 53.3264573057\n",
      "cluster assignment: 0.0    error, or distance from cluster centroid to current point: 42.3976709466\n",
      "cluster assignment: 0.0    error, or distance from cluster centroid to current point: 25.4197371452\n",
      "cluster assignment: 0.0    error, or distance from cluster centroid to current point: 680.691552592\n",
      "cluster assignment: 0.0    error, or distance from cluster centroid to current point: 287.354541558\n",
      "cluster assignment: 0.0    error, or distance from cluster centroid to current point: 264.097771248\n",
      "cluster assignment: 0.0    error, or distance from cluster centroid to current point: 168.866076162\n",
      "cluster assignment: 0.0    error, or distance from cluster centroid to current point: 72.7346819797\n",
      "cluster assignment: 0.0    error, or distance from cluster centroid to current point: 50.1940601141\n",
      "cluster assignment: 0.0    error, or distance from cluster centroid to current point: 519.955343966\n",
      "cluster assignment: 0.0    error, or distance from cluster centroid to current point: 75.3675806758\n",
      "cluster assignment: 0.0    error, or distance from cluster centroid to current point: 155.266276764\n",
      "cluster assignment: 0.0    error, or distance from cluster centroid to current point: 46.2181323308\n",
      "cluster assignment: 0.0    error, or distance from cluster centroid to current point: 76.3214422606\n",
      "cluster assignment: 0.0    error, or distance from cluster centroid to current point: 414.397670947\n",
      "cluster assignment: 0.0    error, or distance from cluster centroid to current point: 144.914220596\n",
      "cluster assignment: 0.0    error, or distance from cluster centroid to current point: 416.473899633\n",
      "cluster assignment: 0.0    error, or distance from cluster centroid to current point: 201.976407155\n",
      "cluster assignment: 0.0    error, or distance from cluster centroid to current point: 66.6855345374\n",
      "cluster assignment: 0.0    error, or distance from cluster centroid to current point: 531.207099231\n",
      "cluster assignment: 0.0    error, or distance from cluster centroid to current point: 117.310409161\n",
      "cluster assignment: 0.0    error, or distance from cluster centroid to current point: 1129.89616643\n",
      "cluster assignment: 0.0    error, or distance from cluster centroid to current point: 47.0907501844\n",
      "cluster assignment: 0.0    error, or distance from cluster centroid to current point: 98.819937747\n",
      "cluster assignment: 0.0    error, or distance from cluster centroid to current point: 55.0867381482\n",
      "cluster assignment: 0.0    error, or distance from cluster centroid to current point: 375.319436243\n",
      "cluster assignment: 0.0    error, or distance from cluster centroid to current point: 158.497971849\n",
      "cluster assignment: 0.0    error, or distance from cluster centroid to current point: 552.96136202\n",
      "cluster assignment: 0.0    error, or distance from cluster centroid to current point: 68.0225455705\n",
      "cluster assignment: 0.0    error, or distance from cluster centroid to current point: 289.358553595\n",
      "cluster assignment: 0.0    error, or distance from cluster centroid to current point: 279.66246533\n",
      "cluster assignment: 0.0    error, or distance from cluster centroid to current point: 29.7758053499\n",
      "cluster assignment: 0.0    error, or distance from cluster centroid to current point: 110.503989904\n",
      "cluster assignment: 0.0    error, or distance from cluster centroid to current point: 112.657450285\n",
      "cluster assignment: 0.0    error, or distance from cluster centroid to current point: 179.937289803\n",
      "cluster assignment: 0.0    error, or distance from cluster centroid to current point: 40.3886438654\n",
      "cluster assignment: 3.0    error, or distance from cluster centroid to current point: 58949.25\n",
      "cluster assignment: 0.0    error, or distance from cluster centroid to current point: 193.433779272\n",
      "cluster assignment: 0.0    error, or distance from cluster centroid to current point: 79.0616629226\n",
      "cluster assignment: 0.0    error, or distance from cluster centroid to current point: 25.337490405\n",
      "cluster assignment: 0.0    error, or distance from cluster centroid to current point: 50.5110109667\n",
      "cluster assignment: 0.0    error, or distance from cluster centroid to current point: 125.087741157\n",
      "cluster assignment: 0.0    error, or distance from cluster centroid to current point: 138.738694016\n",
      "cluster assignment: 0.0    error, or distance from cluster centroid to current point: 605.691552592\n",
      "cluster assignment: 0.0    error, or distance from cluster centroid to current point: 46.5631674361\n",
      "cluster assignment: 0.0    error, or distance from cluster centroid to current point: 48.2361864933\n",
      "cluster assignment: 0.0    error, or distance from cluster centroid to current point: 116.608302842\n",
      "cluster assignment: 0.0    error, or distance from cluster centroid to current point: 182.501983885\n",
      "cluster assignment: 0.0    error, or distance from cluster centroid to current point: 160.135885591\n",
      "cluster assignment: 0.0    error, or distance from cluster centroid to current point: 131.64140214\n",
      "cluster assignment: 0.0    error, or distance from cluster centroid to current point: 36.7587541964\n",
      "cluster assignment: 0.0    error, or distance from cluster centroid to current point: 210.024551589\n",
      "cluster assignment: 0.0    error, or distance from cluster centroid to current point: 79.1288645274\n",
      "cluster assignment: 0.0    error, or distance from cluster centroid to current point: 239.694561619\n",
      "cluster assignment: 0.0    error, or distance from cluster centroid to current point: 71.4157251091\n",
      "cluster assignment: 0.0    error, or distance from cluster centroid to current point: 93.7537391513\n",
      "cluster assignment: 0.0    error, or distance from cluster centroid to current point: 661.162966834\n",
      "cluster assignment: 0.0    error, or distance from cluster centroid to current point: 44.1057953198\n",
      "cluster assignment: 0.0    error, or distance from cluster centroid to current point: 142.369586694\n",
      "cluster assignment: 0.0    error, or distance from cluster centroid to current point: 73.4247521904\n",
      "cluster assignment: 0.0    error, or distance from cluster centroid to current point: 82.2030871954\n",
      "cluster assignment: 0.0    error, or distance from cluster centroid to current point: 43.261261719\n",
      "cluster assignment: 0.0    error, or distance from cluster centroid to current point: 83.9774101643\n",
      "cluster assignment: 0.0    error, or distance from cluster centroid to current point: 2422.40569502\n",
      "cluster assignment: 0.0    error, or distance from cluster centroid to current point: 37.1449126718\n",
      "cluster assignment: 0.0    error, or distance from cluster centroid to current point: 198.685534537\n",
      "cluster assignment: 0.0    error, or distance from cluster centroid to current point: 174.439797326\n",
      "cluster assignment: 0.0    error, or distance from cluster centroid to current point: 55.5822246076\n",
      "cluster assignment: 0.0    error, or distance from cluster centroid to current point: 281.172996925\n",
      "cluster assignment: 0.0    error, or distance from cluster centroid to current point: 53.8299678373\n",
      "cluster assignment: 0.0    error, or distance from cluster centroid to current point: 168.966377065\n",
      "cluster assignment: 0.0    error, or distance from cluster centroid to current point: 142.646417185\n",
      "cluster assignment: 0.0    error, or distance from cluster centroid to current point: 205.372595721\n",
      "cluster assignment: 0.0    error, or distance from cluster centroid to current point: 164.33247536\n",
      "cluster assignment: 0.0    error, or distance from cluster centroid to current point: 261.794862521\n",
      "cluster assignment: 0.0    error, or distance from cluster centroid to current point: 29.1770089607\n",
      "cluster assignment: 0.0    error, or distance from cluster centroid to current point: 556.145915681\n",
      "cluster assignment: 0.0    error, or distance from cluster centroid to current point: 26.0897471753\n",
      "cluster assignment: 0.0    error, or distance from cluster centroid to current point: 36.7858354401\n",
      "cluster assignment: 0.0    error, or distance from cluster centroid to current point: 129.16697887\n",
      "cluster assignment: 0.0    error, or distance from cluster centroid to current point: 108.704591709\n",
      "cluster assignment: 0.0    error, or distance from cluster centroid to current point: 300.21913534\n",
      "cluster assignment: 0.0    error, or distance from cluster centroid to current point: 108.812916684\n",
      "cluster assignment: 0.0    error, or distance from cluster centroid to current point: 32.855043063\n",
      "cluster assignment: 0.0    error, or distance from cluster centroid to current point: 459.865073153\n",
      "cluster assignment: 0.0    error, or distance from cluster centroid to current point: 32.5390952195\n",
      "cluster assignment: 0.0    error, or distance from cluster centroid to current point: 146.608302842\n",
      "cluster assignment: 0.0    error, or distance from cluster centroid to current point: 246.945313875\n",
      "cluster assignment: 0.0    error, or distance from cluster centroid to current point: 238.354541558\n",
      "cluster assignment: 0.0    error, or distance from cluster centroid to current point: 57.5330771653\n",
      "cluster assignment: 0.0    error, or distance from cluster centroid to current point: 69.1970691412\n",
      "cluster assignment: 0.0    error, or distance from cluster centroid to current point: 422.661462321\n",
      "cluster assignment: 0.0    error, or distance from cluster centroid to current point: 218.820940756\n",
      "cluster assignment: 0.0    error, or distance from cluster centroid to current point: 713.65243524\n",
      "cluster assignment: 0.0    error, or distance from cluster centroid to current point: 52.0536388504\n",
      "cluster assignment: 0.0    error, or distance from cluster centroid to current point: 106.498974858\n",
      "cluster assignment: 0.0    error, or distance from cluster centroid to current point: 304.236186493\n",
      "cluster assignment: 0.0    error, or distance from cluster centroid to current point: 120.204090204\n",
      "cluster assignment: 0.0    error, or distance from cluster centroid to current point: 173.866076162\n",
      "cluster assignment: 0.0    error, or distance from cluster centroid to current point: 135.973398128\n",
      "cluster assignment: 0.0    error, or distance from cluster centroid to current point: 242.243207556\n",
      "cluster assignment: 1.0    error, or distance from cluster centroid to current point: 211141.5\n",
      "cluster assignment: 0.0    error, or distance from cluster centroid to current point: 46.4056950189\n",
      "cluster assignment: 0.0    error, or distance from cluster centroid to current point: 820.711612772\n",
      "cluster assignment: 0.0    error, or distance from cluster centroid to current point: 56.0977712475\n",
      "cluster assignment: 0.0    error, or distance from cluster centroid to current point: 178.624350987\n",
      "cluster assignment: 0.0    error, or distance from cluster centroid to current point: 111.527059111\n",
      "cluster assignment: 0.0    error, or distance from cluster centroid to current point: 75.1398976267\n",
      "cluster assignment: 0.0    error, or distance from cluster centroid to current point: 2109.56216443\n",
      "cluster assignment: 0.0    error, or distance from cluster centroid to current point: 77.521041057\n",
      "cluster assignment: 0.0    error, or distance from cluster centroid to current point: 59.7928565033\n"
     ]
    }
   ],
   "source": [
    "for i in euclid_clusters:\n",
    "    print \"cluster assignment:\",i[0],\"  \",\"error, or distance from cluster centroid to current point:\",i[1]"
   ]
  },
  {
   "cell_type": "code",
   "execution_count": 45,
   "metadata": {
    "collapsed": false
   },
   "outputs": [
    {
     "name": "stdout",
     "output_type": "stream",
     "text": [
      "[0 0 0 ..., 0 0 0]\n"
     ]
    }
   ],
   "source": [
    "newC = ravel(euclid_clusters.T[0])\n",
    "newC = newC.astype(int)\n",
    "print newC"
   ]
  },
  {
   "cell_type": "code",
   "execution_count": 46,
   "metadata": {
    "collapsed": false
   },
   "outputs": [
    {
     "name": "stdout",
     "output_type": "stream",
     "text": [
      "[[ 0.    0.    0.04 ...,  0.    0.    0.  ]\n",
      " [ 0.    0.    0.   ...,  0.    0.    0.  ]\n",
      " [ 0.    0.    0.   ...,  0.    0.    0.  ]\n",
      " [ 0.    0.    0.   ...,  0.5   0.    0.  ]\n",
      " [ 0.    0.    0.   ...,  0.    0.    0.  ]]\n"
     ]
    }
   ],
   "source": [
    "print euclid_centroids"
   ]
  },
  {
   "cell_type": "markdown",
   "metadata": {},
   "source": [
    "Write a function to display the top N terms in each cluster along with the cluster DF values for each term, percentage of docs in the cluster in which the terms appear, and the size of the cluster. Sort the terms in decreasing order of the DF percentage."
   ]
  },
  {
   "cell_type": "code",
   "execution_count": 92,
   "metadata": {
    "collapsed": false
   },
   "outputs": [],
   "source": [
    "vocab = pd.DataFrame(vocab)\n",
    "\n",
    "def TOPN(euclid_clusters,N):\n",
    "    \n",
    "    ecDF  = pd.DataFrame(euclid_clusters)     #Here, we are creating a dictionary of lists containing the indices\n",
    "    cluster_indices = dict()                 #of the clusters from euclid_clusters that we will use later to \n",
    "    for x in range(N):                      #construct a dataframe of  the original X_train data, split by clusters\n",
    "        list = []\n",
    "        for i,row in ecDF[ecDF[0]==x].iterrows():\n",
    "            list.append(i)\n",
    "        cluster_indices[x] = list \n",
    "     \n",
    "    \n",
    "    #print len(cluster_indices[2])   #This gives us the size of cluster 2\n",
    "            \n",
    "    #Here, we are creating a list, filling it with a list of indices corresponding to the rows belonging to a given cluster,\n",
    "    #and creating a dataframe object of the rows in X_train that correspond to the clusters.\n",
    "    #Then, we take the dataframe, calculate the term frequencies, sort by frequency, and create a dictionary of\n",
    "    #the top N terms for each cluster N\n",
    "    newlist = []     \n",
    "\n",
    "    for i in range(5):\n",
    "        newlist.append(X_train[cluster_indices[i]])  \n",
    "\n",
    "    term_dict = {}\n",
    "    \n",
    "    for i in range(N):\n",
    "        newDF = pd.DataFrame(newlist[i])           #This newDF is a dataframe of the rows in X_train for cluster i\n",
    "        TOPN = pd.DataFrame([(newDF!=0).sum(0)])\n",
    "        TOPN = TOPN.T\n",
    "        term_freq = pd.concat([TOPN, vocab], axis=1)      #Merge TOPN with vocab\n",
    "        term_freq.columns=['frequency','term']\n",
    "        term_freq = term_freq.sort_values('frequency',ascending=0)  #Sort by frequency\n",
    "        TOPNterms = term_freq[:N]\n",
    "        terms = TOPNterms['term'] #This displays the terms, their indices, and their frequencies   \n",
    "        #print terms\n",
    "    \n",
    "        term_list = []\n",
    "        for k in terms:\n",
    "            term_list.append(k) \n",
    "\n",
    "        #print term_list\n",
    "        term_dict[i] = term_list    \n",
    "    #print term_dict[0]              #term_dict[0] gives us the top N terms in cluster 0\n",
    "\n",
    "\n",
    "\n",
    "\n",
    "    \n",
    "    DF_values = []\n",
    "    #Calculate cluster DF values for each term in each cluster:\n",
    "    for i in range(5):\n",
    "        newcluster = pd.DataFrame(newlist[i])        #Newlist[i] contains the X_train data for each cluster i         \n",
    "        cluster_total_docs = newcluster.shape[0]    #This is the total number of documents in the cluster\n",
    "    \n",
    "\n",
    "        topNterms = term_dict[i]  #top N terms in cluster i\n",
    "        \n",
    "        for term in topNterms:\n",
    "            \n",
    "            termindex = vocab[vocab[0] == term].index.tolist() #This gives us the column in the X_train that contains the term\n",
    "            subject = newcluster[newcluster[termindex] >  0 ]  #Here, termindex is 7895 for the term 'subject'\n",
    "            subjectDF = pd.DataFrame(subject)\n",
    "            clusterterm_docs = subjectDF.shape[0]   #This is the number of documents in the cluster in which the term appears\n",
    "            clusterDF = clusterterm_docs/cluster_total_docs  #Calculate the percentage\n",
    "            DF_values.append(clusterDF) \n",
    "    \n",
    "    \n",
    "      \n",
    "    \n",
    "    \n",
    "    for i in range(N):       #Print top N terms for cluster i\n",
    "        print \"Top N terms in cluster\",i,\":\", term_dict[i]\n",
    "    \n",
    "        print \"Number of documents assigned to cluster\",i,\"is:\",len(cluster_indices[i])   #This gives us the size of cluster 2\n",
    "    \n",
    "        for term in term_dict[i]:\n",
    "            print \"The cluster DF value for term\",term,\"is:\", DF_values[i]\n",
    "\n"
   ]
  },
  {
   "cell_type": "code",
   "execution_count": 93,
   "metadata": {
    "collapsed": false
   },
   "outputs": [
    {
     "name": "stdout",
     "output_type": "stream",
     "text": [
      "Top N terms in cluster 0 : ['subject', 'write', 'on', 'articl', 'know']\n",
      "Number of documents assigned to cluster 0 is: 1994\n",
      "The cluster DF value for term subject is: 1\n",
      "The cluster DF value for term write is: 1\n",
      "The cluster DF value for term on is: 1\n",
      "The cluster DF value for term articl is: 1\n",
      "The cluster DF value for term know is: 1\n",
      "Top N terms in cluster 1 : ['pmfq', 'bxn', 'mkn', 'romanbmp', 'ml']\n",
      "Number of documents assigned to cluster 1 is: 2\n",
      "The cluster DF value for term pmfq is: 1\n",
      "The cluster DF value for term bxn is: 1\n",
      "The cluster DF value for term mkn is: 1\n",
      "The cluster DF value for term romanbmp is: 1\n",
      "The cluster DF value for term ml is: 1\n",
      "Top N terms in cluster 2 : ['romanbmp', 'pwiseman', 'cliff', 'bj', 'asf']\n",
      "Number of documents assigned to cluster 2 is: 1\n",
      "The cluster DF value for term romanbmp is: 1\n",
      "The cluster DF value for term pwiseman is: 1\n",
      "The cluster DF value for term cliff is: 1\n",
      "The cluster DF value for term bj is: 1\n",
      "The cluster DF value for term asf is: 1\n",
      "Top N terms in cluster 3 : ['ghjn', 'part', 'asqq', 'asq', 'salmonusdedu']\n",
      "Number of documents assigned to cluster 3 is: 2\n",
      "The cluster DF value for term ghjn is: 1\n",
      "The cluster DF value for term part is: 1\n",
      "The cluster DF value for term asqq is: 1\n",
      "The cluster DF value for term asq is: 1\n",
      "The cluster DF value for term salmonusdedu is: 1\n",
      "Top N terms in cluster 4 : ['rlk', 'vf', 'mn', 'mm', 'ml']\n",
      "Number of documents assigned to cluster 4 is: 1\n",
      "The cluster DF value for term rlk is: 1\n",
      "The cluster DF value for term vf is: 1\n",
      "The cluster DF value for term mn is: 1\n",
      "The cluster DF value for term mm is: 1\n",
      "The cluster DF value for term ml is: 1\n"
     ]
    }
   ],
   "source": [
    "TOPN(euclid_clusters,5)"
   ]
  },
  {
   "cell_type": "code",
   "execution_count": null,
   "metadata": {
    "collapsed": true
   },
   "outputs": [],
   "source": []
  },
  {
   "cell_type": "markdown",
   "metadata": {},
   "source": [
    "# Extra Credit: \n",
    "use your favorite third party tool, ideally with a Python based API, to create a word cloud for each cluster based on the in-cluster DF values."
   ]
  },
  {
   "cell_type": "code",
   "execution_count": null,
   "metadata": {
    "collapsed": true
   },
   "outputs": [],
   "source": []
  },
  {
   "cell_type": "markdown",
   "metadata": {},
   "source": [
    "# 2e\n",
    "Using the cluster assignments from Kmeans clustering, compare your 5 clusters to the 5 pre-assigned classes by computing the Completeness and Homogeneity values."
   ]
  },
  {
   "cell_type": "code",
   "execution_count": 94,
   "metadata": {
    "collapsed": true
   },
   "outputs": [],
   "source": [
    "from sklearn.metrics import completeness_score, homogeneity_score"
   ]
  },
  {
   "cell_type": "code",
   "execution_count": 95,
   "metadata": {
    "collapsed": false
   },
   "outputs": [
    {
     "data": {
      "text/plain": [
       "array([[    0.  ,    52.74],\n",
       "       [    0.  ,    49.3 ],\n",
       "       [    0.  ,    94.89],\n",
       "       ..., \n",
       "       [    0.  ,  2109.56],\n",
       "       [    0.  ,    77.52],\n",
       "       [    0.  ,    59.79]])"
      ]
     },
     "execution_count": 95,
     "metadata": {},
     "output_type": "execute_result"
    }
   ],
   "source": [
    "euclid_clusters "
   ]
  },
  {
   "cell_type": "code",
   "execution_count": 96,
   "metadata": {
    "collapsed": false
   },
   "outputs": [
    {
     "data": {
      "text/plain": [
       "array([ 0.,  0.,  0., ...,  0.,  0.,  0.])"
      ]
     },
     "execution_count": 96,
     "metadata": {},
     "output_type": "execute_result"
    }
   ],
   "source": [
    "euclid_clusters[:,0]"
   ]
  },
  {
   "cell_type": "code",
   "execution_count": 97,
   "metadata": {
    "collapsed": false
   },
   "outputs": [],
   "source": [
    "t = y_train[:,1]"
   ]
  },
  {
   "cell_type": "code",
   "execution_count": 98,
   "metadata": {
    "collapsed": false
   },
   "outputs": [
    {
     "name": "stdout",
     "output_type": "stream",
     "text": [
      "0.195469783928\n"
     ]
    }
   ],
   "source": [
    "print completeness_score(t,euclid_clusters[:,0])  "
   ]
  },
  {
   "cell_type": "code",
   "execution_count": 99,
   "metadata": {
    "collapsed": false
   },
   "outputs": [
    {
     "name": "stdout",
     "output_type": "stream",
     "text": [
      "0.00296523048991\n"
     ]
    }
   ],
   "source": [
    "print homogeneity_score(t,euclid_clusters[:,0])"
   ]
  },
  {
   "cell_type": "markdown",
   "metadata": {},
   "source": [
    "# 2f\n",
    "Finally, using your cluster assignments as class labels, categorize each of the documents in the 20% set-aside data into each of the appropriate cluster. Your categorization should be based on Cosine similarity between each test document and each cluster centroids. Present your results in a separate file containing the obtained cluster label for each test document as well as Cosine similarities between each test document and each of the 5 clusters.\n",
    "\n",
    "\n",
    "#For this part, we are essentially using classification, but using the clustroid-defined classes, not the original labels. There is no need to create labels."
   ]
  },
  {
   "cell_type": "code",
   "execution_count": 105,
   "metadata": {
    "collapsed": false
   },
   "outputs": [
    {
     "data": {
      "text/plain": [
       "array([[ 0.,  0.,  0., ...,  0.,  0.,  0.],\n",
       "       [ 0.,  0.,  0., ...,  0.,  0.,  0.],\n",
       "       [ 0.,  0.,  0., ...,  0.,  0.,  0.],\n",
       "       ..., \n",
       "       [ 0.,  0.,  0., ...,  0.,  0.,  0.],\n",
       "       [ 0.,  0.,  0., ...,  0.,  0.,  0.],\n",
       "       [ 0.,  0.,  0., ...,  0.,  0.,  0.]])"
      ]
     },
     "execution_count": 105,
     "metadata": {},
     "output_type": "execute_result"
    }
   ],
   "source": [
    "X_test"
   ]
  },
  {
   "cell_type": "code",
   "execution_count": 101,
   "metadata": {
    "collapsed": false
   },
   "outputs": [
    {
     "data": {
      "text/plain": [
       "array([[1590,    2],\n",
       "       [ 277,    2],\n",
       "       [2297,    4],\n",
       "       [1739,    0],\n",
       "       [ 511,    4],\n",
       "       [  96,    1],\n",
       "       [2259,    3],\n",
       "       [1850,    2],\n",
       "       [1615,    2],\n",
       "       [1467,    2],\n",
       "       [ 257,    2],\n",
       "       [ 237,    4],\n",
       "       [1638,    0],\n",
       "       [1098,    4],\n",
       "       [1412,    0],\n",
       "       [1701,    0],\n",
       "       [1210,    1],\n",
       "       [1355,    2],\n",
       "       [1996,    2],\n",
       "       [1981,    0],\n",
       "       [1333,    2],\n",
       "       [2170,    1],\n",
       "       [2470,    4],\n",
       "       [ 994,    0],\n",
       "       [2131,    1],\n",
       "       [  85,    0],\n",
       "       [ 747,    3],\n",
       "       [ 828,    3],\n",
       "       [1318,    4],\n",
       "       [2103,    1],\n",
       "       [ 547,    4],\n",
       "       [1120,    2],\n",
       "       [1882,    1],\n",
       "       [ 393,    4],\n",
       "       [ 126,    0],\n",
       "       [1890,    0],\n",
       "       [1508,    1],\n",
       "       [ 445,    0],\n",
       "       [ 763,    3],\n",
       "       [1670,    3],\n",
       "       [2396,    2],\n",
       "       [ 380,    3],\n",
       "       [ 675,    0],\n",
       "       [2143,    2],\n",
       "       [ 734,    1],\n",
       "       [  16,    0],\n",
       "       [1266,    3],\n",
       "       [1067,    4],\n",
       "       [1871,    2],\n",
       "       [2124,    0],\n",
       "       [ 388,    0],\n",
       "       [  34,    3],\n",
       "       [1728,    0],\n",
       "       [1801,    1],\n",
       "       [2060,    2],\n",
       "       [1028,    3],\n",
       "       [ 646,    1],\n",
       "       [ 524,    1],\n",
       "       [2301,    4],\n",
       "       [2210,    0],\n",
       "       [ 895,    4],\n",
       "       [ 536,    0],\n",
       "       [ 513,    1],\n",
       "       [1346,    4],\n",
       "       [1743,    4],\n",
       "       [1880,    1],\n",
       "       [1588,    0],\n",
       "       [ 768,    1],\n",
       "       [1260,    4],\n",
       "       [1642,    1],\n",
       "       [1473,    4],\n",
       "       [1191,    1],\n",
       "       [2119,    4],\n",
       "       [1220,    3],\n",
       "       [2299,    0],\n",
       "       [ 979,    1],\n",
       "       [ 217,    2],\n",
       "       [ 295,    1],\n",
       "       [1989,    3],\n",
       "       [ 677,    4],\n",
       "       [1786,    3],\n",
       "       [1635,    3],\n",
       "       [ 907,    4],\n",
       "       [ 815,    4],\n",
       "       [ 482,    4],\n",
       "       [1065,    3],\n",
       "       [1878,    1],\n",
       "       [1941,    1],\n",
       "       [1612,    1],\n",
       "       [1292,    0],\n",
       "       [1408,    2],\n",
       "       [ 957,    2],\n",
       "       [2417,    2],\n",
       "       [1884,    0],\n",
       "       [1849,    1],\n",
       "       [1444,    0],\n",
       "       [2351,    3],\n",
       "       [1037,    2],\n",
       "       [ 167,    1],\n",
       "       [1264,    4],\n",
       "       [1690,    3],\n",
       "       [1208,    3],\n",
       "       [ 645,    4],\n",
       "       [1576,    3],\n",
       "       [2291,    2],\n",
       "       [ 442,    3],\n",
       "       [2153,    3],\n",
       "       [2406,    3],\n",
       "       [2313,    3],\n",
       "       [1949,    1],\n",
       "       [1116,    4],\n",
       "       [1365,    1],\n",
       "       [1200,    4],\n",
       "       [1268,    0],\n",
       "       [ 234,    0],\n",
       "       [1982,    0],\n",
       "       [2247,    3],\n",
       "       [1453,    0],\n",
       "       [1077,    1],\n",
       "       [ 213,    3],\n",
       "       [ 443,    4],\n",
       "       [1386,    3],\n",
       "       [ 424,    1],\n",
       "       [1088,    2],\n",
       "       [ 679,    3],\n",
       "       [ 151,    0],\n",
       "       [ 788,    4],\n",
       "       [1155,    0],\n",
       "       [2410,    1],\n",
       "       [ 544,    2],\n",
       "       [1542,    4],\n",
       "       [ 376,    2],\n",
       "       [  82,    2],\n",
       "       [ 719,    2],\n",
       "       [2188,    2],\n",
       "       [ 396,    1],\n",
       "       [1438,    2],\n",
       "       [1282,    1],\n",
       "       [ 431,    1],\n",
       "       [ 804,    4],\n",
       "       [ 104,    3],\n",
       "       [1541,    0],\n",
       "       [ 792,    4],\n",
       "       [ 463,    3],\n",
       "       [2088,    3],\n",
       "       [ 580,    0],\n",
       "       [1331,    2],\n",
       "       [1221,    0],\n",
       "       [2216,    4],\n",
       "       [2268,    0],\n",
       "       [1285,    3],\n",
       "       [1815,    1],\n",
       "       [1652,    4],\n",
       "       [1299,    4],\n",
       "       [ 490,    0],\n",
       "       [1457,    2],\n",
       "       [ 582,    3],\n",
       "       [ 449,    3],\n",
       "       [1020,    3],\n",
       "       [  76,    4],\n",
       "       [2463,    2],\n",
       "       [ 383,    3],\n",
       "       [ 249,    1],\n",
       "       [ 453,    0],\n",
       "       [ 173,    0],\n",
       "       [ 741,    4],\n",
       "       [ 165,    2],\n",
       "       [ 963,    1],\n",
       "       [ 757,    4],\n",
       "       [   4,    2],\n",
       "       [2480,    0],\n",
       "       [1008,    3],\n",
       "       [1421,    3],\n",
       "       [ 374,    4],\n",
       "       [ 928,    4],\n",
       "       [ 802,    1],\n",
       "       [ 586,    0],\n",
       "       [ 501,    4],\n",
       "       [1348,    1],\n",
       "       [2162,    2],\n",
       "       [ 118,    2],\n",
       "       [ 721,    4],\n",
       "       [ 708,    0],\n",
       "       [1977,    3],\n",
       "       [2211,    2],\n",
       "       [ 351,    1],\n",
       "       [1180,    2],\n",
       "       [1404,    0],\n",
       "       [1446,    3],\n",
       "       [ 510,    1],\n",
       "       [1970,    4],\n",
       "       [1836,    3],\n",
       "       [ 319,    3],\n",
       "       [ 830,    1],\n",
       "       [1973,    3],\n",
       "       [ 592,    4],\n",
       "       [ 790,    4],\n",
       "       [ 841,    4],\n",
       "       [1974,    2],\n",
       "       [1277,    3],\n",
       "       [1624,    2],\n",
       "       [1860,    2],\n",
       "       [ 520,    4],\n",
       "       [ 109,    1],\n",
       "       [2316,    2],\n",
       "       [1464,    4],\n",
       "       [1640,    4],\n",
       "       [1010,    4],\n",
       "       [1232,    2],\n",
       "       [ 141,    2],\n",
       "       [ 306,    2],\n",
       "       [2027,    3],\n",
       "       [1349,    4],\n",
       "       [ 958,    0],\n",
       "       [2099,    3],\n",
       "       [ 613,    3],\n",
       "       [1650,    2],\n",
       "       [ 142,    2],\n",
       "       [2287,    2],\n",
       "       [1275,    1],\n",
       "       [1792,    4],\n",
       "       [1480,    1],\n",
       "       [1085,    0],\n",
       "       [ 302,    3],\n",
       "       [2077,    3],\n",
       "       [ 171,    1],\n",
       "       [2050,    1],\n",
       "       [2225,    1],\n",
       "       [1511,    4],\n",
       "       [ 564,    2],\n",
       "       [1772,    2],\n",
       "       [1758,    1],\n",
       "       [ 753,    4],\n",
       "       [ 457,    2],\n",
       "       [ 476,    3],\n",
       "       [ 940,    1],\n",
       "       [2353,    0],\n",
       "       [1490,    1],\n",
       "       [ 432,    4],\n",
       "       [1578,    4],\n",
       "       [2036,    4],\n",
       "       [1660,    4],\n",
       "       [2191,    1],\n",
       "       [2372,    2],\n",
       "       [  48,    4],\n",
       "       [1481,    2],\n",
       "       [  72,    3],\n",
       "       [ 836,    2],\n",
       "       [1229,    1],\n",
       "       [  80,    2],\n",
       "       [1723,    2],\n",
       "       [2479,    1],\n",
       "       [1109,    1],\n",
       "       [1390,    2],\n",
       "       [ 507,    2],\n",
       "       [ 504,    0],\n",
       "       [1674,    0],\n",
       "       [2292,    2],\n",
       "       [1771,    1],\n",
       "       [2303,    0],\n",
       "       [ 132,    0],\n",
       "       [ 239,    1],\n",
       "       [1047,    4],\n",
       "       [1395,    4],\n",
       "       [ 834,    4],\n",
       "       [1460,    0],\n",
       "       [ 618,    3],\n",
       "       [2212,    2],\n",
       "       [ 224,    4],\n",
       "       [ 925,    2],\n",
       "       [1198,    0],\n",
       "       [ 294,    4],\n",
       "       [ 440,    2],\n",
       "       [2187,    1],\n",
       "       [ 512,    2],\n",
       "       [ 766,    0],\n",
       "       [1583,    4],\n",
       "       [ 199,    4],\n",
       "       [1179,    4],\n",
       "       [ 789,    0],\n",
       "       [ 373,    2],\n",
       "       [1897,    3],\n",
       "       [ 880,    1],\n",
       "       [2477,    0],\n",
       "       [2011,    0],\n",
       "       [ 281,    4],\n",
       "       [ 799,    0],\n",
       "       [1816,    1],\n",
       "       [2393,    2],\n",
       "       [1603,    0],\n",
       "       [1133,    4],\n",
       "       [ 642,    4],\n",
       "       [2442,    1],\n",
       "       [ 988,    0],\n",
       "       [2208,    1],\n",
       "       [1513,    2],\n",
       "       [ 899,    2],\n",
       "       [1050,    2],\n",
       "       [ 317,    0],\n",
       "       [2487,    0],\n",
       "       [ 787,    4],\n",
       "       [1607,    3],\n",
       "       [ 169,    4],\n",
       "       [1510,    3],\n",
       "       [ 363,    1],\n",
       "       [ 314,    1],\n",
       "       [2231,    4],\n",
       "       [ 640,    3],\n",
       "       [2305,    3],\n",
       "       [ 851,    2],\n",
       "       [1975,    1],\n",
       "       [1442,    1],\n",
       "       [ 805,    3],\n",
       "       [ 550,    2],\n",
       "       [1354,    3],\n",
       "       [1239,    0],\n",
       "       [ 791,    0],\n",
       "       [ 839,    4],\n",
       "       [1933,    2],\n",
       "       [ 771,    0],\n",
       "       [1102,    0],\n",
       "       [ 384,    0],\n",
       "       [1964,    4],\n",
       "       [1112,    0],\n",
       "       [ 863,    4],\n",
       "       [ 200,    3],\n",
       "       [1689,    4],\n",
       "       [2158,    4],\n",
       "       [1630,    4],\n",
       "       [1550,    4],\n",
       "       [1877,    0],\n",
       "       [2431,    3],\n",
       "       [2415,    2],\n",
       "       [1899,    0],\n",
       "       [1038,    0],\n",
       "       [2215,    3],\n",
       "       [2126,    3],\n",
       "       [ 810,    0],\n",
       "       [1432,    3],\n",
       "       [1563,    0],\n",
       "       [  33,    3],\n",
       "       [2186,    1],\n",
       "       [ 133,    2],\n",
       "       [1031,    1],\n",
       "       [1142,    2],\n",
       "       [1845,    2],\n",
       "       [2365,    1],\n",
       "       [ 402,    2],\n",
       "       [2355,    4],\n",
       "       [1125,    0],\n",
       "       [1627,    4],\n",
       "       [2006,    2],\n",
       "       [2008,    1],\n",
       "       [1190,    4],\n",
       "       [1902,    0],\n",
       "       [1736,    4],\n",
       "       [ 228,    3],\n",
       "       [1431,    3],\n",
       "       [ 112,    3],\n",
       "       [2321,    1],\n",
       "       [ 921,    4],\n",
       "       [ 316,    1],\n",
       "       [1523,    4],\n",
       "       [1195,    3],\n",
       "       [1540,    1],\n",
       "       [1126,    3],\n",
       "       [1423,    0],\n",
       "       [1823,    0],\n",
       "       [ 516,    3],\n",
       "       [1770,    0],\n",
       "       [ 423,    2],\n",
       "       [ 356,    3],\n",
       "       [1885,    2],\n",
       "       [ 665,    4],\n",
       "       [2370,    3],\n",
       "       [ 318,    0],\n",
       "       [ 401,    2],\n",
       "       [ 661,    3],\n",
       "       [2255,    1],\n",
       "       [1310,    3],\n",
       "       [ 129,    4],\n",
       "       [1680,    1],\n",
       "       [ 995,    3],\n",
       "       [1509,    3],\n",
       "       [1048,    2],\n",
       "       [1255,    0],\n",
       "       [1110,    4],\n",
       "       [ 339,    0],\n",
       "       [ 715,    2],\n",
       "       [2167,    1],\n",
       "       [ 338,    2],\n",
       "       [ 478,    4],\n",
       "       [1900,    4],\n",
       "       [ 755,    2],\n",
       "       [1305,    3],\n",
       "       [ 219,    1],\n",
       "       [ 301,    0],\n",
       "       [1623,    4],\n",
       "       [ 674,    1],\n",
       "       [1057,    3],\n",
       "       [1378,    2],\n",
       "       [2298,    2],\n",
       "       [ 434,    4],\n",
       "       [1733,    4],\n",
       "       [ 699,    1],\n",
       "       [ 752,    4],\n",
       "       [ 919,    0],\n",
       "       [2129,    1],\n",
       "       [ 425,    4],\n",
       "       [2152,    1],\n",
       "       [1901,    2],\n",
       "       [ 760,    0],\n",
       "       [ 545,    1],\n",
       "       [1280,    4],\n",
       "       [1617,    4],\n",
       "       [ 477,    3],\n",
       "       [ 560,    3],\n",
       "       [2369,    0],\n",
       "       [1284,    2],\n",
       "       [2023,    3],\n",
       "       [ 816,    3],\n",
       "       [1113,    1],\n",
       "       [ 822,    4],\n",
       "       [2010,    0],\n",
       "       [1203,    2],\n",
       "       [2236,    3],\n",
       "       [ 915,    1],\n",
       "       [1049,    2],\n",
       "       [2499,    2],\n",
       "       [1269,    3],\n",
       "       [2049,    4],\n",
       "       [ 246,    2],\n",
       "       [1360,    2],\n",
       "       [ 731,    4],\n",
       "       [ 456,    4],\n",
       "       [1090,    3],\n",
       "       [2146,    4],\n",
       "       [1327,    1],\n",
       "       [ 636,    0],\n",
       "       [1721,    4],\n",
       "       [1956,    2],\n",
       "       [2296,    3],\n",
       "       [1104,    3],\n",
       "       [1930,    2],\n",
       "       [1787,    4],\n",
       "       [ 148,    4],\n",
       "       [2293,    2],\n",
       "       [ 312,    2],\n",
       "       [ 801,    1],\n",
       "       [ 758,    1],\n",
       "       [2366,    2],\n",
       "       [ 634,    1],\n",
       "       [ 874,    1],\n",
       "       [1664,    0],\n",
       "       [ 842,    2],\n",
       "       [1636,    4],\n",
       "       [2446,    2],\n",
       "       [ 144,    2],\n",
       "       [1069,    4],\n",
       "       [2064,    0],\n",
       "       [1598,    1],\n",
       "       [ 206,    2],\n",
       "       [2122,    1],\n",
       "       [ 347,    4],\n",
       "       [ 649,    3],\n",
       "       [ 216,    2],\n",
       "       [1341,    1],\n",
       "       [ 247,    3],\n",
       "       [1079,    0],\n",
       "       [ 331,    1],\n",
       "       [1720,    2],\n",
       "       [ 865,    4],\n",
       "       [ 591,    4],\n",
       "       [1564,    0],\n",
       "       [  46,    3],\n",
       "       [1657,    2],\n",
       "       [1552,    0],\n",
       "       [ 609,    1],\n",
       "       [2294,    0],\n",
       "       [ 775,    0],\n",
       "       [ 411,    2],\n",
       "       [ 245,    0],\n",
       "       [1146,    3],\n",
       "       [1184,    2],\n",
       "       [  86,    3],\n",
       "       [ 421,    1],\n",
       "       [2218,    3],\n",
       "       [ 523,    2],\n",
       "       [ 152,    4],\n",
       "       [1370,    4],\n",
       "       [1883,    3],\n",
       "       [1320,    2],\n",
       "       [ 226,    3],\n",
       "       [1593,    1],\n",
       "       [ 951,    3],\n",
       "       [1637,    3],\n",
       "       [1092,    3],\n",
       "       [ 559,    2],\n",
       "       [1918,    1],\n",
       "       [ 929,    3]])"
      ]
     },
     "execution_count": 101,
     "metadata": {},
     "output_type": "execute_result"
    }
   ],
   "source": [
    "y_test"
   ]
  },
  {
   "cell_type": "code",
   "execution_count": 102,
   "metadata": {
    "collapsed": false
   },
   "outputs": [
    {
     "data": {
      "text/plain": [
       "array([[ 0.,  0.,  0., ...,  0.,  0.,  2.],\n",
       "       [ 0.,  0.,  0., ...,  0.,  0.,  2.],\n",
       "       [ 0.,  0.,  0., ...,  0.,  0.,  4.],\n",
       "       ..., \n",
       "       [ 0.,  0.,  0., ...,  0.,  0.,  2.],\n",
       "       [ 0.,  0.,  0., ...,  0.,  0.,  1.],\n",
       "       [ 0.,  0.,  0., ...,  0.,  0.,  3.]])"
      ]
     },
     "execution_count": 102,
     "metadata": {},
     "output_type": "execute_result"
    }
   ],
   "source": [
    "DLT_test"
   ]
  },
  {
   "cell_type": "code",
   "execution_count": 103,
   "metadata": {
    "collapsed": true
   },
   "outputs": [],
   "source": [
    "class_labels = euclid_clusters"
   ]
  },
  {
   "cell_type": "code",
   "execution_count": 104,
   "metadata": {
    "collapsed": false
   },
   "outputs": [
    {
     "data": {
      "text/plain": [
       "array([[    0.  ,    52.74],\n",
       "       [    0.  ,    49.3 ],\n",
       "       [    0.  ,    94.89],\n",
       "       ..., \n",
       "       [    0.  ,  2109.56],\n",
       "       [    0.  ,    77.52],\n",
       "       [    0.  ,    59.79]])"
      ]
     },
     "execution_count": 104,
     "metadata": {},
     "output_type": "execute_result"
    }
   ],
   "source": [
    "class_labels"
   ]
  },
  {
   "cell_type": "code",
   "execution_count": null,
   "metadata": {
    "collapsed": true
   },
   "outputs": [],
   "source": [
    "#Cosine similarity between each test document and each of the cluster centroids"
   ]
  },
  {
   "cell_type": "code",
   "execution_count": 108,
   "metadata": {
    "collapsed": false
   },
   "outputs": [
    {
     "data": {
      "text/plain": [
       "array([[ 0.  ,  0.  ,  0.04, ...,  0.  ,  0.  ,  0.  ],\n",
       "       [ 0.  ,  0.  ,  0.  , ...,  0.  ,  0.  ,  0.  ],\n",
       "       [ 0.  ,  0.  ,  0.  , ...,  0.  ,  0.  ,  0.  ],\n",
       "       [ 0.  ,  0.  ,  0.  , ...,  0.5 ,  0.  ,  0.  ],\n",
       "       [ 0.  ,  0.  ,  0.  , ...,  0.  ,  0.  ,  0.  ]])"
      ]
     },
     "execution_count": 108,
     "metadata": {},
     "output_type": "execute_result"
    }
   ],
   "source": [
    "euclid_centroids"
   ]
  },
  {
   "cell_type": "code",
   "execution_count": null,
   "metadata": {
    "collapsed": true
   },
   "outputs": [],
   "source": []
  },
  {
   "cell_type": "code",
   "execution_count": 114,
   "metadata": {
    "collapsed": false
   },
   "outputs": [],
   "source": [
    "distance = cosSim(euclid_centroids.T,X_test.T)"
   ]
  },
  {
   "cell_type": "code",
   "execution_count": 115,
   "metadata": {
    "collapsed": false
   },
   "outputs": [
    {
     "data": {
      "text/plain": [
       "array([[ 0.5,  0.5,  0.5, ...,  0.5,  0.5,  0.5],\n",
       "       [ 0.5,  0.5,  0.5, ...,  0.5,  0.5,  0.5],\n",
       "       [ 0.5,  0.5,  0.5, ...,  0.5,  0.5,  0.5],\n",
       "       [ 0.5,  0.5,  0.5, ...,  0.5,  0.5,  0.5],\n",
       "       [ 0.5,  0.5,  0.5, ...,  0.5,  0.5,  0.5]])"
      ]
     },
     "execution_count": 115,
     "metadata": {},
     "output_type": "execute_result"
    }
   ],
   "source": [
    "distance"
   ]
  },
  {
   "cell_type": "code",
   "execution_count": null,
   "metadata": {
    "collapsed": true
   },
   "outputs": [],
   "source": []
  },
  {
   "cell_type": "code",
   "execution_count": null,
   "metadata": {
    "collapsed": true
   },
   "outputs": [],
   "source": []
  },
  {
   "cell_type": "code",
   "execution_count": null,
   "metadata": {
    "collapsed": true
   },
   "outputs": [],
   "source": []
  },
  {
   "cell_type": "code",
   "execution_count": null,
   "metadata": {
    "collapsed": true
   },
   "outputs": [],
   "source": []
  },
  {
   "cell_type": "markdown",
   "metadata": {
    "collapsed": true
   },
   "source": [
    "Write the results out to a file containing the cluster label for each test document and the cosine similarities between each test document and each of the 5 clusters"
   ]
  },
  {
   "cell_type": "code",
   "execution_count": null,
   "metadata": {
    "collapsed": true
   },
   "outputs": [],
   "source": []
  },
  {
   "cell_type": "code",
   "execution_count": null,
   "metadata": {
    "collapsed": true
   },
   "outputs": [],
   "source": []
  }
 ],
 "metadata": {
  "anaconda-cloud": {},
  "kernelspec": {
   "display_name": "Python [Root]",
   "language": "python",
   "name": "Python [Root]"
  },
  "language_info": {
   "codemirror_mode": {
    "name": "ipython",
    "version": 2
   },
   "file_extension": ".py",
   "mimetype": "text/x-python",
   "name": "python",
   "nbconvert_exporter": "python",
   "pygments_lexer": "ipython2",
   "version": "2.7.12"
  }
 },
 "nbformat": 4,
 "nbformat_minor": 0
}
